{
 "cells": [
  {
   "cell_type": "code",
   "execution_count": 13,
   "id": "84d18911",
   "metadata": {
    "scrolled": false
   },
   "outputs": [
    {
     "name": "stdout",
     "output_type": "stream",
     "text": [
      "bonjourno\n"
     ]
    }
   ],
   "source": [
    "print(\"bonjourno\")"
   ]
  },
  {
   "cell_type": "code",
   "execution_count": 156,
   "id": "f9925450",
   "metadata": {},
   "outputs": [],
   "source": [
    "#importowanie bibliotek\n",
    "import numpy as np\n",
    "import pandas as pd\n",
    "import matplotlib.pyplot as plt\n",
    "import seaborn as sns\n",
    "from sklearn.model_selection import train_test_split\n",
    "from sklearn import preprocessing\n",
    "from sklearn.metrics import confusion_matrix\n",
    "from sklearn.feature_extraction.text import TfidfVectorizer\n",
    "from sklearn.preprocessing import StandardScaler, FunctionTransformer, LabelEncoder\n",
    "from nltk.stem.porter import PorterStemmer\n",
    "import nltk\n",
    "from nltk.corpus import stopwords\n",
    "import re\n",
    "import string\n",
    "from sklearn.tree import DecisionTreeClassifier\n",
    "from sklearn.base import BaseEstimator, TransformerMixin\n",
    "from sklearn.pipeline import Pipeline\n",
    "from sklearn.compose import ColumnTransformer\n",
    "from sklearn.preprocessing import LabelEncoder\n",
    "from sklearn.ensemble import RandomForestClassifier\n",
    "from sklearn.preprocessing import OneHotEncoder\n",
    "\n",
    "import warnings\n",
    "warnings.filterwarnings('ignore')"
   ]
  },
  {
   "cell_type": "code",
   "execution_count": 15,
   "id": "8c34bc24",
   "metadata": {},
   "outputs": [],
   "source": [
    "# COLUMNS\n",
    "# Field Name\t\t\t\tDefinition\n",
    "# RefID\t\t\t\t        Unique (sequential) number assigned to vehicles\n",
    "# IsBadBuy\t\t\t\tIdentifies if the kicked vehicle was an avoidable purchase \n",
    "# PurchDate\t\t\t\tThe Date the vehicle was Purchased at Auction\n",
    "# Auction\t\t\t\t\tAuction provider at which the  vehicle was purchased\n",
    "# VehYear\t\t\t\t\tThe manufacturer's year of the vehicle\n",
    "# VehicleAge\t\t\t\tThe Years elapsed since the manufacturer's year\n",
    "# Make\t\t\t\t\tVehicle Manufacturer \n",
    "# Model\t\t\t\t\tVehicle Model\n",
    "# Trim\t\t\t\t\tVehicle Trim Level\n",
    "# SubModel\t\t\t\tVehicle Submodel\n",
    "# Color\t\t\t\t\tVehicle Color\n",
    "# Transmission\t\t\t\tVehicles transmission type (Automatic, Manual)\n",
    "# WheelTypeID\t\t\t\tThe type id of the vehicle wheel\n",
    "# WheelType\t\t\t\tThe vehicle wheel type description (Alloy, Covers)\n",
    "# VehOdo\t\t\t\t\tThe vehicles odometer reading\n",
    "# Nationality\t\t\t\tThe Manufacturer's country\n",
    "# Size\t\t\t\t\tThe size category of the vehicle (Compact, SUV, etc.)\n",
    "# TopThreeAmericanName\t\t\tIdentifies if the manufacturer is one of the top three American manufacturers\n",
    "# MMRAcquisitionAuctionAveragePrice\tAcquisition price for this vehicle in average condition at time of purchase\t\n",
    "# MMRAcquisitionAuctionCleanPrice\t\tAcquisition price for this vehicle in the above Average condition at time of purchase\n",
    "# MMRAcquisitionRetailAveragePrice\tAcquisition price for this vehicle in the retail market in average condition at time of purchase\n",
    "# MMRAcquisitonRetailCleanPrice\t\tAcquisition price for this vehicle in the retail market in above average condition at time of purchase\n",
    "# MMRCurrentAuctionAveragePrice\t\tAcquisition price for this vehicle in average condition as of current day\t\n",
    "# MMRCurrentAuctionCleanPrice\t\tAcquisition price for this vehicle in the above condition as of current day\n",
    "# MMRCurrentRetailAveragePrice\t\tAcquisition price for this vehicle in the retail market in average condition as of current day\n",
    "# MMRCurrentRetailCleanPrice\t\tAcquisition price for this vehicle in the retail market in above average condition as of current day\n",
    "# PRIMEUNIT\t\t\t\tIdentifies if the vehicle would have a higher demand than a standard purchase\n",
    "# AcquisitionType\t\t\t\tIdentifies how the vehicle was aquired (Auction buy, trade in, etc)\n",
    "# AUCGUART\t\t\t\tThe level guarntee provided by auction for the vehicle (Green light - Guaranteed/arbitratable, Yellow Light - caution/issue, red light - sold as is)\n",
    "# KickDate\t\t\t\tDate the vehicle was kicked back to the auction\n",
    "# BYRNO\t\t\t\t\tUnique number assigned to the buyer that purchased the vehicle\n",
    "# VNZIP                                   Zipcode where the car was purchased\n",
    "# VNST                                    State where the the car was purchased\n",
    "# VehBCost\t\t\t\tAcquisition cost paid for the vehicle at time of purchase\n",
    "# IsOnlineSale\t\t\t\tIdentifies if the vehicle was originally purchased online\n",
    "# WarrantyCost                            Warranty price (term=36month  and millage=36K) \n",
    "\n"
   ]
  },
  {
   "cell_type": "markdown",
   "id": "03c40fb9",
   "metadata": {},
   "source": [
    "# Train test- split"
   ]
  },
  {
   "cell_type": "code",
   "execution_count": 270,
   "id": "4d7de446",
   "metadata": {},
   "outputs": [],
   "source": [
    "df = pd.read_csv('training.csv') # split for test and train set is ready\n",
    "test = pd.read_csv('test.csv')"
   ]
  },
  {
   "cell_type": "code",
   "execution_count": 271,
   "id": "4af4432d",
   "metadata": {
    "scrolled": true
   },
   "outputs": [
    {
     "data": {
      "text/plain": [
       "Index(['RefId', 'IsBadBuy', 'PurchDate', 'Auction', 'VehYear', 'VehicleAge',\n",
       "       'Make', 'Model', 'Trim', 'SubModel', 'Color', 'Transmission',\n",
       "       'WheelTypeID', 'WheelType', 'VehOdo', 'Nationality', 'Size',\n",
       "       'TopThreeAmericanName', 'MMRAcquisitionAuctionAveragePrice',\n",
       "       'MMRAcquisitionAuctionCleanPrice', 'MMRAcquisitionRetailAveragePrice',\n",
       "       'MMRAcquisitonRetailCleanPrice', 'MMRCurrentAuctionAveragePrice',\n",
       "       'MMRCurrentAuctionCleanPrice', 'MMRCurrentRetailAveragePrice',\n",
       "       'MMRCurrentRetailCleanPrice', 'PRIMEUNIT', 'AUCGUART', 'BYRNO',\n",
       "       'VNZIP1', 'VNST', 'VehBCost', 'IsOnlineSale', 'WarrantyCost'],\n",
       "      dtype='object')"
      ]
     },
     "execution_count": 271,
     "metadata": {},
     "output_type": "execute_result"
    }
   ],
   "source": [
    "df.columns"
   ]
  },
  {
   "cell_type": "code",
   "execution_count": 272,
   "id": "c011fd3b",
   "metadata": {},
   "outputs": [],
   "source": [
    "df = df.iloc[:,[1,12,14,15,16,17,29,30,31,32,33]]"
   ]
  },
  {
   "cell_type": "code",
   "execution_count": 209,
   "id": "daad7296",
   "metadata": {},
   "outputs": [],
   "source": [
    "#WHEEL TYPE wywalamy"
   ]
  },
  {
   "cell_type": "markdown",
   "id": "dbb9362d",
   "metadata": {},
   "source": [
    "# Data preprocessing"
   ]
  },
  {
   "cell_type": "markdown",
   "id": "90371613",
   "metadata": {},
   "source": [
    "# Moje kolumny: 12-17, 29-33"
   ]
  },
  {
   "cell_type": "code",
   "execution_count": 210,
   "id": "eb898ea4",
   "metadata": {
    "scrolled": true
   },
   "outputs": [
    {
     "data": {
      "text/html": [
       "<div>\n",
       "<style scoped>\n",
       "    .dataframe tbody tr th:only-of-type {\n",
       "        vertical-align: middle;\n",
       "    }\n",
       "\n",
       "    .dataframe tbody tr th {\n",
       "        vertical-align: top;\n",
       "    }\n",
       "\n",
       "    .dataframe thead th {\n",
       "        text-align: right;\n",
       "    }\n",
       "</style>\n",
       "<table border=\"1\" class=\"dataframe\">\n",
       "  <thead>\n",
       "    <tr style=\"text-align: right;\">\n",
       "      <th></th>\n",
       "      <th>IsBadBuy</th>\n",
       "      <th>WheelTypeID</th>\n",
       "      <th>VehOdo</th>\n",
       "      <th>Nationality</th>\n",
       "      <th>Size</th>\n",
       "      <th>TopThreeAmericanName</th>\n",
       "      <th>VNZIP1</th>\n",
       "      <th>VNST</th>\n",
       "      <th>VehBCost</th>\n",
       "      <th>IsOnlineSale</th>\n",
       "      <th>WarrantyCost</th>\n",
       "    </tr>\n",
       "  </thead>\n",
       "  <tbody>\n",
       "    <tr>\n",
       "      <th>0</th>\n",
       "      <td>0</td>\n",
       "      <td>1.0</td>\n",
       "      <td>89046</td>\n",
       "      <td>OTHER ASIAN</td>\n",
       "      <td>MEDIUM</td>\n",
       "      <td>OTHER</td>\n",
       "      <td>33619</td>\n",
       "      <td>FL</td>\n",
       "      <td>7100.0</td>\n",
       "      <td>0</td>\n",
       "      <td>1113</td>\n",
       "    </tr>\n",
       "    <tr>\n",
       "      <th>1</th>\n",
       "      <td>0</td>\n",
       "      <td>1.0</td>\n",
       "      <td>93593</td>\n",
       "      <td>AMERICAN</td>\n",
       "      <td>LARGE TRUCK</td>\n",
       "      <td>CHRYSLER</td>\n",
       "      <td>33619</td>\n",
       "      <td>FL</td>\n",
       "      <td>7600.0</td>\n",
       "      <td>0</td>\n",
       "      <td>1053</td>\n",
       "    </tr>\n",
       "    <tr>\n",
       "      <th>2</th>\n",
       "      <td>0</td>\n",
       "      <td>2.0</td>\n",
       "      <td>73807</td>\n",
       "      <td>AMERICAN</td>\n",
       "      <td>MEDIUM</td>\n",
       "      <td>CHRYSLER</td>\n",
       "      <td>33619</td>\n",
       "      <td>FL</td>\n",
       "      <td>4900.0</td>\n",
       "      <td>0</td>\n",
       "      <td>1389</td>\n",
       "    </tr>\n",
       "    <tr>\n",
       "      <th>3</th>\n",
       "      <td>0</td>\n",
       "      <td>1.0</td>\n",
       "      <td>65617</td>\n",
       "      <td>AMERICAN</td>\n",
       "      <td>COMPACT</td>\n",
       "      <td>CHRYSLER</td>\n",
       "      <td>33619</td>\n",
       "      <td>FL</td>\n",
       "      <td>4100.0</td>\n",
       "      <td>0</td>\n",
       "      <td>630</td>\n",
       "    </tr>\n",
       "    <tr>\n",
       "      <th>4</th>\n",
       "      <td>0</td>\n",
       "      <td>2.0</td>\n",
       "      <td>69367</td>\n",
       "      <td>AMERICAN</td>\n",
       "      <td>COMPACT</td>\n",
       "      <td>FORD</td>\n",
       "      <td>33619</td>\n",
       "      <td>FL</td>\n",
       "      <td>4000.0</td>\n",
       "      <td>0</td>\n",
       "      <td>1020</td>\n",
       "    </tr>\n",
       "  </tbody>\n",
       "</table>\n",
       "</div>"
      ],
      "text/plain": [
       "   IsBadBuy  WheelTypeID  VehOdo  Nationality         Size  \\\n",
       "0         0          1.0   89046  OTHER ASIAN       MEDIUM   \n",
       "1         0          1.0   93593     AMERICAN  LARGE TRUCK   \n",
       "2         0          2.0   73807     AMERICAN       MEDIUM   \n",
       "3         0          1.0   65617     AMERICAN      COMPACT   \n",
       "4         0          2.0   69367     AMERICAN      COMPACT   \n",
       "\n",
       "  TopThreeAmericanName  VNZIP1 VNST  VehBCost  IsOnlineSale  WarrantyCost  \n",
       "0                OTHER   33619   FL    7100.0             0          1113  \n",
       "1             CHRYSLER   33619   FL    7600.0             0          1053  \n",
       "2             CHRYSLER   33619   FL    4900.0             0          1389  \n",
       "3             CHRYSLER   33619   FL    4100.0             0           630  \n",
       "4                 FORD   33619   FL    4000.0             0          1020  "
      ]
     },
     "execution_count": 210,
     "metadata": {},
     "output_type": "execute_result"
    }
   ],
   "source": [
    "df.head()"
   ]
  },
  {
   "cell_type": "code",
   "execution_count": 211,
   "id": "1766de53",
   "metadata": {},
   "outputs": [
    {
     "data": {
      "text/plain": [
       "Index(['IsBadBuy', 'WheelTypeID', 'VehOdo', 'Nationality', 'Size',\n",
       "       'TopThreeAmericanName', 'VNZIP1', 'VNST', 'VehBCost', 'IsOnlineSale',\n",
       "       'WarrantyCost'],\n",
       "      dtype='object')"
      ]
     },
     "execution_count": 211,
     "metadata": {},
     "output_type": "execute_result"
    }
   ],
   "source": [
    "df.columns"
   ]
  },
  {
   "cell_type": "code",
   "execution_count": 212,
   "id": "697104ec",
   "metadata": {
    "scrolled": false
   },
   "outputs": [
    {
     "data": {
      "text/plain": [
       "IsBadBuy                  int64\n",
       "WheelTypeID             float64\n",
       "VehOdo                    int64\n",
       "Nationality              object\n",
       "Size                     object\n",
       "TopThreeAmericanName     object\n",
       "VNZIP1                    int64\n",
       "VNST                     object\n",
       "VehBCost                float64\n",
       "IsOnlineSale              int64\n",
       "WarrantyCost              int64\n",
       "dtype: object"
      ]
     },
     "execution_count": 212,
     "metadata": {},
     "output_type": "execute_result"
    }
   ],
   "source": [
    "df.dtypes"
   ]
  },
  {
   "cell_type": "code",
   "execution_count": 213,
   "id": "a65d0966",
   "metadata": {},
   "outputs": [
    {
     "data": {
      "text/plain": [
       "(72983, 11)"
      ]
     },
     "execution_count": 213,
     "metadata": {},
     "output_type": "execute_result"
    }
   ],
   "source": [
    "df.shape"
   ]
  },
  {
   "cell_type": "markdown",
   "id": "653130ee",
   "metadata": {},
   "source": [
    "# Data Exploration, Visualization"
   ]
  },
  {
   "cell_type": "code",
   "execution_count": 214,
   "id": "f4ab227b",
   "metadata": {
    "scrolled": true
   },
   "outputs": [
    {
     "data": {
      "text/plain": [
       "IsBadBuy                   0\n",
       "WheelTypeID             3169\n",
       "VehOdo                     0\n",
       "Nationality                5\n",
       "Size                       5\n",
       "TopThreeAmericanName       5\n",
       "VNZIP1                     0\n",
       "VNST                       0\n",
       "VehBCost                   0\n",
       "IsOnlineSale               0\n",
       "WarrantyCost               0\n",
       "dtype: int64"
      ]
     },
     "execution_count": 214,
     "metadata": {},
     "output_type": "execute_result"
    }
   ],
   "source": [
    "df.isna().sum() #jest troche null values w wheeltypeid -> mozemy usunac te wiersze, a w reszcie dac other"
   ]
  },
  {
   "cell_type": "markdown",
   "id": "5d208964",
   "metadata": {},
   "source": [
    "### IsBadBuy - ZŁY ZAKUP = 1, DOBRY = 0\n",
    "Wiekszosc to dobre zakupy"
   ]
  },
  {
   "cell_type": "code",
   "execution_count": 215,
   "id": "c37ace5d",
   "metadata": {},
   "outputs": [
    {
     "data": {
      "text/plain": [
       "IsBadBuy\n",
       "0           64007\n",
       "1            8976\n",
       "dtype: int64"
      ]
     },
     "execution_count": 215,
     "metadata": {},
     "output_type": "execute_result"
    }
   ],
   "source": [
    "df[['IsBadBuy']].value_counts() "
   ]
  },
  {
   "cell_type": "markdown",
   "id": "63c88d33",
   "metadata": {},
   "source": [
    "### TopThreeAmericanName - Z JAKIEJ FIRMY BYŁO WYPRODUKOWANE AUTO\n",
    "Wyglada ze Ford ==> gorszy zakup"
   ]
  },
  {
   "cell_type": "code",
   "execution_count": 216,
   "id": "6982d316",
   "metadata": {
    "scrolled": true
   },
   "outputs": [
    {
     "data": {
      "text/plain": [
       "TopThreeAmericanName\n",
       "GM                      25314\n",
       "CHRYSLER                23399\n",
       "FORD                    12315\n",
       "OTHER                   11950\n",
       "dtype: int64"
      ]
     },
     "execution_count": 216,
     "metadata": {},
     "output_type": "execute_result"
    }
   ],
   "source": [
    "df[['TopThreeAmericanName']].value_counts()"
   ]
  },
  {
   "cell_type": "code",
   "execution_count": 217,
   "id": "ef04bdb2",
   "metadata": {},
   "outputs": [
    {
     "data": {
      "text/html": [
       "<div>\n",
       "<style scoped>\n",
       "    .dataframe tbody tr th:only-of-type {\n",
       "        vertical-align: middle;\n",
       "    }\n",
       "\n",
       "    .dataframe tbody tr th {\n",
       "        vertical-align: top;\n",
       "    }\n",
       "\n",
       "    .dataframe thead th {\n",
       "        text-align: right;\n",
       "    }\n",
       "</style>\n",
       "<table border=\"1\" class=\"dataframe\">\n",
       "  <thead>\n",
       "    <tr style=\"text-align: right;\">\n",
       "      <th></th>\n",
       "      <th>mean</th>\n",
       "      <th>count</th>\n",
       "    </tr>\n",
       "    <tr>\n",
       "      <th>TopThreeAmericanName</th>\n",
       "      <th></th>\n",
       "      <th></th>\n",
       "    </tr>\n",
       "  </thead>\n",
       "  <tbody>\n",
       "    <tr>\n",
       "      <th>FORD</th>\n",
       "      <td>0.156395</td>\n",
       "      <td>12315</td>\n",
       "    </tr>\n",
       "    <tr>\n",
       "      <th>OTHER</th>\n",
       "      <td>0.132971</td>\n",
       "      <td>11950</td>\n",
       "    </tr>\n",
       "    <tr>\n",
       "      <th>CHRYSLER</th>\n",
       "      <td>0.116458</td>\n",
       "      <td>23399</td>\n",
       "    </tr>\n",
       "    <tr>\n",
       "      <th>GM</th>\n",
       "      <td>0.108082</td>\n",
       "      <td>25314</td>\n",
       "    </tr>\n",
       "  </tbody>\n",
       "</table>\n",
       "</div>"
      ],
      "text/plain": [
       "                          mean  count\n",
       "TopThreeAmericanName                 \n",
       "FORD                  0.156395  12315\n",
       "OTHER                 0.132971  11950\n",
       "CHRYSLER              0.116458  23399\n",
       "GM                    0.108082  25314"
      ]
     },
     "execution_count": 217,
     "metadata": {},
     "output_type": "execute_result"
    }
   ],
   "source": [
    "df.groupby('TopThreeAmericanName')['IsBadBuy'].agg(['mean','count']).sort_values('mean',ascending = False )"
   ]
  },
  {
   "cell_type": "markdown",
   "id": "46d0abbe",
   "metadata": {},
   "source": [
    "### Size\n",
    "Ta kolumna moze miec kluczowe znaczenie dla modelu -> roznice duze w sredniej"
   ]
  },
  {
   "cell_type": "code",
   "execution_count": 218,
   "id": "55bee979",
   "metadata": {
    "scrolled": true
   },
   "outputs": [
    {
     "data": {
      "text/plain": [
       "Size       \n",
       "MEDIUM         30785\n",
       "LARGE           8850\n",
       "MEDIUM SUV      8090\n",
       "COMPACT         7205\n",
       "VAN             5854\n",
       "LARGE TRUCK     3170\n",
       "SMALL SUV       2276\n",
       "SPECIALTY       1915\n",
       "CROSSOVER       1759\n",
       "LARGE SUV       1433\n",
       "SMALL TRUCK      864\n",
       "SPORTS           777\n",
       "dtype: int64"
      ]
     },
     "execution_count": 218,
     "metadata": {},
     "output_type": "execute_result"
    }
   ],
   "source": [
    "df[['Size']].value_counts()"
   ]
  },
  {
   "cell_type": "code",
   "execution_count": 219,
   "id": "3ee47417",
   "metadata": {},
   "outputs": [
    {
     "data": {
      "text/html": [
       "<div>\n",
       "<style scoped>\n",
       "    .dataframe tbody tr th:only-of-type {\n",
       "        vertical-align: middle;\n",
       "    }\n",
       "\n",
       "    .dataframe tbody tr th {\n",
       "        vertical-align: top;\n",
       "    }\n",
       "\n",
       "    .dataframe thead th {\n",
       "        text-align: right;\n",
       "    }\n",
       "</style>\n",
       "<table border=\"1\" class=\"dataframe\">\n",
       "  <thead>\n",
       "    <tr style=\"text-align: right;\">\n",
       "      <th></th>\n",
       "      <th>mean</th>\n",
       "      <th>count</th>\n",
       "    </tr>\n",
       "    <tr>\n",
       "      <th>Size</th>\n",
       "      <th></th>\n",
       "      <th></th>\n",
       "    </tr>\n",
       "  </thead>\n",
       "  <tbody>\n",
       "    <tr>\n",
       "      <th>SPORTS</th>\n",
       "      <td>0.185328</td>\n",
       "      <td>777</td>\n",
       "    </tr>\n",
       "    <tr>\n",
       "      <th>LARGE SUV</th>\n",
       "      <td>0.161898</td>\n",
       "      <td>1433</td>\n",
       "    </tr>\n",
       "    <tr>\n",
       "      <th>COMPACT</th>\n",
       "      <td>0.158917</td>\n",
       "      <td>7205</td>\n",
       "    </tr>\n",
       "    <tr>\n",
       "      <th>MEDIUM SUV</th>\n",
       "      <td>0.147466</td>\n",
       "      <td>8090</td>\n",
       "    </tr>\n",
       "    <tr>\n",
       "      <th>SMALL TRUCK</th>\n",
       "      <td>0.144676</td>\n",
       "      <td>864</td>\n",
       "    </tr>\n",
       "    <tr>\n",
       "      <th>SMALL SUV</th>\n",
       "      <td>0.137522</td>\n",
       "      <td>2276</td>\n",
       "    </tr>\n",
       "    <tr>\n",
       "      <th>VAN</th>\n",
       "      <td>0.127434</td>\n",
       "      <td>5854</td>\n",
       "    </tr>\n",
       "    <tr>\n",
       "      <th>MEDIUM</th>\n",
       "      <td>0.115024</td>\n",
       "      <td>30785</td>\n",
       "    </tr>\n",
       "    <tr>\n",
       "      <th>LARGE TRUCK</th>\n",
       "      <td>0.113565</td>\n",
       "      <td>3170</td>\n",
       "    </tr>\n",
       "    <tr>\n",
       "      <th>CROSSOVER</th>\n",
       "      <td>0.104036</td>\n",
       "      <td>1759</td>\n",
       "    </tr>\n",
       "    <tr>\n",
       "      <th>LARGE</th>\n",
       "      <td>0.092429</td>\n",
       "      <td>8850</td>\n",
       "    </tr>\n",
       "    <tr>\n",
       "      <th>SPECIALTY</th>\n",
       "      <td>0.091906</td>\n",
       "      <td>1915</td>\n",
       "    </tr>\n",
       "  </tbody>\n",
       "</table>\n",
       "</div>"
      ],
      "text/plain": [
       "                 mean  count\n",
       "Size                        \n",
       "SPORTS       0.185328    777\n",
       "LARGE SUV    0.161898   1433\n",
       "COMPACT      0.158917   7205\n",
       "MEDIUM SUV   0.147466   8090\n",
       "SMALL TRUCK  0.144676    864\n",
       "SMALL SUV    0.137522   2276\n",
       "VAN          0.127434   5854\n",
       "MEDIUM       0.115024  30785\n",
       "LARGE TRUCK  0.113565   3170\n",
       "CROSSOVER    0.104036   1759\n",
       "LARGE        0.092429   8850\n",
       "SPECIALTY    0.091906   1915"
      ]
     },
     "execution_count": 219,
     "metadata": {},
     "output_type": "execute_result"
    }
   ],
   "source": [
    "df.groupby('Size')['IsBadBuy'].agg(['mean','count']).sort_values('mean',ascending = False )"
   ]
  },
  {
   "cell_type": "markdown",
   "id": "1e699ef9",
   "metadata": {},
   "source": [
    "### Nationality - GDZIE ZOSTAŁO AUTO WYPRODUKOWANE\n",
    "Nie szczegolnie ma to znaczenie"
   ]
  },
  {
   "cell_type": "code",
   "execution_count": 220,
   "id": "db6bae7e",
   "metadata": {
    "scrolled": false
   },
   "outputs": [
    {
     "data": {
      "text/plain": [
       "Nationality   \n",
       "AMERICAN          61028\n",
       "OTHER ASIAN        8033\n",
       "TOP LINE ASIAN     3722\n",
       "OTHER               195\n",
       "dtype: int64"
      ]
     },
     "execution_count": 220,
     "metadata": {},
     "output_type": "execute_result"
    }
   ],
   "source": [
    "df[['Nationality']].value_counts()"
   ]
  },
  {
   "cell_type": "code",
   "execution_count": 221,
   "id": "3f7c183f",
   "metadata": {},
   "outputs": [
    {
     "data": {
      "text/html": [
       "<div>\n",
       "<style scoped>\n",
       "    .dataframe tbody tr th:only-of-type {\n",
       "        vertical-align: middle;\n",
       "    }\n",
       "\n",
       "    .dataframe tbody tr th {\n",
       "        vertical-align: top;\n",
       "    }\n",
       "\n",
       "    .dataframe thead th {\n",
       "        text-align: right;\n",
       "    }\n",
       "</style>\n",
       "<table border=\"1\" class=\"dataframe\">\n",
       "  <thead>\n",
       "    <tr style=\"text-align: right;\">\n",
       "      <th></th>\n",
       "      <th>mean</th>\n",
       "      <th>count</th>\n",
       "    </tr>\n",
       "    <tr>\n",
       "      <th>Nationality</th>\n",
       "      <th></th>\n",
       "      <th></th>\n",
       "    </tr>\n",
       "  </thead>\n",
       "  <tbody>\n",
       "    <tr>\n",
       "      <th>OTHER</th>\n",
       "      <td>0.138462</td>\n",
       "      <td>195</td>\n",
       "    </tr>\n",
       "    <tr>\n",
       "      <th>TOP LINE ASIAN</th>\n",
       "      <td>0.134605</td>\n",
       "      <td>3722</td>\n",
       "    </tr>\n",
       "    <tr>\n",
       "      <th>OTHER ASIAN</th>\n",
       "      <td>0.132080</td>\n",
       "      <td>8033</td>\n",
       "    </tr>\n",
       "    <tr>\n",
       "      <th>AMERICAN</th>\n",
       "      <td>0.121043</td>\n",
       "      <td>61028</td>\n",
       "    </tr>\n",
       "  </tbody>\n",
       "</table>\n",
       "</div>"
      ],
      "text/plain": [
       "                    mean  count\n",
       "Nationality                    \n",
       "OTHER           0.138462    195\n",
       "TOP LINE ASIAN  0.134605   3722\n",
       "OTHER ASIAN     0.132080   8033\n",
       "AMERICAN        0.121043  61028"
      ]
     },
     "execution_count": 221,
     "metadata": {},
     "output_type": "execute_result"
    }
   ],
   "source": [
    "df.groupby('Nationality')['IsBadBuy'].agg(['mean','count']).sort_values('mean',ascending = False )"
   ]
  },
  {
   "cell_type": "markdown",
   "id": "b7479041",
   "metadata": {},
   "source": [
    "### WheelTypeId - TYP KÓŁ\n",
    "Wheel type 0 i 3 jest malo liczy, a w 1.0 nieco przewyzsza gorszy zakup niz w 2.0"
   ]
  },
  {
   "cell_type": "code",
   "execution_count": 222,
   "id": "0be4578c",
   "metadata": {
    "scrolled": true
   },
   "outputs": [
    {
     "data": {
      "text/plain": [
       "WheelTypeID\n",
       "1.0            36050\n",
       "2.0            33004\n",
       "3.0              755\n",
       "0.0                5\n",
       "dtype: int64"
      ]
     },
     "execution_count": 222,
     "metadata": {},
     "output_type": "execute_result"
    }
   ],
   "source": [
    "df[['WheelTypeID']].value_counts()"
   ]
  },
  {
   "cell_type": "code",
   "execution_count": 223,
   "id": "9f1e7584",
   "metadata": {},
   "outputs": [
    {
     "data": {
      "text/html": [
       "<div>\n",
       "<style scoped>\n",
       "    .dataframe tbody tr th:only-of-type {\n",
       "        vertical-align: middle;\n",
       "    }\n",
       "\n",
       "    .dataframe tbody tr th {\n",
       "        vertical-align: top;\n",
       "    }\n",
       "\n",
       "    .dataframe thead th {\n",
       "        text-align: right;\n",
       "    }\n",
       "</style>\n",
       "<table border=\"1\" class=\"dataframe\">\n",
       "  <thead>\n",
       "    <tr style=\"text-align: right;\">\n",
       "      <th></th>\n",
       "      <th>mean</th>\n",
       "      <th>count</th>\n",
       "    </tr>\n",
       "    <tr>\n",
       "      <th>WheelTypeID</th>\n",
       "      <th></th>\n",
       "      <th></th>\n",
       "    </tr>\n",
       "  </thead>\n",
       "  <tbody>\n",
       "    <tr>\n",
       "      <th>0.0</th>\n",
       "      <td>0.200000</td>\n",
       "      <td>5</td>\n",
       "    </tr>\n",
       "    <tr>\n",
       "      <th>3.0</th>\n",
       "      <td>0.131126</td>\n",
       "      <td>755</td>\n",
       "    </tr>\n",
       "    <tr>\n",
       "      <th>1.0</th>\n",
       "      <td>0.110541</td>\n",
       "      <td>36050</td>\n",
       "    </tr>\n",
       "    <tr>\n",
       "      <th>2.0</th>\n",
       "      <td>0.080445</td>\n",
       "      <td>33004</td>\n",
       "    </tr>\n",
       "  </tbody>\n",
       "</table>\n",
       "</div>"
      ],
      "text/plain": [
       "                 mean  count\n",
       "WheelTypeID                 \n",
       "0.0          0.200000      5\n",
       "3.0          0.131126    755\n",
       "1.0          0.110541  36050\n",
       "2.0          0.080445  33004"
      ]
     },
     "execution_count": 223,
     "metadata": {},
     "output_type": "execute_result"
    }
   ],
   "source": [
    "df.groupby('WheelTypeID')['IsBadBuy'].agg(['mean','count']).sort_values('mean',ascending = False )"
   ]
  },
  {
   "cell_type": "markdown",
   "id": "4ace2086",
   "metadata": {},
   "source": [
    "### VNZIP1 - KOD ZIP GDZIE AUTO BYŁO KUPIONE\n",
    "Trudno tu zauwazyc jakis pattern"
   ]
  },
  {
   "cell_type": "code",
   "execution_count": 224,
   "id": "bb4db243",
   "metadata": {
    "scrolled": true
   },
   "outputs": [
    {
     "data": {
      "text/plain": [
       "32824    3699\n",
       "27542    3402\n",
       "75236    2431\n",
       "74135    2321\n",
       "80022    2118\n",
       "         ... \n",
       "76101       1\n",
       "85248       1\n",
       "85260       1\n",
       "80112       1\n",
       "25071       1\n",
       "Name: VNZIP1, Length: 153, dtype: int64"
      ]
     },
     "execution_count": 224,
     "metadata": {},
     "output_type": "execute_result"
    }
   ],
   "source": [
    "df['VNZIP1'].value_counts()"
   ]
  },
  {
   "cell_type": "code",
   "execution_count": 225,
   "id": "efc3c170",
   "metadata": {},
   "outputs": [
    {
     "data": {
      "text/html": [
       "<div>\n",
       "<style scoped>\n",
       "    .dataframe tbody tr th:only-of-type {\n",
       "        vertical-align: middle;\n",
       "    }\n",
       "\n",
       "    .dataframe tbody tr th {\n",
       "        vertical-align: top;\n",
       "    }\n",
       "\n",
       "    .dataframe thead th {\n",
       "        text-align: right;\n",
       "    }\n",
       "</style>\n",
       "<table border=\"1\" class=\"dataframe\">\n",
       "  <thead>\n",
       "    <tr style=\"text-align: right;\">\n",
       "      <th></th>\n",
       "      <th>mean</th>\n",
       "      <th>count</th>\n",
       "    </tr>\n",
       "    <tr>\n",
       "      <th>VNZIP1</th>\n",
       "      <th></th>\n",
       "      <th></th>\n",
       "    </tr>\n",
       "  </thead>\n",
       "  <tbody>\n",
       "    <tr>\n",
       "      <th>85260</th>\n",
       "      <td>1.000000</td>\n",
       "      <td>1</td>\n",
       "    </tr>\n",
       "    <tr>\n",
       "      <th>25071</th>\n",
       "      <td>1.000000</td>\n",
       "      <td>1</td>\n",
       "    </tr>\n",
       "    <tr>\n",
       "      <th>30529</th>\n",
       "      <td>0.666667</td>\n",
       "      <td>3</td>\n",
       "    </tr>\n",
       "    <tr>\n",
       "      <th>46239</th>\n",
       "      <td>0.278689</td>\n",
       "      <td>122</td>\n",
       "    </tr>\n",
       "    <tr>\n",
       "      <th>17545</th>\n",
       "      <td>0.264706</td>\n",
       "      <td>136</td>\n",
       "    </tr>\n",
       "    <tr>\n",
       "      <th>...</th>\n",
       "      <td>...</td>\n",
       "      <td>...</td>\n",
       "    </tr>\n",
       "    <tr>\n",
       "      <th>80112</th>\n",
       "      <td>0.000000</td>\n",
       "      <td>1</td>\n",
       "    </tr>\n",
       "    <tr>\n",
       "      <th>32225</th>\n",
       "      <td>0.000000</td>\n",
       "      <td>5</td>\n",
       "    </tr>\n",
       "    <tr>\n",
       "      <th>32812</th>\n",
       "      <td>0.000000</td>\n",
       "      <td>73</td>\n",
       "    </tr>\n",
       "    <tr>\n",
       "      <th>76101</th>\n",
       "      <td>0.000000</td>\n",
       "      <td>1</td>\n",
       "    </tr>\n",
       "    <tr>\n",
       "      <th>99224</th>\n",
       "      <td>0.000000</td>\n",
       "      <td>5</td>\n",
       "    </tr>\n",
       "  </tbody>\n",
       "</table>\n",
       "<p>153 rows × 2 columns</p>\n",
       "</div>"
      ],
      "text/plain": [
       "            mean  count\n",
       "VNZIP1                 \n",
       "85260   1.000000      1\n",
       "25071   1.000000      1\n",
       "30529   0.666667      3\n",
       "46239   0.278689    122\n",
       "17545   0.264706    136\n",
       "...          ...    ...\n",
       "80112   0.000000      1\n",
       "32225   0.000000      5\n",
       "32812   0.000000     73\n",
       "76101   0.000000      1\n",
       "99224   0.000000      5\n",
       "\n",
       "[153 rows x 2 columns]"
      ]
     },
     "execution_count": 225,
     "metadata": {},
     "output_type": "execute_result"
    }
   ],
   "source": [
    "df.groupby('VNZIP1')['IsBadBuy'].agg(['mean','count']).sort_values('mean',ascending = False )"
   ]
  },
  {
   "cell_type": "code",
   "execution_count": 226,
   "id": "e9aeb14a",
   "metadata": {},
   "outputs": [
    {
     "data": {
      "text/html": [
       "<div>\n",
       "<style scoped>\n",
       "    .dataframe tbody tr th:only-of-type {\n",
       "        vertical-align: middle;\n",
       "    }\n",
       "\n",
       "    .dataframe tbody tr th {\n",
       "        vertical-align: top;\n",
       "    }\n",
       "\n",
       "    .dataframe thead th {\n",
       "        text-align: right;\n",
       "    }\n",
       "</style>\n",
       "<table border=\"1\" class=\"dataframe\">\n",
       "  <thead>\n",
       "    <tr style=\"text-align: right;\">\n",
       "      <th></th>\n",
       "      <th>mean</th>\n",
       "      <th>count</th>\n",
       "    </tr>\n",
       "    <tr>\n",
       "      <th>VNZIP1</th>\n",
       "      <th></th>\n",
       "      <th></th>\n",
       "    </tr>\n",
       "  </thead>\n",
       "  <tbody>\n",
       "    <tr>\n",
       "      <th>75050</th>\n",
       "      <td>0.170496</td>\n",
       "      <td>1654</td>\n",
       "    </tr>\n",
       "    <tr>\n",
       "      <th>78754</th>\n",
       "      <td>0.162722</td>\n",
       "      <td>1352</td>\n",
       "    </tr>\n",
       "    <tr>\n",
       "      <th>29697</th>\n",
       "      <td>0.160080</td>\n",
       "      <td>1999</td>\n",
       "    </tr>\n",
       "    <tr>\n",
       "      <th>28273</th>\n",
       "      <td>0.148914</td>\n",
       "      <td>1887</td>\n",
       "    </tr>\n",
       "    <tr>\n",
       "      <th>73108</th>\n",
       "      <td>0.148329</td>\n",
       "      <td>1227</td>\n",
       "    </tr>\n",
       "    <tr>\n",
       "      <th>85226</th>\n",
       "      <td>0.148130</td>\n",
       "      <td>2086</td>\n",
       "    </tr>\n",
       "    <tr>\n",
       "      <th>75236</th>\n",
       "      <td>0.138215</td>\n",
       "      <td>2431</td>\n",
       "    </tr>\n",
       "    <tr>\n",
       "      <th>76040</th>\n",
       "      <td>0.125234</td>\n",
       "      <td>1605</td>\n",
       "    </tr>\n",
       "    <tr>\n",
       "      <th>29532</th>\n",
       "      <td>0.121194</td>\n",
       "      <td>1675</td>\n",
       "    </tr>\n",
       "    <tr>\n",
       "      <th>80022</th>\n",
       "      <td>0.119924</td>\n",
       "      <td>2118</td>\n",
       "    </tr>\n",
       "    <tr>\n",
       "      <th>77041</th>\n",
       "      <td>0.112686</td>\n",
       "      <td>1411</td>\n",
       "    </tr>\n",
       "    <tr>\n",
       "      <th>95673</th>\n",
       "      <td>0.107614</td>\n",
       "      <td>1970</td>\n",
       "    </tr>\n",
       "    <tr>\n",
       "      <th>33619</th>\n",
       "      <td>0.104083</td>\n",
       "      <td>1739</td>\n",
       "    </tr>\n",
       "    <tr>\n",
       "      <th>27542</th>\n",
       "      <td>0.097002</td>\n",
       "      <td>3402</td>\n",
       "    </tr>\n",
       "    <tr>\n",
       "      <th>32824</th>\n",
       "      <td>0.093809</td>\n",
       "      <td>3699</td>\n",
       "    </tr>\n",
       "    <tr>\n",
       "      <th>85040</th>\n",
       "      <td>0.090954</td>\n",
       "      <td>2012</td>\n",
       "    </tr>\n",
       "    <tr>\n",
       "      <th>80011</th>\n",
       "      <td>0.078275</td>\n",
       "      <td>1252</td>\n",
       "    </tr>\n",
       "    <tr>\n",
       "      <th>74135</th>\n",
       "      <td>0.059888</td>\n",
       "      <td>2321</td>\n",
       "    </tr>\n",
       "  </tbody>\n",
       "</table>\n",
       "</div>"
      ],
      "text/plain": [
       "            mean  count\n",
       "VNZIP1                 \n",
       "75050   0.170496   1654\n",
       "78754   0.162722   1352\n",
       "29697   0.160080   1999\n",
       "28273   0.148914   1887\n",
       "73108   0.148329   1227\n",
       "85226   0.148130   2086\n",
       "75236   0.138215   2431\n",
       "76040   0.125234   1605\n",
       "29532   0.121194   1675\n",
       "80022   0.119924   2118\n",
       "77041   0.112686   1411\n",
       "95673   0.107614   1970\n",
       "33619   0.104083   1739\n",
       "27542   0.097002   3402\n",
       "32824   0.093809   3699\n",
       "85040   0.090954   2012\n",
       "80011   0.078275   1252\n",
       "74135   0.059888   2321"
      ]
     },
     "execution_count": 226,
     "metadata": {},
     "output_type": "execute_result"
    }
   ],
   "source": [
    "#dla wiecej niz 100 licznosc\n",
    "counts = df['VNZIP1'].value_counts()\n",
    "selected_categories = counts[counts > 1200].index\n",
    "df[df['VNZIP1'].isin(selected_categories)].groupby('VNZIP1')['IsBadBuy'].agg(['mean','count']).sort_values('mean',ascending = False )"
   ]
  },
  {
   "cell_type": "markdown",
   "id": "e173fe8e",
   "metadata": {},
   "source": [
    "### VNST - STAN GDZIE AUTO ZOSTAŁO KUPIONE"
   ]
  },
  {
   "cell_type": "code",
   "execution_count": 227,
   "id": "8bbd0a6b",
   "metadata": {},
   "outputs": [
    {
     "data": {
      "text/plain": [
       "VNST\n",
       "TX      13596\n",
       "FL      10447\n",
       "CA       7095\n",
       "NC       7042\n",
       "AZ       6174\n",
       "CO       4998\n",
       "SC       4280\n",
       "OK       3594\n",
       "GA       2450\n",
       "TN       1764\n",
       "VA       1662\n",
       "MD       1158\n",
       "UT        875\n",
       "PA        847\n",
       "OH        795\n",
       "MO        758\n",
       "AL        690\n",
       "NV        562\n",
       "IA        499\n",
       "MS        493\n",
       "IN        486\n",
       "IL        458\n",
       "LA        349\n",
       "NJ        317\n",
       "WV        292\n",
       "NM        239\n",
       "KY        230\n",
       "OR        211\n",
       "ID        196\n",
       "WA        136\n",
       "NH         97\n",
       "AR         70\n",
       "MN         62\n",
       "NE         26\n",
       "MA         15\n",
       "MI         14\n",
       "NY          6\n",
       "dtype: int64"
      ]
     },
     "execution_count": 227,
     "metadata": {},
     "output_type": "execute_result"
    }
   ],
   "source": [
    "df[['VNST']].value_counts()"
   ]
  },
  {
   "cell_type": "code",
   "execution_count": 228,
   "id": "e40673c1",
   "metadata": {},
   "outputs": [
    {
     "data": {
      "text/html": [
       "<div>\n",
       "<style scoped>\n",
       "    .dataframe tbody tr th:only-of-type {\n",
       "        vertical-align: middle;\n",
       "    }\n",
       "\n",
       "    .dataframe tbody tr th {\n",
       "        vertical-align: top;\n",
       "    }\n",
       "\n",
       "    .dataframe thead th {\n",
       "        text-align: right;\n",
       "    }\n",
       "</style>\n",
       "<table border=\"1\" class=\"dataframe\">\n",
       "  <thead>\n",
       "    <tr style=\"text-align: right;\">\n",
       "      <th></th>\n",
       "      <th>mean</th>\n",
       "      <th>count</th>\n",
       "    </tr>\n",
       "    <tr>\n",
       "      <th>VNST</th>\n",
       "      <th></th>\n",
       "      <th></th>\n",
       "    </tr>\n",
       "  </thead>\n",
       "  <tbody>\n",
       "    <tr>\n",
       "      <th>VA</th>\n",
       "      <td>0.158243</td>\n",
       "      <td>1662</td>\n",
       "    </tr>\n",
       "    <tr>\n",
       "      <th>SC</th>\n",
       "      <td>0.138785</td>\n",
       "      <td>4280</td>\n",
       "    </tr>\n",
       "    <tr>\n",
       "      <th>TX</th>\n",
       "      <td>0.138055</td>\n",
       "      <td>13596</td>\n",
       "    </tr>\n",
       "    <tr>\n",
       "      <th>CA</th>\n",
       "      <td>0.134038</td>\n",
       "      <td>7095</td>\n",
       "    </tr>\n",
       "    <tr>\n",
       "      <th>CO</th>\n",
       "      <td>0.120848</td>\n",
       "      <td>4998</td>\n",
       "    </tr>\n",
       "    <tr>\n",
       "      <th>TN</th>\n",
       "      <td>0.115079</td>\n",
       "      <td>1764</td>\n",
       "    </tr>\n",
       "    <tr>\n",
       "      <th>AZ</th>\n",
       "      <td>0.114027</td>\n",
       "      <td>6174</td>\n",
       "    </tr>\n",
       "    <tr>\n",
       "      <th>NC</th>\n",
       "      <td>0.113462</td>\n",
       "      <td>7042</td>\n",
       "    </tr>\n",
       "    <tr>\n",
       "      <th>GA</th>\n",
       "      <td>0.111429</td>\n",
       "      <td>2450</td>\n",
       "    </tr>\n",
       "    <tr>\n",
       "      <th>FL</th>\n",
       "      <td>0.109314</td>\n",
       "      <td>10447</td>\n",
       "    </tr>\n",
       "    <tr>\n",
       "      <th>OK</th>\n",
       "      <td>0.092098</td>\n",
       "      <td>3594</td>\n",
       "    </tr>\n",
       "  </tbody>\n",
       "</table>\n",
       "</div>"
      ],
      "text/plain": [
       "          mean  count\n",
       "VNST                 \n",
       "VA    0.158243   1662\n",
       "SC    0.138785   4280\n",
       "TX    0.138055  13596\n",
       "CA    0.134038   7095\n",
       "CO    0.120848   4998\n",
       "TN    0.115079   1764\n",
       "AZ    0.114027   6174\n",
       "NC    0.113462   7042\n",
       "GA    0.111429   2450\n",
       "FL    0.109314  10447\n",
       "OK    0.092098   3594"
      ]
     },
     "execution_count": 228,
     "metadata": {},
     "output_type": "execute_result"
    }
   ],
   "source": [
    "#dla wiecej niz 100 licznosc\n",
    "counts = df['VNST'].value_counts()\n",
    "selected_categories = counts[counts > 1200].index\n",
    "df[df['VNST'].isin(selected_categories)].groupby('VNST')['IsBadBuy'].agg(['mean','count']).sort_values('mean',ascending = False )"
   ]
  },
  {
   "cell_type": "markdown",
   "id": "1b6f8ad4",
   "metadata": {},
   "source": [
    "### IsOnlineSale - CZY SAMOCHOD ZOSTAL KUPIONY ONLINE\n",
    "Wiekszosc kupione nie online, srednia podobna"
   ]
  },
  {
   "cell_type": "code",
   "execution_count": 229,
   "id": "6bd88f55",
   "metadata": {},
   "outputs": [
    {
     "data": {
      "text/plain": [
       "IsOnlineSale\n",
       "0               71138\n",
       "1                1845\n",
       "dtype: int64"
      ]
     },
     "execution_count": 229,
     "metadata": {},
     "output_type": "execute_result"
    }
   ],
   "source": [
    "df[['IsOnlineSale']].value_counts()"
   ]
  },
  {
   "cell_type": "code",
   "execution_count": 230,
   "id": "9e8f2237",
   "metadata": {},
   "outputs": [
    {
     "data": {
      "text/html": [
       "<div>\n",
       "<style scoped>\n",
       "    .dataframe tbody tr th:only-of-type {\n",
       "        vertical-align: middle;\n",
       "    }\n",
       "\n",
       "    .dataframe tbody tr th {\n",
       "        vertical-align: top;\n",
       "    }\n",
       "\n",
       "    .dataframe thead th {\n",
       "        text-align: right;\n",
       "    }\n",
       "</style>\n",
       "<table border=\"1\" class=\"dataframe\">\n",
       "  <thead>\n",
       "    <tr style=\"text-align: right;\">\n",
       "      <th></th>\n",
       "      <th>mean</th>\n",
       "      <th>count</th>\n",
       "    </tr>\n",
       "    <tr>\n",
       "      <th>IsOnlineSale</th>\n",
       "      <th></th>\n",
       "      <th></th>\n",
       "    </tr>\n",
       "  </thead>\n",
       "  <tbody>\n",
       "    <tr>\n",
       "      <th>0</th>\n",
       "      <td>0.123183</td>\n",
       "      <td>71138</td>\n",
       "    </tr>\n",
       "    <tr>\n",
       "      <th>1</th>\n",
       "      <td>0.115447</td>\n",
       "      <td>1845</td>\n",
       "    </tr>\n",
       "  </tbody>\n",
       "</table>\n",
       "</div>"
      ],
      "text/plain": [
       "                  mean  count\n",
       "IsOnlineSale                 \n",
       "0             0.123183  71138\n",
       "1             0.115447   1845"
      ]
     },
     "execution_count": 230,
     "metadata": {},
     "output_type": "execute_result"
    }
   ],
   "source": [
    "df.groupby('IsOnlineSale')['IsBadBuy'].agg(['mean','count']).sort_values('mean',ascending = False )"
   ]
  },
  {
   "cell_type": "markdown",
   "id": "61dc3fda",
   "metadata": {},
   "source": [
    "# Visualization"
   ]
  },
  {
   "cell_type": "markdown",
   "id": "2814c832",
   "metadata": {},
   "source": [
    "### VehOdo - LICZNIK"
   ]
  },
  {
   "cell_type": "code",
   "execution_count": 231,
   "id": "e5572f5c",
   "metadata": {},
   "outputs": [
    {
     "data": {
      "image/png": "[encoded data removed]",
      "text/plain": [
       "<Figure size 432x288 with 1 Axes>"
      ]
     },
     "metadata": {
      "needs_background": "light"
     },
     "output_type": "display_data"
    },
    {
     "data": {
      "image/png": "[encoded data removed]",
      "text/plain": [
       "<Figure size 432x288 with 1 Axes>"
      ]
     },
     "metadata": {
      "needs_background": "light"
     },
     "output_type": "display_data"
    },
    {
     "data": {
      "image/png": "[encoded data removed]",
      "text/plain": [
       "<Figure size 432x288 with 1 Axes>"
      ]
     },
     "metadata": {
      "needs_background": "light"
     },
     "output_type": "display_data"
    }
   ],
   "source": [
    "plt.hist(df['VehOdo'])\n",
    "plt.show()\n",
    "\n",
    "plt.boxplot(df['VehOdo'])\n",
    "plt.show()\n",
    "\n",
    "plt.violinplot(df['VehOdo'])\n",
    "plt.show()"
   ]
  },
  {
   "cell_type": "markdown",
   "id": "8a7d28a8",
   "metadata": {},
   "source": [
    "### WarrantyCost - koszty ubezpieczenia"
   ]
  },
  {
   "cell_type": "code",
   "execution_count": 232,
   "id": "72af7e1f",
   "metadata": {},
   "outputs": [
    {
     "data": {
      "image/png": "[encoded data removed]",
      "text/plain": [
       "<Figure size 432x288 with 1 Axes>"
      ]
     },
     "metadata": {
      "needs_background": "light"
     },
     "output_type": "display_data"
    },
    {
     "data": {
      "image/png": "[encoded data removed]",
      "text/plain": [
       "<Figure size 432x288 with 1 Axes>"
      ]
     },
     "metadata": {
      "needs_background": "light"
     },
     "output_type": "display_data"
    },
    {
     "data": {
      "image/png": "[encoded data removed]",
      "text/plain": [
       "<Figure size 432x288 with 1 Axes>"
      ]
     },
     "metadata": {
      "needs_background": "light"
     },
     "output_type": "display_data"
    }
   ],
   "source": [
    "plt.hist(df['WarrantyCost'])\n",
    "plt.show()\n",
    "\n",
    "plt.boxplot(df['WarrantyCost'])\n",
    "plt.show()\n",
    "\n",
    "plt.violinplot(df['WarrantyCost'])\n",
    "plt.show()"
   ]
  },
  {
   "cell_type": "markdown",
   "id": "4b426eee",
   "metadata": {},
   "source": [
    "### VehBCost - KOSZT NABYCIA"
   ]
  },
  {
   "cell_type": "code",
   "execution_count": 233,
   "id": "6b025e13",
   "metadata": {},
   "outputs": [
    {
     "data": {
      "image/png": "[encoded data removed]",
      "text/plain": [
       "<Figure size 432x288 with 1 Axes>"
      ]
     },
     "metadata": {
      "needs_background": "light"
     },
     "output_type": "display_data"
    },
    {
     "data": {
      "image/png": "[encoded data removed]",
      "text/plain": [
       "<Figure size 432x288 with 1 Axes>"
      ]
     },
     "metadata": {
      "needs_background": "light"
     },
     "output_type": "display_data"
    },
    {
     "data": {
      "image/png": "[encoded data removed]",
      "text/plain": [
       "<Figure size 432x288 with 1 Axes>"
      ]
     },
     "metadata": {
      "needs_background": "light"
     },
     "output_type": "display_data"
    }
   ],
   "source": [
    "plt.hist(df['VehBCost'])\n",
    "plt.show()\n",
    "\n",
    "plt.boxplot(df['VehBCost'])\n",
    "plt.show()\n",
    "\n",
    "plt.violinplot(df['VehBCost'])\n",
    "plt.show()"
   ]
  },
  {
   "cell_type": "markdown",
   "id": "77340fdf",
   "metadata": {},
   "source": [
    "### KORELACJA ZMIENNYCH NUMERYCZNYCH"
   ]
  },
  {
   "cell_type": "code",
   "execution_count": 234,
   "id": "c81f4c4a",
   "metadata": {},
   "outputs": [
    {
     "data": {
      "image/png": "[encoded data removed]",
      "text/plain": [
       "<Figure size 432x288 with 2 Axes>"
      ]
     },
     "metadata": {
      "needs_background": "light"
     },
     "output_type": "display_data"
    }
   ],
   "source": [
    "sns.heatmap(df.corr(method='pearson'))\n",
    "plt.show()"
   ]
  },
  {
   "cell_type": "markdown",
   "id": "2ff362eb",
   "metadata": {},
   "source": [
    "# Preprocessing"
   ]
  },
  {
   "cell_type": "code",
   "execution_count": 291,
   "id": "e1d5d256",
   "metadata": {},
   "outputs": [],
   "source": [
    "def preprocess_df(X):\n",
    "    X['TopThreeAmericanName'] = X['TopThreeAmericanName'].fillna('OTHER')\n",
    "    X['Size'] = X['Size'].fillna('MEDIUM')\n",
    "    X['Nationality'] = X['Nationality'].fillna('OTHER')\n",
    "    X = X[X['WheelTypeID'].notna()]\n",
    "        \n",
    "    return X"
   ]
  },
  {
   "cell_type": "code",
   "execution_count": 296,
   "id": "5dd5e99f",
   "metadata": {},
   "outputs": [],
   "source": [
    "df = preprocess_df(df)"
   ]
  },
  {
   "cell_type": "code",
   "execution_count": 298,
   "id": "a222ce9b",
   "metadata": {},
   "outputs": [
    {
     "data": {
      "text/plain": [
       "IsBadBuy                0\n",
       "WheelTypeID             0\n",
       "VehOdo                  0\n",
       "Nationality             0\n",
       "Size                    0\n",
       "TopThreeAmericanName    0\n",
       "VNZIP1                  0\n",
       "VNST                    0\n",
       "VehBCost                0\n",
       "IsOnlineSale            0\n",
       "WarrantyCost            0\n",
       "dtype: int64"
      ]
     },
     "execution_count": 298,
     "metadata": {},
     "output_type": "execute_result"
    }
   ],
   "source": [
    "df.isna().sum()"
   ]
  },
  {
   "cell_type": "code",
   "execution_count": 325,
   "id": "0b1c96bb",
   "metadata": {},
   "outputs": [],
   "source": [
    "preprocessor = ColumnTransformer(\n",
    "    transformers=[\n",
    "        ('num', StandardScaler(), ['VehOdo','VehBCost', 'WarrantyCost']),\n",
    "        ('cat', OneHotEncoder(),  ['TopThreeAmericanName', 'WheelTypeID','Nationality','Size', 'VNST']),\n",
    "        ('passthrough','passthrough', ['IsOnlineSale'])\n",
    "    ])\n",
    "\n",
    "pipeline = Pipeline(steps=[('preprocessor', preprocessor)\n",
    "                           ])"
   ]
  },
  {
   "cell_type": "code",
   "execution_count": 326,
   "id": "6ddf6cfd",
   "metadata": {
    "scrolled": true
   },
   "outputs": [],
   "source": [
    "df_transformed = pipeline.fit_transform(df)"
   ]
  },
  {
   "cell_type": "code",
   "execution_count": 327,
   "id": "ac363b0a",
   "metadata": {},
   "outputs": [
    {
     "data": {
      "text/plain": [
       "IsBadBuy                0\n",
       "WheelTypeID             0\n",
       "VehOdo                  0\n",
       "Nationality             0\n",
       "Size                    0\n",
       "TopThreeAmericanName    0\n",
       "VNZIP1                  0\n",
       "VNST                    0\n",
       "VehBCost                0\n",
       "IsOnlineSale            0\n",
       "WarrantyCost            0\n",
       "dtype: int64"
      ]
     },
     "execution_count": 327,
     "metadata": {},
     "output_type": "execute_result"
    }
   ],
   "source": [
    "df.isna().sum()"
   ]
  },
  {
   "cell_type": "code",
   "execution_count": 328,
   "id": "2f6d9356",
   "metadata": {
    "scrolled": false
   },
   "outputs": [
    {
     "data": {
      "text/plain": [
       "<69814x65 sparse matrix of type '<class 'numpy.float64'>'\n",
       "\twith 560240 stored elements in Compressed Sparse Row format>"
      ]
     },
     "execution_count": 328,
     "metadata": {},
     "output_type": "execute_result"
    }
   ],
   "source": [
    "df_transformed"
   ]
  },
  {
   "cell_type": "code",
   "execution_count": 329,
   "id": "18b0f4d1",
   "metadata": {},
   "outputs": [
    {
     "data": {
      "text/plain": [
       "(69814, 65)"
      ]
     },
     "execution_count": 329,
     "metadata": {},
     "output_type": "execute_result"
    }
   ],
   "source": [
    "df_transformed.shape"
   ]
  },
  {
   "cell_type": "code",
   "execution_count": 82,
   "id": "19d3e62b",
   "metadata": {},
   "outputs": [],
   "source": [
    "# WheelTypeID  -> OHE \n",
    "# TopThreeAmericanName -> OHE\n",
    "# VehOdo -> StandardScaler\n",
    "# Nationality - OHE\n",
    "# VehBCost -> StandardScaler\n",
    "# WarrantyCost -> StandardScaler\n",
    "# Size - (12 categories) --> (??? Lepiej onehotencoding dla malej liczby kategorii czy wiekszej? => ORDER HERE MATTERS -> \n",
    "# --- wiec tutaj lepiej nie one hot encoding tylko jakis label encoding z ustalona kolejnoscia, ale niekiedy trudno powiedziec?\n",
    "# --- moze jakis inny pomysl? ) -> OHE\n",
    "# IsOnlineSale -> binarny -> zostawmy\n",
    "\n",
    "\n",
    "\n",
    "# VNZIP1 -> OHE, ale mniej niz 10 => dajemy OTHER\n",
    "# VNST -> Categorical, lots of categories, OHE? Worth doing? Order does not matter\n",
    "\n",
    "\n",
    "#co z OTHER kategoria?\n",
    "\n"
   ]
  },
  {
   "cell_type": "code",
   "execution_count": null,
   "id": "3b007929",
   "metadata": {},
   "outputs": [],
   "source": []
  }
 ],
 "metadata": {
  "kernelspec": {
   "display_name": "Python 3 (ipykernel)",
   "language": "python",
   "name": "python3"
  },
  "language_info": {
   "codemirror_mode": {
    "name": "ipython",
    "version": 3
   },
   "file_extension": ".py",
   "mimetype": "text/x-python",
   "name": "python",
   "nbconvert_exporter": "python",
   "pygments_lexer": "ipython3",
   "version": "3.9.4"
  }
 },
 "nbformat": 4,
 "nbformat_minor": 5
}
