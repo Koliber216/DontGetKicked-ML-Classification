{
 "cells": [
  {
   "cell_type": "code",
   "execution_count": 25,
   "metadata": {},
   "outputs": [],
   "source": [
    "import pandas as pd\n",
    "import seaborn as sns\n",
    "import numpy as np\n",
    "import matplotlib.pyplot as plt\n",
    "import sklearn as sk\n",
    "from sklearn.model_selection import train_test_split\n",
    "import seaborn as sns\n",
    "\n",
    "from sklearn.preprocessing import StandardScaler, FunctionTransformer, LabelEncoder\n",
    "from sklearn.compose import ColumnTransformer\n",
    "from sklearn.preprocessing import LabelEncoder\n",
    "from sklearn.preprocessing import OneHotEncoder\n",
    "from sklearn.preprocessing import FunctionTransformer\n",
    "from sklearn.pipeline import Pipeline"
   ]
  },
  {
   "cell_type": "code",
   "execution_count": 26,
   "metadata": {},
   "outputs": [],
   "source": [
    "train_df = pd.read_csv('training.csv') # split for test and train set is ready\n",
    "test = pd.read_csv('test.csv')"
   ]
  },
  {
   "cell_type": "markdown",
   "metadata": {},
   "source": [
    "## Splitting the data first"
   ]
  },
  {
   "cell_type": "code",
   "execution_count": 27,
   "metadata": {},
   "outputs": [],
   "source": [
    "our_columns = list(set([1,10,11]+(list(range(18, 29))) + [12,14,15,16,17,29,30,31,32,33]))\n",
    "df = train_df.iloc[:,our_columns]\n",
    "\n",
    "y = df[\"IsBadBuy\"]\n",
    "X = df\n",
    "\n",
    "del X[\"IsBadBuy\"]"
   ]
  },
  {
   "cell_type": "code",
   "execution_count": 28,
   "metadata": {},
   "outputs": [],
   "source": [
    "X_train, X_val, y_train, y_val = train_test_split(\n",
    "    X, y, stratify=y, test_size=0.3, random_state=42\n",
    ")\n",
    "\n",
    "\n",
    "train = pd.DataFrame(X_train.join(y_train))\n",
    "val = X_val.join(y_val)"
   ]
  },
  {
   "cell_type": "code",
   "execution_count": 29,
   "metadata": {},
   "outputs": [
    {
     "data": {
      "text/plain": "       Color Transmission  WheelTypeID  VehOdo  Nationality        Size  \\\n10580   BLUE         AUTO          2.0   78883  OTHER ASIAN      MEDIUM   \n27667   GOLD         AUTO          1.0   79278     AMERICAN   CROSSOVER   \n60595  GREEN         AUTO          1.0   92111     AMERICAN   SMALL SUV   \n60484    RED         AUTO          1.0   85427     AMERICAN  MEDIUM SUV   \n48363   GOLD         AUTO          1.0   82274     AMERICAN         VAN   \n\n      TopThreeAmericanName  MMRAcquisitionAuctionAveragePrice  \\\n10580                OTHER                             4516.0   \n27667             CHRYSLER                             8500.0   \n60595                 FORD                             3402.0   \n60484             CHRYSLER                             9959.0   \n48363                   GM                             7026.0   \n\n       MMRAcquisitionAuctionCleanPrice  MMRAcquisitionRetailAveragePrice  ...  \\\n10580                           5335.0                            7121.0  ...   \n27667                          10607.0                            9680.0  ...   \n60595                           4477.0                            6513.0  ...   \n60484                          11383.0                           11256.0  ...   \n48363                           8385.0                           11809.0  ...   \n\n       MMRCurrentRetailCleanPrice  PRIMEUNIT  AUCGUART  BYRNO  VNZIP1 VNST  \\\n10580                      8885.0        NaN       NaN  18822   77041   TX   \n27667                     11956.0        NaN       NaN   5546   32824   FL   \n60595                      7897.0        NaN       NaN  23359   92337   CA   \n60484                     13878.0        NaN       NaN  23359   91752   CA   \n48363                     14091.0        NaN       NaN  18111   47129   IN   \n\n      VehBCost  IsOnlineSale  WarrantyCost IsBadBuy  \n10580   5685.0             0           569        0  \n27667   6645.0             0          1857        0  \n60595   5480.0             0          1353        0  \n60484   8375.0             0          1763        0  \n48363   6475.0             0          2282        0  \n\n[5 rows x 24 columns]",
      "text/html": "<div>\n<style scoped>\n    .dataframe tbody tr th:only-of-type {\n        vertical-align: middle;\n    }\n\n    .dataframe tbody tr th {\n        vertical-align: top;\n    }\n\n    .dataframe thead th {\n        text-align: right;\n    }\n</style>\n<table border=\"1\" class=\"dataframe\">\n  <thead>\n    <tr style=\"text-align: right;\">\n      <th></th>\n      <th>Color</th>\n      <th>Transmission</th>\n      <th>WheelTypeID</th>\n      <th>VehOdo</th>\n      <th>Nationality</th>\n      <th>Size</th>\n      <th>TopThreeAmericanName</th>\n      <th>MMRAcquisitionAuctionAveragePrice</th>\n      <th>MMRAcquisitionAuctionCleanPrice</th>\n      <th>MMRAcquisitionRetailAveragePrice</th>\n      <th>...</th>\n      <th>MMRCurrentRetailCleanPrice</th>\n      <th>PRIMEUNIT</th>\n      <th>AUCGUART</th>\n      <th>BYRNO</th>\n      <th>VNZIP1</th>\n      <th>VNST</th>\n      <th>VehBCost</th>\n      <th>IsOnlineSale</th>\n      <th>WarrantyCost</th>\n      <th>IsBadBuy</th>\n    </tr>\n  </thead>\n  <tbody>\n    <tr>\n      <th>10580</th>\n      <td>BLUE</td>\n      <td>AUTO</td>\n      <td>2.0</td>\n      <td>78883</td>\n      <td>OTHER ASIAN</td>\n      <td>MEDIUM</td>\n      <td>OTHER</td>\n      <td>4516.0</td>\n      <td>5335.0</td>\n      <td>7121.0</td>\n      <td>...</td>\n      <td>8885.0</td>\n      <td>NaN</td>\n      <td>NaN</td>\n      <td>18822</td>\n      <td>77041</td>\n      <td>TX</td>\n      <td>5685.0</td>\n      <td>0</td>\n      <td>569</td>\n      <td>0</td>\n    </tr>\n    <tr>\n      <th>27667</th>\n      <td>GOLD</td>\n      <td>AUTO</td>\n      <td>1.0</td>\n      <td>79278</td>\n      <td>AMERICAN</td>\n      <td>CROSSOVER</td>\n      <td>CHRYSLER</td>\n      <td>8500.0</td>\n      <td>10607.0</td>\n      <td>9680.0</td>\n      <td>...</td>\n      <td>11956.0</td>\n      <td>NaN</td>\n      <td>NaN</td>\n      <td>5546</td>\n      <td>32824</td>\n      <td>FL</td>\n      <td>6645.0</td>\n      <td>0</td>\n      <td>1857</td>\n      <td>0</td>\n    </tr>\n    <tr>\n      <th>60595</th>\n      <td>GREEN</td>\n      <td>AUTO</td>\n      <td>1.0</td>\n      <td>92111</td>\n      <td>AMERICAN</td>\n      <td>SMALL SUV</td>\n      <td>FORD</td>\n      <td>3402.0</td>\n      <td>4477.0</td>\n      <td>6513.0</td>\n      <td>...</td>\n      <td>7897.0</td>\n      <td>NaN</td>\n      <td>NaN</td>\n      <td>23359</td>\n      <td>92337</td>\n      <td>CA</td>\n      <td>5480.0</td>\n      <td>0</td>\n      <td>1353</td>\n      <td>0</td>\n    </tr>\n    <tr>\n      <th>60484</th>\n      <td>RED</td>\n      <td>AUTO</td>\n      <td>1.0</td>\n      <td>85427</td>\n      <td>AMERICAN</td>\n      <td>MEDIUM SUV</td>\n      <td>CHRYSLER</td>\n      <td>9959.0</td>\n      <td>11383.0</td>\n      <td>11256.0</td>\n      <td>...</td>\n      <td>13878.0</td>\n      <td>NaN</td>\n      <td>NaN</td>\n      <td>23359</td>\n      <td>91752</td>\n      <td>CA</td>\n      <td>8375.0</td>\n      <td>0</td>\n      <td>1763</td>\n      <td>0</td>\n    </tr>\n    <tr>\n      <th>48363</th>\n      <td>GOLD</td>\n      <td>AUTO</td>\n      <td>1.0</td>\n      <td>82274</td>\n      <td>AMERICAN</td>\n      <td>VAN</td>\n      <td>GM</td>\n      <td>7026.0</td>\n      <td>8385.0</td>\n      <td>11809.0</td>\n      <td>...</td>\n      <td>14091.0</td>\n      <td>NaN</td>\n      <td>NaN</td>\n      <td>18111</td>\n      <td>47129</td>\n      <td>IN</td>\n      <td>6475.0</td>\n      <td>0</td>\n      <td>2282</td>\n      <td>0</td>\n    </tr>\n  </tbody>\n</table>\n<p>5 rows × 24 columns</p>\n</div>"
     },
     "execution_count": 29,
     "metadata": {},
     "output_type": "execute_result"
    }
   ],
   "source": [
    "val.head()"
   ]
  },
  {
   "cell_type": "code",
   "execution_count": 30,
   "metadata": {},
   "outputs": [
    {
     "data": {
      "text/plain": "Index(['Color', 'Transmission', 'WheelTypeID', 'VehOdo', 'Nationality', 'Size',\n       'TopThreeAmericanName', 'MMRAcquisitionAuctionAveragePrice',\n       'MMRAcquisitionAuctionCleanPrice', 'MMRAcquisitionRetailAveragePrice',\n       'MMRAcquisitonRetailCleanPrice', 'MMRCurrentAuctionAveragePrice',\n       'MMRCurrentAuctionCleanPrice', 'MMRCurrentRetailAveragePrice',\n       'MMRCurrentRetailCleanPrice', 'PRIMEUNIT', 'AUCGUART', 'BYRNO',\n       'VNZIP1', 'VNST', 'VehBCost', 'IsOnlineSale', 'WarrantyCost',\n       'IsBadBuy'],\n      dtype='object')"
     },
     "execution_count": 30,
     "metadata": {},
     "output_type": "execute_result"
    }
   ],
   "source": [
    "train.columns"
   ]
  },
  {
   "cell_type": "code",
   "execution_count": 31,
   "metadata": {
    "scrolled": true
   },
   "outputs": [
    {
     "data": {
      "text/plain": "               mean  count\nColor                     \nBEIGE      0.139706   1088\nBLACK      0.113936   5389\nBLUE       0.115784   7229\nBROWN      0.132890    301\nGOLD       0.142626   3702\nGREEN      0.118362   2222\nGREY       0.116101   5478\nMAROON     0.135135   1443\nNOT AVAIL  0.253731     67\nORANGE     0.073016    315\nOTHER      0.134078    179\nPURPLE     0.119850    267\nRED        0.131657   4375\nSILVER     0.123957  10423\nWHITE      0.122220   8452\nYELLOW     0.131579    152",
      "text/html": "<div>\n<style scoped>\n    .dataframe tbody tr th:only-of-type {\n        vertical-align: middle;\n    }\n\n    .dataframe tbody tr th {\n        vertical-align: top;\n    }\n\n    .dataframe thead th {\n        text-align: right;\n    }\n</style>\n<table border=\"1\" class=\"dataframe\">\n  <thead>\n    <tr style=\"text-align: right;\">\n      <th></th>\n      <th>mean</th>\n      <th>count</th>\n    </tr>\n    <tr>\n      <th>Color</th>\n      <th></th>\n      <th></th>\n    </tr>\n  </thead>\n  <tbody>\n    <tr>\n      <th>BEIGE</th>\n      <td>0.139706</td>\n      <td>1088</td>\n    </tr>\n    <tr>\n      <th>BLACK</th>\n      <td>0.113936</td>\n      <td>5389</td>\n    </tr>\n    <tr>\n      <th>BLUE</th>\n      <td>0.115784</td>\n      <td>7229</td>\n    </tr>\n    <tr>\n      <th>BROWN</th>\n      <td>0.132890</td>\n      <td>301</td>\n    </tr>\n    <tr>\n      <th>GOLD</th>\n      <td>0.142626</td>\n      <td>3702</td>\n    </tr>\n    <tr>\n      <th>GREEN</th>\n      <td>0.118362</td>\n      <td>2222</td>\n    </tr>\n    <tr>\n      <th>GREY</th>\n      <td>0.116101</td>\n      <td>5478</td>\n    </tr>\n    <tr>\n      <th>MAROON</th>\n      <td>0.135135</td>\n      <td>1443</td>\n    </tr>\n    <tr>\n      <th>NOT AVAIL</th>\n      <td>0.253731</td>\n      <td>67</td>\n    </tr>\n    <tr>\n      <th>ORANGE</th>\n      <td>0.073016</td>\n      <td>315</td>\n    </tr>\n    <tr>\n      <th>OTHER</th>\n      <td>0.134078</td>\n      <td>179</td>\n    </tr>\n    <tr>\n      <th>PURPLE</th>\n      <td>0.119850</td>\n      <td>267</td>\n    </tr>\n    <tr>\n      <th>RED</th>\n      <td>0.131657</td>\n      <td>4375</td>\n    </tr>\n    <tr>\n      <th>SILVER</th>\n      <td>0.123957</td>\n      <td>10423</td>\n    </tr>\n    <tr>\n      <th>WHITE</th>\n      <td>0.122220</td>\n      <td>8452</td>\n    </tr>\n    <tr>\n      <th>YELLOW</th>\n      <td>0.131579</td>\n      <td>152</td>\n    </tr>\n  </tbody>\n</table>\n</div>"
     },
     "execution_count": 31,
     "metadata": {},
     "output_type": "execute_result"
    }
   ],
   "source": [
    "train.groupby(\"Color\")[\"IsBadBuy\"].agg([\"mean\",\"count\"]) # wygląda na to ze not avaiable color zwiększa szanse zlego zakupu, zas pomaranczowy kolor w dziwny sposob zmniejsza - ale jest tam dosyc malo danych"
   ]
  },
  {
   "cell_type": "code",
   "execution_count": 32,
   "metadata": {},
   "outputs": [],
   "source": [
    "# na razie damy tylko kolumne czy jest bardziej niebezpieczna czy nie\n",
    "\n",
    "color_train = train.groupby(\"Color\")[\"IsBadBuy\"].agg([\"mean\"]) \n",
    "\n",
    "max_mean_color = color_train[\"mean\"].max()\n",
    "color_dict = color_train[\"mean\"].to_dict()\n",
    "train[\"ColorDanger\"] = train[\"Color\"].map(color_dict).fillna(train.IsBadBuy.mean())/max_mean_color\n",
    "bad_colors = list(color_train.loc[color_train[\"mean\"] > train.IsBadBuy.mean()].index)\n",
    "\n",
    "train['DangerousColor'] = np.where(train[\"Color\"].isin(bad_colors), 1, 0)"
   ]
  },
  {
   "cell_type": "markdown",
   "metadata": {},
   "source": [
    "przygotowanie imputacji"
   ]
  },
  {
   "cell_type": "code",
   "execution_count": 33,
   "metadata": {},
   "outputs": [
    {
     "name": "stderr",
     "output_type": "stream",
     "text": [
      "/Library/Frameworks/Python.framework/Versions/3.9/lib/python3.9/site-packages/sklearn/impute/_iterative.py:785: ConvergenceWarning: [IterativeImputer] Early stopping criterion not reached.\n",
      "  warnings.warn(\n"
     ]
    },
    {
     "data": {
      "text/plain": "       MMRCurrentAuctionAveragePrice  MMRAcquisitionAuctionAveragePrice  \\\n51596                         6473.0                             5602.0   \n7358                          8975.0                             7038.0   \n66010                         6680.0                             6680.0   \n39674                         6416.0                             5820.0   \n12486                         5978.0                             4836.0   \n...                              ...                                ...   \n22569                         8529.0                             8168.0   \n41811                         3769.0                             3720.0   \n67791                         6346.0                             5560.0   \n40656                         5345.0                             5512.0   \n22861                         3426.0                             2294.0   \n\n       VehBCost  \n51596    6800.0  \n7358    10775.0  \n66010    6890.0  \n39674    6870.0  \n12486    7350.0  \n...         ...  \n22569    6470.0  \n41811    5935.0  \n67791    7130.0  \n40656    8370.0  \n22861    4910.0  \n\n[51088 rows x 3 columns]",
      "text/html": "<div>\n<style scoped>\n    .dataframe tbody tr th:only-of-type {\n        vertical-align: middle;\n    }\n\n    .dataframe tbody tr th {\n        vertical-align: top;\n    }\n\n    .dataframe thead th {\n        text-align: right;\n    }\n</style>\n<table border=\"1\" class=\"dataframe\">\n  <thead>\n    <tr style=\"text-align: right;\">\n      <th></th>\n      <th>MMRCurrentAuctionAveragePrice</th>\n      <th>MMRAcquisitionAuctionAveragePrice</th>\n      <th>VehBCost</th>\n    </tr>\n  </thead>\n  <tbody>\n    <tr>\n      <th>51596</th>\n      <td>6473.0</td>\n      <td>5602.0</td>\n      <td>6800.0</td>\n    </tr>\n    <tr>\n      <th>7358</th>\n      <td>8975.0</td>\n      <td>7038.0</td>\n      <td>10775.0</td>\n    </tr>\n    <tr>\n      <th>66010</th>\n      <td>6680.0</td>\n      <td>6680.0</td>\n      <td>6890.0</td>\n    </tr>\n    <tr>\n      <th>39674</th>\n      <td>6416.0</td>\n      <td>5820.0</td>\n      <td>6870.0</td>\n    </tr>\n    <tr>\n      <th>12486</th>\n      <td>5978.0</td>\n      <td>4836.0</td>\n      <td>7350.0</td>\n    </tr>\n    <tr>\n      <th>...</th>\n      <td>...</td>\n      <td>...</td>\n      <td>...</td>\n    </tr>\n    <tr>\n      <th>22569</th>\n      <td>8529.0</td>\n      <td>8168.0</td>\n      <td>6470.0</td>\n    </tr>\n    <tr>\n      <th>41811</th>\n      <td>3769.0</td>\n      <td>3720.0</td>\n      <td>5935.0</td>\n    </tr>\n    <tr>\n      <th>67791</th>\n      <td>6346.0</td>\n      <td>5560.0</td>\n      <td>7130.0</td>\n    </tr>\n    <tr>\n      <th>40656</th>\n      <td>5345.0</td>\n      <td>5512.0</td>\n      <td>8370.0</td>\n    </tr>\n    <tr>\n      <th>22861</th>\n      <td>3426.0</td>\n      <td>2294.0</td>\n      <td>4910.0</td>\n    </tr>\n  </tbody>\n</table>\n<p>51088 rows × 3 columns</p>\n</div>"
     },
     "execution_count": 33,
     "metadata": {},
     "output_type": "execute_result"
    }
   ],
   "source": [
    "# zaimputujemy sobie wartość 0 dla kolumn MMRCurrentAuctionAveragePrice oraz MMRAcquisitionAuctionAveragePrice\n",
    "# pozostałe wywalamy\n",
    "from sklearn.experimental import enable_iterative_imputer\n",
    "from sklearn.impute import IterativeImputer\n",
    "\n",
    "train[\"MMRCurrentAuctionAveragePrice\"] = np.where(train[\"MMRCurrentAuctionAveragePrice\"] == 0, np.nan, train[\"MMRCurrentAuctionAveragePrice\"])\n",
    "train[\"MMRAcquisitionAuctionAveragePrice\"] = np.where(train[\"MMRAcquisitionAuctionAveragePrice\"] == 0, np.nan, train[\"MMRAcquisitionAuctionAveragePrice\"])\n",
    "\n",
    "imp_mean = IterativeImputer(random_state=0)\n",
    "\n",
    "MMR_columns = [\"MMRCurrentAuctionAveragePrice\", \"MMRAcquisitionAuctionAveragePrice\", \"VehBCost\"]\n",
    "\n",
    "imp_mean.fit(train[MMR_columns])\n",
    "\n",
    "MMR_train_transformed = imp_mean.transform(train[MMR_columns])\n",
    "MMR_train_transformed = pd.DataFrame(MMR_train_transformed, columns = MMR_columns)\n",
    "MMR_train_transformed.index = train.index\n",
    "MMR_train_transformed"
   ]
  },
  {
   "cell_type": "code",
   "execution_count": 35,
   "outputs": [
    {
     "data": {
      "text/plain": "       RefId  IsBadBuy  PurchDate Auction  VehYear  VehicleAge       Make  \\\n0          1         0  12/7/2009   ADESA     2006           3      MAZDA   \n1          2         0  12/7/2009   ADESA     2004           5      DODGE   \n2          3         0  12/7/2009   ADESA     2005           4      DODGE   \n3          4         0  12/7/2009   ADESA     2004           5      DODGE   \n4          5         0  12/7/2009   ADESA     2005           4       FORD   \n...      ...       ...        ...     ...      ...         ...        ...   \n72978  73010         1  12/2/2009   ADESA     2001           8    MERCURY   \n72979  73011         0  12/2/2009   ADESA     2007           2  CHEVROLET   \n72980  73012         0  12/2/2009   ADESA     2005           4       JEEP   \n72981  73013         0  12/2/2009   ADESA     2006           3  CHEVROLET   \n72982  73014         0  12/2/2009   ADESA     2006           3      MAZDA   \n\n                      Model Trim           SubModel  ...  \\\n0                    MAZDA3    i         4D SEDAN I  ...   \n1       1500 RAM PICKUP 2WD   ST  QUAD CAB 4.7L SLT  ...   \n2                STRATUS V6  SXT   4D SEDAN SXT FFV  ...   \n3                      NEON  SXT           4D SEDAN  ...   \n4                     FOCUS  ZX3       2D COUPE ZX3  ...   \n...                     ...  ...                ...  ...   \n72978                 SABLE   GS        4D SEDAN GS  ...   \n72979             MALIBU 4C   LS        4D SEDAN LS  ...   \n72980  GRAND CHEROKEE 2WD V  Lar    4D WAGON LAREDO  ...   \n72981                IMPALA   LS        4D SEDAN LS  ...   \n72982                MAZDA6    s         4D SEDAN S  ...   \n\n      MMRCurrentRetailAveragePrice MMRCurrentRetailCleanPrice  PRIMEUNIT  \\\n0                          11597.0                    12409.0        NaN   \n1                          11374.0                    12791.0        NaN   \n2                           7146.0                     8702.0        NaN   \n3                           4375.0                     5518.0        NaN   \n4                           6739.0                     7911.0        NaN   \n...                            ...                        ...        ...   \n72978                       4836.0                     5937.0        NaN   \n72979                      10151.0                    11652.0        NaN   \n72980                      11831.0                    14402.0        NaN   \n72981                      10099.0                    11228.0        NaN   \n72982                      11954.0                    13246.0        NaN   \n\n      AUCGUART  BYRNO VNZIP1 VNST VehBCost  IsOnlineSale  WarrantyCost  \n0          NaN  21973  33619   FL   7100.0             0          1113  \n1          NaN  19638  33619   FL   7600.0             0          1053  \n2          NaN  19638  33619   FL   4900.0             0          1389  \n3          NaN  19638  33619   FL   4100.0             0           630  \n4          NaN  19638  33619   FL   4000.0             0          1020  \n...        ...    ...    ...  ...      ...           ...           ...  \n72978      NaN  18111  30212   GA   4200.0             0           993  \n72979      NaN  18881  30212   GA   6200.0             0          1038  \n72980      NaN  18111  30212   GA   8200.0             0          1893  \n72981      NaN  18881  30212   GA   7000.0             0          1974  \n72982      NaN  18111  30212   GA   8000.0             0          1313  \n\n[72983 rows x 34 columns]",
      "text/html": "<div>\n<style scoped>\n    .dataframe tbody tr th:only-of-type {\n        vertical-align: middle;\n    }\n\n    .dataframe tbody tr th {\n        vertical-align: top;\n    }\n\n    .dataframe thead th {\n        text-align: right;\n    }\n</style>\n<table border=\"1\" class=\"dataframe\">\n  <thead>\n    <tr style=\"text-align: right;\">\n      <th></th>\n      <th>RefId</th>\n      <th>IsBadBuy</th>\n      <th>PurchDate</th>\n      <th>Auction</th>\n      <th>VehYear</th>\n      <th>VehicleAge</th>\n      <th>Make</th>\n      <th>Model</th>\n      <th>Trim</th>\n      <th>SubModel</th>\n      <th>...</th>\n      <th>MMRCurrentRetailAveragePrice</th>\n      <th>MMRCurrentRetailCleanPrice</th>\n      <th>PRIMEUNIT</th>\n      <th>AUCGUART</th>\n      <th>BYRNO</th>\n      <th>VNZIP1</th>\n      <th>VNST</th>\n      <th>VehBCost</th>\n      <th>IsOnlineSale</th>\n      <th>WarrantyCost</th>\n    </tr>\n  </thead>\n  <tbody>\n    <tr>\n      <th>0</th>\n      <td>1</td>\n      <td>0</td>\n      <td>12/7/2009</td>\n      <td>ADESA</td>\n      <td>2006</td>\n      <td>3</td>\n      <td>MAZDA</td>\n      <td>MAZDA3</td>\n      <td>i</td>\n      <td>4D SEDAN I</td>\n      <td>...</td>\n      <td>11597.0</td>\n      <td>12409.0</td>\n      <td>NaN</td>\n      <td>NaN</td>\n      <td>21973</td>\n      <td>33619</td>\n      <td>FL</td>\n      <td>7100.0</td>\n      <td>0</td>\n      <td>1113</td>\n    </tr>\n    <tr>\n      <th>1</th>\n      <td>2</td>\n      <td>0</td>\n      <td>12/7/2009</td>\n      <td>ADESA</td>\n      <td>2004</td>\n      <td>5</td>\n      <td>DODGE</td>\n      <td>1500 RAM PICKUP 2WD</td>\n      <td>ST</td>\n      <td>QUAD CAB 4.7L SLT</td>\n      <td>...</td>\n      <td>11374.0</td>\n      <td>12791.0</td>\n      <td>NaN</td>\n      <td>NaN</td>\n      <td>19638</td>\n      <td>33619</td>\n      <td>FL</td>\n      <td>7600.0</td>\n      <td>0</td>\n      <td>1053</td>\n    </tr>\n    <tr>\n      <th>2</th>\n      <td>3</td>\n      <td>0</td>\n      <td>12/7/2009</td>\n      <td>ADESA</td>\n      <td>2005</td>\n      <td>4</td>\n      <td>DODGE</td>\n      <td>STRATUS V6</td>\n      <td>SXT</td>\n      <td>4D SEDAN SXT FFV</td>\n      <td>...</td>\n      <td>7146.0</td>\n      <td>8702.0</td>\n      <td>NaN</td>\n      <td>NaN</td>\n      <td>19638</td>\n      <td>33619</td>\n      <td>FL</td>\n      <td>4900.0</td>\n      <td>0</td>\n      <td>1389</td>\n    </tr>\n    <tr>\n      <th>3</th>\n      <td>4</td>\n      <td>0</td>\n      <td>12/7/2009</td>\n      <td>ADESA</td>\n      <td>2004</td>\n      <td>5</td>\n      <td>DODGE</td>\n      <td>NEON</td>\n      <td>SXT</td>\n      <td>4D SEDAN</td>\n      <td>...</td>\n      <td>4375.0</td>\n      <td>5518.0</td>\n      <td>NaN</td>\n      <td>NaN</td>\n      <td>19638</td>\n      <td>33619</td>\n      <td>FL</td>\n      <td>4100.0</td>\n      <td>0</td>\n      <td>630</td>\n    </tr>\n    <tr>\n      <th>4</th>\n      <td>5</td>\n      <td>0</td>\n      <td>12/7/2009</td>\n      <td>ADESA</td>\n      <td>2005</td>\n      <td>4</td>\n      <td>FORD</td>\n      <td>FOCUS</td>\n      <td>ZX3</td>\n      <td>2D COUPE ZX3</td>\n      <td>...</td>\n      <td>6739.0</td>\n      <td>7911.0</td>\n      <td>NaN</td>\n      <td>NaN</td>\n      <td>19638</td>\n      <td>33619</td>\n      <td>FL</td>\n      <td>4000.0</td>\n      <td>0</td>\n      <td>1020</td>\n    </tr>\n    <tr>\n      <th>...</th>\n      <td>...</td>\n      <td>...</td>\n      <td>...</td>\n      <td>...</td>\n      <td>...</td>\n      <td>...</td>\n      <td>...</td>\n      <td>...</td>\n      <td>...</td>\n      <td>...</td>\n      <td>...</td>\n      <td>...</td>\n      <td>...</td>\n      <td>...</td>\n      <td>...</td>\n      <td>...</td>\n      <td>...</td>\n      <td>...</td>\n      <td>...</td>\n      <td>...</td>\n      <td>...</td>\n    </tr>\n    <tr>\n      <th>72978</th>\n      <td>73010</td>\n      <td>1</td>\n      <td>12/2/2009</td>\n      <td>ADESA</td>\n      <td>2001</td>\n      <td>8</td>\n      <td>MERCURY</td>\n      <td>SABLE</td>\n      <td>GS</td>\n      <td>4D SEDAN GS</td>\n      <td>...</td>\n      <td>4836.0</td>\n      <td>5937.0</td>\n      <td>NaN</td>\n      <td>NaN</td>\n      <td>18111</td>\n      <td>30212</td>\n      <td>GA</td>\n      <td>4200.0</td>\n      <td>0</td>\n      <td>993</td>\n    </tr>\n    <tr>\n      <th>72979</th>\n      <td>73011</td>\n      <td>0</td>\n      <td>12/2/2009</td>\n      <td>ADESA</td>\n      <td>2007</td>\n      <td>2</td>\n      <td>CHEVROLET</td>\n      <td>MALIBU 4C</td>\n      <td>LS</td>\n      <td>4D SEDAN LS</td>\n      <td>...</td>\n      <td>10151.0</td>\n      <td>11652.0</td>\n      <td>NaN</td>\n      <td>NaN</td>\n      <td>18881</td>\n      <td>30212</td>\n      <td>GA</td>\n      <td>6200.0</td>\n      <td>0</td>\n      <td>1038</td>\n    </tr>\n    <tr>\n      <th>72980</th>\n      <td>73012</td>\n      <td>0</td>\n      <td>12/2/2009</td>\n      <td>ADESA</td>\n      <td>2005</td>\n      <td>4</td>\n      <td>JEEP</td>\n      <td>GRAND CHEROKEE 2WD V</td>\n      <td>Lar</td>\n      <td>4D WAGON LAREDO</td>\n      <td>...</td>\n      <td>11831.0</td>\n      <td>14402.0</td>\n      <td>NaN</td>\n      <td>NaN</td>\n      <td>18111</td>\n      <td>30212</td>\n      <td>GA</td>\n      <td>8200.0</td>\n      <td>0</td>\n      <td>1893</td>\n    </tr>\n    <tr>\n      <th>72981</th>\n      <td>73013</td>\n      <td>0</td>\n      <td>12/2/2009</td>\n      <td>ADESA</td>\n      <td>2006</td>\n      <td>3</td>\n      <td>CHEVROLET</td>\n      <td>IMPALA</td>\n      <td>LS</td>\n      <td>4D SEDAN LS</td>\n      <td>...</td>\n      <td>10099.0</td>\n      <td>11228.0</td>\n      <td>NaN</td>\n      <td>NaN</td>\n      <td>18881</td>\n      <td>30212</td>\n      <td>GA</td>\n      <td>7000.0</td>\n      <td>0</td>\n      <td>1974</td>\n    </tr>\n    <tr>\n      <th>72982</th>\n      <td>73014</td>\n      <td>0</td>\n      <td>12/2/2009</td>\n      <td>ADESA</td>\n      <td>2006</td>\n      <td>3</td>\n      <td>MAZDA</td>\n      <td>MAZDA6</td>\n      <td>s</td>\n      <td>4D SEDAN S</td>\n      <td>...</td>\n      <td>11954.0</td>\n      <td>13246.0</td>\n      <td>NaN</td>\n      <td>NaN</td>\n      <td>18111</td>\n      <td>30212</td>\n      <td>GA</td>\n      <td>8000.0</td>\n      <td>0</td>\n      <td>1313</td>\n    </tr>\n  </tbody>\n</table>\n<p>72983 rows × 34 columns</p>\n</div>"
     },
     "execution_count": 35,
     "metadata": {},
     "output_type": "execute_result"
    }
   ],
   "source": [
    "train_df"
   ],
   "metadata": {
    "collapsed": false
   }
  },
  {
   "cell_type": "markdown",
   "metadata": {},
   "source": [
    "# Preparing functions for pipeline"
   ]
  },
  {
   "cell_type": "code",
   "execution_count": 41,
   "outputs": [],
   "source": [
    "train_df = pd.read_csv('training.csv') # split for test and train set is ready\n",
    "test = pd.read_csv('test.csv')\n",
    "\n",
    "y = train_df[\"IsBadBuy\"]\n",
    "X = train_df.drop('IsBadBuy', axis=1)"
   ],
   "metadata": {
    "collapsed": false
   }
  },
  {
   "cell_type": "code",
   "execution_count": 43,
   "metadata": {},
   "outputs": [],
   "source": [
    "def preprocess_df(X):\n",
    "    X['TopThreeAmericanName'] = X['TopThreeAmericanName'].fillna('OTHER')\n",
    "    X['Size'] = X['Size'].fillna('MEDIUM')\n",
    "    X['Nationality'] = X['Nationality'].fillna('OTHER')\n",
    "    X['WheelTypeID'] = X['WheelTypeID'].fillna(1)\n",
    "    X = X.drop(labels = ['VNZIP1','VNST'],axis=1)\n",
    "        \n",
    "    return X"
   ]
  },
  {
   "cell_type": "code",
   "execution_count": 53,
   "metadata": {},
   "outputs": [
    {
     "data": {
      "text/plain": "<Figure size 432x288 with 1 Axes>",
      "image/png": "[encoded data removed]"
     },
     "metadata": {},
     "output_type": "display_data"
    }
   ],
   "source": [
    "train_bad_buy_mean = train.IsBadBuy.mean()\n",
    "\n",
    "color_val = val.groupby(\"Color\")[\"IsBadBuy\"].agg([\"mean\"])\n",
    "color = color_val.join(color_train, lsuffix=\"_val\", rsuffix=\"_train\")\n",
    "color[\"mean\"] = train.IsBadBuy.mean()\n",
    "plt.plot(color.index, color[\"mean_train\"])\n",
    "plt.plot(color.index, color[\"mean_val\"])\n",
    "plt.plot(color.index, color[\"mean\"])\n",
    "\n",
    "plt.show()"
   ]
  },
  {
   "cell_type": "code",
   "execution_count": 54,
   "metadata": {},
   "outputs": [],
   "source": [
    "def encode_categorical(df):\n",
    "    df[\"ColorDanger\"] = df[\"Color\"].map(color_dict).fillna(train_bad_buy_mean)/max_mean_color # no takie w miare to jest średnie\n",
    "    #df['DangerousColor'] = np.where(df[\"Color\"].isin(bad_colors), 1, 0)\n",
    "\n",
    "    df[\"IsPrimeunitNA\"] = np.where(df[\"PRIMEUNIT\"].isna(), 1, 0) # to moze byc niepotrzebne\n",
    "    primeunit_dict = {'NO':0, 'YES':1, float(\"nan\"):0} # nie jestem pewien czy nie lepiej bedzie zamienic na odwrot\n",
    "    df['PRIMEUNIT'] = df['PRIMEUNIT'].str.upper().map(primeunit_dict)\n",
    "    aucguart_dict = {'GREEN':2, 'YELLOW':1, \"RED\":0, float(\"nan\"):0}\n",
    "    df['AUCGUART'] = df['AUCGUART'].str.upper().map(aucguart_dict)\n",
    "\n",
    "    transmission_dict = {'AUTO':0, 'MANUAL':1}\n",
    "    df['Transmission'] = df['Transmission'].str.upper().map(transmission_dict)\n",
    "    df[\"Transmission\"] = df[\"Transmission\"].fillna(df[\"Transmission\"].median())\n",
    "\n",
    "    df = df.drop(columns=[\"BYRNO\", \"Color\"])\n",
    "\n",
    "    print(\"Categorical columns transformed.\")\n",
    "\n",
    "    return df\n",
    "\n",
    "def impute_MMR(df):\n",
    "\n",
    "    # zamieniamy 0 na nan    \n",
    "    df[\"MMRCurrentAuctionAveragePrice\"] = np.where(df[\"MMRCurrentAuctionAveragePrice\"] == 0, np.nan, df[\"MMRCurrentAuctionAveragePrice\"])\n",
    "    df[\"MMRAcquisitionAuctionAveragePrice\"] = np.where(df[\"MMRAcquisitionAuctionAveragePrice\"] == 0, np.nan, df[\"MMRAcquisitionAuctionAveragePrice\"])\n",
    "\n",
    "    MMR_df = imp_mean.transform(df[MMR_columns])\n",
    "    MMR_df = pd.DataFrame(MMR_df, columns = MMR_columns)\n",
    "    MMR_df.index = df.index\n",
    "    df[\"MMRCurrentAuctionAveragePrice\"] = MMR_df[\"MMRCurrentAuctionAveragePrice\"]\n",
    "    df[\"MMRAcquisitionAuctionAveragePrice\"] = MMR_df[\"MMRAcquisitionAuctionAveragePrice\"]\n",
    "\n",
    "    df = df.drop(columns = [\"MMRAcquisitionAuctionCleanPrice\", \"MMRAcquisitionRetailAveragePrice\", \"MMRAcquisitonRetailCleanPrice\", \n",
    "                            \"MMRCurrentAuctionCleanPrice\", \"MMRCurrentRetailAveragePrice\", \"MMRCurrentRetailCleanPrice\"]) \n",
    "    \n",
    "    # tutaj moze tez MMRAcquisitionAuctionAveragePrice\n",
    "\n",
    "    print(\"MMR Columns imputed.\")\n",
    "    return df"
   ]
  },
  {
   "cell_type": "code",
   "execution_count": 55,
   "metadata": {},
   "outputs": [],
   "source": [
    "def preprocess_df(X):\n",
    "    X['TopThreeAmericanName'] = X['TopThreeAmericanName'].fillna('OTHER')\n",
    "    X['Size'] = X['Size'].fillna('MEDIUM')\n",
    "    X['Nationality'] = X['Nationality'].fillna('OTHER')\n",
    "    #X = X[X['WheelTypeID'].notna()] TAK NIE WOLNO - to nam psuje preprocessing\n",
    "    X['WheelTypeID'] = X['TopThreeAmericanName'].fillna(0)\n",
    "\n",
    "    X = X.drop(labels = ['VNZIP1','VNST'],axis=1)\n",
    "    \n",
    "    return X"
   ]
  },
  {
   "cell_type": "code",
   "execution_count": 56,
   "outputs": [],
   "source": [
    "def assign_chassis(df):\n",
    "\n",
    "    types = [\"CAB\", \"CONVERTIBLE\", \"CUV\", \"HATCHBACK\", \"PASSENGER\", \"SEDAN\", \"SPORT\", \"SUV\", \"MINIVAN\", \"UTILITY\", \"WAGON\"]\n",
    "\n",
    "    for word in df['SubModel_splited']:\n",
    "        if word in types:\n",
    "            return word\n",
    "    return \"OTHER\"\n",
    "\n",
    "def assign_season(df):\n",
    "\n",
    "    if 3 <= df['Month'] <= 5: val = 'Spring'\n",
    "    elif 6 <= df['Month'] <= 8: val = 'Summer'\n",
    "    elif 9 <= df['Month'] <= 11: val = 'Autumn'\n",
    "    else: val = 'Winter'\n",
    "\n",
    "    return val\n",
    "\n",
    "def preprocess(df):\n",
    "\n",
    "    df['PurchDate'] = pd.to_datetime(df['PurchDate'])\n",
    "    df['Month'] = df['PurchDate'].dt.month\n",
    "    df['Year'] = df['PurchDate'].dt.year.apply(lambda x: x == 2010).astype(int)\n",
    "    df['Season'] = df.apply(assign_season, axis = 1)\n",
    "    df['Doors'] = df['SubModel'].str.extract(r'([1-9]D)').replace(np.nan, \"UNKNOWN\")\n",
    "    df['SubModel_splited'] = df['SubModel'].apply(lambda x: str(x).split())\n",
    "    df['Chassis'] = df.apply(assign_chassis, axis=1)\n",
    "\n",
    "    return df"
   ],
   "metadata": {
    "collapsed": false
   }
  },
  {
   "cell_type": "markdown",
   "metadata": {},
   "source": [
    "# Making pipeline"
   ]
  },
  {
   "cell_type": "code",
   "execution_count": 57,
   "metadata": {},
   "outputs": [],
   "source": [
    "X_train, X_val, y_train, y_val = train_test_split(\n",
    "    X, y, stratify=y, test_size=0.3, random_state=42\n",
    ")\n",
    "\n",
    "\n",
    "train = X_train.join(y_train)\n",
    "val = X_val.join(y_val)"
   ]
  },
  {
   "cell_type": "code",
   "execution_count": 58,
   "metadata": {},
   "outputs": [
    {
     "name": "stdout",
     "output_type": "stream",
     "text": [
      "Shape of X_train: (51088, 33)\n",
      "Shape of X_val: (21895, 33)\n"
     ]
    }
   ],
   "source": [
    "print(f'Shape of X_train: {X_train.shape}')\n",
    "print(f'Shape of X_val: {X_val.shape}')"
   ]
  },
  {
   "cell_type": "code",
   "execution_count": 59,
   "metadata": {},
   "outputs": [
    {
     "name": "stdout",
     "output_type": "stream",
     "text": [
      "Shape of y_train: (51088,)\n",
      "Shape of y_val: (21895,)\n"
     ]
    }
   ],
   "source": [
    "print(f'Shape of y_train: {y_train.shape}')\n",
    "print(f'Shape of y_val: {y_val.shape}')"
   ]
  },
  {
   "cell_type": "code",
   "execution_count": 60,
   "metadata": {},
   "outputs": [],
   "source": [
    "preprocessor = ColumnTransformer(\n",
    "    transformers=[\n",
    "        ('num', StandardScaler(), ['VehOdo','VehBCost', 'WarrantyCost']),\n",
    "        ('cat', OneHotEncoder(sparse_output=False),  ['TopThreeAmericanName', 'WheelTypeID','Nationality','Size',\n",
    "                                                      'Make', 'Chassis', 'Doors', 'Auction', 'Season', 'Month']),\n",
    "        ('passthrough','passthrough', ['IsOnlineSale', 'VehicleAge', 'Year'])\n",
    "    ])"
   ]
  },
  {
   "cell_type": "code",
   "execution_count": 61,
   "metadata": {},
   "outputs": [],
   "source": [
    "categorical_transformer = FunctionTransformer(encode_categorical)\n",
    "MMR_imputer = FunctionTransformer(impute_MMR)\n",
    "mateusz_transformer = FunctionTransformer(preprocess_df)\n",
    "maciej_transformer = FunctionTransformer(preprocess)\n",
    "\n",
    "# all the afore declared processings applied\n",
    "prepipe = Pipeline([\n",
    "    (\"transform_categorical\", categorical_transformer),\n",
    "    (\"MMR_imputing\", MMR_imputer), \n",
    "    (\"Mateusz\", mateusz_transformer),\n",
    "    (\"Maciej\", maciej_transformer)\n",
    "])\n",
    "\n",
    "pipeline = Pipeline(steps=[('preprocessor', preprocessor)])"
   ]
  },
  {
   "cell_type": "code",
   "execution_count": 62,
   "metadata": {},
   "outputs": [
    {
     "name": "stdout",
     "output_type": "stream",
     "text": [
      "Categorical columns transformed.\n",
      "MMR Columns imputed.\n"
     ]
    }
   ],
   "source": [
    "X_train = prepipe.fit_transform(X_train)\n",
    "X_train = pipeline.fit_transform(X_train)"
   ]
  },
  {
   "cell_type": "code",
   "execution_count": 63,
   "metadata": {},
   "outputs": [
    {
     "data": {
      "text/plain": "array([[ 0.90092155,  0.03974257,  1.02045083, ...,  0.        ,\n         5.        ,  0.        ],\n       [ 0.61199229,  2.29599753,  0.22244171, ...,  0.        ,\n         6.        ,  0.        ],\n       [ 0.0953035 ,  0.09082759, -0.79169488, ...,  0.        ,\n         3.        ,  0.        ],\n       ...,\n       [-1.77211927,  0.22705431, -1.32536349, ...,  0.        ,\n         2.        ,  1.        ],\n       [-0.36213357,  0.93089233, -0.0934369 , ...,  0.        ,\n         7.        ,  0.        ],\n       [-1.03397285, -1.0330428 ,  1.14181472, ...,  0.        ,\n         8.        ,  1.        ]])"
     },
     "execution_count": 63,
     "metadata": {},
     "output_type": "execute_result"
    }
   ],
   "source": [
    "X_train"
   ]
  },
  {
   "cell_type": "code",
   "execution_count": null,
   "metadata": {},
   "outputs": [],
   "source": [
    "# validation dataset\n",
    "\n",
    "X_val = prepipe.transform(X_val)\n",
    "X_val = pipeline.transform(X_val)\n"
   ]
  },
  {
   "cell_type": "markdown",
   "metadata": {},
   "source": [
    "# model selection"
   ]
  },
  {
   "cell_type": "markdown",
   "metadata": {},
   "source": [
    "to nie dziala ale idk czemu"
   ]
  },
  {
   "cell_type": "code",
   "execution_count": null,
   "metadata": {},
   "outputs": [],
   "source": [
    "from sklearn.model_selection import train_test_split\n",
    "from sklearn.metrics import classification_report\n",
    "from sklearn.preprocessing import StandardScaler\n",
    "from sklearn.metrics import confusion_matrix"
   ]
  },
  {
   "cell_type": "code",
   "execution_count": null,
   "metadata": {},
   "outputs": [],
   "source": [
    "from lazypredict.Supervised import LazyClassifier\n",
    "\n",
    "clf = LazyClassifier(verbose=0,ignore_warnings=True, custom_metric=None)\n",
    "models,predictions = clf.fit(X_train, X_val, y_train, y_val)\n",
    "models"
   ]
  },
  {
   "cell_type": "code",
   "execution_count": null,
   "metadata": {},
   "outputs": [],
   "source": [
    "predictions"
   ]
  },
  {
   "cell_type": "markdown",
   "metadata": {},
   "source": [
    "random forest"
   ]
  },
  {
   "cell_type": "code",
   "execution_count": null,
   "metadata": {},
   "outputs": [],
   "source": [
    "from sklearn.ensemble import RandomForestClassifier"
   ]
  },
  {
   "cell_type": "code",
   "execution_count": null,
   "metadata": {},
   "outputs": [],
   "source": [
    "rf_model = RandomForestClassifier(n_estimators=100)\n",
    "rf_model.fit(X_train, y_train)"
   ]
  },
  {
   "cell_type": "code",
   "execution_count": null,
   "metadata": {},
   "outputs": [],
   "source": [
    "y_pred = rf_model.predict(X_val)"
   ]
  },
  {
   "cell_type": "code",
   "execution_count": null,
   "metadata": {},
   "outputs": [],
   "source": [
    "print(classification_report(y_pred, y_val))"
   ]
  },
  {
   "cell_type": "code",
   "execution_count": null,
   "metadata": {},
   "outputs": [],
   "source": [
    "confusion_matrix(y_val, y_pred)"
   ]
  },
  {
   "cell_type": "markdown",
   "metadata": {},
   "source": [
    "# final predictions"
   ]
  },
  {
   "cell_type": "code",
   "execution_count": null,
   "metadata": {},
   "outputs": [],
   "source": [
    "test = pd.read_csv('test.csv')"
   ]
  },
  {
   "cell_type": "code",
   "execution_count": null,
   "metadata": {},
   "outputs": [],
   "source": [
    "test_columns =  [i - 1 for i in list(set([10,11]+(list(range(18, 29))) + [12,14,15,16,17,29,30,31,32,33]))] \n",
    "\n",
    "X_test = test.iloc[:, test_columns].copy()\n",
    "X_test"
   ]
  },
  {
   "cell_type": "code",
   "execution_count": null,
   "metadata": {},
   "outputs": [],
   "source": [
    "X_test = prepipe.transform(X_test)\n",
    "X_test = pipeline.transform(X_test)"
   ]
  },
  {
   "cell_type": "code",
   "execution_count": null,
   "metadata": {},
   "outputs": [],
   "source": [
    "y = rf_model.predict(X_test)\n",
    "pd.DataFrame(y, columns=[\"IsBadBuy\"]).join(test[\"RefId\"]).to_csv(\"out.csv\", index=False)"
   ]
  },
  {
   "cell_type": "code",
   "execution_count": null,
   "metadata": {},
   "outputs": [],
   "source": []
  }
 ],
 "metadata": {
  "kernelspec": {
   "display_name": "Python 3 (ipykernel)",
   "language": "python",
   "name": "python3"
  },
  "language_info": {
   "codemirror_mode": {
    "name": "ipython",
    "version": 3
   },
   "file_extension": ".py",
   "mimetype": "text/x-python",
   "name": "python",
   "nbconvert_exporter": "python",
   "pygments_lexer": "ipython3",
   "version": "3.9.4"
  }
 },
 "nbformat": 4,
 "nbformat_minor": 2
}
