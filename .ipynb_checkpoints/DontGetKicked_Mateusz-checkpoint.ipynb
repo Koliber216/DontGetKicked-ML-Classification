{
 "cells": [
  {
   "cell_type": "code",
   "execution_count": 1,
   "id": "84d18911",
   "metadata": {},
   "outputs": [
    {
     "name": "stdout",
     "output_type": "stream",
     "text": [
      "bonjourno\n"
     ]
    }
   ],
   "source": [
    "print(\"bonjourno\")"
   ]
  },
  {
   "cell_type": "code",
   "execution_count": 66,
   "id": "f9925450",
   "metadata": {},
   "outputs": [],
   "source": [
    "#importowanie bibliotek\n",
    "import numpy as np\n",
    "import pandas as pd\n",
    "import matplotlib.pyplot as plt\n",
    "import seaborn as sns\n",
    "from sklearn.model_selection import train_test_split\n",
    "from sklearn import preprocessing\n",
    "from sklearn.metrics import confusion_matrix\n",
    "from sklearn.feature_extraction.text import TfidfVectorizer\n",
    "from sklearn.preprocessing import StandardScaler, FunctionTransformer, LabelEncoder\n",
    "from nltk.stem.porter import PorterStemmer\n",
    "import nltk\n",
    "from nltk.corpus import stopwords\n",
    "import re\n",
    "import string\n",
    "from sklearn.tree import DecisionTreeClassifier\n",
    "from sklearn.base import BaseEstimator, TransformerMixin\n",
    "from sklearn.pipeline import Pipeline\n",
    "from sklearn.compose import ColumnTransformer\n",
    "from sklearn.preprocessing import LabelEncoder\n",
    "from sklearn.ensemble import RandomForestClassifier\n",
    "\n",
    "import warnings\n",
    "warnings.filterwarnings('ignore')"
   ]
  },
  {
   "cell_type": "code",
   "execution_count": 63,
   "id": "8c34bc24",
   "metadata": {},
   "outputs": [],
   "source": [
    "# COLUMNS\n",
    "# Field Name\t\t\t\tDefinition\n",
    "# RefID\t\t\t\t        Unique (sequential) number assigned to vehicles\n",
    "# IsBadBuy\t\t\t\tIdentifies if the kicked vehicle was an avoidable purchase \n",
    "# PurchDate\t\t\t\tThe Date the vehicle was Purchased at Auction\n",
    "# Auction\t\t\t\t\tAuction provider at which the  vehicle was purchased\n",
    "# VehYear\t\t\t\t\tThe manufacturer's year of the vehicle\n",
    "# VehicleAge\t\t\t\tThe Years elapsed since the manufacturer's year\n",
    "# Make\t\t\t\t\tVehicle Manufacturer \n",
    "# Model\t\t\t\t\tVehicle Model\n",
    "# Trim\t\t\t\t\tVehicle Trim Level\n",
    "# SubModel\t\t\t\tVehicle Submodel\n",
    "# Color\t\t\t\t\tVehicle Color\n",
    "# Transmission\t\t\t\tVehicles transmission type (Automatic, Manual)\n",
    "# WheelTypeID\t\t\t\tThe type id of the vehicle wheel\n",
    "# WheelType\t\t\t\tThe vehicle wheel type description (Alloy, Covers)\n",
    "# VehOdo\t\t\t\t\tThe vehicles odometer reading\n",
    "# Nationality\t\t\t\tThe Manufacturer's country\n",
    "# Size\t\t\t\t\tThe size category of the vehicle (Compact, SUV, etc.)\n",
    "# TopThreeAmericanName\t\t\tIdentifies if the manufacturer is one of the top three American manufacturers\n",
    "# MMRAcquisitionAuctionAveragePrice\tAcquisition price for this vehicle in average condition at time of purchase\t\n",
    "# MMRAcquisitionAuctionCleanPrice\t\tAcquisition price for this vehicle in the above Average condition at time of purchase\n",
    "# MMRAcquisitionRetailAveragePrice\tAcquisition price for this vehicle in the retail market in average condition at time of purchase\n",
    "# MMRAcquisitonRetailCleanPrice\t\tAcquisition price for this vehicle in the retail market in above average condition at time of purchase\n",
    "# MMRCurrentAuctionAveragePrice\t\tAcquisition price for this vehicle in average condition as of current day\t\n",
    "# MMRCurrentAuctionCleanPrice\t\tAcquisition price for this vehicle in the above condition as of current day\n",
    "# MMRCurrentRetailAveragePrice\t\tAcquisition price for this vehicle in the retail market in average condition as of current day\n",
    "# MMRCurrentRetailCleanPrice\t\tAcquisition price for this vehicle in the retail market in above average condition as of current day\n",
    "# PRIMEUNIT\t\t\t\tIdentifies if the vehicle would have a higher demand than a standard purchase\n",
    "# AcquisitionType\t\t\t\tIdentifies how the vehicle was aquired (Auction buy, trade in, etc)\n",
    "# AUCGUART\t\t\t\tThe level guarntee provided by auction for the vehicle (Green light - Guaranteed/arbitratable, Yellow Light - caution/issue, red light - sold as is)\n",
    "# KickDate\t\t\t\tDate the vehicle was kicked back to the auction\n",
    "# BYRNO\t\t\t\t\tUnique number assigned to the buyer that purchased the vehicle\n",
    "# VNZIP                                   Zipcode where the car was purchased\n",
    "# VNST                                    State where the the car was purchased\n",
    "# VehBCost\t\t\t\tAcquisition cost paid for the vehicle at time of purchase\n",
    "# IsOnlineSale\t\t\t\tIdentifies if the vehicle was originally purchased online\n",
    "# WarrantyCost                            Warranty price (term=36month  and millage=36K) \n",
    "\n"
   ]
  },
  {
   "cell_type": "code",
   "execution_count": null,
   "id": "201810ca",
   "metadata": {},
   "outputs": [],
   "source": []
  },
  {
   "cell_type": "code",
   "execution_count": null,
   "id": "4d7de446",
   "metadata": {},
   "outputs": [],
   "source": []
  },
  {
   "cell_type": "code",
   "execution_count": null,
   "id": "be50d432",
   "metadata": {},
   "outputs": [],
   "source": []
  },
  {
   "cell_type": "markdown",
   "id": "dbb9362d",
   "metadata": {},
   "source": [
    "# Data preprocessing"
   ]
  },
  {
   "cell_type": "markdown",
   "id": "90371613",
   "metadata": {},
   "source": [
    "# Moje kolumny: 12-17, 29-33"
   ]
  },
  {
   "cell_type": "code",
   "execution_count": 2,
   "id": "113488cd",
   "metadata": {},
   "outputs": [],
   "source": [
    "df = pd.read_csv('training.csv')"
   ]
  },
  {
   "cell_type": "code",
   "execution_count": 21,
   "id": "eb898ea4",
   "metadata": {
    "scrolled": true
   },
   "outputs": [
    {
     "data": {
      "text/html": [
       "<div>\n",
       "<style scoped>\n",
       "    .dataframe tbody tr th:only-of-type {\n",
       "        vertical-align: middle;\n",
       "    }\n",
       "\n",
       "    .dataframe tbody tr th {\n",
       "        vertical-align: top;\n",
       "    }\n",
       "\n",
       "    .dataframe thead th {\n",
       "        text-align: right;\n",
       "    }\n",
       "</style>\n",
       "<table border=\"1\" class=\"dataframe\">\n",
       "  <thead>\n",
       "    <tr style=\"text-align: right;\">\n",
       "      <th></th>\n",
       "      <th>WheelTypeID</th>\n",
       "      <th>WheelType</th>\n",
       "      <th>VehOdo</th>\n",
       "      <th>Nationality</th>\n",
       "      <th>Size</th>\n",
       "      <th>TopThreeAmericanName</th>\n",
       "      <th>VNZIP1</th>\n",
       "      <th>VNST</th>\n",
       "      <th>VehBCost</th>\n",
       "      <th>IsOnlineSale</th>\n",
       "      <th>WarrantyCost</th>\n",
       "    </tr>\n",
       "  </thead>\n",
       "  <tbody>\n",
       "    <tr>\n",
       "      <th>0</th>\n",
       "      <td>1.0</td>\n",
       "      <td>Alloy</td>\n",
       "      <td>89046</td>\n",
       "      <td>OTHER ASIAN</td>\n",
       "      <td>MEDIUM</td>\n",
       "      <td>OTHER</td>\n",
       "      <td>33619</td>\n",
       "      <td>FL</td>\n",
       "      <td>7100.0</td>\n",
       "      <td>0</td>\n",
       "      <td>1113</td>\n",
       "    </tr>\n",
       "    <tr>\n",
       "      <th>1</th>\n",
       "      <td>1.0</td>\n",
       "      <td>Alloy</td>\n",
       "      <td>93593</td>\n",
       "      <td>AMERICAN</td>\n",
       "      <td>LARGE TRUCK</td>\n",
       "      <td>CHRYSLER</td>\n",
       "      <td>33619</td>\n",
       "      <td>FL</td>\n",
       "      <td>7600.0</td>\n",
       "      <td>0</td>\n",
       "      <td>1053</td>\n",
       "    </tr>\n",
       "    <tr>\n",
       "      <th>2</th>\n",
       "      <td>2.0</td>\n",
       "      <td>Covers</td>\n",
       "      <td>73807</td>\n",
       "      <td>AMERICAN</td>\n",
       "      <td>MEDIUM</td>\n",
       "      <td>CHRYSLER</td>\n",
       "      <td>33619</td>\n",
       "      <td>FL</td>\n",
       "      <td>4900.0</td>\n",
       "      <td>0</td>\n",
       "      <td>1389</td>\n",
       "    </tr>\n",
       "    <tr>\n",
       "      <th>3</th>\n",
       "      <td>1.0</td>\n",
       "      <td>Alloy</td>\n",
       "      <td>65617</td>\n",
       "      <td>AMERICAN</td>\n",
       "      <td>COMPACT</td>\n",
       "      <td>CHRYSLER</td>\n",
       "      <td>33619</td>\n",
       "      <td>FL</td>\n",
       "      <td>4100.0</td>\n",
       "      <td>0</td>\n",
       "      <td>630</td>\n",
       "    </tr>\n",
       "    <tr>\n",
       "      <th>4</th>\n",
       "      <td>2.0</td>\n",
       "      <td>Covers</td>\n",
       "      <td>69367</td>\n",
       "      <td>AMERICAN</td>\n",
       "      <td>COMPACT</td>\n",
       "      <td>FORD</td>\n",
       "      <td>33619</td>\n",
       "      <td>FL</td>\n",
       "      <td>4000.0</td>\n",
       "      <td>0</td>\n",
       "      <td>1020</td>\n",
       "    </tr>\n",
       "  </tbody>\n",
       "</table>\n",
       "</div>"
      ],
      "text/plain": [
       "   WheelTypeID WheelType  VehOdo  Nationality         Size  \\\n",
       "0          1.0     Alloy   89046  OTHER ASIAN       MEDIUM   \n",
       "1          1.0     Alloy   93593     AMERICAN  LARGE TRUCK   \n",
       "2          2.0    Covers   73807     AMERICAN       MEDIUM   \n",
       "3          1.0     Alloy   65617     AMERICAN      COMPACT   \n",
       "4          2.0    Covers   69367     AMERICAN      COMPACT   \n",
       "\n",
       "  TopThreeAmericanName  VNZIP1 VNST  VehBCost  IsOnlineSale  WarrantyCost  \n",
       "0                OTHER   33619   FL    7100.0             0          1113  \n",
       "1             CHRYSLER   33619   FL    7600.0             0          1053  \n",
       "2             CHRYSLER   33619   FL    4900.0             0          1389  \n",
       "3             CHRYSLER   33619   FL    4100.0             0           630  \n",
       "4                 FORD   33619   FL    4000.0             0          1020  "
      ]
     },
     "execution_count": 21,
     "metadata": {},
     "output_type": "execute_result"
    }
   ],
   "source": [
    "df.head()"
   ]
  },
  {
   "cell_type": "code",
   "execution_count": 4,
   "id": "1766de53",
   "metadata": {},
   "outputs": [
    {
     "data": {
      "text/plain": [
       "Index(['RefId', 'IsBadBuy', 'PurchDate', 'Auction', 'VehYear', 'VehicleAge',\n",
       "       'Make', 'Model', 'Trim', 'SubModel', 'Color', 'Transmission',\n",
       "       'WheelTypeID', 'WheelType', 'VehOdo', 'Nationality', 'Size',\n",
       "       'TopThreeAmericanName', 'MMRAcquisitionAuctionAveragePrice',\n",
       "       'MMRAcquisitionAuctionCleanPrice', 'MMRAcquisitionRetailAveragePrice',\n",
       "       'MMRAcquisitonRetailCleanPrice', 'MMRCurrentAuctionAveragePrice',\n",
       "       'MMRCurrentAuctionCleanPrice', 'MMRCurrentRetailAveragePrice',\n",
       "       'MMRCurrentRetailCleanPrice', 'PRIMEUNIT', 'AUCGUART', 'BYRNO',\n",
       "       'VNZIP1', 'VNST', 'VehBCost', 'IsOnlineSale', 'WarrantyCost'],\n",
       "      dtype='object')"
      ]
     },
     "execution_count": 4,
     "metadata": {},
     "output_type": "execute_result"
    }
   ],
   "source": [
    "df.columns"
   ]
  },
  {
   "cell_type": "code",
   "execution_count": 18,
   "id": "92db62b1",
   "metadata": {},
   "outputs": [],
   "source": [
    "df = df.iloc[:,[12,13,14,15,16,17,29,30,31,32,33]]"
   ]
  },
  {
   "cell_type": "code",
   "execution_count": 19,
   "id": "697104ec",
   "metadata": {
    "scrolled": false
   },
   "outputs": [
    {
     "data": {
      "text/plain": [
       "WheelTypeID             float64\n",
       "WheelType                object\n",
       "VehOdo                    int64\n",
       "Nationality              object\n",
       "Size                     object\n",
       "TopThreeAmericanName     object\n",
       "VNZIP1                    int64\n",
       "VNST                     object\n",
       "VehBCost                float64\n",
       "IsOnlineSale              int64\n",
       "WarrantyCost              int64\n",
       "dtype: object"
      ]
     },
     "execution_count": 19,
     "metadata": {},
     "output_type": "execute_result"
    }
   ],
   "source": [
    "df.dtypes"
   ]
  },
  {
   "cell_type": "code",
   "execution_count": 24,
   "id": "71340df8",
   "metadata": {},
   "outputs": [
    {
     "data": {
      "text/html": [
       "<div>\n",
       "<style scoped>\n",
       "    .dataframe tbody tr th:only-of-type {\n",
       "        vertical-align: middle;\n",
       "    }\n",
       "\n",
       "    .dataframe tbody tr th {\n",
       "        vertical-align: top;\n",
       "    }\n",
       "\n",
       "    .dataframe thead th {\n",
       "        text-align: right;\n",
       "    }\n",
       "</style>\n",
       "<table border=\"1\" class=\"dataframe\">\n",
       "  <thead>\n",
       "    <tr style=\"text-align: right;\">\n",
       "      <th></th>\n",
       "      <th>WheelTypeID</th>\n",
       "      <th>WheelType</th>\n",
       "      <th>VehOdo</th>\n",
       "      <th>Nationality</th>\n",
       "      <th>Size</th>\n",
       "      <th>TopThreeAmericanName</th>\n",
       "      <th>VNZIP1</th>\n",
       "      <th>VNST</th>\n",
       "      <th>VehBCost</th>\n",
       "      <th>IsOnlineSale</th>\n",
       "      <th>WarrantyCost</th>\n",
       "    </tr>\n",
       "  </thead>\n",
       "  <tbody>\n",
       "    <tr>\n",
       "      <th>0</th>\n",
       "      <td>1.0</td>\n",
       "      <td>Alloy</td>\n",
       "      <td>89046</td>\n",
       "      <td>OTHER ASIAN</td>\n",
       "      <td>MEDIUM</td>\n",
       "      <td>OTHER</td>\n",
       "      <td>33619</td>\n",
       "      <td>FL</td>\n",
       "      <td>7100.0</td>\n",
       "      <td>0</td>\n",
       "      <td>1113</td>\n",
       "    </tr>\n",
       "    <tr>\n",
       "      <th>1</th>\n",
       "      <td>1.0</td>\n",
       "      <td>Alloy</td>\n",
       "      <td>93593</td>\n",
       "      <td>AMERICAN</td>\n",
       "      <td>LARGE TRUCK</td>\n",
       "      <td>CHRYSLER</td>\n",
       "      <td>33619</td>\n",
       "      <td>FL</td>\n",
       "      <td>7600.0</td>\n",
       "      <td>0</td>\n",
       "      <td>1053</td>\n",
       "    </tr>\n",
       "    <tr>\n",
       "      <th>2</th>\n",
       "      <td>2.0</td>\n",
       "      <td>Covers</td>\n",
       "      <td>73807</td>\n",
       "      <td>AMERICAN</td>\n",
       "      <td>MEDIUM</td>\n",
       "      <td>CHRYSLER</td>\n",
       "      <td>33619</td>\n",
       "      <td>FL</td>\n",
       "      <td>4900.0</td>\n",
       "      <td>0</td>\n",
       "      <td>1389</td>\n",
       "    </tr>\n",
       "    <tr>\n",
       "      <th>3</th>\n",
       "      <td>1.0</td>\n",
       "      <td>Alloy</td>\n",
       "      <td>65617</td>\n",
       "      <td>AMERICAN</td>\n",
       "      <td>COMPACT</td>\n",
       "      <td>CHRYSLER</td>\n",
       "      <td>33619</td>\n",
       "      <td>FL</td>\n",
       "      <td>4100.0</td>\n",
       "      <td>0</td>\n",
       "      <td>630</td>\n",
       "    </tr>\n",
       "    <tr>\n",
       "      <th>4</th>\n",
       "      <td>2.0</td>\n",
       "      <td>Covers</td>\n",
       "      <td>69367</td>\n",
       "      <td>AMERICAN</td>\n",
       "      <td>COMPACT</td>\n",
       "      <td>FORD</td>\n",
       "      <td>33619</td>\n",
       "      <td>FL</td>\n",
       "      <td>4000.0</td>\n",
       "      <td>0</td>\n",
       "      <td>1020</td>\n",
       "    </tr>\n",
       "  </tbody>\n",
       "</table>\n",
       "</div>"
      ],
      "text/plain": [
       "   WheelTypeID WheelType  VehOdo  Nationality         Size  \\\n",
       "0          1.0     Alloy   89046  OTHER ASIAN       MEDIUM   \n",
       "1          1.0     Alloy   93593     AMERICAN  LARGE TRUCK   \n",
       "2          2.0    Covers   73807     AMERICAN       MEDIUM   \n",
       "3          1.0     Alloy   65617     AMERICAN      COMPACT   \n",
       "4          2.0    Covers   69367     AMERICAN      COMPACT   \n",
       "\n",
       "  TopThreeAmericanName  VNZIP1 VNST  VehBCost  IsOnlineSale  WarrantyCost  \n",
       "0                OTHER   33619   FL    7100.0             0          1113  \n",
       "1             CHRYSLER   33619   FL    7600.0             0          1053  \n",
       "2             CHRYSLER   33619   FL    4900.0             0          1389  \n",
       "3             CHRYSLER   33619   FL    4100.0             0           630  \n",
       "4                 FORD   33619   FL    4000.0             0          1020  "
      ]
     },
     "execution_count": 24,
     "metadata": {},
     "output_type": "execute_result"
    }
   ],
   "source": [
    "df.head()"
   ]
  },
  {
   "cell_type": "code",
   "execution_count": 35,
   "id": "a65d0966",
   "metadata": {},
   "outputs": [
    {
     "data": {
      "text/plain": [
       "(72983, 11)"
      ]
     },
     "execution_count": 35,
     "metadata": {},
     "output_type": "execute_result"
    }
   ],
   "source": [
    "df.shape"
   ]
  },
  {
   "cell_type": "markdown",
   "id": "653130ee",
   "metadata": {},
   "source": [
    "# NA"
   ]
  },
  {
   "cell_type": "code",
   "execution_count": 73,
   "id": "f4ab227b",
   "metadata": {
    "scrolled": true
   },
   "outputs": [
    {
     "data": {
      "text/plain": [
       "WheelTypeID             0\n",
       "WheelType               0\n",
       "VehOdo                  0\n",
       "Nationality             0\n",
       "Size                    0\n",
       "TopThreeAmericanName    0\n",
       "VNZIP1                  0\n",
       "VNST                    0\n",
       "VehBCost                0\n",
       "IsOnlineSale            0\n",
       "WarrantyCost            0\n",
       "dtype: int64"
      ]
     },
     "execution_count": 73,
     "metadata": {},
     "output_type": "execute_result"
    }
   ],
   "source": [
    "df.isna().sum()"
   ]
  },
  {
   "cell_type": "code",
   "execution_count": null,
   "id": "84db01e1",
   "metadata": {},
   "outputs": [],
   "source": [
    "# TopThreeAmericanName -> replace with OTHER"
   ]
  },
  {
   "cell_type": "code",
   "execution_count": 36,
   "id": "6982d316",
   "metadata": {},
   "outputs": [
    {
     "data": {
      "text/plain": [
       "TopThreeAmericanName\n",
       "GM                      25314\n",
       "CHRYSLER                23399\n",
       "FORD                    12315\n",
       "OTHER                   11950\n",
       "dtype: int64"
      ]
     },
     "execution_count": 36,
     "metadata": {},
     "output_type": "execute_result"
    }
   ],
   "source": [
    "df[['TopThreeAmericanName']].value_counts()"
   ]
  },
  {
   "cell_type": "code",
   "execution_count": 42,
   "id": "bba9b7bb",
   "metadata": {},
   "outputs": [
    {
     "name": "stderr",
     "output_type": "stream",
     "text": [
      "C:\\Users\\Uzytkownik\\AppData\\Local\\Temp\\ipykernel_7044\\261704098.py:1: SettingWithCopyWarning: \n",
      "A value is trying to be set on a copy of a slice from a DataFrame.\n",
      "Try using .loc[row_indexer,col_indexer] = value instead\n",
      "\n",
      "See the caveats in the documentation: https://pandas.pydata.org/pandas-docs/stable/user_guide/indexing.html#returning-a-view-versus-a-copy\n",
      "  df['TopThreeAmericanName'] = df['TopThreeAmericanName'].fillna('OTHER')\n"
     ]
    }
   ],
   "source": [
    "df['TopThreeAmericanName'] = df['TopThreeAmericanName'].fillna('OTHER')"
   ]
  },
  {
   "cell_type": "code",
   "execution_count": 37,
   "id": "55bee979",
   "metadata": {
    "scrolled": true
   },
   "outputs": [
    {
     "data": {
      "text/plain": [
       "Size       \n",
       "MEDIUM         30785\n",
       "LARGE           8850\n",
       "MEDIUM SUV      8090\n",
       "COMPACT         7205\n",
       "VAN             5854\n",
       "LARGE TRUCK     3170\n",
       "SMALL SUV       2276\n",
       "SPECIALTY       1915\n",
       "CROSSOVER       1759\n",
       "LARGE SUV       1433\n",
       "SMALL TRUCK      864\n",
       "SPORTS           777\n",
       "dtype: int64"
      ]
     },
     "execution_count": 37,
     "metadata": {},
     "output_type": "execute_result"
    }
   ],
   "source": [
    "df[['Size']].value_counts()"
   ]
  },
  {
   "cell_type": "code",
   "execution_count": 40,
   "id": "ca028154",
   "metadata": {},
   "outputs": [
    {
     "name": "stderr",
     "output_type": "stream",
     "text": [
      "C:\\Users\\Uzytkownik\\AppData\\Local\\Temp\\ipykernel_7044\\3081036828.py:2: SettingWithCopyWarning: \n",
      "A value is trying to be set on a copy of a slice from a DataFrame.\n",
      "Try using .loc[row_indexer,col_indexer] = value instead\n",
      "\n",
      "See the caveats in the documentation: https://pandas.pydata.org/pandas-docs/stable/user_guide/indexing.html#returning-a-view-versus-a-copy\n",
      "  df['Size'] = df['Size'].fillna('MEDIUM')\n"
     ]
    }
   ],
   "source": [
    "#Zastąpmy medium\n",
    "df['Size'] = df['Size'].fillna('MEDIUM')"
   ]
  },
  {
   "cell_type": "code",
   "execution_count": 74,
   "id": "db6bae7e",
   "metadata": {
    "scrolled": true
   },
   "outputs": [
    {
     "data": {
      "text/plain": [
       "Nationality   \n",
       "AMERICAN          58443\n",
       "OTHER ASIAN        7617\n",
       "TOP LINE ASIAN     3555\n",
       "OTHER               194\n",
       "dtype: int64"
      ]
     },
     "execution_count": 74,
     "metadata": {},
     "output_type": "execute_result"
    }
   ],
   "source": [
    "df[['Nationality']].value_counts()"
   ]
  },
  {
   "cell_type": "code",
   "execution_count": 45,
   "id": "22153b31",
   "metadata": {},
   "outputs": [
    {
     "name": "stderr",
     "output_type": "stream",
     "text": [
      "C:\\Users\\Uzytkownik\\AppData\\Local\\Temp\\ipykernel_7044\\2989242704.py:1: SettingWithCopyWarning: \n",
      "A value is trying to be set on a copy of a slice from a DataFrame.\n",
      "Try using .loc[row_indexer,col_indexer] = value instead\n",
      "\n",
      "See the caveats in the documentation: https://pandas.pydata.org/pandas-docs/stable/user_guide/indexing.html#returning-a-view-versus-a-copy\n",
      "  df['Nationality'] = df['Nationality'].fillna('OTHER')\n"
     ]
    }
   ],
   "source": [
    "df['Nationality'] = df['Nationality'].fillna('OTHER')"
   ]
  },
  {
   "cell_type": "code",
   "execution_count": 30,
   "id": "db965323",
   "metadata": {},
   "outputs": [],
   "source": [
    "#WheelTypeId ===> The type id of the vehicle wheel"
   ]
  },
  {
   "cell_type": "code",
   "execution_count": 29,
   "id": "0be4578c",
   "metadata": {},
   "outputs": [
    {
     "data": {
      "text/plain": [
       "WheelTypeID\n",
       "1.0            36050\n",
       "2.0            33004\n",
       "3.0              755\n",
       "0.0                5\n",
       "dtype: int64"
      ]
     },
     "execution_count": 29,
     "metadata": {},
     "output_type": "execute_result"
    }
   ],
   "source": [
    "df[['WheelTypeID']].value_counts()"
   ]
  },
  {
   "cell_type": "code",
   "execution_count": 47,
   "id": "8e25f1d1",
   "metadata": {},
   "outputs": [
    {
     "data": {
      "text/plain": [
       "WheelType\n",
       "Alloy        36050\n",
       "Covers       33004\n",
       "Special        755\n",
       "dtype: int64"
      ]
     },
     "execution_count": 47,
     "metadata": {},
     "output_type": "execute_result"
    }
   ],
   "source": [
    "df[['WheelType']].value_counts()"
   ]
  },
  {
   "cell_type": "code",
   "execution_count": 53,
   "id": "5a546ec3",
   "metadata": {},
   "outputs": [
    {
     "data": {
      "text/html": [
       "<div>\n",
       "<style scoped>\n",
       "    .dataframe tbody tr th:only-of-type {\n",
       "        vertical-align: middle;\n",
       "    }\n",
       "\n",
       "    .dataframe tbody tr th {\n",
       "        vertical-align: top;\n",
       "    }\n",
       "\n",
       "    .dataframe thead th {\n",
       "        text-align: right;\n",
       "    }\n",
       "</style>\n",
       "<table border=\"1\" class=\"dataframe\">\n",
       "  <thead>\n",
       "    <tr style=\"text-align: right;\">\n",
       "      <th></th>\n",
       "      <th>WheelTypeID</th>\n",
       "      <th>WheelType</th>\n",
       "      <th>VehOdo</th>\n",
       "      <th>Nationality</th>\n",
       "      <th>Size</th>\n",
       "      <th>TopThreeAmericanName</th>\n",
       "      <th>VNZIP1</th>\n",
       "      <th>VNST</th>\n",
       "      <th>VehBCost</th>\n",
       "      <th>IsOnlineSale</th>\n",
       "      <th>WarrantyCost</th>\n",
       "    </tr>\n",
       "  </thead>\n",
       "  <tbody>\n",
       "    <tr>\n",
       "      <th>39</th>\n",
       "      <td>NaN</td>\n",
       "      <td>NaN</td>\n",
       "      <td>65078</td>\n",
       "      <td>AMERICAN</td>\n",
       "      <td>SPORTS</td>\n",
       "      <td>FORD</td>\n",
       "      <td>33619</td>\n",
       "      <td>FL</td>\n",
       "      <td>8500.0</td>\n",
       "      <td>0</td>\n",
       "      <td>728</td>\n",
       "    </tr>\n",
       "    <tr>\n",
       "      <th>41</th>\n",
       "      <td>NaN</td>\n",
       "      <td>NaN</td>\n",
       "      <td>86889</td>\n",
       "      <td>TOP LINE ASIAN</td>\n",
       "      <td>COMPACT</td>\n",
       "      <td>OTHER</td>\n",
       "      <td>33619</td>\n",
       "      <td>FL</td>\n",
       "      <td>5200.0</td>\n",
       "      <td>0</td>\n",
       "      <td>594</td>\n",
       "    </tr>\n",
       "    <tr>\n",
       "      <th>45</th>\n",
       "      <td>NaN</td>\n",
       "      <td>NaN</td>\n",
       "      <td>72191</td>\n",
       "      <td>TOP LINE ASIAN</td>\n",
       "      <td>MEDIUM SUV</td>\n",
       "      <td>OTHER</td>\n",
       "      <td>33619</td>\n",
       "      <td>FL</td>\n",
       "      <td>7100.0</td>\n",
       "      <td>0</td>\n",
       "      <td>569</td>\n",
       "    </tr>\n",
       "    <tr>\n",
       "      <th>47</th>\n",
       "      <td>NaN</td>\n",
       "      <td>NaN</td>\n",
       "      <td>79576</td>\n",
       "      <td>TOP LINE ASIAN</td>\n",
       "      <td>COMPACT</td>\n",
       "      <td>OTHER</td>\n",
       "      <td>33619</td>\n",
       "      <td>FL</td>\n",
       "      <td>3900.0</td>\n",
       "      <td>0</td>\n",
       "      <td>869</td>\n",
       "    </tr>\n",
       "    <tr>\n",
       "      <th>49</th>\n",
       "      <td>NaN</td>\n",
       "      <td>NaN</td>\n",
       "      <td>50227</td>\n",
       "      <td>AMERICAN</td>\n",
       "      <td>MEDIUM</td>\n",
       "      <td>GM</td>\n",
       "      <td>33619</td>\n",
       "      <td>FL</td>\n",
       "      <td>7500.0</td>\n",
       "      <td>0</td>\n",
       "      <td>1003</td>\n",
       "    </tr>\n",
       "    <tr>\n",
       "      <th>...</th>\n",
       "      <td>...</td>\n",
       "      <td>...</td>\n",
       "      <td>...</td>\n",
       "      <td>...</td>\n",
       "      <td>...</td>\n",
       "      <td>...</td>\n",
       "      <td>...</td>\n",
       "      <td>...</td>\n",
       "      <td>...</td>\n",
       "      <td>...</td>\n",
       "      <td>...</td>\n",
       "    </tr>\n",
       "    <tr>\n",
       "      <th>72915</th>\n",
       "      <td>NaN</td>\n",
       "      <td>NaN</td>\n",
       "      <td>68426</td>\n",
       "      <td>AMERICAN</td>\n",
       "      <td>MEDIUM</td>\n",
       "      <td>CHRYSLER</td>\n",
       "      <td>30212</td>\n",
       "      <td>GA</td>\n",
       "      <td>7300.0</td>\n",
       "      <td>0</td>\n",
       "      <td>1020</td>\n",
       "    </tr>\n",
       "    <tr>\n",
       "      <th>72924</th>\n",
       "      <td>NaN</td>\n",
       "      <td>NaN</td>\n",
       "      <td>53132</td>\n",
       "      <td>OTHER ASIAN</td>\n",
       "      <td>COMPACT</td>\n",
       "      <td>OTHER</td>\n",
       "      <td>30212</td>\n",
       "      <td>GA</td>\n",
       "      <td>6000.0</td>\n",
       "      <td>0</td>\n",
       "      <td>505</td>\n",
       "    </tr>\n",
       "    <tr>\n",
       "      <th>72933</th>\n",
       "      <td>NaN</td>\n",
       "      <td>NaN</td>\n",
       "      <td>81794</td>\n",
       "      <td>AMERICAN</td>\n",
       "      <td>VAN</td>\n",
       "      <td>CHRYSLER</td>\n",
       "      <td>30212</td>\n",
       "      <td>GA</td>\n",
       "      <td>3400.0</td>\n",
       "      <td>0</td>\n",
       "      <td>2063</td>\n",
       "    </tr>\n",
       "    <tr>\n",
       "      <th>72959</th>\n",
       "      <td>NaN</td>\n",
       "      <td>NaN</td>\n",
       "      <td>74151</td>\n",
       "      <td>AMERICAN</td>\n",
       "      <td>MEDIUM SUV</td>\n",
       "      <td>GM</td>\n",
       "      <td>30212</td>\n",
       "      <td>GA</td>\n",
       "      <td>6600.0</td>\n",
       "      <td>0</td>\n",
       "      <td>1506</td>\n",
       "    </tr>\n",
       "    <tr>\n",
       "      <th>72979</th>\n",
       "      <td>NaN</td>\n",
       "      <td>NaN</td>\n",
       "      <td>71759</td>\n",
       "      <td>AMERICAN</td>\n",
       "      <td>MEDIUM</td>\n",
       "      <td>GM</td>\n",
       "      <td>30212</td>\n",
       "      <td>GA</td>\n",
       "      <td>6200.0</td>\n",
       "      <td>0</td>\n",
       "      <td>1038</td>\n",
       "    </tr>\n",
       "  </tbody>\n",
       "</table>\n",
       "<p>3169 rows × 11 columns</p>\n",
       "</div>"
      ],
      "text/plain": [
       "       WheelTypeID WheelType  VehOdo     Nationality        Size  \\\n",
       "39             NaN       NaN   65078        AMERICAN      SPORTS   \n",
       "41             NaN       NaN   86889  TOP LINE ASIAN     COMPACT   \n",
       "45             NaN       NaN   72191  TOP LINE ASIAN  MEDIUM SUV   \n",
       "47             NaN       NaN   79576  TOP LINE ASIAN     COMPACT   \n",
       "49             NaN       NaN   50227        AMERICAN      MEDIUM   \n",
       "...            ...       ...     ...             ...         ...   \n",
       "72915          NaN       NaN   68426        AMERICAN      MEDIUM   \n",
       "72924          NaN       NaN   53132     OTHER ASIAN     COMPACT   \n",
       "72933          NaN       NaN   81794        AMERICAN         VAN   \n",
       "72959          NaN       NaN   74151        AMERICAN  MEDIUM SUV   \n",
       "72979          NaN       NaN   71759        AMERICAN      MEDIUM   \n",
       "\n",
       "      TopThreeAmericanName  VNZIP1 VNST  VehBCost  IsOnlineSale  WarrantyCost  \n",
       "39                    FORD   33619   FL    8500.0             0           728  \n",
       "41                   OTHER   33619   FL    5200.0             0           594  \n",
       "45                   OTHER   33619   FL    7100.0             0           569  \n",
       "47                   OTHER   33619   FL    3900.0             0           869  \n",
       "49                      GM   33619   FL    7500.0             0          1003  \n",
       "...                    ...     ...  ...       ...           ...           ...  \n",
       "72915             CHRYSLER   30212   GA    7300.0             0          1020  \n",
       "72924                OTHER   30212   GA    6000.0             0           505  \n",
       "72933             CHRYSLER   30212   GA    3400.0             0          2063  \n",
       "72959                   GM   30212   GA    6600.0             0          1506  \n",
       "72979                   GM   30212   GA    6200.0             0          1038  \n",
       "\n",
       "[3169 rows x 11 columns]"
      ]
     },
     "execution_count": 53,
     "metadata": {},
     "output_type": "execute_result"
    }
   ],
   "source": [
    "df[(df['WheelTypeID'].isna() ) & (df['WheelType'].isna() )]"
   ]
  },
  {
   "cell_type": "code",
   "execution_count": 54,
   "id": "f03f8fa0",
   "metadata": {},
   "outputs": [],
   "source": [
    "df = df[df['WheelTypeID'].notna()]"
   ]
  },
  {
   "cell_type": "code",
   "execution_count": 57,
   "id": "82c3fedb",
   "metadata": {},
   "outputs": [],
   "source": [
    "df = df[df['WheelType'].notna()]"
   ]
  },
  {
   "cell_type": "code",
   "execution_count": 58,
   "id": "eddf9197",
   "metadata": {},
   "outputs": [
    {
     "data": {
      "text/plain": [
       "(69809, 11)"
      ]
     },
     "execution_count": 58,
     "metadata": {},
     "output_type": "execute_result"
    }
   ],
   "source": [
    "df.shape"
   ]
  },
  {
   "cell_type": "code",
   "execution_count": 77,
   "id": "8bbd0a6b",
   "metadata": {},
   "outputs": [
    {
     "data": {
      "text/plain": [
       "VNST\n",
       "TX      13201\n",
       "FL      10093\n",
       "CA       6705\n",
       "NC       6607\n",
       "AZ       5959\n",
       "CO       4848\n",
       "SC       3965\n",
       "OK       3400\n",
       "GA       2332\n",
       "TN       1624\n",
       "VA       1605\n",
       "MD       1125\n",
       "PA        836\n",
       "UT        814\n",
       "MO        756\n",
       "OH        755\n",
       "AL        653\n",
       "NV        542\n",
       "MS        490\n",
       "IA        457\n",
       "IN        454\n",
       "IL        440\n",
       "LA        329\n",
       "NJ        316\n",
       "WV        283\n",
       "NM        225\n",
       "KY        209\n",
       "OR        195\n",
       "ID        182\n",
       "WA        131\n",
       "NH         97\n",
       "MN         62\n",
       "AR         59\n",
       "NE         26\n",
       "MA         15\n",
       "MI         13\n",
       "NY          6\n",
       "dtype: int64"
      ]
     },
     "execution_count": 77,
     "metadata": {},
     "output_type": "execute_result"
    }
   ],
   "source": [
    "df[['VNST']].value_counts()"
   ]
  },
  {
   "cell_type": "code",
   "execution_count": 79,
   "id": "6bd88f55",
   "metadata": {},
   "outputs": [
    {
     "data": {
      "text/plain": [
       "IsOnlineSale\n",
       "0               68083\n",
       "1                1726\n",
       "dtype: int64"
      ]
     },
     "execution_count": 79,
     "metadata": {},
     "output_type": "execute_result"
    }
   ],
   "source": [
    "df[['IsOnlineSale']].value_counts()"
   ]
  },
  {
   "cell_type": "markdown",
   "id": "61dc3fda",
   "metadata": {},
   "source": [
    "# Visualization"
   ]
  },
  {
   "cell_type": "code",
   "execution_count": 72,
   "id": "e5572f5c",
   "metadata": {},
   "outputs": [
    {
     "data": {
      "image/png": "[encoded data removed]",
      "text/plain": [
       "<Figure size 432x288 with 1 Axes>"
      ]
     },
     "metadata": {
      "needs_background": "light"
     },
     "output_type": "display_data"
    },
    {
     "data": {
      "image/png": "[encoded data removed]",
      "text/plain": [
       "<Figure size 432x288 with 1 Axes>"
      ]
     },
     "metadata": {
      "needs_background": "light"
     },
     "output_type": "display_data"
    },
    {
     "data": {
      "image/png": "[encoded data removed]",
      "text/plain": [
       "<Figure size 432x288 with 1 Axes>"
      ]
     },
     "metadata": {
      "needs_background": "light"
     },
     "output_type": "display_data"
    }
   ],
   "source": [
    "plt.hist(df['VehOdo'])\n",
    "plt.show()\n",
    "\n",
    "plt.boxplot(df['VehOdo'])\n",
    "plt.show()\n",
    "\n",
    "plt.violinplot(df['VehOdo'])\n",
    "plt.show()"
   ]
  },
  {
   "cell_type": "code",
   "execution_count": 75,
   "id": "46e2c8bb",
   "metadata": {},
   "outputs": [
    {
     "data": {
      "image/png": "[encoded data removed]",
      "text/plain": [
       "<Figure size 432x288 with 1 Axes>"
      ]
     },
     "metadata": {
      "needs_background": "light"
     },
     "output_type": "display_data"
    },
    {
     "data": {
      "image/png": "[encoded data removed]",
      "text/plain": [
       "<Figure size 432x288 with 1 Axes>"
      ]
     },
     "metadata": {
      "needs_background": "light"
     },
     "output_type": "display_data"
    },
    {
     "data": {
      "image/png": "[encoded data removed]",
      "text/plain": [
       "<Figure size 432x288 with 1 Axes>"
      ]
     },
     "metadata": {
      "needs_background": "light"
     },
     "output_type": "display_data"
    }
   ],
   "source": [
    "plt.hist(df['VNZIP1'])\n",
    "plt.show()\n",
    "\n",
    "plt.boxplot(df['VNZIP1'])\n",
    "plt.show()\n",
    "\n",
    "plt.violinplot(df['VNZIP1'])\n",
    "plt.show()"
   ]
  },
  {
   "cell_type": "code",
   "execution_count": 80,
   "id": "72af7e1f",
   "metadata": {},
   "outputs": [
    {
     "data": {
      "image/png": "[encoded data removed]",
      "text/plain": [
       "<Figure size 432x288 with 1 Axes>"
      ]
     },
     "metadata": {
      "needs_background": "light"
     },
     "output_type": "display_data"
    },
    {
     "data": {
      "image/png": "[encoded data removed]",
      "text/plain": [
       "<Figure size 432x288 with 1 Axes>"
      ]
     },
     "metadata": {
      "needs_background": "light"
     },
     "output_type": "display_data"
    },
    {
     "data": {
      "image/png": "[encoded data removed]",
      "text/plain": [
       "<Figure size 432x288 with 1 Axes>"
      ]
     },
     "metadata": {
      "needs_background": "light"
     },
     "output_type": "display_data"
    }
   ],
   "source": [
    "plt.hist(df['WarrantyCost'])\n",
    "plt.show()\n",
    "\n",
    "plt.boxplot(df['WarrantyCost'])\n",
    "plt.show()\n",
    "\n",
    "plt.violinplot(df['WarrantyCost'])\n",
    "plt.show()"
   ]
  },
  {
   "cell_type": "code",
   "execution_count": 81,
   "id": "6b025e13",
   "metadata": {},
   "outputs": [
    {
     "data": {
      "image/png": "[encoded data removed]",
      "text/plain": [
       "<Figure size 432x288 with 1 Axes>"
      ]
     },
     "metadata": {
      "needs_background": "light"
     },
     "output_type": "display_data"
    },
    {
     "data": {
      "image/png": "[encoded data removed]",
      "text/plain": [
       "<Figure size 432x288 with 1 Axes>"
      ]
     },
     "metadata": {
      "needs_background": "light"
     },
     "output_type": "display_data"
    },
    {
     "data": {
      "image/png": "[encoded data removed]",
      "text/plain": [
       "<Figure size 432x288 with 1 Axes>"
      ]
     },
     "metadata": {
      "needs_background": "light"
     },
     "output_type": "display_data"
    }
   ],
   "source": [
    "plt.hist(df['VehBCost'])\n",
    "plt.show()\n",
    "\n",
    "plt.boxplot(df['VehBCost'])\n",
    "plt.show()\n",
    "\n",
    "plt.violinplot(df['VehBCost'])\n",
    "plt.show()"
   ]
  },
  {
   "cell_type": "markdown",
   "id": "2ff362eb",
   "metadata": {},
   "source": [
    "# Cleaned -> preprocess now"
   ]
  },
  {
   "cell_type": "code",
   "execution_count": 82,
   "id": "19d3e62b",
   "metadata": {},
   "outputs": [],
   "source": [
    "# \n",
    "# WheelType  - OneHotEncoding (3 categories) -> ORDER MATTERS?\n",
    "# WheelTypeID  - OneHotEncoding (3 categories)  -> ORDER MATTERS?\n",
    "# VehOdo - standaryzacja/normalizacja, nie ma za bardzo odstajacych wartosci \n",
    "# Nationality - OneHotEncoding (4 categories) -> OTHER present -> ORDER DOES NOT MATTER\n",
    "# Size - (12 categories) --> ??? Lepiej onehotencoding dla malej liczby kategorii czy wiekszej? => ORDER HERE MATTERS -> \n",
    "# --- wiec tutaj lepiej nie one hot encoding tylko jakis label encoding z ustalona kolejnoscia, ale niekiedy trudno powiedziec?\n",
    "# --- moze jakis inny pomysl?\n",
    "# TopThreeAmericanName - (4 categories). OTHER present -> OHE? -> Order does not matter\n",
    "# VNZIP1 -> ORDER DOES NOT MATTER, ZIPCODE, Standaryzacja/normalizacja nie ma sensu, --?> CO TUTAJ\n",
    "# VNST -> Categorical, lots of categories, OHE? Worth doing? Order does not matter\n",
    "# VehBCost -> Cena -> standaryzacja, normalizacja? Ale wykres mocno krzywy\n",
    "# IsOnlineSale -> binarny -> ???\n",
    "# WarrantyCost"
   ]
  },
  {
   "cell_type": "code",
   "execution_count": null,
   "id": "a1a7c04b",
   "metadata": {},
   "outputs": [],
   "source": []
  }
 ],
 "metadata": {
  "kernelspec": {
   "display_name": "Python 3 (ipykernel)",
   "language": "python",
   "name": "python3"
  },
  "language_info": {
   "codemirror_mode": {
    "name": "ipython",
    "version": 3
   },
   "file_extension": ".py",
   "mimetype": "text/x-python",
   "name": "python",
   "nbconvert_exporter": "python",
   "pygments_lexer": "ipython3",
   "version": "3.9.4"
  }
 },
 "nbformat": 4,
 "nbformat_minor": 5
}
