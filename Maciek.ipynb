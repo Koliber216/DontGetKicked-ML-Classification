{
 "cells": [
  {
   "cell_type": "code",
   "execution_count": 36,
   "metadata": {
    "collapsed": true
   },
   "outputs": [],
   "source": [
    "import pandas as pd\n",
    "import pdpipe as pdp"
   ]
  },
  {
   "cell_type": "code",
   "execution_count": 2,
   "outputs": [
    {
     "data": {
      "text/plain": "(72983, 9)"
     },
     "execution_count": 2,
     "metadata": {},
     "output_type": "execute_result"
    }
   ],
   "source": [
    "data = pd.read_csv('training.csv')\n",
    "df = data.iloc[:, 1:10]\n",
    "df.shape"
   ],
   "metadata": {
    "collapsed": false
   }
  },
  {
   "cell_type": "code",
   "execution_count": 3,
   "outputs": [
    {
     "data": {
      "text/plain": "   IsBadBuy  PurchDate Auction  VehYear  VehicleAge   Make  \\\n0         0  12/7/2009   ADESA     2006           3  MAZDA   \n1         0  12/7/2009   ADESA     2004           5  DODGE   \n2         0  12/7/2009   ADESA     2005           4  DODGE   \n3         0  12/7/2009   ADESA     2004           5  DODGE   \n4         0  12/7/2009   ADESA     2005           4   FORD   \n\n                 Model Trim           SubModel  \n0               MAZDA3    i         4D SEDAN I  \n1  1500 RAM PICKUP 2WD   ST  QUAD CAB 4.7L SLT  \n2           STRATUS V6  SXT   4D SEDAN SXT FFV  \n3                 NEON  SXT           4D SEDAN  \n4                FOCUS  ZX3       2D COUPE ZX3  ",
      "text/html": "<div>\n<style scoped>\n    .dataframe tbody tr th:only-of-type {\n        vertical-align: middle;\n    }\n\n    .dataframe tbody tr th {\n        vertical-align: top;\n    }\n\n    .dataframe thead th {\n        text-align: right;\n    }\n</style>\n<table border=\"1\" class=\"dataframe\">\n  <thead>\n    <tr style=\"text-align: right;\">\n      <th></th>\n      <th>IsBadBuy</th>\n      <th>PurchDate</th>\n      <th>Auction</th>\n      <th>VehYear</th>\n      <th>VehicleAge</th>\n      <th>Make</th>\n      <th>Model</th>\n      <th>Trim</th>\n      <th>SubModel</th>\n    </tr>\n  </thead>\n  <tbody>\n    <tr>\n      <th>0</th>\n      <td>0</td>\n      <td>12/7/2009</td>\n      <td>ADESA</td>\n      <td>2006</td>\n      <td>3</td>\n      <td>MAZDA</td>\n      <td>MAZDA3</td>\n      <td>i</td>\n      <td>4D SEDAN I</td>\n    </tr>\n    <tr>\n      <th>1</th>\n      <td>0</td>\n      <td>12/7/2009</td>\n      <td>ADESA</td>\n      <td>2004</td>\n      <td>5</td>\n      <td>DODGE</td>\n      <td>1500 RAM PICKUP 2WD</td>\n      <td>ST</td>\n      <td>QUAD CAB 4.7L SLT</td>\n    </tr>\n    <tr>\n      <th>2</th>\n      <td>0</td>\n      <td>12/7/2009</td>\n      <td>ADESA</td>\n      <td>2005</td>\n      <td>4</td>\n      <td>DODGE</td>\n      <td>STRATUS V6</td>\n      <td>SXT</td>\n      <td>4D SEDAN SXT FFV</td>\n    </tr>\n    <tr>\n      <th>3</th>\n      <td>0</td>\n      <td>12/7/2009</td>\n      <td>ADESA</td>\n      <td>2004</td>\n      <td>5</td>\n      <td>DODGE</td>\n      <td>NEON</td>\n      <td>SXT</td>\n      <td>4D SEDAN</td>\n    </tr>\n    <tr>\n      <th>4</th>\n      <td>0</td>\n      <td>12/7/2009</td>\n      <td>ADESA</td>\n      <td>2005</td>\n      <td>4</td>\n      <td>FORD</td>\n      <td>FOCUS</td>\n      <td>ZX3</td>\n      <td>2D COUPE ZX3</td>\n    </tr>\n  </tbody>\n</table>\n</div>"
     },
     "execution_count": 3,
     "metadata": {},
     "output_type": "execute_result"
    }
   ],
   "source": [
    "df.head()"
   ],
   "metadata": {
    "collapsed": false
   }
  },
  {
   "cell_type": "code",
   "execution_count": 4,
   "outputs": [
    {
     "name": "stdout",
     "output_type": "stream",
     "text": [
      "<class 'pandas.core.frame.DataFrame'>\n",
      "RangeIndex: 72983 entries, 0 to 72982\n",
      "Data columns (total 9 columns):\n",
      " #   Column      Non-Null Count  Dtype \n",
      "---  ------      --------------  ----- \n",
      " 0   IsBadBuy    72983 non-null  int64 \n",
      " 1   PurchDate   72983 non-null  object\n",
      " 2   Auction     72983 non-null  object\n",
      " 3   VehYear     72983 non-null  int64 \n",
      " 4   VehicleAge  72983 non-null  int64 \n",
      " 5   Make        72983 non-null  object\n",
      " 6   Model       72983 non-null  object\n",
      " 7   Trim        70623 non-null  object\n",
      " 8   SubModel    72975 non-null  object\n",
      "dtypes: int64(3), object(6)\n",
      "memory usage: 5.0+ MB\n"
     ]
    }
   ],
   "source": [
    "df.info()"
   ],
   "metadata": {
    "collapsed": false
   }
  },
  {
   "cell_type": "markdown",
   "source": [
    "# Data Exploration"
   ],
   "metadata": {
    "collapsed": false
   }
  },
  {
   "cell_type": "markdown",
   "source": [
    "## PurchDate\n",
    "\n",
    "Data zakupu samochodu na aukcji"
   ],
   "metadata": {
    "collapsed": false
   }
  },
  {
   "cell_type": "code",
   "execution_count": 5,
   "outputs": [],
   "source": [
    "df['PurchDate'] = pd.to_datetime(df['PurchDate'])\n",
    "df['Year'] = df['PurchDate'].dt.year\n",
    "df['Month'] = df['PurchDate'].dt.month\n",
    "df['Day'] = df['PurchDate'].dt.day"
   ],
   "metadata": {
    "collapsed": false
   }
  },
  {
   "cell_type": "code",
   "execution_count": 6,
   "outputs": [
    {
     "data": {
      "text/plain": "         mean  count\nYear                \n2010  0.13003  37922\n2009  0.11537  35061",
      "text/html": "<div>\n<style scoped>\n    .dataframe tbody tr th:only-of-type {\n        vertical-align: middle;\n    }\n\n    .dataframe tbody tr th {\n        vertical-align: top;\n    }\n\n    .dataframe thead th {\n        text-align: right;\n    }\n</style>\n<table border=\"1\" class=\"dataframe\">\n  <thead>\n    <tr style=\"text-align: right;\">\n      <th></th>\n      <th>mean</th>\n      <th>count</th>\n    </tr>\n    <tr>\n      <th>Year</th>\n      <th></th>\n      <th></th>\n    </tr>\n  </thead>\n  <tbody>\n    <tr>\n      <th>2010</th>\n      <td>0.13003</td>\n      <td>37922</td>\n    </tr>\n    <tr>\n      <th>2009</th>\n      <td>0.11537</td>\n      <td>35061</td>\n    </tr>\n  </tbody>\n</table>\n</div>"
     },
     "execution_count": 6,
     "metadata": {},
     "output_type": "execute_result"
    }
   ],
   "source": [
    "df.groupby('Year')['IsBadBuy'].agg(['mean','count']).sort_values('mean',ascending = False)"
   ],
   "metadata": {
    "collapsed": false
   }
  },
  {
   "cell_type": "markdown",
   "source": [
    "Mamy do czynienia z danymi pochodzącymi z dwóch lat, raczej nie będziemy rozpatrywać roku jako istotnej cechy."
   ],
   "metadata": {
    "collapsed": false
   }
  },
  {
   "cell_type": "code",
   "execution_count": 7,
   "outputs": [
    {
     "data": {
      "text/plain": "<AxesSubplot:>"
     },
     "execution_count": 7,
     "metadata": {},
     "output_type": "execute_result"
    },
    {
     "data": {
      "text/plain": "<Figure size 432x288 with 1 Axes>",
      "image/png": "[encoded data removed]"
     },
     "metadata": {
      "needs_background": "light"
     },
     "output_type": "display_data"
    }
   ],
   "source": [
    "df.Month.hist(bins=12)"
   ],
   "metadata": {
    "collapsed": false
   }
  },
  {
   "cell_type": "markdown",
   "source": [
    "Zakupy odbywały się najczęściej w miesiącach jesiennych i wczesnowiosennych, rzadziej latem a najrzadziej na przełomie roku."
   ],
   "metadata": {
    "collapsed": false
   }
  },
  {
   "cell_type": "code",
   "execution_count": 8,
   "outputs": [
    {
     "data": {
      "text/plain": "           mean  count\nMonth                 \n3      0.144478   6257\n9      0.138842   6511\n12     0.133942   5368\n1      0.132285   4770\n8      0.130477   6139\n2      0.130136   6839\n4      0.125864   5935\n11     0.118652   6675\n6      0.111013   5675\n7      0.109598   5876\n10     0.106158   7178\n5      0.095833   5760",
      "text/html": "<div>\n<style scoped>\n    .dataframe tbody tr th:only-of-type {\n        vertical-align: middle;\n    }\n\n    .dataframe tbody tr th {\n        vertical-align: top;\n    }\n\n    .dataframe thead th {\n        text-align: right;\n    }\n</style>\n<table border=\"1\" class=\"dataframe\">\n  <thead>\n    <tr style=\"text-align: right;\">\n      <th></th>\n      <th>mean</th>\n      <th>count</th>\n    </tr>\n    <tr>\n      <th>Month</th>\n      <th></th>\n      <th></th>\n    </tr>\n  </thead>\n  <tbody>\n    <tr>\n      <th>3</th>\n      <td>0.144478</td>\n      <td>6257</td>\n    </tr>\n    <tr>\n      <th>9</th>\n      <td>0.138842</td>\n      <td>6511</td>\n    </tr>\n    <tr>\n      <th>12</th>\n      <td>0.133942</td>\n      <td>5368</td>\n    </tr>\n    <tr>\n      <th>1</th>\n      <td>0.132285</td>\n      <td>4770</td>\n    </tr>\n    <tr>\n      <th>8</th>\n      <td>0.130477</td>\n      <td>6139</td>\n    </tr>\n    <tr>\n      <th>2</th>\n      <td>0.130136</td>\n      <td>6839</td>\n    </tr>\n    <tr>\n      <th>4</th>\n      <td>0.125864</td>\n      <td>5935</td>\n    </tr>\n    <tr>\n      <th>11</th>\n      <td>0.118652</td>\n      <td>6675</td>\n    </tr>\n    <tr>\n      <th>6</th>\n      <td>0.111013</td>\n      <td>5675</td>\n    </tr>\n    <tr>\n      <th>7</th>\n      <td>0.109598</td>\n      <td>5876</td>\n    </tr>\n    <tr>\n      <th>10</th>\n      <td>0.106158</td>\n      <td>7178</td>\n    </tr>\n    <tr>\n      <th>5</th>\n      <td>0.095833</td>\n      <td>5760</td>\n    </tr>\n  </tbody>\n</table>\n</div>"
     },
     "execution_count": 8,
     "metadata": {},
     "output_type": "execute_result"
    }
   ],
   "source": [
    "df.groupby('Month')['IsBadBuy'].agg(['mean','count']).sort_values('mean',ascending = False)"
   ],
   "metadata": {
    "collapsed": false
   }
  },
  {
   "cell_type": "markdown",
   "source": [
    "Mieszane odczucia - różnica w średnich jest widoczna, szczególnie rzucają się w oczy styczeń i grudzień - jest wtedy również najmniej zakupów, ale mało zakupów jest też latem i średnie są z kolei niskie, kiedy jest najwięcej zakupów - październik, listopad to również mamy niskie średnie. No i wygląda na to że lepiej nie kupować w marcu.\n",
    "\n",
    "Trzeba będzie pomyśleć czy uwzględniać miesiąc w modelu"
   ],
   "metadata": {
    "collapsed": false
   }
  },
  {
   "cell_type": "code",
   "execution_count": 9,
   "outputs": [
    {
     "data": {
      "text/plain": "<AxesSubplot:>"
     },
     "execution_count": 9,
     "metadata": {},
     "output_type": "execute_result"
    },
    {
     "data": {
      "text/plain": "<Figure size 432x288 with 1 Axes>",
      "image/png": "[encoded data removed]"
     },
     "metadata": {
      "needs_background": "light"
     },
     "output_type": "display_data"
    }
   ],
   "source": [
    "df.Day.hist(bins=31)"
   ],
   "metadata": {
    "collapsed": false
   }
  },
  {
   "cell_type": "code",
   "execution_count": 10,
   "outputs": [
    {
     "data": {
      "text/plain": "         mean  count\nDay                 \n31   0.142077    549\n3    0.136399   2544\n2    0.135249   2366\n7    0.133364   2182\n1    0.133301   2048\n19   0.132812   2304\n10   0.132511   2513\n30   0.132298   2124\n4    0.131127   2387\n9    0.130986   2443\n22   0.130980   2550\n25   0.129503   2193\n24   0.126732   2454\n11   0.126137   2529\n28   0.125981   2421\n15   0.125626   2396\n26   0.125472   2120\n23   0.124844   2403\n6    0.124485   2185\n5    0.122459   2017\n14   0.119451   2478\n16   0.117733   2735\n8    0.117012   2410\n17   0.116927   2694\n27   0.116407   2371\n29   0.114964   2105\n13   0.111468   2494\n12   0.109091   2420\n18   0.108892   3104\n20   0.105324   2611\n21   0.101306   2833",
      "text/html": "<div>\n<style scoped>\n    .dataframe tbody tr th:only-of-type {\n        vertical-align: middle;\n    }\n\n    .dataframe tbody tr th {\n        vertical-align: top;\n    }\n\n    .dataframe thead th {\n        text-align: right;\n    }\n</style>\n<table border=\"1\" class=\"dataframe\">\n  <thead>\n    <tr style=\"text-align: right;\">\n      <th></th>\n      <th>mean</th>\n      <th>count</th>\n    </tr>\n    <tr>\n      <th>Day</th>\n      <th></th>\n      <th></th>\n    </tr>\n  </thead>\n  <tbody>\n    <tr>\n      <th>31</th>\n      <td>0.142077</td>\n      <td>549</td>\n    </tr>\n    <tr>\n      <th>3</th>\n      <td>0.136399</td>\n      <td>2544</td>\n    </tr>\n    <tr>\n      <th>2</th>\n      <td>0.135249</td>\n      <td>2366</td>\n    </tr>\n    <tr>\n      <th>7</th>\n      <td>0.133364</td>\n      <td>2182</td>\n    </tr>\n    <tr>\n      <th>1</th>\n      <td>0.133301</td>\n      <td>2048</td>\n    </tr>\n    <tr>\n      <th>19</th>\n      <td>0.132812</td>\n      <td>2304</td>\n    </tr>\n    <tr>\n      <th>10</th>\n      <td>0.132511</td>\n      <td>2513</td>\n    </tr>\n    <tr>\n      <th>30</th>\n      <td>0.132298</td>\n      <td>2124</td>\n    </tr>\n    <tr>\n      <th>4</th>\n      <td>0.131127</td>\n      <td>2387</td>\n    </tr>\n    <tr>\n      <th>9</th>\n      <td>0.130986</td>\n      <td>2443</td>\n    </tr>\n    <tr>\n      <th>22</th>\n      <td>0.130980</td>\n      <td>2550</td>\n    </tr>\n    <tr>\n      <th>25</th>\n      <td>0.129503</td>\n      <td>2193</td>\n    </tr>\n    <tr>\n      <th>24</th>\n      <td>0.126732</td>\n      <td>2454</td>\n    </tr>\n    <tr>\n      <th>11</th>\n      <td>0.126137</td>\n      <td>2529</td>\n    </tr>\n    <tr>\n      <th>28</th>\n      <td>0.125981</td>\n      <td>2421</td>\n    </tr>\n    <tr>\n      <th>15</th>\n      <td>0.125626</td>\n      <td>2396</td>\n    </tr>\n    <tr>\n      <th>26</th>\n      <td>0.125472</td>\n      <td>2120</td>\n    </tr>\n    <tr>\n      <th>23</th>\n      <td>0.124844</td>\n      <td>2403</td>\n    </tr>\n    <tr>\n      <th>6</th>\n      <td>0.124485</td>\n      <td>2185</td>\n    </tr>\n    <tr>\n      <th>5</th>\n      <td>0.122459</td>\n      <td>2017</td>\n    </tr>\n    <tr>\n      <th>14</th>\n      <td>0.119451</td>\n      <td>2478</td>\n    </tr>\n    <tr>\n      <th>16</th>\n      <td>0.117733</td>\n      <td>2735</td>\n    </tr>\n    <tr>\n      <th>8</th>\n      <td>0.117012</td>\n      <td>2410</td>\n    </tr>\n    <tr>\n      <th>17</th>\n      <td>0.116927</td>\n      <td>2694</td>\n    </tr>\n    <tr>\n      <th>27</th>\n      <td>0.116407</td>\n      <td>2371</td>\n    </tr>\n    <tr>\n      <th>29</th>\n      <td>0.114964</td>\n      <td>2105</td>\n    </tr>\n    <tr>\n      <th>13</th>\n      <td>0.111468</td>\n      <td>2494</td>\n    </tr>\n    <tr>\n      <th>12</th>\n      <td>0.109091</td>\n      <td>2420</td>\n    </tr>\n    <tr>\n      <th>18</th>\n      <td>0.108892</td>\n      <td>3104</td>\n    </tr>\n    <tr>\n      <th>20</th>\n      <td>0.105324</td>\n      <td>2611</td>\n    </tr>\n    <tr>\n      <th>21</th>\n      <td>0.101306</td>\n      <td>2833</td>\n    </tr>\n  </tbody>\n</table>\n</div>"
     },
     "execution_count": 10,
     "metadata": {},
     "output_type": "execute_result"
    }
   ],
   "source": [
    "df.groupby('Day')['IsBadBuy'].agg(['mean','count']).sort_values('mean',ascending = False)"
   ],
   "metadata": {
    "collapsed": false
   }
  },
  {
   "cell_type": "markdown",
   "source": [
    "Z dni nie wynikają żadne interesujące zależności."
   ],
   "metadata": {
    "collapsed": false
   }
  },
  {
   "cell_type": "markdown",
   "source": [
    "**Wnioski: trzeba będzie rozpatrzeć miesiąc jako być może istotną cechę**"
   ],
   "metadata": {
    "collapsed": false
   }
  },
  {
   "cell_type": "markdown",
   "source": [
    "## Auction\n",
    "\n",
    "Identyfikator dostawcy na aukcji, u którego samochód został kupiony"
   ],
   "metadata": {
    "collapsed": false
   }
  },
  {
   "cell_type": "code",
   "execution_count": 11,
   "outputs": [
    {
     "data": {
      "text/plain": "             mean  count\nAuction                 \nADESA    0.151880  14439\nOTHER    0.118165  17501\nMANHEIM  0.114880  41043",
      "text/html": "<div>\n<style scoped>\n    .dataframe tbody tr th:only-of-type {\n        vertical-align: middle;\n    }\n\n    .dataframe tbody tr th {\n        vertical-align: top;\n    }\n\n    .dataframe thead th {\n        text-align: right;\n    }\n</style>\n<table border=\"1\" class=\"dataframe\">\n  <thead>\n    <tr style=\"text-align: right;\">\n      <th></th>\n      <th>mean</th>\n      <th>count</th>\n    </tr>\n    <tr>\n      <th>Auction</th>\n      <th></th>\n      <th></th>\n    </tr>\n  </thead>\n  <tbody>\n    <tr>\n      <th>ADESA</th>\n      <td>0.151880</td>\n      <td>14439</td>\n    </tr>\n    <tr>\n      <th>OTHER</th>\n      <td>0.118165</td>\n      <td>17501</td>\n    </tr>\n    <tr>\n      <th>MANHEIM</th>\n      <td>0.114880</td>\n      <td>41043</td>\n    </tr>\n  </tbody>\n</table>\n</div>"
     },
     "execution_count": 11,
     "metadata": {},
     "output_type": "execute_result"
    }
   ],
   "source": [
    "df.groupby('Auction')['IsBadBuy'].agg(['mean','count']).sort_values('mean',ascending = False)"
   ],
   "metadata": {
    "collapsed": false
   }
  },
  {
   "cell_type": "markdown",
   "source": [
    "Jest widoczna pewna zależność - uwzględnimy to"
   ],
   "metadata": {
    "collapsed": false
   }
  },
  {
   "cell_type": "markdown",
   "source": [
    "## VehYear\n",
    "\n",
    "Rok produkcji samochodu"
   ],
   "metadata": {
    "collapsed": false
   }
  },
  {
   "cell_type": "code",
   "execution_count": 12,
   "outputs": [
    {
     "data": {
      "text/plain": "<AxesSubplot:>"
     },
     "execution_count": 12,
     "metadata": {},
     "output_type": "execute_result"
    },
    {
     "data": {
      "text/plain": "<Figure size 432x288 with 1 Axes>",
      "image/png": "[encoded data removed]"
     },
     "metadata": {
      "needs_background": "light"
     },
     "output_type": "display_data"
    }
   ],
   "source": [
    "df.VehYear.hist()"
   ],
   "metadata": {
    "collapsed": false
   }
  },
  {
   "cell_type": "code",
   "execution_count": 13,
   "outputs": [
    {
     "data": {
      "text/plain": "             mean  count\nVehYear                 \n2001     0.287643   1481\n2002     0.240235   3405\n2003     0.194315   6227\n2004     0.155482  10207\n2005     0.131190  15489\n2006     0.093880  17043\n2007     0.077738  11423\n2008     0.055919   6885\n2009     0.036496    822\n2010     0.000000      1",
      "text/html": "<div>\n<style scoped>\n    .dataframe tbody tr th:only-of-type {\n        vertical-align: middle;\n    }\n\n    .dataframe tbody tr th {\n        vertical-align: top;\n    }\n\n    .dataframe thead th {\n        text-align: right;\n    }\n</style>\n<table border=\"1\" class=\"dataframe\">\n  <thead>\n    <tr style=\"text-align: right;\">\n      <th></th>\n      <th>mean</th>\n      <th>count</th>\n    </tr>\n    <tr>\n      <th>VehYear</th>\n      <th></th>\n      <th></th>\n    </tr>\n  </thead>\n  <tbody>\n    <tr>\n      <th>2001</th>\n      <td>0.287643</td>\n      <td>1481</td>\n    </tr>\n    <tr>\n      <th>2002</th>\n      <td>0.240235</td>\n      <td>3405</td>\n    </tr>\n    <tr>\n      <th>2003</th>\n      <td>0.194315</td>\n      <td>6227</td>\n    </tr>\n    <tr>\n      <th>2004</th>\n      <td>0.155482</td>\n      <td>10207</td>\n    </tr>\n    <tr>\n      <th>2005</th>\n      <td>0.131190</td>\n      <td>15489</td>\n    </tr>\n    <tr>\n      <th>2006</th>\n      <td>0.093880</td>\n      <td>17043</td>\n    </tr>\n    <tr>\n      <th>2007</th>\n      <td>0.077738</td>\n      <td>11423</td>\n    </tr>\n    <tr>\n      <th>2008</th>\n      <td>0.055919</td>\n      <td>6885</td>\n    </tr>\n    <tr>\n      <th>2009</th>\n      <td>0.036496</td>\n      <td>822</td>\n    </tr>\n    <tr>\n      <th>2010</th>\n      <td>0.000000</td>\n      <td>1</td>\n    </tr>\n  </tbody>\n</table>\n</div>"
     },
     "execution_count": 13,
     "metadata": {},
     "output_type": "execute_result"
    }
   ],
   "source": [
    "df.groupby('VehYear')['IsBadBuy'].agg(['mean','count']).sort_values('mean',ascending = False)"
   ],
   "metadata": {
    "collapsed": false
   }
  },
  {
   "cell_type": "markdown",
   "source": [
    "Jest to istotna zmienna z punktu widzenia lemonów."
   ],
   "metadata": {
    "collapsed": false
   }
  },
  {
   "cell_type": "markdown",
   "source": [
    "## VehicleAge\n",
    "\n",
    "Lata minione od roku produkcji"
   ],
   "metadata": {
    "collapsed": false
   }
  },
  {
   "cell_type": "code",
   "execution_count": 14,
   "outputs": [
    {
     "data": {
      "text/plain": "-0.9579570737977844"
     },
     "execution_count": 14,
     "metadata": {},
     "output_type": "execute_result"
    }
   ],
   "source": [
    "df.VehYear.corr(df.VehicleAge)"
   ],
   "metadata": {
    "collapsed": false
   }
  },
  {
   "cell_type": "markdown",
   "source": [
    "Bez zaskoczenia, usuniemy zatem rok produkcji, bo wiek samochodu wydaje się sensowniejszą zmienną dla modelu."
   ],
   "metadata": {
    "collapsed": false
   }
  },
  {
   "cell_type": "markdown",
   "source": [
    "## Make\n",
    "\n",
    "Producent samochodu"
   ],
   "metadata": {
    "collapsed": false
   }
  },
  {
   "cell_type": "code",
   "execution_count": 15,
   "outputs": [
    {
     "data": {
      "text/plain": "                  mean  count\nMake                         \nCHEVROLET     0.097461  17248\nDODGE         0.103237  12912\nFORD          0.154091  11305\nCHRYSLER      0.128562   8844\nPONTIAC       0.119070   4258\nKIA           0.117552   2484\nSATURN        0.141470   2163\nNISSAN        0.159712   2085\nHYUNDAI       0.128658   1811\nJEEP          0.154501   1644\nSUZUKI        0.146837   1328\nTOYOTA        0.099650   1144\nMITSUBISHI    0.119417   1030\nMAZDA         0.161389    979\nMERCURY       0.169770    913\nBUICK         0.156944    720\nGMC           0.115562    649\nHONDA         0.108652    497\nOLDSMOBILE    0.201646    243\nISUZU         0.067164    134\nVOLKSWAGEN    0.141791    134\nSCION         0.085271    129\nLINCOLN       0.298969     97\nINFINITI      0.333333     42\nVOLVO         0.000000     37\nCADILLAC      0.151515     33\nACURA         0.272727     33\nLEXUS         0.354839     31\nSUBARU        0.214286     28\nMINI          0.333333     24\nPLYMOUTH      0.500000      2\nHUMMER        0.000000      1\nTOYOTA SCION  0.000000      1",
      "text/html": "<div>\n<style scoped>\n    .dataframe tbody tr th:only-of-type {\n        vertical-align: middle;\n    }\n\n    .dataframe tbody tr th {\n        vertical-align: top;\n    }\n\n    .dataframe thead th {\n        text-align: right;\n    }\n</style>\n<table border=\"1\" class=\"dataframe\">\n  <thead>\n    <tr style=\"text-align: right;\">\n      <th></th>\n      <th>mean</th>\n      <th>count</th>\n    </tr>\n    <tr>\n      <th>Make</th>\n      <th></th>\n      <th></th>\n    </tr>\n  </thead>\n  <tbody>\n    <tr>\n      <th>CHEVROLET</th>\n      <td>0.097461</td>\n      <td>17248</td>\n    </tr>\n    <tr>\n      <th>DODGE</th>\n      <td>0.103237</td>\n      <td>12912</td>\n    </tr>\n    <tr>\n      <th>FORD</th>\n      <td>0.154091</td>\n      <td>11305</td>\n    </tr>\n    <tr>\n      <th>CHRYSLER</th>\n      <td>0.128562</td>\n      <td>8844</td>\n    </tr>\n    <tr>\n      <th>PONTIAC</th>\n      <td>0.119070</td>\n      <td>4258</td>\n    </tr>\n    <tr>\n      <th>KIA</th>\n      <td>0.117552</td>\n      <td>2484</td>\n    </tr>\n    <tr>\n      <th>SATURN</th>\n      <td>0.141470</td>\n      <td>2163</td>\n    </tr>\n    <tr>\n      <th>NISSAN</th>\n      <td>0.159712</td>\n      <td>2085</td>\n    </tr>\n    <tr>\n      <th>HYUNDAI</th>\n      <td>0.128658</td>\n      <td>1811</td>\n    </tr>\n    <tr>\n      <th>JEEP</th>\n      <td>0.154501</td>\n      <td>1644</td>\n    </tr>\n    <tr>\n      <th>SUZUKI</th>\n      <td>0.146837</td>\n      <td>1328</td>\n    </tr>\n    <tr>\n      <th>TOYOTA</th>\n      <td>0.099650</td>\n      <td>1144</td>\n    </tr>\n    <tr>\n      <th>MITSUBISHI</th>\n      <td>0.119417</td>\n      <td>1030</td>\n    </tr>\n    <tr>\n      <th>MAZDA</th>\n      <td>0.161389</td>\n      <td>979</td>\n    </tr>\n    <tr>\n      <th>MERCURY</th>\n      <td>0.169770</td>\n      <td>913</td>\n    </tr>\n    <tr>\n      <th>BUICK</th>\n      <td>0.156944</td>\n      <td>720</td>\n    </tr>\n    <tr>\n      <th>GMC</th>\n      <td>0.115562</td>\n      <td>649</td>\n    </tr>\n    <tr>\n      <th>HONDA</th>\n      <td>0.108652</td>\n      <td>497</td>\n    </tr>\n    <tr>\n      <th>OLDSMOBILE</th>\n      <td>0.201646</td>\n      <td>243</td>\n    </tr>\n    <tr>\n      <th>ISUZU</th>\n      <td>0.067164</td>\n      <td>134</td>\n    </tr>\n    <tr>\n      <th>VOLKSWAGEN</th>\n      <td>0.141791</td>\n      <td>134</td>\n    </tr>\n    <tr>\n      <th>SCION</th>\n      <td>0.085271</td>\n      <td>129</td>\n    </tr>\n    <tr>\n      <th>LINCOLN</th>\n      <td>0.298969</td>\n      <td>97</td>\n    </tr>\n    <tr>\n      <th>INFINITI</th>\n      <td>0.333333</td>\n      <td>42</td>\n    </tr>\n    <tr>\n      <th>VOLVO</th>\n      <td>0.000000</td>\n      <td>37</td>\n    </tr>\n    <tr>\n      <th>CADILLAC</th>\n      <td>0.151515</td>\n      <td>33</td>\n    </tr>\n    <tr>\n      <th>ACURA</th>\n      <td>0.272727</td>\n      <td>33</td>\n    </tr>\n    <tr>\n      <th>LEXUS</th>\n      <td>0.354839</td>\n      <td>31</td>\n    </tr>\n    <tr>\n      <th>SUBARU</th>\n      <td>0.214286</td>\n      <td>28</td>\n    </tr>\n    <tr>\n      <th>MINI</th>\n      <td>0.333333</td>\n      <td>24</td>\n    </tr>\n    <tr>\n      <th>PLYMOUTH</th>\n      <td>0.500000</td>\n      <td>2</td>\n    </tr>\n    <tr>\n      <th>HUMMER</th>\n      <td>0.000000</td>\n      <td>1</td>\n    </tr>\n    <tr>\n      <th>TOYOTA SCION</th>\n      <td>0.000000</td>\n      <td>1</td>\n    </tr>\n  </tbody>\n</table>\n</div>"
     },
     "execution_count": 15,
     "metadata": {},
     "output_type": "execute_result"
    }
   ],
   "source": [
    "df.groupby('Make')['IsBadBuy'].agg(['mean','count']).sort_values('count',ascending = False)"
   ],
   "metadata": {
    "collapsed": false
   }
  },
  {
   "cell_type": "markdown",
   "source": [
    "Dość istotna kwestia - trzeba będzie się tym zająć."
   ],
   "metadata": {
    "collapsed": false
   }
  },
  {
   "cell_type": "markdown",
   "source": [
    "## Model\n",
    "\n",
    "Model samochodu"
   ],
   "metadata": {
    "collapsed": false
   }
  },
  {
   "cell_type": "code",
   "execution_count": 16,
   "outputs": [
    {
     "data": {
      "text/plain": "                          mean  count\nModel                                \nPT CRUISER            0.187205   2329\nIMPALA                0.079899   1990\nTAURUS                0.147368   1425\nCALIBER               0.104000   1375\nCARAVAN GRAND FWD V6  0.121800   1289\n...                        ...    ...\nTRAILBLAZER 4WD V8    0.000000      1\nMONTERO 4WD V6 3.8L   0.000000      1\nAVALON 3.0L V6 EFI    0.000000      1\nIS300                 0.000000      1\n4 RUNNER 4WD V6       1.000000      1\n\n[1063 rows x 2 columns]",
      "text/html": "<div>\n<style scoped>\n    .dataframe tbody tr th:only-of-type {\n        vertical-align: middle;\n    }\n\n    .dataframe tbody tr th {\n        vertical-align: top;\n    }\n\n    .dataframe thead th {\n        text-align: right;\n    }\n</style>\n<table border=\"1\" class=\"dataframe\">\n  <thead>\n    <tr style=\"text-align: right;\">\n      <th></th>\n      <th>mean</th>\n      <th>count</th>\n    </tr>\n    <tr>\n      <th>Model</th>\n      <th></th>\n      <th></th>\n    </tr>\n  </thead>\n  <tbody>\n    <tr>\n      <th>PT CRUISER</th>\n      <td>0.187205</td>\n      <td>2329</td>\n    </tr>\n    <tr>\n      <th>IMPALA</th>\n      <td>0.079899</td>\n      <td>1990</td>\n    </tr>\n    <tr>\n      <th>TAURUS</th>\n      <td>0.147368</td>\n      <td>1425</td>\n    </tr>\n    <tr>\n      <th>CALIBER</th>\n      <td>0.104000</td>\n      <td>1375</td>\n    </tr>\n    <tr>\n      <th>CARAVAN GRAND FWD V6</th>\n      <td>0.121800</td>\n      <td>1289</td>\n    </tr>\n    <tr>\n      <th>...</th>\n      <td>...</td>\n      <td>...</td>\n    </tr>\n    <tr>\n      <th>TRAILBLAZER 4WD V8</th>\n      <td>0.000000</td>\n      <td>1</td>\n    </tr>\n    <tr>\n      <th>MONTERO 4WD V6 3.8L</th>\n      <td>0.000000</td>\n      <td>1</td>\n    </tr>\n    <tr>\n      <th>AVALON 3.0L V6 EFI</th>\n      <td>0.000000</td>\n      <td>1</td>\n    </tr>\n    <tr>\n      <th>IS300</th>\n      <td>0.000000</td>\n      <td>1</td>\n    </tr>\n    <tr>\n      <th>4 RUNNER 4WD V6</th>\n      <td>1.000000</td>\n      <td>1</td>\n    </tr>\n  </tbody>\n</table>\n<p>1063 rows × 2 columns</p>\n</div>"
     },
     "execution_count": 16,
     "metadata": {},
     "output_type": "execute_result"
    }
   ],
   "source": [
    "df.groupby('Model')['IsBadBuy'].agg(['mean','count']).sort_values('count',ascending = False)"
   ],
   "metadata": {
    "collapsed": false
   }
  },
  {
   "cell_type": "code",
   "execution_count": 17,
   "outputs": [
    {
     "data": {
      "text/plain": "                                 count\nMake       Model                      \nACURA      3.2 CL                    1\n           3.2 CL 3.2L V 6 NA S      3\n           3.2 TL                    8\n           3.2 TL 3.2L V6 EFI        5\n           3.2 TL 3.2L V6 FI DO      2\n...                                ...\nVOLKSWAGEN PASSAT 4C                 1\n           RABBIT                    2\n           TOUAREG V8                1\nVOLVO      S40                      36\n           S60                       1\n\n[1066 rows x 1 columns]",
      "text/html": "<div>\n<style scoped>\n    .dataframe tbody tr th:only-of-type {\n        vertical-align: middle;\n    }\n\n    .dataframe tbody tr th {\n        vertical-align: top;\n    }\n\n    .dataframe thead th {\n        text-align: right;\n    }\n</style>\n<table border=\"1\" class=\"dataframe\">\n  <thead>\n    <tr style=\"text-align: right;\">\n      <th></th>\n      <th></th>\n      <th>count</th>\n    </tr>\n    <tr>\n      <th>Make</th>\n      <th>Model</th>\n      <th></th>\n    </tr>\n  </thead>\n  <tbody>\n    <tr>\n      <th rowspan=\"5\" valign=\"top\">ACURA</th>\n      <th>3.2 CL</th>\n      <td>1</td>\n    </tr>\n    <tr>\n      <th>3.2 CL 3.2L V 6 NA S</th>\n      <td>3</td>\n    </tr>\n    <tr>\n      <th>3.2 TL</th>\n      <td>8</td>\n    </tr>\n    <tr>\n      <th>3.2 TL 3.2L V6 EFI</th>\n      <td>5</td>\n    </tr>\n    <tr>\n      <th>3.2 TL 3.2L V6 FI DO</th>\n      <td>2</td>\n    </tr>\n    <tr>\n      <th>...</th>\n      <th>...</th>\n      <td>...</td>\n    </tr>\n    <tr>\n      <th rowspan=\"3\" valign=\"top\">VOLKSWAGEN</th>\n      <th>PASSAT 4C</th>\n      <td>1</td>\n    </tr>\n    <tr>\n      <th>RABBIT</th>\n      <td>2</td>\n    </tr>\n    <tr>\n      <th>TOUAREG V8</th>\n      <td>1</td>\n    </tr>\n    <tr>\n      <th rowspan=\"2\" valign=\"top\">VOLVO</th>\n      <th>S40</th>\n      <td>36</td>\n    </tr>\n    <tr>\n      <th>S60</th>\n      <td>1</td>\n    </tr>\n  </tbody>\n</table>\n<p>1066 rows × 1 columns</p>\n</div>"
     },
     "execution_count": 17,
     "metadata": {},
     "output_type": "execute_result"
    }
   ],
   "source": [
    "df.groupby(['Make', 'Model'])['IsBadBuy'].agg(['count'])"
   ],
   "metadata": {
    "collapsed": false
   }
  },
  {
   "cell_type": "markdown",
   "source": [
    "## Trim\n",
    "\n",
    "Rodzaj pakietu"
   ],
   "metadata": {
    "collapsed": false
   }
  },
  {
   "cell_type": "code",
   "execution_count": 18,
   "outputs": [
    {
     "name": "stdout",
     "output_type": "stream",
     "text": [
      "<class 'pandas.core.series.Series'>\n",
      "RangeIndex: 72983 entries, 0 to 72982\n",
      "Series name: Trim\n",
      "Non-Null Count  Dtype \n",
      "--------------  ----- \n",
      "70623 non-null  object\n",
      "dtypes: object(1)\n",
      "memory usage: 570.3+ KB\n"
     ]
    }
   ],
   "source": [
    "df.Trim.info()"
   ],
   "metadata": {
    "collapsed": false
   }
  },
  {
   "cell_type": "markdown",
   "source": [
    "Występuje tu sporo braków danych."
   ],
   "metadata": {
    "collapsed": false
   }
  },
  {
   "cell_type": "code",
   "execution_count": 19,
   "outputs": [
    {
     "data": {
      "text/plain": "Bas    13950\nLS     10174\nSE      9348\nSXT     3825\nLT      3540\n       ...  \nHar        1\nLL         1\nJLX        1\nJLS        1\nL 3        1\nName: Trim, Length: 134, dtype: int64"
     },
     "execution_count": 19,
     "metadata": {},
     "output_type": "execute_result"
    }
   ],
   "source": [
    "df.Trim.value_counts()"
   ],
   "metadata": {
    "collapsed": false
   }
  },
  {
   "cell_type": "code",
   "execution_count": 20,
   "outputs": [
    {
     "data": {
      "text/plain": "          mean  count\nTrim                 \nBas   0.123799  13950\nLS    0.087871  10174\nSE    0.122914   9348\nSXT   0.098824   3825\nLT    0.074859   3540\n...        ...    ...\nHar   0.000000      1\nLL    0.000000      1\nMaz   1.000000      1\nOut   1.000000      1\nL 3   0.000000      1\n\n[134 rows x 2 columns]",
      "text/html": "<div>\n<style scoped>\n    .dataframe tbody tr th:only-of-type {\n        vertical-align: middle;\n    }\n\n    .dataframe tbody tr th {\n        vertical-align: top;\n    }\n\n    .dataframe thead th {\n        text-align: right;\n    }\n</style>\n<table border=\"1\" class=\"dataframe\">\n  <thead>\n    <tr style=\"text-align: right;\">\n      <th></th>\n      <th>mean</th>\n      <th>count</th>\n    </tr>\n    <tr>\n      <th>Trim</th>\n      <th></th>\n      <th></th>\n    </tr>\n  </thead>\n  <tbody>\n    <tr>\n      <th>Bas</th>\n      <td>0.123799</td>\n      <td>13950</td>\n    </tr>\n    <tr>\n      <th>LS</th>\n      <td>0.087871</td>\n      <td>10174</td>\n    </tr>\n    <tr>\n      <th>SE</th>\n      <td>0.122914</td>\n      <td>9348</td>\n    </tr>\n    <tr>\n      <th>SXT</th>\n      <td>0.098824</td>\n      <td>3825</td>\n    </tr>\n    <tr>\n      <th>LT</th>\n      <td>0.074859</td>\n      <td>3540</td>\n    </tr>\n    <tr>\n      <th>...</th>\n      <td>...</td>\n      <td>...</td>\n    </tr>\n    <tr>\n      <th>Har</th>\n      <td>0.000000</td>\n      <td>1</td>\n    </tr>\n    <tr>\n      <th>LL</th>\n      <td>0.000000</td>\n      <td>1</td>\n    </tr>\n    <tr>\n      <th>Maz</th>\n      <td>1.000000</td>\n      <td>1</td>\n    </tr>\n    <tr>\n      <th>Out</th>\n      <td>1.000000</td>\n      <td>1</td>\n    </tr>\n    <tr>\n      <th>L 3</th>\n      <td>0.000000</td>\n      <td>1</td>\n    </tr>\n  </tbody>\n</table>\n<p>134 rows × 2 columns</p>\n</div>"
     },
     "execution_count": 20,
     "metadata": {},
     "output_type": "execute_result"
    }
   ],
   "source": [
    "df.groupby('Trim')['IsBadBuy'].agg(['mean','count']).sort_values('count',ascending = False)"
   ],
   "metadata": {
    "collapsed": false
   }
  },
  {
   "cell_type": "markdown",
   "source": [
    "Widać tu pewne zależności, ale jest bardzo dużo różnych rodzajów co może sprawić kłopot przy one hot encodingu. Do przemyślenia"
   ],
   "metadata": {
    "collapsed": false
   }
  },
  {
   "cell_type": "markdown",
   "source": [
    "## SubModel\n",
    "\n",
    "Zmienna opisuje liczbę drzwi samochodu, rodzaj nadwozia, pakiet oraz pojemność silnika"
   ],
   "metadata": {
    "collapsed": false
   }
  },
  {
   "cell_type": "code",
   "execution_count": 21,
   "outputs": [
    {
     "name": "stdout",
     "output_type": "stream",
     "text": [
      "<class 'pandas.core.series.Series'>\n",
      "RangeIndex: 72983 entries, 0 to 72982\n",
      "Series name: SubModel\n",
      "Non-Null Count  Dtype \n",
      "--------------  ----- \n",
      "72975 non-null  object\n",
      "dtypes: object(1)\n",
      "memory usage: 570.3+ KB\n"
     ]
    }
   ],
   "source": [
    "df.SubModel.info()"
   ],
   "metadata": {
    "collapsed": false
   }
  },
  {
   "cell_type": "markdown",
   "source": [
    "Występuje tu całe 8 braków danych. Jakoś sobie chyba z tym poradzimy."
   ],
   "metadata": {
    "collapsed": false
   }
  },
  {
   "cell_type": "code",
   "execution_count": 22,
   "outputs": [
    {
     "data": {
      "text/plain": "                                      mean  count\nSubModel                                         \n4D SEDAN                          0.122276  15236\n4D SEDAN LS                       0.077363   4718\n4D SEDAN SE                       0.133454   3859\n4D WAGON                          0.100448   2230\nMINIVAN 3.3L                      0.099364   1258\n...                                    ...    ...\n4D SUV 4.7L SLT PLUS              0.000000      1\nMINIVAN LX                        0.000000      1\n4D SUV 4.7L FFV LIMITED           0.000000      1\nPASSENGER 3.4L LS                 0.000000      1\n4D SPORT UTILITY SE SUPERCHARGED  1.000000      1\n\n[863 rows x 2 columns]",
      "text/html": "<div>\n<style scoped>\n    .dataframe tbody tr th:only-of-type {\n        vertical-align: middle;\n    }\n\n    .dataframe tbody tr th {\n        vertical-align: top;\n    }\n\n    .dataframe thead th {\n        text-align: right;\n    }\n</style>\n<table border=\"1\" class=\"dataframe\">\n  <thead>\n    <tr style=\"text-align: right;\">\n      <th></th>\n      <th>mean</th>\n      <th>count</th>\n    </tr>\n    <tr>\n      <th>SubModel</th>\n      <th></th>\n      <th></th>\n    </tr>\n  </thead>\n  <tbody>\n    <tr>\n      <th>4D SEDAN</th>\n      <td>0.122276</td>\n      <td>15236</td>\n    </tr>\n    <tr>\n      <th>4D SEDAN LS</th>\n      <td>0.077363</td>\n      <td>4718</td>\n    </tr>\n    <tr>\n      <th>4D SEDAN SE</th>\n      <td>0.133454</td>\n      <td>3859</td>\n    </tr>\n    <tr>\n      <th>4D WAGON</th>\n      <td>0.100448</td>\n      <td>2230</td>\n    </tr>\n    <tr>\n      <th>MINIVAN 3.3L</th>\n      <td>0.099364</td>\n      <td>1258</td>\n    </tr>\n    <tr>\n      <th>...</th>\n      <td>...</td>\n      <td>...</td>\n    </tr>\n    <tr>\n      <th>4D SUV 4.7L SLT PLUS</th>\n      <td>0.000000</td>\n      <td>1</td>\n    </tr>\n    <tr>\n      <th>MINIVAN LX</th>\n      <td>0.000000</td>\n      <td>1</td>\n    </tr>\n    <tr>\n      <th>4D SUV 4.7L FFV LIMITED</th>\n      <td>0.000000</td>\n      <td>1</td>\n    </tr>\n    <tr>\n      <th>PASSENGER 3.4L LS</th>\n      <td>0.000000</td>\n      <td>1</td>\n    </tr>\n    <tr>\n      <th>4D SPORT UTILITY SE SUPERCHARGED</th>\n      <td>1.000000</td>\n      <td>1</td>\n    </tr>\n  </tbody>\n</table>\n<p>863 rows × 2 columns</p>\n</div>"
     },
     "execution_count": 22,
     "metadata": {},
     "output_type": "execute_result"
    }
   ],
   "source": [
    "df.groupby('SubModel')['IsBadBuy'].agg(['mean','count']).sort_values('count',ascending = False)"
   ],
   "metadata": {
    "collapsed": false
   }
  },
  {
   "cell_type": "markdown",
   "source": [
    "# Preprocessing"
   ],
   "metadata": {
    "collapsed": false
   }
  },
  {
   "cell_type": "markdown",
   "source": [
    "## Make"
   ],
   "metadata": {
    "collapsed": false
   }
  },
  {
   "cell_type": "code",
   "execution_count": 23,
   "outputs": [],
   "source": [
    "# usuwamy te marki, bo mamy dla nich tylko po 1 lub 2 obserwacje\n",
    "df = df.loc[~df['Make'].isin([\"HUMMER\", \"PLYMOUTH\", \"TOYOTA SCION\"]), :]"
   ],
   "metadata": {
    "collapsed": false
   }
  },
  {
   "cell_type": "markdown",
   "source": [
    "## Month\n",
    "\n",
    "Tworzymy zmienną pora roku, być może się przyda"
   ],
   "metadata": {
    "collapsed": false
   }
  },
  {
   "cell_type": "code",
   "execution_count": 24,
   "outputs": [],
   "source": [
    "# funkcja przypisująca porę roku\n",
    "def assign_season(df):\n",
    "\n",
    "    if 3 <= df['Month'] <= 5: val = 'Spring'\n",
    "    elif 6 <= df['Month'] <= 8: val = 'Summer'\n",
    "    elif 9 <= df['Month'] <= 11: val = 'Autumn'\n",
    "    else: val = 'Winter'\n",
    "\n",
    "    return val"
   ],
   "metadata": {
    "collapsed": false
   }
  },
  {
   "cell_type": "code",
   "execution_count": 25,
   "outputs": [
    {
     "data": {
      "text/plain": "            mean  count\nSeason                 \nAutumn  0.120666  20362\nSpring  0.122723  17951\nSummer  0.117298  17690\nWinter  0.131951  16976",
      "text/html": "<div>\n<style scoped>\n    .dataframe tbody tr th:only-of-type {\n        vertical-align: middle;\n    }\n\n    .dataframe tbody tr th {\n        vertical-align: top;\n    }\n\n    .dataframe thead th {\n        text-align: right;\n    }\n</style>\n<table border=\"1\" class=\"dataframe\">\n  <thead>\n    <tr style=\"text-align: right;\">\n      <th></th>\n      <th>mean</th>\n      <th>count</th>\n    </tr>\n    <tr>\n      <th>Season</th>\n      <th></th>\n      <th></th>\n    </tr>\n  </thead>\n  <tbody>\n    <tr>\n      <th>Autumn</th>\n      <td>0.120666</td>\n      <td>20362</td>\n    </tr>\n    <tr>\n      <th>Spring</th>\n      <td>0.122723</td>\n      <td>17951</td>\n    </tr>\n    <tr>\n      <th>Summer</th>\n      <td>0.117298</td>\n      <td>17690</td>\n    </tr>\n    <tr>\n      <th>Winter</th>\n      <td>0.131951</td>\n      <td>16976</td>\n    </tr>\n  </tbody>\n</table>\n</div>"
     },
     "execution_count": 25,
     "metadata": {},
     "output_type": "execute_result"
    }
   ],
   "source": [
    "# przypisujemy porę roku\n",
    "df['Season'] = df.apply(assign_season, axis = 1)\n",
    "df.groupby('Season')['IsBadBuy'].agg(['mean','count']).sort_values('count',ascending = False)"
   ],
   "metadata": {
    "collapsed": false
   }
  },
  {
   "cell_type": "markdown",
   "source": [
    "## SubModel"
   ],
   "metadata": {
    "collapsed": false
   }
  },
  {
   "cell_type": "code",
   "execution_count": 26,
   "outputs": [
    {
     "data": {
      "text/plain": "           mean  count\nDoors                 \n4D     0.121753  59826\n2D     0.164878   3354\n5D     0.229885     87\n3D     0.254902     51",
      "text/html": "<div>\n<style scoped>\n    .dataframe tbody tr th:only-of-type {\n        vertical-align: middle;\n    }\n\n    .dataframe tbody tr th {\n        vertical-align: top;\n    }\n\n    .dataframe thead th {\n        text-align: right;\n    }\n</style>\n<table border=\"1\" class=\"dataframe\">\n  <thead>\n    <tr style=\"text-align: right;\">\n      <th></th>\n      <th>mean</th>\n      <th>count</th>\n    </tr>\n    <tr>\n      <th>Doors</th>\n      <th></th>\n      <th></th>\n    </tr>\n  </thead>\n  <tbody>\n    <tr>\n      <th>4D</th>\n      <td>0.121753</td>\n      <td>59826</td>\n    </tr>\n    <tr>\n      <th>2D</th>\n      <td>0.164878</td>\n      <td>3354</td>\n    </tr>\n    <tr>\n      <th>5D</th>\n      <td>0.229885</td>\n      <td>87</td>\n    </tr>\n    <tr>\n      <th>3D</th>\n      <td>0.254902</td>\n      <td>51</td>\n    </tr>\n  </tbody>\n</table>\n</div>"
     },
     "execution_count": 26,
     "metadata": {},
     "output_type": "execute_result"
    }
   ],
   "source": [
    "# wygiągamy liczbę drzwi ze zmiennej SubModel\n",
    "df['Doors'] = df['SubModel'].str.extract(r'([1-9]D)')\n",
    "df.groupby('Doors')['IsBadBuy'].agg(['mean','count']).sort_values('count',ascending = False)"
   ],
   "metadata": {
    "collapsed": false
   }
  },
  {
   "cell_type": "code",
   "execution_count": 27,
   "outputs": [
    {
     "data": {
      "text/plain": "9661"
     },
     "execution_count": 27,
     "metadata": {},
     "output_type": "execute_result"
    }
   ],
   "source": [
    "df.Doors.isna().sum()"
   ],
   "metadata": {
    "collapsed": false
   }
  },
  {
   "cell_type": "markdown",
   "source": [
    "Widać że pojawia się wiele braków, ale zrobimy sobie tu one hot encoder"
   ],
   "metadata": {
    "collapsed": false
   }
  },
  {
   "cell_type": "code",
   "execution_count": 28,
   "outputs": [],
   "source": [
    "# wygiągamy pojemność silnika ze zmiennej SubModel\n",
    "df['Engine_size'] = df['SubModel'].str.extract(r'([1-9].[1-9])')"
   ],
   "metadata": {
    "collapsed": false
   }
  },
  {
   "cell_type": "code",
   "execution_count": 29,
   "outputs": [
    {
     "data": {
      "text/plain": "                 mean  count\nEngine_size                 \n3.5          0.064031   2858\n4.2          0.118615   2369\n3.3          0.107420   2318\n4.7          0.108478   1899\n3.9          0.105839   1096\n2.2          0.090149   1076\n4.6          0.156532    888\n2.7          0.071689    823\n3.8          0.199507    812\n5.3          0.110828    785\n3.7          0.100450    667\n5.4          0.223285    627\n5.7          0.073892    609\n3.4          0.189293    523\n4.8          0.083333    360\n2.3          0.120344    349\n2.4          0.164038    317\n4.3          0.108974    312\n1.8          0.145695    302\n2.5          0.107784    167\n5.6          0.066667    165\n2.8          0.070000    100\n5.9          0.244186     86\n3 4          0.041667     24\n3.6          0.000000      6\n2.9          0.000000      6\n5.2          0.500000      2\n8.1          0.000000      2\n6.2          1.000000      1",
      "text/html": "<div>\n<style scoped>\n    .dataframe tbody tr th:only-of-type {\n        vertical-align: middle;\n    }\n\n    .dataframe tbody tr th {\n        vertical-align: top;\n    }\n\n    .dataframe thead th {\n        text-align: right;\n    }\n</style>\n<table border=\"1\" class=\"dataframe\">\n  <thead>\n    <tr style=\"text-align: right;\">\n      <th></th>\n      <th>mean</th>\n      <th>count</th>\n    </tr>\n    <tr>\n      <th>Engine_size</th>\n      <th></th>\n      <th></th>\n    </tr>\n  </thead>\n  <tbody>\n    <tr>\n      <th>3.5</th>\n      <td>0.064031</td>\n      <td>2858</td>\n    </tr>\n    <tr>\n      <th>4.2</th>\n      <td>0.118615</td>\n      <td>2369</td>\n    </tr>\n    <tr>\n      <th>3.3</th>\n      <td>0.107420</td>\n      <td>2318</td>\n    </tr>\n    <tr>\n      <th>4.7</th>\n      <td>0.108478</td>\n      <td>1899</td>\n    </tr>\n    <tr>\n      <th>3.9</th>\n      <td>0.105839</td>\n      <td>1096</td>\n    </tr>\n    <tr>\n      <th>2.2</th>\n      <td>0.090149</td>\n      <td>1076</td>\n    </tr>\n    <tr>\n      <th>4.6</th>\n      <td>0.156532</td>\n      <td>888</td>\n    </tr>\n    <tr>\n      <th>2.7</th>\n      <td>0.071689</td>\n      <td>823</td>\n    </tr>\n    <tr>\n      <th>3.8</th>\n      <td>0.199507</td>\n      <td>812</td>\n    </tr>\n    <tr>\n      <th>5.3</th>\n      <td>0.110828</td>\n      <td>785</td>\n    </tr>\n    <tr>\n      <th>3.7</th>\n      <td>0.100450</td>\n      <td>667</td>\n    </tr>\n    <tr>\n      <th>5.4</th>\n      <td>0.223285</td>\n      <td>627</td>\n    </tr>\n    <tr>\n      <th>5.7</th>\n      <td>0.073892</td>\n      <td>609</td>\n    </tr>\n    <tr>\n      <th>3.4</th>\n      <td>0.189293</td>\n      <td>523</td>\n    </tr>\n    <tr>\n      <th>4.8</th>\n      <td>0.083333</td>\n      <td>360</td>\n    </tr>\n    <tr>\n      <th>2.3</th>\n      <td>0.120344</td>\n      <td>349</td>\n    </tr>\n    <tr>\n      <th>2.4</th>\n      <td>0.164038</td>\n      <td>317</td>\n    </tr>\n    <tr>\n      <th>4.3</th>\n      <td>0.108974</td>\n      <td>312</td>\n    </tr>\n    <tr>\n      <th>1.8</th>\n      <td>0.145695</td>\n      <td>302</td>\n    </tr>\n    <tr>\n      <th>2.5</th>\n      <td>0.107784</td>\n      <td>167</td>\n    </tr>\n    <tr>\n      <th>5.6</th>\n      <td>0.066667</td>\n      <td>165</td>\n    </tr>\n    <tr>\n      <th>2.8</th>\n      <td>0.070000</td>\n      <td>100</td>\n    </tr>\n    <tr>\n      <th>5.9</th>\n      <td>0.244186</td>\n      <td>86</td>\n    </tr>\n    <tr>\n      <th>3 4</th>\n      <td>0.041667</td>\n      <td>24</td>\n    </tr>\n    <tr>\n      <th>3.6</th>\n      <td>0.000000</td>\n      <td>6</td>\n    </tr>\n    <tr>\n      <th>2.9</th>\n      <td>0.000000</td>\n      <td>6</td>\n    </tr>\n    <tr>\n      <th>5.2</th>\n      <td>0.500000</td>\n      <td>2</td>\n    </tr>\n    <tr>\n      <th>8.1</th>\n      <td>0.000000</td>\n      <td>2</td>\n    </tr>\n    <tr>\n      <th>6.2</th>\n      <td>1.000000</td>\n      <td>1</td>\n    </tr>\n  </tbody>\n</table>\n</div>"
     },
     "execution_count": 29,
     "metadata": {},
     "output_type": "execute_result"
    }
   ],
   "source": [
    "df.groupby('Engine_size')['IsBadBuy'].agg(['mean','count']).sort_values('count',ascending = False)"
   ],
   "metadata": {
    "collapsed": false
   }
  },
  {
   "cell_type": "code",
   "execution_count": 30,
   "outputs": [
    {
     "data": {
      "text/plain": "53430"
     },
     "execution_count": 30,
     "metadata": {},
     "output_type": "execute_result"
    }
   ],
   "source": [
    "df.Engine_size.isna().sum()"
   ],
   "metadata": {
    "collapsed": false
   }
  },
  {
   "cell_type": "markdown",
   "source": [
    "Fajna sprawa z tą pojemnością, ale za dużo braków danych żeby ją rozpatrywać."
   ],
   "metadata": {
    "collapsed": false
   }
  },
  {
   "cell_type": "markdown",
   "source": [
    "Wyciągnijmy jeszcze rodzaj podwozia ze zmiennej SubModel"
   ],
   "metadata": {
    "collapsed": false
   }
  },
  {
   "cell_type": "code",
   "execution_count": 31,
   "outputs": [],
   "source": [
    "df['SubModel_splited'] = df['SubModel'].apply(lambda x: str(x).split())\n",
    "\n",
    "# funkcja przypisująca rodzaj podwozia\n",
    "def assign_chassis(df):\n",
    "\n",
    "    types = [\"CAB\", \"CONVERTIBLE\", \"CUV\", \"HATCHBACK\", \"PASSENGER\", \"SEDAN\", \"SPORT\", \"SUV\", \"MINIVAN\", \"UTILITY\", \"WAGON\"]\n",
    "\n",
    "    for word in df['SubModel_splited']:\n",
    "        if word in types:\n",
    "            return word\n",
    "    return \"OTHER\""
   ],
   "metadata": {
    "collapsed": false
   }
  },
  {
   "cell_type": "code",
   "execution_count": 32,
   "outputs": [
    {
     "data": {
      "text/plain": "                 mean  count\nChassis                     \nSEDAN        0.115640  42226\nSUV          0.135757   8390\nWAGON        0.119442   4161\nCAB          0.121034   3908\nMINIVAN      0.125000   3296\nOTHER        0.160136   2935\nSPORT        0.147946   2751\nPASSENGER    0.127455   2291\nCUV          0.124198   1715\nUTILITY      0.128874    613\nCONVERTIBLE  0.172043    465\nHATCHBACK    0.131579    228",
      "text/html": "<div>\n<style scoped>\n    .dataframe tbody tr th:only-of-type {\n        vertical-align: middle;\n    }\n\n    .dataframe tbody tr th {\n        vertical-align: top;\n    }\n\n    .dataframe thead th {\n        text-align: right;\n    }\n</style>\n<table border=\"1\" class=\"dataframe\">\n  <thead>\n    <tr style=\"text-align: right;\">\n      <th></th>\n      <th>mean</th>\n      <th>count</th>\n    </tr>\n    <tr>\n      <th>Chassis</th>\n      <th></th>\n      <th></th>\n    </tr>\n  </thead>\n  <tbody>\n    <tr>\n      <th>SEDAN</th>\n      <td>0.115640</td>\n      <td>42226</td>\n    </tr>\n    <tr>\n      <th>SUV</th>\n      <td>0.135757</td>\n      <td>8390</td>\n    </tr>\n    <tr>\n      <th>WAGON</th>\n      <td>0.119442</td>\n      <td>4161</td>\n    </tr>\n    <tr>\n      <th>CAB</th>\n      <td>0.121034</td>\n      <td>3908</td>\n    </tr>\n    <tr>\n      <th>MINIVAN</th>\n      <td>0.125000</td>\n      <td>3296</td>\n    </tr>\n    <tr>\n      <th>OTHER</th>\n      <td>0.160136</td>\n      <td>2935</td>\n    </tr>\n    <tr>\n      <th>SPORT</th>\n      <td>0.147946</td>\n      <td>2751</td>\n    </tr>\n    <tr>\n      <th>PASSENGER</th>\n      <td>0.127455</td>\n      <td>2291</td>\n    </tr>\n    <tr>\n      <th>CUV</th>\n      <td>0.124198</td>\n      <td>1715</td>\n    </tr>\n    <tr>\n      <th>UTILITY</th>\n      <td>0.128874</td>\n      <td>613</td>\n    </tr>\n    <tr>\n      <th>CONVERTIBLE</th>\n      <td>0.172043</td>\n      <td>465</td>\n    </tr>\n    <tr>\n      <th>HATCHBACK</th>\n      <td>0.131579</td>\n      <td>228</td>\n    </tr>\n  </tbody>\n</table>\n</div>"
     },
     "execution_count": 32,
     "metadata": {},
     "output_type": "execute_result"
    }
   ],
   "source": [
    "# tworzymy zmienną Chassis opisującą rodzaj podwozia\n",
    "df['Chassis'] = df.apply(assign_chassis, axis=1)\n",
    "df.groupby('Chassis')['IsBadBuy'].agg(['mean','count']).sort_values('count',ascending = False)"
   ],
   "metadata": {
    "collapsed": false
   }
  },
  {
   "cell_type": "markdown",
   "source": [
    "## Przetworzenie kolumn kategorycznych"
   ],
   "metadata": {
    "collapsed": false
   }
  },
  {
   "cell_type": "code",
   "execution_count": 33,
   "outputs": [],
   "source": [
    "# usuwamy niepotrzebne kolumny\n",
    "df.drop(['PurchDate', 'VehYear', 'Model', 'Engine_size', 'Year', 'Day', 'SubModel', 'SubModel_splited', 'Trim'], axis=1, inplace=True)"
   ],
   "metadata": {
    "collapsed": false
   }
  },
  {
   "cell_type": "code",
   "execution_count": 34,
   "outputs": [],
   "source": [
    "# one hot encoder dla interesujacych nas kolumn\n",
    "onehot = pdp.OneHotEncode(['Make', 'Chassis', 'Doors', 'Auction', 'Season', 'Month'], drop_first=False)\n",
    "df = onehot.fit_transform(df)"
   ],
   "metadata": {
    "collapsed": false
   }
  },
  {
   "cell_type": "code",
   "execution_count": 35,
   "outputs": [
    {
     "data": {
      "text/plain": "       IsBadBuy  VehicleAge  Make_ACURA  Make_BUICK  Make_CADILLAC  \\\n0             0           3           0           0              0   \n1             0           5           0           0              0   \n2             0           4           0           0              0   \n3             0           5           0           0              0   \n4             0           4           0           0              0   \n...         ...         ...         ...         ...            ...   \n72978         1           8           0           0              0   \n72979         0           2           0           0              0   \n72980         0           4           0           0              0   \n72981         0           3           0           0              0   \n72982         0           3           0           0              0   \n\n       Make_CHEVROLET  Make_CHRYSLER  Make_DODGE  Make_FORD  Make_GMC  ...  \\\n0                   0              0           0          0         0  ...   \n1                   0              0           1          0         0  ...   \n2                   0              0           1          0         0  ...   \n3                   0              0           1          0         0  ...   \n4                   0              0           0          1         0  ...   \n...               ...            ...         ...        ...       ...  ...   \n72978               0              0           0          0         0  ...   \n72979               1              0           0          0         0  ...   \n72980               0              0           0          0         0  ...   \n72981               1              0           0          0         0  ...   \n72982               0              0           0          0         0  ...   \n\n       Month_3  Month_4  Month_5  Month_6  Month_7  Month_8  Month_9  \\\n0            0        0        0        0        0        0        0   \n1            0        0        0        0        0        0        0   \n2            0        0        0        0        0        0        0   \n3            0        0        0        0        0        0        0   \n4            0        0        0        0        0        0        0   \n...        ...      ...      ...      ...      ...      ...      ...   \n72978        0        0        0        0        0        0        0   \n72979        0        0        0        0        0        0        0   \n72980        0        0        0        0        0        0        0   \n72981        0        0        0        0        0        0        0   \n72982        0        0        0        0        0        0        0   \n\n       Month_10  Month_11  Month_12  \n0             0         0         1  \n1             0         0         1  \n2             0         0         1  \n3             0         0         1  \n4             0         0         1  \n...         ...       ...       ...  \n72978         0         0         1  \n72979         0         0         1  \n72980         0         0         1  \n72981         0         0         1  \n72982         0         0         1  \n\n[72979 rows x 67 columns]",
      "text/html": "<div>\n<style scoped>\n    .dataframe tbody tr th:only-of-type {\n        vertical-align: middle;\n    }\n\n    .dataframe tbody tr th {\n        vertical-align: top;\n    }\n\n    .dataframe thead th {\n        text-align: right;\n    }\n</style>\n<table border=\"1\" class=\"dataframe\">\n  <thead>\n    <tr style=\"text-align: right;\">\n      <th></th>\n      <th>IsBadBuy</th>\n      <th>VehicleAge</th>\n      <th>Make_ACURA</th>\n      <th>Make_BUICK</th>\n      <th>Make_CADILLAC</th>\n      <th>Make_CHEVROLET</th>\n      <th>Make_CHRYSLER</th>\n      <th>Make_DODGE</th>\n      <th>Make_FORD</th>\n      <th>Make_GMC</th>\n      <th>...</th>\n      <th>Month_3</th>\n      <th>Month_4</th>\n      <th>Month_5</th>\n      <th>Month_6</th>\n      <th>Month_7</th>\n      <th>Month_8</th>\n      <th>Month_9</th>\n      <th>Month_10</th>\n      <th>Month_11</th>\n      <th>Month_12</th>\n    </tr>\n  </thead>\n  <tbody>\n    <tr>\n      <th>0</th>\n      <td>0</td>\n      <td>3</td>\n      <td>0</td>\n      <td>0</td>\n      <td>0</td>\n      <td>0</td>\n      <td>0</td>\n      <td>0</td>\n      <td>0</td>\n      <td>0</td>\n      <td>...</td>\n      <td>0</td>\n      <td>0</td>\n      <td>0</td>\n      <td>0</td>\n      <td>0</td>\n      <td>0</td>\n      <td>0</td>\n      <td>0</td>\n      <td>0</td>\n      <td>1</td>\n    </tr>\n    <tr>\n      <th>1</th>\n      <td>0</td>\n      <td>5</td>\n      <td>0</td>\n      <td>0</td>\n      <td>0</td>\n      <td>0</td>\n      <td>0</td>\n      <td>1</td>\n      <td>0</td>\n      <td>0</td>\n      <td>...</td>\n      <td>0</td>\n      <td>0</td>\n      <td>0</td>\n      <td>0</td>\n      <td>0</td>\n      <td>0</td>\n      <td>0</td>\n      <td>0</td>\n      <td>0</td>\n      <td>1</td>\n    </tr>\n    <tr>\n      <th>2</th>\n      <td>0</td>\n      <td>4</td>\n      <td>0</td>\n      <td>0</td>\n      <td>0</td>\n      <td>0</td>\n      <td>0</td>\n      <td>1</td>\n      <td>0</td>\n      <td>0</td>\n      <td>...</td>\n      <td>0</td>\n      <td>0</td>\n      <td>0</td>\n      <td>0</td>\n      <td>0</td>\n      <td>0</td>\n      <td>0</td>\n      <td>0</td>\n      <td>0</td>\n      <td>1</td>\n    </tr>\n    <tr>\n      <th>3</th>\n      <td>0</td>\n      <td>5</td>\n      <td>0</td>\n      <td>0</td>\n      <td>0</td>\n      <td>0</td>\n      <td>0</td>\n      <td>1</td>\n      <td>0</td>\n      <td>0</td>\n      <td>...</td>\n      <td>0</td>\n      <td>0</td>\n      <td>0</td>\n      <td>0</td>\n      <td>0</td>\n      <td>0</td>\n      <td>0</td>\n      <td>0</td>\n      <td>0</td>\n      <td>1</td>\n    </tr>\n    <tr>\n      <th>4</th>\n      <td>0</td>\n      <td>4</td>\n      <td>0</td>\n      <td>0</td>\n      <td>0</td>\n      <td>0</td>\n      <td>0</td>\n      <td>0</td>\n      <td>1</td>\n      <td>0</td>\n      <td>...</td>\n      <td>0</td>\n      <td>0</td>\n      <td>0</td>\n      <td>0</td>\n      <td>0</td>\n      <td>0</td>\n      <td>0</td>\n      <td>0</td>\n      <td>0</td>\n      <td>1</td>\n    </tr>\n    <tr>\n      <th>...</th>\n      <td>...</td>\n      <td>...</td>\n      <td>...</td>\n      <td>...</td>\n      <td>...</td>\n      <td>...</td>\n      <td>...</td>\n      <td>...</td>\n      <td>...</td>\n      <td>...</td>\n      <td>...</td>\n      <td>...</td>\n      <td>...</td>\n      <td>...</td>\n      <td>...</td>\n      <td>...</td>\n      <td>...</td>\n      <td>...</td>\n      <td>...</td>\n      <td>...</td>\n      <td>...</td>\n    </tr>\n    <tr>\n      <th>72978</th>\n      <td>1</td>\n      <td>8</td>\n      <td>0</td>\n      <td>0</td>\n      <td>0</td>\n      <td>0</td>\n      <td>0</td>\n      <td>0</td>\n      <td>0</td>\n      <td>0</td>\n      <td>...</td>\n      <td>0</td>\n      <td>0</td>\n      <td>0</td>\n      <td>0</td>\n      <td>0</td>\n      <td>0</td>\n      <td>0</td>\n      <td>0</td>\n      <td>0</td>\n      <td>1</td>\n    </tr>\n    <tr>\n      <th>72979</th>\n      <td>0</td>\n      <td>2</td>\n      <td>0</td>\n      <td>0</td>\n      <td>0</td>\n      <td>1</td>\n      <td>0</td>\n      <td>0</td>\n      <td>0</td>\n      <td>0</td>\n      <td>...</td>\n      <td>0</td>\n      <td>0</td>\n      <td>0</td>\n      <td>0</td>\n      <td>0</td>\n      <td>0</td>\n      <td>0</td>\n      <td>0</td>\n      <td>0</td>\n      <td>1</td>\n    </tr>\n    <tr>\n      <th>72980</th>\n      <td>0</td>\n      <td>4</td>\n      <td>0</td>\n      <td>0</td>\n      <td>0</td>\n      <td>0</td>\n      <td>0</td>\n      <td>0</td>\n      <td>0</td>\n      <td>0</td>\n      <td>...</td>\n      <td>0</td>\n      <td>0</td>\n      <td>0</td>\n      <td>0</td>\n      <td>0</td>\n      <td>0</td>\n      <td>0</td>\n      <td>0</td>\n      <td>0</td>\n      <td>1</td>\n    </tr>\n    <tr>\n      <th>72981</th>\n      <td>0</td>\n      <td>3</td>\n      <td>0</td>\n      <td>0</td>\n      <td>0</td>\n      <td>1</td>\n      <td>0</td>\n      <td>0</td>\n      <td>0</td>\n      <td>0</td>\n      <td>...</td>\n      <td>0</td>\n      <td>0</td>\n      <td>0</td>\n      <td>0</td>\n      <td>0</td>\n      <td>0</td>\n      <td>0</td>\n      <td>0</td>\n      <td>0</td>\n      <td>1</td>\n    </tr>\n    <tr>\n      <th>72982</th>\n      <td>0</td>\n      <td>3</td>\n      <td>0</td>\n      <td>0</td>\n      <td>0</td>\n      <td>0</td>\n      <td>0</td>\n      <td>0</td>\n      <td>0</td>\n      <td>0</td>\n      <td>...</td>\n      <td>0</td>\n      <td>0</td>\n      <td>0</td>\n      <td>0</td>\n      <td>0</td>\n      <td>0</td>\n      <td>0</td>\n      <td>0</td>\n      <td>0</td>\n      <td>1</td>\n    </tr>\n  </tbody>\n</table>\n<p>72979 rows × 67 columns</p>\n</div>"
     },
     "execution_count": 35,
     "metadata": {},
     "output_type": "execute_result"
    }
   ],
   "source": [
    "df"
   ],
   "metadata": {
    "collapsed": false
   }
  }
 ],
 "metadata": {
  "kernelspec": {
   "display_name": "Python 3",
   "language": "python",
   "name": "python3"
  },
  "language_info": {
   "codemirror_mode": {
    "name": "ipython",
    "version": 2
   },
   "file_extension": ".py",
   "mimetype": "text/x-python",
   "name": "python",
   "nbconvert_exporter": "python",
   "pygments_lexer": "ipython2",
   "version": "2.7.6"
  }
 },
 "nbformat": 4,
 "nbformat_minor": 0
}
