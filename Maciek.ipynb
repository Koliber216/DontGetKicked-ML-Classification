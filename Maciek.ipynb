{
 "cells": [
  {
   "cell_type": "code",
   "execution_count": 1,
   "metadata": {
    "collapsed": true
   },
   "outputs": [],
   "source": [
    "import pandas as pd"
   ]
  },
  {
   "cell_type": "code",
   "execution_count": 2,
   "outputs": [
    {
     "data": {
      "text/plain": "(72983, 9)"
     },
     "execution_count": 2,
     "metadata": {},
     "output_type": "execute_result"
    }
   ],
   "source": [
    "data = pd.read_csv('training.csv')\n",
    "df = data.iloc[:, 1:10]\n",
    "df.shape"
   ],
   "metadata": {
    "collapsed": false
   }
  },
  {
   "cell_type": "code",
   "execution_count": 3,
   "outputs": [
    {
     "data": {
      "text/plain": "   IsBadBuy  PurchDate Auction  VehYear  VehicleAge   Make  \\\n0         0  12/7/2009   ADESA     2006           3  MAZDA   \n1         0  12/7/2009   ADESA     2004           5  DODGE   \n2         0  12/7/2009   ADESA     2005           4  DODGE   \n3         0  12/7/2009   ADESA     2004           5  DODGE   \n4         0  12/7/2009   ADESA     2005           4   FORD   \n\n                 Model Trim           SubModel  \n0               MAZDA3    i         4D SEDAN I  \n1  1500 RAM PICKUP 2WD   ST  QUAD CAB 4.7L SLT  \n2           STRATUS V6  SXT   4D SEDAN SXT FFV  \n3                 NEON  SXT           4D SEDAN  \n4                FOCUS  ZX3       2D COUPE ZX3  ",
      "text/html": "<div>\n<style scoped>\n    .dataframe tbody tr th:only-of-type {\n        vertical-align: middle;\n    }\n\n    .dataframe tbody tr th {\n        vertical-align: top;\n    }\n\n    .dataframe thead th {\n        text-align: right;\n    }\n</style>\n<table border=\"1\" class=\"dataframe\">\n  <thead>\n    <tr style=\"text-align: right;\">\n      <th></th>\n      <th>IsBadBuy</th>\n      <th>PurchDate</th>\n      <th>Auction</th>\n      <th>VehYear</th>\n      <th>VehicleAge</th>\n      <th>Make</th>\n      <th>Model</th>\n      <th>Trim</th>\n      <th>SubModel</th>\n    </tr>\n  </thead>\n  <tbody>\n    <tr>\n      <th>0</th>\n      <td>0</td>\n      <td>12/7/2009</td>\n      <td>ADESA</td>\n      <td>2006</td>\n      <td>3</td>\n      <td>MAZDA</td>\n      <td>MAZDA3</td>\n      <td>i</td>\n      <td>4D SEDAN I</td>\n    </tr>\n    <tr>\n      <th>1</th>\n      <td>0</td>\n      <td>12/7/2009</td>\n      <td>ADESA</td>\n      <td>2004</td>\n      <td>5</td>\n      <td>DODGE</td>\n      <td>1500 RAM PICKUP 2WD</td>\n      <td>ST</td>\n      <td>QUAD CAB 4.7L SLT</td>\n    </tr>\n    <tr>\n      <th>2</th>\n      <td>0</td>\n      <td>12/7/2009</td>\n      <td>ADESA</td>\n      <td>2005</td>\n      <td>4</td>\n      <td>DODGE</td>\n      <td>STRATUS V6</td>\n      <td>SXT</td>\n      <td>4D SEDAN SXT FFV</td>\n    </tr>\n    <tr>\n      <th>3</th>\n      <td>0</td>\n      <td>12/7/2009</td>\n      <td>ADESA</td>\n      <td>2004</td>\n      <td>5</td>\n      <td>DODGE</td>\n      <td>NEON</td>\n      <td>SXT</td>\n      <td>4D SEDAN</td>\n    </tr>\n    <tr>\n      <th>4</th>\n      <td>0</td>\n      <td>12/7/2009</td>\n      <td>ADESA</td>\n      <td>2005</td>\n      <td>4</td>\n      <td>FORD</td>\n      <td>FOCUS</td>\n      <td>ZX3</td>\n      <td>2D COUPE ZX3</td>\n    </tr>\n  </tbody>\n</table>\n</div>"
     },
     "execution_count": 3,
     "metadata": {},
     "output_type": "execute_result"
    }
   ],
   "source": [
    "df.head()"
   ],
   "metadata": {
    "collapsed": false
   }
  },
  {
   "cell_type": "code",
   "execution_count": 4,
   "outputs": [
    {
     "name": "stdout",
     "output_type": "stream",
     "text": [
      "<class 'pandas.core.frame.DataFrame'>\n",
      "RangeIndex: 72983 entries, 0 to 72982\n",
      "Data columns (total 9 columns):\n",
      " #   Column      Non-Null Count  Dtype \n",
      "---  ------      --------------  ----- \n",
      " 0   IsBadBuy    72983 non-null  int64 \n",
      " 1   PurchDate   72983 non-null  object\n",
      " 2   Auction     72983 non-null  object\n",
      " 3   VehYear     72983 non-null  int64 \n",
      " 4   VehicleAge  72983 non-null  int64 \n",
      " 5   Make        72983 non-null  object\n",
      " 6   Model       72983 non-null  object\n",
      " 7   Trim        70623 non-null  object\n",
      " 8   SubModel    72975 non-null  object\n",
      "dtypes: int64(3), object(6)\n",
      "memory usage: 5.0+ MB\n"
     ]
    }
   ],
   "source": [
    "df.info()"
   ],
   "metadata": {
    "collapsed": false
   }
  },
  {
   "cell_type": "markdown",
   "source": [
    "# Data Exploration"
   ],
   "metadata": {
    "collapsed": false
   }
  },
  {
   "cell_type": "markdown",
   "source": [
    "## PurchDate\n",
    "\n",
    "Data zakupu samochodu na aukcji"
   ],
   "metadata": {
    "collapsed": false
   }
  },
  {
   "cell_type": "code",
   "execution_count": 5,
   "outputs": [],
   "source": [
    "df['PurchDate'] = pd.to_datetime(df['PurchDate'])\n",
    "df['Year'] = df['PurchDate'].dt.year\n",
    "df['Month'] = df['PurchDate'].dt.month\n",
    "df['Day'] = df['PurchDate'].dt.day"
   ],
   "metadata": {
    "collapsed": false
   }
  },
  {
   "cell_type": "code",
   "execution_count": 6,
   "outputs": [
    {
     "data": {
      "text/plain": "2010    37922\n2009    35061\nName: Year, dtype: int64"
     },
     "execution_count": 6,
     "metadata": {},
     "output_type": "execute_result"
    }
   ],
   "source": [
    "df.Year.value_counts()"
   ],
   "metadata": {
    "collapsed": false
   }
  },
  {
   "cell_type": "code",
   "execution_count": 7,
   "outputs": [
    {
     "data": {
      "text/plain": "         mean  count\nYear                \n2010  0.13003  37922\n2009  0.11537  35061",
      "text/html": "<div>\n<style scoped>\n    .dataframe tbody tr th:only-of-type {\n        vertical-align: middle;\n    }\n\n    .dataframe tbody tr th {\n        vertical-align: top;\n    }\n\n    .dataframe thead th {\n        text-align: right;\n    }\n</style>\n<table border=\"1\" class=\"dataframe\">\n  <thead>\n    <tr style=\"text-align: right;\">\n      <th></th>\n      <th>mean</th>\n      <th>count</th>\n    </tr>\n    <tr>\n      <th>Year</th>\n      <th></th>\n      <th></th>\n    </tr>\n  </thead>\n  <tbody>\n    <tr>\n      <th>2010</th>\n      <td>0.13003</td>\n      <td>37922</td>\n    </tr>\n    <tr>\n      <th>2009</th>\n      <td>0.11537</td>\n      <td>35061</td>\n    </tr>\n  </tbody>\n</table>\n</div>"
     },
     "execution_count": 7,
     "metadata": {},
     "output_type": "execute_result"
    }
   ],
   "source": [
    "df.groupby('Year')['IsBadBuy'].agg(['mean','count']).sort_values('mean',ascending = False)"
   ],
   "metadata": {
    "collapsed": false
   }
  },
  {
   "cell_type": "markdown",
   "source": [
    "Mamy do czynienia z danymi pochodzącymi z dwóch lat, raczej nie będziemy rozpatrywać roku jako istotnej cechy."
   ],
   "metadata": {
    "collapsed": false
   }
  },
  {
   "cell_type": "code",
   "execution_count": 8,
   "outputs": [
    {
     "data": {
      "text/plain": "<AxesSubplot:>"
     },
     "execution_count": 8,
     "metadata": {},
     "output_type": "execute_result"
    },
    {
     "data": {
      "text/plain": "<Figure size 432x288 with 1 Axes>",
      "image/png": "[encoded data removed]"
     },
     "metadata": {},
     "output_type": "display_data"
    }
   ],
   "source": [
    "df.Month.hist(bins=12)"
   ],
   "metadata": {
    "collapsed": false
   }
  },
  {
   "cell_type": "markdown",
   "source": [
    "Zakupy odbywały się najczęściej w miesiącach jesiennych i wczesnowiosennych, rzadziej latem a najrzadziej na przełomie roku."
   ],
   "metadata": {
    "collapsed": false
   }
  },
  {
   "cell_type": "code",
   "execution_count": 9,
   "outputs": [
    {
     "data": {
      "text/plain": "           mean  count\nMonth                 \n3      0.144478   6257\n9      0.138842   6511\n12     0.133942   5368\n1      0.132285   4770\n8      0.130477   6139\n2      0.130136   6839\n4      0.125864   5935\n11     0.118652   6675\n6      0.111013   5675\n7      0.109598   5876\n10     0.106158   7178\n5      0.095833   5760",
      "text/html": "<div>\n<style scoped>\n    .dataframe tbody tr th:only-of-type {\n        vertical-align: middle;\n    }\n\n    .dataframe tbody tr th {\n        vertical-align: top;\n    }\n\n    .dataframe thead th {\n        text-align: right;\n    }\n</style>\n<table border=\"1\" class=\"dataframe\">\n  <thead>\n    <tr style=\"text-align: right;\">\n      <th></th>\n      <th>mean</th>\n      <th>count</th>\n    </tr>\n    <tr>\n      <th>Month</th>\n      <th></th>\n      <th></th>\n    </tr>\n  </thead>\n  <tbody>\n    <tr>\n      <th>3</th>\n      <td>0.144478</td>\n      <td>6257</td>\n    </tr>\n    <tr>\n      <th>9</th>\n      <td>0.138842</td>\n      <td>6511</td>\n    </tr>\n    <tr>\n      <th>12</th>\n      <td>0.133942</td>\n      <td>5368</td>\n    </tr>\n    <tr>\n      <th>1</th>\n      <td>0.132285</td>\n      <td>4770</td>\n    </tr>\n    <tr>\n      <th>8</th>\n      <td>0.130477</td>\n      <td>6139</td>\n    </tr>\n    <tr>\n      <th>2</th>\n      <td>0.130136</td>\n      <td>6839</td>\n    </tr>\n    <tr>\n      <th>4</th>\n      <td>0.125864</td>\n      <td>5935</td>\n    </tr>\n    <tr>\n      <th>11</th>\n      <td>0.118652</td>\n      <td>6675</td>\n    </tr>\n    <tr>\n      <th>6</th>\n      <td>0.111013</td>\n      <td>5675</td>\n    </tr>\n    <tr>\n      <th>7</th>\n      <td>0.109598</td>\n      <td>5876</td>\n    </tr>\n    <tr>\n      <th>10</th>\n      <td>0.106158</td>\n      <td>7178</td>\n    </tr>\n    <tr>\n      <th>5</th>\n      <td>0.095833</td>\n      <td>5760</td>\n    </tr>\n  </tbody>\n</table>\n</div>"
     },
     "execution_count": 9,
     "metadata": {},
     "output_type": "execute_result"
    }
   ],
   "source": [
    "df.groupby('Month')['IsBadBuy'].agg(['mean','count']).sort_values('mean',ascending = False)"
   ],
   "metadata": {
    "collapsed": false
   }
  },
  {
   "cell_type": "markdown",
   "source": [
    "Mieszane odczucia - różnica w średnich jest widoczna, szczególnie rzucają się w oczy styczeń i grudzień - jest wtedy również najmniej zakupów, ale mało zakupów jest też latem i średnie są z kolei niskie, kiedy jest najwięcej zakupów - październik, listopad to również mamy niskie średnie. No i wygląda na to że lepiej nie kupować w marcu.\n",
    "\n",
    "Trzeba będzie pomyśleć czy uwzględniać miesiąc w modelu"
   ],
   "metadata": {
    "collapsed": false
   }
  },
  {
   "cell_type": "code",
   "execution_count": 10,
   "outputs": [
    {
     "data": {
      "text/plain": "<AxesSubplot:>"
     },
     "execution_count": 10,
     "metadata": {},
     "output_type": "execute_result"
    },
    {
     "data": {
      "text/plain": "<Figure size 432x288 with 1 Axes>",
      "image/png": "[encoded data removed]"
     },
     "metadata": {},
     "output_type": "display_data"
    }
   ],
   "source": [
    "df.Day.hist(bins=31)"
   ],
   "metadata": {
    "collapsed": false
   }
  },
  {
   "cell_type": "code",
   "execution_count": 11,
   "outputs": [
    {
     "data": {
      "text/plain": "         mean  count\nDay                 \n31   0.142077    549\n3    0.136399   2544\n2    0.135249   2366\n7    0.133364   2182\n1    0.133301   2048\n19   0.132812   2304\n10   0.132511   2513\n30   0.132298   2124\n4    0.131127   2387\n9    0.130986   2443\n22   0.130980   2550\n25   0.129503   2193\n24   0.126732   2454\n11   0.126137   2529\n28   0.125981   2421\n15   0.125626   2396\n26   0.125472   2120\n23   0.124844   2403\n6    0.124485   2185\n5    0.122459   2017\n14   0.119451   2478\n16   0.117733   2735\n8    0.117012   2410\n17   0.116927   2694\n27   0.116407   2371\n29   0.114964   2105\n13   0.111468   2494\n12   0.109091   2420\n18   0.108892   3104\n20   0.105324   2611\n21   0.101306   2833",
      "text/html": "<div>\n<style scoped>\n    .dataframe tbody tr th:only-of-type {\n        vertical-align: middle;\n    }\n\n    .dataframe tbody tr th {\n        vertical-align: top;\n    }\n\n    .dataframe thead th {\n        text-align: right;\n    }\n</style>\n<table border=\"1\" class=\"dataframe\">\n  <thead>\n    <tr style=\"text-align: right;\">\n      <th></th>\n      <th>mean</th>\n      <th>count</th>\n    </tr>\n    <tr>\n      <th>Day</th>\n      <th></th>\n      <th></th>\n    </tr>\n  </thead>\n  <tbody>\n    <tr>\n      <th>31</th>\n      <td>0.142077</td>\n      <td>549</td>\n    </tr>\n    <tr>\n      <th>3</th>\n      <td>0.136399</td>\n      <td>2544</td>\n    </tr>\n    <tr>\n      <th>2</th>\n      <td>0.135249</td>\n      <td>2366</td>\n    </tr>\n    <tr>\n      <th>7</th>\n      <td>0.133364</td>\n      <td>2182</td>\n    </tr>\n    <tr>\n      <th>1</th>\n      <td>0.133301</td>\n      <td>2048</td>\n    </tr>\n    <tr>\n      <th>19</th>\n      <td>0.132812</td>\n      <td>2304</td>\n    </tr>\n    <tr>\n      <th>10</th>\n      <td>0.132511</td>\n      <td>2513</td>\n    </tr>\n    <tr>\n      <th>30</th>\n      <td>0.132298</td>\n      <td>2124</td>\n    </tr>\n    <tr>\n      <th>4</th>\n      <td>0.131127</td>\n      <td>2387</td>\n    </tr>\n    <tr>\n      <th>9</th>\n      <td>0.130986</td>\n      <td>2443</td>\n    </tr>\n    <tr>\n      <th>22</th>\n      <td>0.130980</td>\n      <td>2550</td>\n    </tr>\n    <tr>\n      <th>25</th>\n      <td>0.129503</td>\n      <td>2193</td>\n    </tr>\n    <tr>\n      <th>24</th>\n      <td>0.126732</td>\n      <td>2454</td>\n    </tr>\n    <tr>\n      <th>11</th>\n      <td>0.126137</td>\n      <td>2529</td>\n    </tr>\n    <tr>\n      <th>28</th>\n      <td>0.125981</td>\n      <td>2421</td>\n    </tr>\n    <tr>\n      <th>15</th>\n      <td>0.125626</td>\n      <td>2396</td>\n    </tr>\n    <tr>\n      <th>26</th>\n      <td>0.125472</td>\n      <td>2120</td>\n    </tr>\n    <tr>\n      <th>23</th>\n      <td>0.124844</td>\n      <td>2403</td>\n    </tr>\n    <tr>\n      <th>6</th>\n      <td>0.124485</td>\n      <td>2185</td>\n    </tr>\n    <tr>\n      <th>5</th>\n      <td>0.122459</td>\n      <td>2017</td>\n    </tr>\n    <tr>\n      <th>14</th>\n      <td>0.119451</td>\n      <td>2478</td>\n    </tr>\n    <tr>\n      <th>16</th>\n      <td>0.117733</td>\n      <td>2735</td>\n    </tr>\n    <tr>\n      <th>8</th>\n      <td>0.117012</td>\n      <td>2410</td>\n    </tr>\n    <tr>\n      <th>17</th>\n      <td>0.116927</td>\n      <td>2694</td>\n    </tr>\n    <tr>\n      <th>27</th>\n      <td>0.116407</td>\n      <td>2371</td>\n    </tr>\n    <tr>\n      <th>29</th>\n      <td>0.114964</td>\n      <td>2105</td>\n    </tr>\n    <tr>\n      <th>13</th>\n      <td>0.111468</td>\n      <td>2494</td>\n    </tr>\n    <tr>\n      <th>12</th>\n      <td>0.109091</td>\n      <td>2420</td>\n    </tr>\n    <tr>\n      <th>18</th>\n      <td>0.108892</td>\n      <td>3104</td>\n    </tr>\n    <tr>\n      <th>20</th>\n      <td>0.105324</td>\n      <td>2611</td>\n    </tr>\n    <tr>\n      <th>21</th>\n      <td>0.101306</td>\n      <td>2833</td>\n    </tr>\n  </tbody>\n</table>\n</div>"
     },
     "execution_count": 11,
     "metadata": {},
     "output_type": "execute_result"
    }
   ],
   "source": [
    "df.groupby('Day')['IsBadBuy'].agg(['mean','count']).sort_values('mean',ascending = False)"
   ],
   "metadata": {
    "collapsed": false
   }
  },
  {
   "cell_type": "markdown",
   "source": [
    "Z dni nie wynikają żadne interesujące zależności."
   ],
   "metadata": {
    "collapsed": false
   }
  },
  {
   "cell_type": "markdown",
   "source": [
    "**Wnioski: trzeba będzie rozpatrzeć miesiąc jako być może istotną cechę, jeśli tak, wypadałoby zrobić jego preprocessing**"
   ],
   "metadata": {
    "collapsed": false
   }
  },
  {
   "cell_type": "markdown",
   "source": [
    "## Auction\n",
    "\n",
    "Identyfikator dostawcy na aukcji, u którego samochód został kupiony"
   ],
   "metadata": {
    "collapsed": false
   }
  },
  {
   "cell_type": "code",
   "execution_count": 12,
   "outputs": [
    {
     "data": {
      "text/plain": "MANHEIM    41043\nOTHER      17501\nADESA      14439\nName: Auction, dtype: int64"
     },
     "execution_count": 12,
     "metadata": {},
     "output_type": "execute_result"
    }
   ],
   "source": [
    "df.Auction.value_counts()"
   ],
   "metadata": {
    "collapsed": false
   }
  },
  {
   "cell_type": "code",
   "execution_count": 13,
   "outputs": [
    {
     "data": {
      "text/plain": "             mean  count\nAuction                 \nADESA    0.151880  14439\nOTHER    0.118165  17501\nMANHEIM  0.114880  41043",
      "text/html": "<div>\n<style scoped>\n    .dataframe tbody tr th:only-of-type {\n        vertical-align: middle;\n    }\n\n    .dataframe tbody tr th {\n        vertical-align: top;\n    }\n\n    .dataframe thead th {\n        text-align: right;\n    }\n</style>\n<table border=\"1\" class=\"dataframe\">\n  <thead>\n    <tr style=\"text-align: right;\">\n      <th></th>\n      <th>mean</th>\n      <th>count</th>\n    </tr>\n    <tr>\n      <th>Auction</th>\n      <th></th>\n      <th></th>\n    </tr>\n  </thead>\n  <tbody>\n    <tr>\n      <th>ADESA</th>\n      <td>0.151880</td>\n      <td>14439</td>\n    </tr>\n    <tr>\n      <th>OTHER</th>\n      <td>0.118165</td>\n      <td>17501</td>\n    </tr>\n    <tr>\n      <th>MANHEIM</th>\n      <td>0.114880</td>\n      <td>41043</td>\n    </tr>\n  </tbody>\n</table>\n</div>"
     },
     "execution_count": 13,
     "metadata": {},
     "output_type": "execute_result"
    }
   ],
   "source": [
    "df.groupby('Auction')['IsBadBuy'].agg(['mean','count']).sort_values('mean',ascending = False)"
   ],
   "metadata": {
    "collapsed": false
   }
  },
  {
   "cell_type": "markdown",
   "source": [
    "Jest widoczna pewna zależność - uwzględnimy to. Do przeprocesowania jakiś one hot encoder może wleci."
   ],
   "metadata": {
    "collapsed": false
   }
  },
  {
   "cell_type": "markdown",
   "source": [
    "## VehYear\n",
    "\n",
    "Rok produkcji samochodu"
   ],
   "metadata": {
    "collapsed": false
   }
  },
  {
   "cell_type": "code",
   "execution_count": 14,
   "outputs": [
    {
     "data": {
      "text/plain": "<AxesSubplot:>"
     },
     "execution_count": 14,
     "metadata": {},
     "output_type": "execute_result"
    },
    {
     "data": {
      "text/plain": "<Figure size 432x288 with 1 Axes>",
      "image/png": "[encoded data removed]"
     },
     "metadata": {},
     "output_type": "display_data"
    }
   ],
   "source": [
    "df.VehYear.hist()"
   ],
   "metadata": {
    "collapsed": false
   }
  },
  {
   "cell_type": "code",
   "execution_count": 15,
   "outputs": [
    {
     "data": {
      "text/plain": "             mean  count\nVehYear                 \n2001     0.287643   1481\n2002     0.240235   3405\n2003     0.194315   6227\n2004     0.155482  10207\n2005     0.131190  15489\n2006     0.093880  17043\n2007     0.077738  11423\n2008     0.055919   6885\n2009     0.036496    822\n2010     0.000000      1",
      "text/html": "<div>\n<style scoped>\n    .dataframe tbody tr th:only-of-type {\n        vertical-align: middle;\n    }\n\n    .dataframe tbody tr th {\n        vertical-align: top;\n    }\n\n    .dataframe thead th {\n        text-align: right;\n    }\n</style>\n<table border=\"1\" class=\"dataframe\">\n  <thead>\n    <tr style=\"text-align: right;\">\n      <th></th>\n      <th>mean</th>\n      <th>count</th>\n    </tr>\n    <tr>\n      <th>VehYear</th>\n      <th></th>\n      <th></th>\n    </tr>\n  </thead>\n  <tbody>\n    <tr>\n      <th>2001</th>\n      <td>0.287643</td>\n      <td>1481</td>\n    </tr>\n    <tr>\n      <th>2002</th>\n      <td>0.240235</td>\n      <td>3405</td>\n    </tr>\n    <tr>\n      <th>2003</th>\n      <td>0.194315</td>\n      <td>6227</td>\n    </tr>\n    <tr>\n      <th>2004</th>\n      <td>0.155482</td>\n      <td>10207</td>\n    </tr>\n    <tr>\n      <th>2005</th>\n      <td>0.131190</td>\n      <td>15489</td>\n    </tr>\n    <tr>\n      <th>2006</th>\n      <td>0.093880</td>\n      <td>17043</td>\n    </tr>\n    <tr>\n      <th>2007</th>\n      <td>0.077738</td>\n      <td>11423</td>\n    </tr>\n    <tr>\n      <th>2008</th>\n      <td>0.055919</td>\n      <td>6885</td>\n    </tr>\n    <tr>\n      <th>2009</th>\n      <td>0.036496</td>\n      <td>822</td>\n    </tr>\n    <tr>\n      <th>2010</th>\n      <td>0.000000</td>\n      <td>1</td>\n    </tr>\n  </tbody>\n</table>\n</div>"
     },
     "execution_count": 15,
     "metadata": {},
     "output_type": "execute_result"
    }
   ],
   "source": [
    "df.groupby('VehYear')['IsBadBuy'].agg(['mean','count']).sort_values('mean',ascending = False)"
   ],
   "metadata": {
    "collapsed": false
   }
  },
  {
   "cell_type": "markdown",
   "source": [
    "Jest to istotna zmienna z punktu widzenia lemonów."
   ],
   "metadata": {
    "collapsed": false
   }
  },
  {
   "cell_type": "markdown",
   "source": [
    "## VehicleAge\n",
    "\n",
    "Lata minione od roku produkcji"
   ],
   "metadata": {
    "collapsed": false
   }
  },
  {
   "cell_type": "code",
   "execution_count": 16,
   "outputs": [
    {
     "data": {
      "text/plain": "-0.9579570737977844"
     },
     "execution_count": 16,
     "metadata": {},
     "output_type": "execute_result"
    }
   ],
   "source": [
    "df.VehYear.corr(df.VehicleAge)"
   ],
   "metadata": {
    "collapsed": false
   }
  },
  {
   "cell_type": "markdown",
   "source": [
    "Bez zaskoczenia, zmienna do usunięcia."
   ],
   "metadata": {
    "collapsed": false
   }
  },
  {
   "cell_type": "markdown",
   "source": [
    "## Make\n",
    "\n",
    "Producent samochodu"
   ],
   "metadata": {
    "collapsed": false
   }
  },
  {
   "cell_type": "code",
   "execution_count": 17,
   "outputs": [
    {
     "data": {
      "text/plain": "CHEVROLET       17248\nDODGE           12912\nFORD            11305\nCHRYSLER         8844\nPONTIAC          4258\nKIA              2484\nSATURN           2163\nNISSAN           2085\nHYUNDAI          1811\nJEEP             1644\nSUZUKI           1328\nTOYOTA           1144\nMITSUBISHI       1030\nMAZDA             979\nMERCURY           913\nBUICK             720\nGMC               649\nHONDA             497\nOLDSMOBILE        243\nVOLKSWAGEN        134\nISUZU             134\nSCION             129\nLINCOLN            97\nINFINITI           42\nVOLVO              37\nCADILLAC           33\nACURA              33\nLEXUS              31\nSUBARU             28\nMINI               24\nPLYMOUTH            2\nTOYOTA SCION        1\nHUMMER              1\nName: Make, dtype: int64"
     },
     "execution_count": 17,
     "metadata": {},
     "output_type": "execute_result"
    }
   ],
   "source": [
    "df.Make.value_counts()"
   ],
   "metadata": {
    "collapsed": false
   }
  },
  {
   "cell_type": "code",
   "execution_count": 18,
   "outputs": [
    {
     "data": {
      "text/plain": "                  mean  count\nMake                         \nPLYMOUTH      0.500000      2\nLEXUS         0.354839     31\nINFINITI      0.333333     42\nMINI          0.333333     24\nLINCOLN       0.298969     97\nACURA         0.272727     33\nSUBARU        0.214286     28\nOLDSMOBILE    0.201646    243\nMERCURY       0.169770    913\nMAZDA         0.161389    979\nNISSAN        0.159712   2085\nBUICK         0.156944    720\nJEEP          0.154501   1644\nFORD          0.154091  11305\nCADILLAC      0.151515     33\nSUZUKI        0.146837   1328\nVOLKSWAGEN    0.141791    134\nSATURN        0.141470   2163\nHYUNDAI       0.128658   1811\nCHRYSLER      0.128562   8844\nMITSUBISHI    0.119417   1030\nPONTIAC       0.119070   4258\nKIA           0.117552   2484\nGMC           0.115562    649\nHONDA         0.108652    497\nDODGE         0.103237  12912\nTOYOTA        0.099650   1144\nCHEVROLET     0.097461  17248\nSCION         0.085271    129\nISUZU         0.067164    134\nTOYOTA SCION  0.000000      1\nHUMMER        0.000000      1\nVOLVO         0.000000     37",
      "text/html": "<div>\n<style scoped>\n    .dataframe tbody tr th:only-of-type {\n        vertical-align: middle;\n    }\n\n    .dataframe tbody tr th {\n        vertical-align: top;\n    }\n\n    .dataframe thead th {\n        text-align: right;\n    }\n</style>\n<table border=\"1\" class=\"dataframe\">\n  <thead>\n    <tr style=\"text-align: right;\">\n      <th></th>\n      <th>mean</th>\n      <th>count</th>\n    </tr>\n    <tr>\n      <th>Make</th>\n      <th></th>\n      <th></th>\n    </tr>\n  </thead>\n  <tbody>\n    <tr>\n      <th>PLYMOUTH</th>\n      <td>0.500000</td>\n      <td>2</td>\n    </tr>\n    <tr>\n      <th>LEXUS</th>\n      <td>0.354839</td>\n      <td>31</td>\n    </tr>\n    <tr>\n      <th>INFINITI</th>\n      <td>0.333333</td>\n      <td>42</td>\n    </tr>\n    <tr>\n      <th>MINI</th>\n      <td>0.333333</td>\n      <td>24</td>\n    </tr>\n    <tr>\n      <th>LINCOLN</th>\n      <td>0.298969</td>\n      <td>97</td>\n    </tr>\n    <tr>\n      <th>ACURA</th>\n      <td>0.272727</td>\n      <td>33</td>\n    </tr>\n    <tr>\n      <th>SUBARU</th>\n      <td>0.214286</td>\n      <td>28</td>\n    </tr>\n    <tr>\n      <th>OLDSMOBILE</th>\n      <td>0.201646</td>\n      <td>243</td>\n    </tr>\n    <tr>\n      <th>MERCURY</th>\n      <td>0.169770</td>\n      <td>913</td>\n    </tr>\n    <tr>\n      <th>MAZDA</th>\n      <td>0.161389</td>\n      <td>979</td>\n    </tr>\n    <tr>\n      <th>NISSAN</th>\n      <td>0.159712</td>\n      <td>2085</td>\n    </tr>\n    <tr>\n      <th>BUICK</th>\n      <td>0.156944</td>\n      <td>720</td>\n    </tr>\n    <tr>\n      <th>JEEP</th>\n      <td>0.154501</td>\n      <td>1644</td>\n    </tr>\n    <tr>\n      <th>FORD</th>\n      <td>0.154091</td>\n      <td>11305</td>\n    </tr>\n    <tr>\n      <th>CADILLAC</th>\n      <td>0.151515</td>\n      <td>33</td>\n    </tr>\n    <tr>\n      <th>SUZUKI</th>\n      <td>0.146837</td>\n      <td>1328</td>\n    </tr>\n    <tr>\n      <th>VOLKSWAGEN</th>\n      <td>0.141791</td>\n      <td>134</td>\n    </tr>\n    <tr>\n      <th>SATURN</th>\n      <td>0.141470</td>\n      <td>2163</td>\n    </tr>\n    <tr>\n      <th>HYUNDAI</th>\n      <td>0.128658</td>\n      <td>1811</td>\n    </tr>\n    <tr>\n      <th>CHRYSLER</th>\n      <td>0.128562</td>\n      <td>8844</td>\n    </tr>\n    <tr>\n      <th>MITSUBISHI</th>\n      <td>0.119417</td>\n      <td>1030</td>\n    </tr>\n    <tr>\n      <th>PONTIAC</th>\n      <td>0.119070</td>\n      <td>4258</td>\n    </tr>\n    <tr>\n      <th>KIA</th>\n      <td>0.117552</td>\n      <td>2484</td>\n    </tr>\n    <tr>\n      <th>GMC</th>\n      <td>0.115562</td>\n      <td>649</td>\n    </tr>\n    <tr>\n      <th>HONDA</th>\n      <td>0.108652</td>\n      <td>497</td>\n    </tr>\n    <tr>\n      <th>DODGE</th>\n      <td>0.103237</td>\n      <td>12912</td>\n    </tr>\n    <tr>\n      <th>TOYOTA</th>\n      <td>0.099650</td>\n      <td>1144</td>\n    </tr>\n    <tr>\n      <th>CHEVROLET</th>\n      <td>0.097461</td>\n      <td>17248</td>\n    </tr>\n    <tr>\n      <th>SCION</th>\n      <td>0.085271</td>\n      <td>129</td>\n    </tr>\n    <tr>\n      <th>ISUZU</th>\n      <td>0.067164</td>\n      <td>134</td>\n    </tr>\n    <tr>\n      <th>TOYOTA SCION</th>\n      <td>0.000000</td>\n      <td>1</td>\n    </tr>\n    <tr>\n      <th>HUMMER</th>\n      <td>0.000000</td>\n      <td>1</td>\n    </tr>\n    <tr>\n      <th>VOLVO</th>\n      <td>0.000000</td>\n      <td>37</td>\n    </tr>\n  </tbody>\n</table>\n</div>"
     },
     "execution_count": 18,
     "metadata": {},
     "output_type": "execute_result"
    }
   ],
   "source": [
    "df.groupby('Make')['IsBadBuy'].agg(['mean','count']).sort_values('mean',ascending = False)"
   ],
   "metadata": {
    "collapsed": false
   }
  },
  {
   "cell_type": "markdown",
   "source": [
    "Dość istotna kwestia - trzeba będzie się tym zająć."
   ],
   "metadata": {
    "collapsed": false
   }
  },
  {
   "cell_type": "markdown",
   "source": [
    "## Model\n",
    "\n",
    "Model samochodu"
   ],
   "metadata": {
    "collapsed": false
   }
  },
  {
   "cell_type": "code",
   "execution_count": 19,
   "outputs": [
    {
     "data": {
      "text/plain": "PT CRUISER              2329\nIMPALA                  1990\nTAURUS                  1425\nCALIBER                 1375\nCARAVAN GRAND FWD V6    1289\n                        ... \nESCAPE                     1\nPRIZM 1.8L I-4 SFI D       1\nCAMRY V6 3.0L / 3.3L       1\nLHS                        1\nPATRIOT 2WD 4C 2.0L        1\nName: Model, Length: 1063, dtype: int64"
     },
     "execution_count": 19,
     "metadata": {},
     "output_type": "execute_result"
    }
   ],
   "source": [
    "df.Model.value_counts()"
   ],
   "metadata": {
    "collapsed": false
   }
  },
  {
   "cell_type": "code",
   "execution_count": 20,
   "outputs": [
    {
     "data": {
      "text/plain": "                          mean  count\nModel                                \nPT CRUISER            0.187205   2329\nIMPALA                0.079899   1990\nTAURUS                0.147368   1425\nCALIBER               0.104000   1375\nCARAVAN GRAND FWD V6  0.121800   1289\n...                        ...    ...\nTRAILBLAZER 4WD V8    0.000000      1\nMONTERO 4WD V6 3.8L   0.000000      1\nAVALON 3.0L V6 EFI    0.000000      1\nIS300                 0.000000      1\n4 RUNNER 4WD V6       1.000000      1\n\n[1063 rows x 2 columns]",
      "text/html": "<div>\n<style scoped>\n    .dataframe tbody tr th:only-of-type {\n        vertical-align: middle;\n    }\n\n    .dataframe tbody tr th {\n        vertical-align: top;\n    }\n\n    .dataframe thead th {\n        text-align: right;\n    }\n</style>\n<table border=\"1\" class=\"dataframe\">\n  <thead>\n    <tr style=\"text-align: right;\">\n      <th></th>\n      <th>mean</th>\n      <th>count</th>\n    </tr>\n    <tr>\n      <th>Model</th>\n      <th></th>\n      <th></th>\n    </tr>\n  </thead>\n  <tbody>\n    <tr>\n      <th>PT CRUISER</th>\n      <td>0.187205</td>\n      <td>2329</td>\n    </tr>\n    <tr>\n      <th>IMPALA</th>\n      <td>0.079899</td>\n      <td>1990</td>\n    </tr>\n    <tr>\n      <th>TAURUS</th>\n      <td>0.147368</td>\n      <td>1425</td>\n    </tr>\n    <tr>\n      <th>CALIBER</th>\n      <td>0.104000</td>\n      <td>1375</td>\n    </tr>\n    <tr>\n      <th>CARAVAN GRAND FWD V6</th>\n      <td>0.121800</td>\n      <td>1289</td>\n    </tr>\n    <tr>\n      <th>...</th>\n      <td>...</td>\n      <td>...</td>\n    </tr>\n    <tr>\n      <th>TRAILBLAZER 4WD V8</th>\n      <td>0.000000</td>\n      <td>1</td>\n    </tr>\n    <tr>\n      <th>MONTERO 4WD V6 3.8L</th>\n      <td>0.000000</td>\n      <td>1</td>\n    </tr>\n    <tr>\n      <th>AVALON 3.0L V6 EFI</th>\n      <td>0.000000</td>\n      <td>1</td>\n    </tr>\n    <tr>\n      <th>IS300</th>\n      <td>0.000000</td>\n      <td>1</td>\n    </tr>\n    <tr>\n      <th>4 RUNNER 4WD V6</th>\n      <td>1.000000</td>\n      <td>1</td>\n    </tr>\n  </tbody>\n</table>\n<p>1063 rows × 2 columns</p>\n</div>"
     },
     "execution_count": 20,
     "metadata": {},
     "output_type": "execute_result"
    }
   ],
   "source": [
    "df.groupby('Model')['IsBadBuy'].agg(['mean','count']).sort_values('count',ascending = False)"
   ],
   "metadata": {
    "collapsed": false
   }
  },
  {
   "cell_type": "markdown",
   "source": [
    "No tu będzie trochę zabawy. Widać że dla podobnej liczności średnia może się znacząco różnić."
   ],
   "metadata": {
    "collapsed": false
   }
  },
  {
   "cell_type": "markdown",
   "source": [
    "## Trim\n",
    "\n",
    "Rodzaj pakietu"
   ],
   "metadata": {
    "collapsed": false
   }
  },
  {
   "cell_type": "code",
   "execution_count": 21,
   "outputs": [
    {
     "name": "stdout",
     "output_type": "stream",
     "text": [
      "<class 'pandas.core.series.Series'>\n",
      "RangeIndex: 72983 entries, 0 to 72982\n",
      "Series name: Trim\n",
      "Non-Null Count  Dtype \n",
      "--------------  ----- \n",
      "70623 non-null  object\n",
      "dtypes: object(1)\n",
      "memory usage: 570.3+ KB\n"
     ]
    }
   ],
   "source": [
    "df.Trim.info()"
   ],
   "metadata": {
    "collapsed": false
   }
  },
  {
   "cell_type": "markdown",
   "source": [
    "Występuje tu sporo braków danych, ale być może wyciągniemy to ze zmiennej Submodel"
   ],
   "metadata": {
    "collapsed": false
   }
  },
  {
   "cell_type": "code",
   "execution_count": 22,
   "outputs": [
    {
     "data": {
      "text/plain": "Bas    13950\nLS     10174\nSE      9348\nSXT     3825\nLT      3540\n       ...  \nHar        1\nLL         1\nJLX        1\nJLS        1\nL 3        1\nName: Trim, Length: 134, dtype: int64"
     },
     "execution_count": 22,
     "metadata": {},
     "output_type": "execute_result"
    }
   ],
   "source": [
    "df.Trim.value_counts()"
   ],
   "metadata": {
    "collapsed": false
   }
  },
  {
   "cell_type": "code",
   "execution_count": 23,
   "outputs": [
    {
     "data": {
      "text/plain": "          mean  count\nTrim                 \nBas   0.123799  13950\nLS    0.087871  10174\nSE    0.122914   9348\nSXT   0.098824   3825\nLT    0.074859   3540\n...        ...    ...\nHar   0.000000      1\nLL    0.000000      1\nMaz   1.000000      1\nOut   1.000000      1\nL 3   0.000000      1\n\n[134 rows x 2 columns]",
      "text/html": "<div>\n<style scoped>\n    .dataframe tbody tr th:only-of-type {\n        vertical-align: middle;\n    }\n\n    .dataframe tbody tr th {\n        vertical-align: top;\n    }\n\n    .dataframe thead th {\n        text-align: right;\n    }\n</style>\n<table border=\"1\" class=\"dataframe\">\n  <thead>\n    <tr style=\"text-align: right;\">\n      <th></th>\n      <th>mean</th>\n      <th>count</th>\n    </tr>\n    <tr>\n      <th>Trim</th>\n      <th></th>\n      <th></th>\n    </tr>\n  </thead>\n  <tbody>\n    <tr>\n      <th>Bas</th>\n      <td>0.123799</td>\n      <td>13950</td>\n    </tr>\n    <tr>\n      <th>LS</th>\n      <td>0.087871</td>\n      <td>10174</td>\n    </tr>\n    <tr>\n      <th>SE</th>\n      <td>0.122914</td>\n      <td>9348</td>\n    </tr>\n    <tr>\n      <th>SXT</th>\n      <td>0.098824</td>\n      <td>3825</td>\n    </tr>\n    <tr>\n      <th>LT</th>\n      <td>0.074859</td>\n      <td>3540</td>\n    </tr>\n    <tr>\n      <th>...</th>\n      <td>...</td>\n      <td>...</td>\n    </tr>\n    <tr>\n      <th>Har</th>\n      <td>0.000000</td>\n      <td>1</td>\n    </tr>\n    <tr>\n      <th>LL</th>\n      <td>0.000000</td>\n      <td>1</td>\n    </tr>\n    <tr>\n      <th>Maz</th>\n      <td>1.000000</td>\n      <td>1</td>\n    </tr>\n    <tr>\n      <th>Out</th>\n      <td>1.000000</td>\n      <td>1</td>\n    </tr>\n    <tr>\n      <th>L 3</th>\n      <td>0.000000</td>\n      <td>1</td>\n    </tr>\n  </tbody>\n</table>\n<p>134 rows × 2 columns</p>\n</div>"
     },
     "execution_count": 23,
     "metadata": {},
     "output_type": "execute_result"
    }
   ],
   "source": [
    "df.groupby('Trim')['IsBadBuy'].agg(['mean','count']).sort_values('count',ascending = False)"
   ],
   "metadata": {
    "collapsed": false
   }
  },
  {
   "cell_type": "markdown",
   "source": [
    "## SubModel\n",
    "\n",
    "Zmienna opisuje liczbę drzwi samochodu, typ (można powiedzieć że prawie jak rozmiar Size), pakiet (Trim) oraz pojemność silnika"
   ],
   "metadata": {
    "collapsed": false
   }
  },
  {
   "cell_type": "code",
   "execution_count": 24,
   "outputs": [
    {
     "name": "stdout",
     "output_type": "stream",
     "text": [
      "<class 'pandas.core.series.Series'>\n",
      "RangeIndex: 72983 entries, 0 to 72982\n",
      "Series name: SubModel\n",
      "Non-Null Count  Dtype \n",
      "--------------  ----- \n",
      "72975 non-null  object\n",
      "dtypes: object(1)\n",
      "memory usage: 570.3+ KB\n"
     ]
    }
   ],
   "source": [
    "df.SubModel.info()"
   ],
   "metadata": {
    "collapsed": false
   }
  },
  {
   "cell_type": "markdown",
   "source": [
    "Występuje tu całe 8 braków danych. Jakoś sobie chyba z tym poradzimy."
   ],
   "metadata": {
    "collapsed": false
   }
  },
  {
   "cell_type": "code",
   "execution_count": 25,
   "outputs": [
    {
     "data": {
      "text/plain": "4D SEDAN                  15236\n4D SEDAN LS                4718\n4D SEDAN SE                3859\n4D WAGON                   2230\nMINIVAN 3.3L               1258\n                          ...  \nEXT CAB 5.4L FX2 SPORT        1\n2D COUPE ZX5 S                1\n4D WAGON OUTBACK              1\nEXT CAB 6.0L SLE              1\nMINIVAN 3.3L FFV EL           1\nName: SubModel, Length: 863, dtype: int64"
     },
     "execution_count": 25,
     "metadata": {},
     "output_type": "execute_result"
    }
   ],
   "source": [
    "df.SubModel.value_counts()"
   ],
   "metadata": {
    "collapsed": false
   }
  },
  {
   "cell_type": "markdown",
   "source": [],
   "metadata": {
    "collapsed": false
   }
  },
  {
   "cell_type": "code",
   "execution_count": 26,
   "outputs": [
    {
     "data": {
      "text/plain": "                                      mean  count\nSubModel                                         \n4D SEDAN                          0.122276  15236\n4D SEDAN LS                       0.077363   4718\n4D SEDAN SE                       0.133454   3859\n4D WAGON                          0.100448   2230\nMINIVAN 3.3L                      0.099364   1258\n...                                    ...    ...\n4D SUV 4.7L SLT PLUS              0.000000      1\nMINIVAN LX                        0.000000      1\n4D SUV 4.7L FFV LIMITED           0.000000      1\nPASSENGER 3.4L LS                 0.000000      1\n4D SPORT UTILITY SE SUPERCHARGED  1.000000      1\n\n[863 rows x 2 columns]",
      "text/html": "<div>\n<style scoped>\n    .dataframe tbody tr th:only-of-type {\n        vertical-align: middle;\n    }\n\n    .dataframe tbody tr th {\n        vertical-align: top;\n    }\n\n    .dataframe thead th {\n        text-align: right;\n    }\n</style>\n<table border=\"1\" class=\"dataframe\">\n  <thead>\n    <tr style=\"text-align: right;\">\n      <th></th>\n      <th>mean</th>\n      <th>count</th>\n    </tr>\n    <tr>\n      <th>SubModel</th>\n      <th></th>\n      <th></th>\n    </tr>\n  </thead>\n  <tbody>\n    <tr>\n      <th>4D SEDAN</th>\n      <td>0.122276</td>\n      <td>15236</td>\n    </tr>\n    <tr>\n      <th>4D SEDAN LS</th>\n      <td>0.077363</td>\n      <td>4718</td>\n    </tr>\n    <tr>\n      <th>4D SEDAN SE</th>\n      <td>0.133454</td>\n      <td>3859</td>\n    </tr>\n    <tr>\n      <th>4D WAGON</th>\n      <td>0.100448</td>\n      <td>2230</td>\n    </tr>\n    <tr>\n      <th>MINIVAN 3.3L</th>\n      <td>0.099364</td>\n      <td>1258</td>\n    </tr>\n    <tr>\n      <th>...</th>\n      <td>...</td>\n      <td>...</td>\n    </tr>\n    <tr>\n      <th>4D SUV 4.7L SLT PLUS</th>\n      <td>0.000000</td>\n      <td>1</td>\n    </tr>\n    <tr>\n      <th>MINIVAN LX</th>\n      <td>0.000000</td>\n      <td>1</td>\n    </tr>\n    <tr>\n      <th>4D SUV 4.7L FFV LIMITED</th>\n      <td>0.000000</td>\n      <td>1</td>\n    </tr>\n    <tr>\n      <th>PASSENGER 3.4L LS</th>\n      <td>0.000000</td>\n      <td>1</td>\n    </tr>\n    <tr>\n      <th>4D SPORT UTILITY SE SUPERCHARGED</th>\n      <td>1.000000</td>\n      <td>1</td>\n    </tr>\n  </tbody>\n</table>\n<p>863 rows × 2 columns</p>\n</div>"
     },
     "execution_count": 26,
     "metadata": {},
     "output_type": "execute_result"
    }
   ],
   "source": [
    "df.groupby('SubModel')['IsBadBuy'].agg(['mean','count']).sort_values('count',ascending = False)"
   ],
   "metadata": {
    "collapsed": false
   }
  },
  {
   "cell_type": "markdown",
   "source": [
    "Ze tej zmiennej będzie mozna wyciągnąć liczbę drzwi w samochodzie oraz pojemność silnika. Rozmiar samochodu jest już uwzględniony w zmiennej Size, zaś pakiet w zmiennej Trim."
   ],
   "metadata": {
    "collapsed": false
   }
  }
 ],
 "metadata": {
  "kernelspec": {
   "display_name": "Python 3",
   "language": "python",
   "name": "python3"
  },
  "language_info": {
   "codemirror_mode": {
    "name": "ipython",
    "version": 2
   },
   "file_extension": ".py",
   "mimetype": "text/x-python",
   "name": "python",
   "nbconvert_exporter": "python",
   "pygments_lexer": "ipython2",
   "version": "2.7.6"
  }
 },
 "nbformat": 4,
 "nbformat_minor": 0
}
