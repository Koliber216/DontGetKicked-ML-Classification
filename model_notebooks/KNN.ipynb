{
 "cells": [
  {
   "cell_type": "code",
   "execution_count": 2,
   "metadata": {},
   "outputs": [],
   "source": [
    "import pandas as pd\n",
    "import seaborn as sns\n",
    "import numpy as np\n",
    "import matplotlib.pyplot as plt\n",
    "import sklearn as sk\n",
    "from sklearn.model_selection import train_test_split\n",
    "import seaborn as sns\n",
    "\n",
    "from sklearn.preprocessing import StandardScaler, FunctionTransformer, LabelEncoder\n",
    "from sklearn.compose import ColumnTransformer\n",
    "from sklearn.preprocessing import LabelEncoder\n",
    "from sklearn.preprocessing import OneHotEncoder\n",
    "from sklearn.preprocessing import FunctionTransformer\n",
    "from sklearn.pipeline import Pipeline"
   ]
  },
  {
   "cell_type": "code",
   "execution_count": 75,
   "metadata": {},
   "outputs": [],
   "source": [
    "train_df = pd.read_csv('../training.csv') # split for test and train set is ready\n",
    "test = pd.read_csv('../test.csv')"
   ]
  },
  {
   "cell_type": "code",
   "execution_count": 76,
   "metadata": {},
   "outputs": [],
   "source": [
    "y_train = pd.read_csv(\"../preprocessed_data/y_train.csv\")\n",
    "y = pd.read_csv(\"../preprocessed_data/y_whole.csv\")\n",
    "y_val  = pd.read_csv(\"../preprocessed_data/y_val.csv\")"
   ]
  },
  {
   "cell_type": "code",
   "execution_count": 77,
   "metadata": {},
   "outputs": [],
   "source": [
    "X_train = pd.read_csv(\"../preprocessed_data/X_train.csv\")\n",
    "X_whole = pd.read_csv(\"../preprocessed_data/X_whole.csv\")\n",
    "X_val  = pd.read_csv(\"../preprocessed_data/X_val.csv\")"
   ]
  },
  {
   "cell_type": "code",
   "execution_count": 78,
   "metadata": {},
   "outputs": [
    {
     "data": {
      "text/html": [
       "<div>\n",
       "<style scoped>\n",
       "    .dataframe tbody tr th:only-of-type {\n",
       "        vertical-align: middle;\n",
       "    }\n",
       "\n",
       "    .dataframe tbody tr th {\n",
       "        vertical-align: top;\n",
       "    }\n",
       "\n",
       "    .dataframe thead th {\n",
       "        text-align: right;\n",
       "    }\n",
       "</style>\n",
       "<table border=\"1\" class=\"dataframe\">\n",
       "  <thead>\n",
       "    <tr style=\"text-align: right;\">\n",
       "      <th></th>\n",
       "      <th>VehOdo</th>\n",
       "      <th>VehBCost</th>\n",
       "      <th>WarrantyCost</th>\n",
       "      <th>VehicleAge</th>\n",
       "      <th>MMRAcquisitionAuctionAveragePrice</th>\n",
       "      <th>MMRCurrentAuctionAveragePrice</th>\n",
       "      <th>IsOnlineSale</th>\n",
       "      <th>VehicleAge.1</th>\n",
       "      <th>Year</th>\n",
       "      <th>x0</th>\n",
       "      <th>...</th>\n",
       "      <th>x84</th>\n",
       "      <th>x85</th>\n",
       "      <th>x86</th>\n",
       "      <th>x87</th>\n",
       "      <th>x88</th>\n",
       "      <th>x89</th>\n",
       "      <th>x90</th>\n",
       "      <th>x91</th>\n",
       "      <th>x92</th>\n",
       "      <th>x93</th>\n",
       "    </tr>\n",
       "  </thead>\n",
       "  <tbody>\n",
       "    <tr>\n",
       "      <th>count</th>\n",
       "      <td>5.108800e+04</td>\n",
       "      <td>5.108800e+04</td>\n",
       "      <td>5.108800e+04</td>\n",
       "      <td>5.108800e+04</td>\n",
       "      <td>5.108800e+04</td>\n",
       "      <td>5.108800e+04</td>\n",
       "      <td>51088.000000</td>\n",
       "      <td>51088.000000</td>\n",
       "      <td>51088.000000</td>\n",
       "      <td>51088.000000</td>\n",
       "      <td>...</td>\n",
       "      <td>51088.000000</td>\n",
       "      <td>51088.000000</td>\n",
       "      <td>51088.000000</td>\n",
       "      <td>51088.000000</td>\n",
       "      <td>51088.000000</td>\n",
       "      <td>51088.000000</td>\n",
       "      <td>51088.000000</td>\n",
       "      <td>51088.000000</td>\n",
       "      <td>51088.000000</td>\n",
       "      <td>51088.000000</td>\n",
       "    </tr>\n",
       "    <tr>\n",
       "      <th>mean</th>\n",
       "      <td>3.610572e-16</td>\n",
       "      <td>3.248263e-16</td>\n",
       "      <td>1.601878e-16</td>\n",
       "      <td>1.428373e-16</td>\n",
       "      <td>3.116830e-16</td>\n",
       "      <td>-2.381086e-16</td>\n",
       "      <td>0.320095</td>\n",
       "      <td>0.168396</td>\n",
       "      <td>0.347694</td>\n",
       "      <td>0.163815</td>\n",
       "      <td>...</td>\n",
       "      <td>0.077729</td>\n",
       "      <td>0.080900</td>\n",
       "      <td>0.083425</td>\n",
       "      <td>0.089414</td>\n",
       "      <td>0.099006</td>\n",
       "      <td>0.091939</td>\n",
       "      <td>0.073109</td>\n",
       "      <td>0.024233</td>\n",
       "      <td>4.171743</td>\n",
       "      <td>0.518928</td>\n",
       "    </tr>\n",
       "    <tr>\n",
       "      <th>std</th>\n",
       "      <td>1.000010e+00</td>\n",
       "      <td>1.000010e+00</td>\n",
       "      <td>1.000010e+00</td>\n",
       "      <td>1.000010e+00</td>\n",
       "      <td>1.000010e+00</td>\n",
       "      <td>1.000010e+00</td>\n",
       "      <td>0.466517</td>\n",
       "      <td>0.374221</td>\n",
       "      <td>0.476243</td>\n",
       "      <td>0.370112</td>\n",
       "      <td>...</td>\n",
       "      <td>0.267747</td>\n",
       "      <td>0.272684</td>\n",
       "      <td>0.276526</td>\n",
       "      <td>0.285344</td>\n",
       "      <td>0.298673</td>\n",
       "      <td>0.288943</td>\n",
       "      <td>0.260318</td>\n",
       "      <td>0.153772</td>\n",
       "      <td>1.708658</td>\n",
       "      <td>0.499646</td>\n",
       "    </tr>\n",
       "    <tr>\n",
       "      <th>min</th>\n",
       "      <td>-4.565513e+00</td>\n",
       "      <td>-3.692302e+00</td>\n",
       "      <td>-1.358614e+00</td>\n",
       "      <td>-2.441556e+00</td>\n",
       "      <td>-2.184296e+00</td>\n",
       "      <td>-2.437993e+00</td>\n",
       "      <td>0.000000</td>\n",
       "      <td>0.000000</td>\n",
       "      <td>0.000000</td>\n",
       "      <td>0.000000</td>\n",
       "      <td>...</td>\n",
       "      <td>0.000000</td>\n",
       "      <td>0.000000</td>\n",
       "      <td>0.000000</td>\n",
       "      <td>0.000000</td>\n",
       "      <td>0.000000</td>\n",
       "      <td>0.000000</td>\n",
       "      <td>0.000000</td>\n",
       "      <td>0.000000</td>\n",
       "      <td>0.000000</td>\n",
       "      <td>0.000000</td>\n",
       "    </tr>\n",
       "    <tr>\n",
       "      <th>25%</th>\n",
       "      <td>-6.666977e-01</td>\n",
       "      <td>-7.350469e-01</td>\n",
       "      <td>-7.351692e-01</td>\n",
       "      <td>-6.857746e-01</td>\n",
       "      <td>-7.811319e-01</td>\n",
       "      <td>-7.811156e-01</td>\n",
       "      <td>0.000000</td>\n",
       "      <td>0.000000</td>\n",
       "      <td>0.000000</td>\n",
       "      <td>0.000000</td>\n",
       "      <td>...</td>\n",
       "      <td>0.000000</td>\n",
       "      <td>0.000000</td>\n",
       "      <td>0.000000</td>\n",
       "      <td>0.000000</td>\n",
       "      <td>0.000000</td>\n",
       "      <td>0.000000</td>\n",
       "      <td>0.000000</td>\n",
       "      <td>0.000000</td>\n",
       "      <td>3.000000</td>\n",
       "      <td>0.000000</td>\n",
       "    </tr>\n",
       "    <tr>\n",
       "      <th>50%</th>\n",
       "      <td>1.242786e-01</td>\n",
       "      <td>-8.504387e-03</td>\n",
       "      <td>-1.832129e-01</td>\n",
       "      <td>-1.005143e-01</td>\n",
       "      <td>-2.868616e-02</td>\n",
       "      <td>-3.726286e-02</td>\n",
       "      <td>0.000000</td>\n",
       "      <td>0.000000</td>\n",
       "      <td>0.000000</td>\n",
       "      <td>0.000000</td>\n",
       "      <td>...</td>\n",
       "      <td>0.000000</td>\n",
       "      <td>0.000000</td>\n",
       "      <td>0.000000</td>\n",
       "      <td>0.000000</td>\n",
       "      <td>0.000000</td>\n",
       "      <td>0.000000</td>\n",
       "      <td>0.000000</td>\n",
       "      <td>0.000000</td>\n",
       "      <td>4.000000</td>\n",
       "      <td>1.000000</td>\n",
       "    </tr>\n",
       "    <tr>\n",
       "      <th>75%</th>\n",
       "      <td>7.503434e-01</td>\n",
       "      <td>6.641150e-01</td>\n",
       "      <td>5.715707e-01</td>\n",
       "      <td>4.847460e-01</td>\n",
       "      <td>6.653294e-01</td>\n",
       "      <td>6.584200e-01</td>\n",
       "      <td>1.000000</td>\n",
       "      <td>0.000000</td>\n",
       "      <td>1.000000</td>\n",
       "      <td>0.000000</td>\n",
       "      <td>...</td>\n",
       "      <td>0.000000</td>\n",
       "      <td>0.000000</td>\n",
       "      <td>0.000000</td>\n",
       "      <td>0.000000</td>\n",
       "      <td>0.000000</td>\n",
       "      <td>0.000000</td>\n",
       "      <td>0.000000</td>\n",
       "      <td>0.000000</td>\n",
       "      <td>5.000000</td>\n",
       "      <td>1.000000</td>\n",
       "    </tr>\n",
       "    <tr>\n",
       "      <th>max</th>\n",
       "      <td>3.030490e+00</td>\n",
       "      <td>1.819479e+01</td>\n",
       "      <td>1.033887e+01</td>\n",
       "      <td>2.825787e+00</td>\n",
       "      <td>1.095030e+01</td>\n",
       "      <td>1.094506e+01</td>\n",
       "      <td>1.000000</td>\n",
       "      <td>1.000000</td>\n",
       "      <td>1.000000</td>\n",
       "      <td>1.000000</td>\n",
       "      <td>...</td>\n",
       "      <td>1.000000</td>\n",
       "      <td>1.000000</td>\n",
       "      <td>1.000000</td>\n",
       "      <td>1.000000</td>\n",
       "      <td>1.000000</td>\n",
       "      <td>1.000000</td>\n",
       "      <td>1.000000</td>\n",
       "      <td>1.000000</td>\n",
       "      <td>9.000000</td>\n",
       "      <td>1.000000</td>\n",
       "    </tr>\n",
       "  </tbody>\n",
       "</table>\n",
       "<p>8 rows × 103 columns</p>\n",
       "</div>"
      ],
      "text/plain": [
       "             VehOdo      VehBCost  WarrantyCost    VehicleAge  \\\n",
       "count  5.108800e+04  5.108800e+04  5.108800e+04  5.108800e+04   \n",
       "mean   3.610572e-16  3.248263e-16  1.601878e-16  1.428373e-16   \n",
       "std    1.000010e+00  1.000010e+00  1.000010e+00  1.000010e+00   \n",
       "min   -4.565513e+00 -3.692302e+00 -1.358614e+00 -2.441556e+00   \n",
       "25%   -6.666977e-01 -7.350469e-01 -7.351692e-01 -6.857746e-01   \n",
       "50%    1.242786e-01 -8.504387e-03 -1.832129e-01 -1.005143e-01   \n",
       "75%    7.503434e-01  6.641150e-01  5.715707e-01  4.847460e-01   \n",
       "max    3.030490e+00  1.819479e+01  1.033887e+01  2.825787e+00   \n",
       "\n",
       "       MMRAcquisitionAuctionAveragePrice  MMRCurrentAuctionAveragePrice  \\\n",
       "count                       5.108800e+04                   5.108800e+04   \n",
       "mean                        3.116830e-16                  -2.381086e-16   \n",
       "std                         1.000010e+00                   1.000010e+00   \n",
       "min                        -2.184296e+00                  -2.437993e+00   \n",
       "25%                        -7.811319e-01                  -7.811156e-01   \n",
       "50%                        -2.868616e-02                  -3.726286e-02   \n",
       "75%                         6.653294e-01                   6.584200e-01   \n",
       "max                         1.095030e+01                   1.094506e+01   \n",
       "\n",
       "       IsOnlineSale  VehicleAge.1          Year            x0  ...  \\\n",
       "count  51088.000000  51088.000000  51088.000000  51088.000000  ...   \n",
       "mean       0.320095      0.168396      0.347694      0.163815  ...   \n",
       "std        0.466517      0.374221      0.476243      0.370112  ...   \n",
       "min        0.000000      0.000000      0.000000      0.000000  ...   \n",
       "25%        0.000000      0.000000      0.000000      0.000000  ...   \n",
       "50%        0.000000      0.000000      0.000000      0.000000  ...   \n",
       "75%        1.000000      0.000000      1.000000      0.000000  ...   \n",
       "max        1.000000      1.000000      1.000000      1.000000  ...   \n",
       "\n",
       "                x84           x85           x86           x87           x88  \\\n",
       "count  51088.000000  51088.000000  51088.000000  51088.000000  51088.000000   \n",
       "mean       0.077729      0.080900      0.083425      0.089414      0.099006   \n",
       "std        0.267747      0.272684      0.276526      0.285344      0.298673   \n",
       "min        0.000000      0.000000      0.000000      0.000000      0.000000   \n",
       "25%        0.000000      0.000000      0.000000      0.000000      0.000000   \n",
       "50%        0.000000      0.000000      0.000000      0.000000      0.000000   \n",
       "75%        0.000000      0.000000      0.000000      0.000000      0.000000   \n",
       "max        1.000000      1.000000      1.000000      1.000000      1.000000   \n",
       "\n",
       "                x89           x90           x91           x92           x93  \n",
       "count  51088.000000  51088.000000  51088.000000  51088.000000  51088.000000  \n",
       "mean       0.091939      0.073109      0.024233      4.171743      0.518928  \n",
       "std        0.288943      0.260318      0.153772      1.708658      0.499646  \n",
       "min        0.000000      0.000000      0.000000      0.000000      0.000000  \n",
       "25%        0.000000      0.000000      0.000000      3.000000      0.000000  \n",
       "50%        0.000000      0.000000      0.000000      4.000000      1.000000  \n",
       "75%        0.000000      0.000000      0.000000      5.000000      1.000000  \n",
       "max        1.000000      1.000000      1.000000      9.000000      1.000000  \n",
       "\n",
       "[8 rows x 103 columns]"
      ]
     },
     "execution_count": 78,
     "metadata": {},
     "output_type": "execute_result"
    }
   ],
   "source": [
    "X_train.describe()"
   ]
  },
  {
   "attachments": {},
   "cell_type": "markdown",
   "metadata": {},
   "source": [
    "# 4. KNN Classifier\n",
    "\n",
    "KNN classifier requires some scaling to work properly - all variables are scaled"
   ]
  },
  {
   "cell_type": "code",
   "execution_count": 89,
   "metadata": {},
   "outputs": [],
   "source": [
    "from sklearn.neighbors import KNeighborsClassifier\n",
    "from sklearn.metrics import classification_report\n",
    "from sklearn.preprocessing import StandardScaler\n",
    "from sklearn.model_selection import cross_val_score\n",
    "from sklearn.model_selection import GridSearchCV\n",
    "from sklearn.metrics import confusion_matrix, ConfusionMatrixDisplay"
   ]
  },
  {
   "cell_type": "code",
   "execution_count": 8,
   "metadata": {},
   "outputs": [
    {
     "name": "stderr",
     "output_type": "stream",
     "text": [
      "c:\\Users\\tymot\\anaconda3\\lib\\site-packages\\sklearn\\neighbors\\_classification.py:215: DataConversionWarning: A column-vector y was passed when a 1d array was expected. Please change the shape of y to (n_samples,), for example using ravel().\n",
      "  return self._fit(X, y)\n"
     ]
    },
    {
     "data": {
      "text/html": [
       "<style>#sk-container-id-1 {color: black;background-color: white;}#sk-container-id-1 pre{padding: 0;}#sk-container-id-1 div.sk-toggleable {background-color: white;}#sk-container-id-1 label.sk-toggleable__label {cursor: pointer;display: block;width: 100%;margin-bottom: 0;padding: 0.3em;box-sizing: border-box;text-align: center;}#sk-container-id-1 label.sk-toggleable__label-arrow:before {content: \"▸\";float: left;margin-right: 0.25em;color: #696969;}#sk-container-id-1 label.sk-toggleable__label-arrow:hover:before {color: black;}#sk-container-id-1 div.sk-estimator:hover label.sk-toggleable__label-arrow:before {color: black;}#sk-container-id-1 div.sk-toggleable__content {max-height: 0;max-width: 0;overflow: hidden;text-align: left;background-color: #f0f8ff;}#sk-container-id-1 div.sk-toggleable__content pre {margin: 0.2em;color: black;border-radius: 0.25em;background-color: #f0f8ff;}#sk-container-id-1 input.sk-toggleable__control:checked~div.sk-toggleable__content {max-height: 200px;max-width: 100%;overflow: auto;}#sk-container-id-1 input.sk-toggleable__control:checked~label.sk-toggleable__label-arrow:before {content: \"▾\";}#sk-container-id-1 div.sk-estimator input.sk-toggleable__control:checked~label.sk-toggleable__label {background-color: #d4ebff;}#sk-container-id-1 div.sk-label input.sk-toggleable__control:checked~label.sk-toggleable__label {background-color: #d4ebff;}#sk-container-id-1 input.sk-hidden--visually {border: 0;clip: rect(1px 1px 1px 1px);clip: rect(1px, 1px, 1px, 1px);height: 1px;margin: -1px;overflow: hidden;padding: 0;position: absolute;width: 1px;}#sk-container-id-1 div.sk-estimator {font-family: monospace;background-color: #f0f8ff;border: 1px dotted black;border-radius: 0.25em;box-sizing: border-box;margin-bottom: 0.5em;}#sk-container-id-1 div.sk-estimator:hover {background-color: #d4ebff;}#sk-container-id-1 div.sk-parallel-item::after {content: \"\";width: 100%;border-bottom: 1px solid gray;flex-grow: 1;}#sk-container-id-1 div.sk-label:hover label.sk-toggleable__label {background-color: #d4ebff;}#sk-container-id-1 div.sk-serial::before {content: \"\";position: absolute;border-left: 1px solid gray;box-sizing: border-box;top: 0;bottom: 0;left: 50%;z-index: 0;}#sk-container-id-1 div.sk-serial {display: flex;flex-direction: column;align-items: center;background-color: white;padding-right: 0.2em;padding-left: 0.2em;position: relative;}#sk-container-id-1 div.sk-item {position: relative;z-index: 1;}#sk-container-id-1 div.sk-parallel {display: flex;align-items: stretch;justify-content: center;background-color: white;position: relative;}#sk-container-id-1 div.sk-item::before, #sk-container-id-1 div.sk-parallel-item::before {content: \"\";position: absolute;border-left: 1px solid gray;box-sizing: border-box;top: 0;bottom: 0;left: 50%;z-index: -1;}#sk-container-id-1 div.sk-parallel-item {display: flex;flex-direction: column;z-index: 1;position: relative;background-color: white;}#sk-container-id-1 div.sk-parallel-item:first-child::after {align-self: flex-end;width: 50%;}#sk-container-id-1 div.sk-parallel-item:last-child::after {align-self: flex-start;width: 50%;}#sk-container-id-1 div.sk-parallel-item:only-child::after {width: 0;}#sk-container-id-1 div.sk-dashed-wrapped {border: 1px dashed gray;margin: 0 0.4em 0.5em 0.4em;box-sizing: border-box;padding-bottom: 0.4em;background-color: white;}#sk-container-id-1 div.sk-label label {font-family: monospace;font-weight: bold;display: inline-block;line-height: 1.2em;}#sk-container-id-1 div.sk-label-container {text-align: center;}#sk-container-id-1 div.sk-container {/* jupyter's `normalize.less` sets `[hidden] { display: none; }` but bootstrap.min.css set `[hidden] { display: none !important; }` so we also need the `!important` here to be able to override the default hidden behavior on the sphinx rendered scikit-learn.org. See: https://github.com/scikit-learn/scikit-learn/issues/21755 */display: inline-block !important;position: relative;}#sk-container-id-1 div.sk-text-repr-fallback {display: none;}</style><div id=\"sk-container-id-1\" class=\"sk-top-container\"><div class=\"sk-text-repr-fallback\"><pre>KNeighborsClassifier()</pre><b>In a Jupyter environment, please rerun this cell to show the HTML representation or trust the notebook. <br />On GitHub, the HTML representation is unable to render, please try loading this page with nbviewer.org.</b></div><div class=\"sk-container\" hidden><div class=\"sk-item\"><div class=\"sk-estimator sk-toggleable\"><input class=\"sk-toggleable__control sk-hidden--visually\" id=\"sk-estimator-id-1\" type=\"checkbox\" checked><label for=\"sk-estimator-id-1\" class=\"sk-toggleable__label sk-toggleable__label-arrow\">KNeighborsClassifier</label><div class=\"sk-toggleable__content\"><pre>KNeighborsClassifier()</pre></div></div></div></div></div>"
      ],
      "text/plain": [
       "KNeighborsClassifier()"
      ]
     },
     "execution_count": 8,
     "metadata": {},
     "output_type": "execute_result"
    }
   ],
   "source": [
    "knn = KNeighborsClassifier()\n",
    "knn.fit(X_train, y_train)"
   ]
  },
  {
   "cell_type": "code",
   "execution_count": 9,
   "metadata": {},
   "outputs": [],
   "source": [
    "y_pred = knn.predict(X_val)"
   ]
  },
  {
   "cell_type": "code",
   "execution_count": 10,
   "metadata": {},
   "outputs": [
    {
     "name": "stdout",
     "output_type": "stream",
     "text": [
      "              precision    recall  f1-score   support\n",
      "\n",
      "           0       0.98      0.89      0.93     21258\n",
      "           1       0.10      0.43      0.16       637\n",
      "\n",
      "    accuracy                           0.87     21895\n",
      "   macro avg       0.54      0.66      0.55     21895\n",
      "weighted avg       0.96      0.87      0.91     21895\n",
      "\n"
     ]
    }
   ],
   "source": [
    "print(classification_report(y_pred, y_val))"
   ]
  },
  {
   "cell_type": "code",
   "execution_count": 11,
   "metadata": {},
   "outputs": [
    {
     "data": {
      "text/plain": [
       "array([[18837,   365],\n",
       "       [ 2421,   272]], dtype=int64)"
      ]
     },
     "execution_count": 11,
     "metadata": {},
     "output_type": "execute_result"
    }
   ],
   "source": [
    "confusion_matrix(y_val, y_pred)"
   ]
  },
  {
   "attachments": {},
   "cell_type": "markdown",
   "metadata": {},
   "source": [
    "# 5. Parameter Tuning"
   ]
  },
  {
   "cell_type": "code",
   "execution_count": 121,
   "metadata": {},
   "outputs": [
    {
     "name": "stdout",
     "output_type": "stream",
     "text": [
      "5 job done\n",
      "6 job done\n",
      "7 job done\n",
      "8 job done\n",
      "9 job done\n",
      "10 job done\n",
      "11 job done\n",
      "12 job done\n",
      "13 job done\n",
      "14 job done\n",
      "15 job done\n",
      "16 job done\n",
      "17 job done\n",
      "18 job done\n",
      "19 job done\n",
      "20 job done\n",
      "21 job done\n",
      "22 job done\n",
      "23 job done\n",
      "24 job done\n",
      "25 job done\n",
      "26 job done\n",
      "27 job done\n",
      "28 job done\n",
      "29 job done\n",
      "30 job done\n"
     ]
    }
   ],
   "source": [
    "k_values = [i for i in range (5,31)]\n",
    "scores = []\n",
    "\n",
    "for k in k_values:\n",
    "    knn = KNeighborsClassifier(n_neighbors=k)\n",
    "    score = cross_val_score(knn, X_train, y_train, cv=5)\n",
    "    scores.append(np.mean(score))\n",
    "    print(f\"{k} job done\")"
   ]
  },
  {
   "cell_type": "code",
   "execution_count": 122,
   "metadata": {},
   "outputs": [
    {
     "data": {
      "text/plain": [
       "Text(0, 0.5, 'Accuracy Score')"
      ]
     },
     "execution_count": 122,
     "metadata": {},
     "output_type": "execute_result"
    },
    {
     "data": {
      "image/png": "[encoded data removed]",
      "text/plain": [
       "<Figure size 640x480 with 1 Axes>"
      ]
     },
     "metadata": {},
     "output_type": "display_data"
    }
   ],
   "source": [
    "sns.lineplot(x = k_values, y = scores, marker = 'o')\n",
    "plt.xlabel(\"K Values\")\n",
    "plt.ylabel(\"Accuracy Score\")"
   ]
  },
  {
   "cell_type": "code",
   "execution_count": 36,
   "metadata": {},
   "outputs": [],
   "source": [
    "grid_params = { 'n_neighbors' : [10, 15, 17, 20, 25],\n",
    "               'weights' : ['uniform','distance'],\n",
    "               'metric' : ['minkowski','euclidean','manhattan']}\n",
    "\n",
    "# knn with sparse imput will use brute force algorithm"
   ]
  },
  {
   "cell_type": "code",
   "execution_count": 37,
   "metadata": {},
   "outputs": [],
   "source": [
    "gs = GridSearchCV(KNeighborsClassifier(), grid_params, verbose = 3, cv=3, n_jobs = -1, scoring = ('balanced_accuracy'))"
   ]
  },
  {
   "cell_type": "code",
   "execution_count": 38,
   "metadata": {},
   "outputs": [
    {
     "name": "stdout",
     "output_type": "stream",
     "text": [
      "Fitting 3 folds for each of 30 candidates, totalling 90 fits\n"
     ]
    }
   ],
   "source": [
    "g_res = gs.fit(X_whole, y)"
   ]
  },
  {
   "cell_type": "code",
   "execution_count": 1,
   "metadata": {},
   "outputs": [
    {
     "ename": "NameError",
     "evalue": "name 'g_res' is not defined",
     "output_type": "error",
     "traceback": [
      "\u001b[1;31m---------------------------------------------------------------------------\u001b[0m",
      "\u001b[1;31mNameError\u001b[0m                                 Traceback (most recent call last)",
      "Cell \u001b[1;32mIn[1], line 1\u001b[0m\n\u001b[1;32m----> 1\u001b[0m g_res\u001b[39m.\u001b[39mbest_score_\n",
      "\u001b[1;31mNameError\u001b[0m: name 'g_res' is not defined"
     ]
    }
   ],
   "source": [
    "g_res.best_score_"
   ]
  },
  {
   "cell_type": "code",
   "execution_count": 40,
   "metadata": {},
   "outputs": [
    {
     "data": {
      "text/plain": [
       "{'metric': 'minkowski', 'n_neighbors': 10, 'weights': 'distance'}"
      ]
     },
     "execution_count": 40,
     "metadata": {},
     "output_type": "execute_result"
    }
   ],
   "source": [
    "g_res.best_params_"
   ]
  },
  {
   "attachments": {},
   "cell_type": "markdown",
   "metadata": {},
   "source": [
    "\n",
    "{'metric': 'minkowski', 'n_neighbors': 10, 'weights': 'distance'}\n",
    "\n",
    "those are the results - now training with those params"
   ]
  },
  {
   "cell_type": "code",
   "execution_count": 12,
   "metadata": {},
   "outputs": [
    {
     "name": "stderr",
     "output_type": "stream",
     "text": [
      "c:\\Users\\tymot\\anaconda3\\lib\\site-packages\\sklearn\\neighbors\\_classification.py:215: DataConversionWarning: A column-vector y was passed when a 1d array was expected. Please change the shape of y to (n_samples,), for example using ravel().\n",
      "  return self._fit(X, y)\n"
     ]
    },
    {
     "data": {
      "text/html": [
       "<style>#sk-container-id-2 {color: black;background-color: white;}#sk-container-id-2 pre{padding: 0;}#sk-container-id-2 div.sk-toggleable {background-color: white;}#sk-container-id-2 label.sk-toggleable__label {cursor: pointer;display: block;width: 100%;margin-bottom: 0;padding: 0.3em;box-sizing: border-box;text-align: center;}#sk-container-id-2 label.sk-toggleable__label-arrow:before {content: \"▸\";float: left;margin-right: 0.25em;color: #696969;}#sk-container-id-2 label.sk-toggleable__label-arrow:hover:before {color: black;}#sk-container-id-2 div.sk-estimator:hover label.sk-toggleable__label-arrow:before {color: black;}#sk-container-id-2 div.sk-toggleable__content {max-height: 0;max-width: 0;overflow: hidden;text-align: left;background-color: #f0f8ff;}#sk-container-id-2 div.sk-toggleable__content pre {margin: 0.2em;color: black;border-radius: 0.25em;background-color: #f0f8ff;}#sk-container-id-2 input.sk-toggleable__control:checked~div.sk-toggleable__content {max-height: 200px;max-width: 100%;overflow: auto;}#sk-container-id-2 input.sk-toggleable__control:checked~label.sk-toggleable__label-arrow:before {content: \"▾\";}#sk-container-id-2 div.sk-estimator input.sk-toggleable__control:checked~label.sk-toggleable__label {background-color: #d4ebff;}#sk-container-id-2 div.sk-label input.sk-toggleable__control:checked~label.sk-toggleable__label {background-color: #d4ebff;}#sk-container-id-2 input.sk-hidden--visually {border: 0;clip: rect(1px 1px 1px 1px);clip: rect(1px, 1px, 1px, 1px);height: 1px;margin: -1px;overflow: hidden;padding: 0;position: absolute;width: 1px;}#sk-container-id-2 div.sk-estimator {font-family: monospace;background-color: #f0f8ff;border: 1px dotted black;border-radius: 0.25em;box-sizing: border-box;margin-bottom: 0.5em;}#sk-container-id-2 div.sk-estimator:hover {background-color: #d4ebff;}#sk-container-id-2 div.sk-parallel-item::after {content: \"\";width: 100%;border-bottom: 1px solid gray;flex-grow: 1;}#sk-container-id-2 div.sk-label:hover label.sk-toggleable__label {background-color: #d4ebff;}#sk-container-id-2 div.sk-serial::before {content: \"\";position: absolute;border-left: 1px solid gray;box-sizing: border-box;top: 0;bottom: 0;left: 50%;z-index: 0;}#sk-container-id-2 div.sk-serial {display: flex;flex-direction: column;align-items: center;background-color: white;padding-right: 0.2em;padding-left: 0.2em;position: relative;}#sk-container-id-2 div.sk-item {position: relative;z-index: 1;}#sk-container-id-2 div.sk-parallel {display: flex;align-items: stretch;justify-content: center;background-color: white;position: relative;}#sk-container-id-2 div.sk-item::before, #sk-container-id-2 div.sk-parallel-item::before {content: \"\";position: absolute;border-left: 1px solid gray;box-sizing: border-box;top: 0;bottom: 0;left: 50%;z-index: -1;}#sk-container-id-2 div.sk-parallel-item {display: flex;flex-direction: column;z-index: 1;position: relative;background-color: white;}#sk-container-id-2 div.sk-parallel-item:first-child::after {align-self: flex-end;width: 50%;}#sk-container-id-2 div.sk-parallel-item:last-child::after {align-self: flex-start;width: 50%;}#sk-container-id-2 div.sk-parallel-item:only-child::after {width: 0;}#sk-container-id-2 div.sk-dashed-wrapped {border: 1px dashed gray;margin: 0 0.4em 0.5em 0.4em;box-sizing: border-box;padding-bottom: 0.4em;background-color: white;}#sk-container-id-2 div.sk-label label {font-family: monospace;font-weight: bold;display: inline-block;line-height: 1.2em;}#sk-container-id-2 div.sk-label-container {text-align: center;}#sk-container-id-2 div.sk-container {/* jupyter's `normalize.less` sets `[hidden] { display: none; }` but bootstrap.min.css set `[hidden] { display: none !important; }` so we also need the `!important` here to be able to override the default hidden behavior on the sphinx rendered scikit-learn.org. See: https://github.com/scikit-learn/scikit-learn/issues/21755 */display: inline-block !important;position: relative;}#sk-container-id-2 div.sk-text-repr-fallback {display: none;}</style><div id=\"sk-container-id-2\" class=\"sk-top-container\"><div class=\"sk-text-repr-fallback\"><pre>KNeighborsClassifier(n_neighbors=10, weights=&#x27;distance&#x27;)</pre><b>In a Jupyter environment, please rerun this cell to show the HTML representation or trust the notebook. <br />On GitHub, the HTML representation is unable to render, please try loading this page with nbviewer.org.</b></div><div class=\"sk-container\" hidden><div class=\"sk-item\"><div class=\"sk-estimator sk-toggleable\"><input class=\"sk-toggleable__control sk-hidden--visually\" id=\"sk-estimator-id-2\" type=\"checkbox\" checked><label for=\"sk-estimator-id-2\" class=\"sk-toggleable__label sk-toggleable__label-arrow\">KNeighborsClassifier</label><div class=\"sk-toggleable__content\"><pre>KNeighborsClassifier(n_neighbors=10, weights=&#x27;distance&#x27;)</pre></div></div></div></div></div>"
      ],
      "text/plain": [
       "KNeighborsClassifier(n_neighbors=10, weights='distance')"
      ]
     },
     "execution_count": 12,
     "metadata": {},
     "output_type": "execute_result"
    }
   ],
   "source": [
    "knn = KNeighborsClassifier(metric='minkowski', n_neighbors=10, weights='distance')\n",
    "knn.fit(X_train, y_train)"
   ]
  },
  {
   "cell_type": "code",
   "execution_count": 13,
   "metadata": {},
   "outputs": [],
   "source": [
    "y_pred = knn.predict(X_val)"
   ]
  },
  {
   "cell_type": "code",
   "execution_count": 14,
   "metadata": {},
   "outputs": [
    {
     "name": "stdout",
     "output_type": "stream",
     "text": [
      "              precision    recall  f1-score   support\n",
      "\n",
      "           0       0.99      0.88      0.93     21512\n",
      "           1       0.08      0.55      0.14       383\n",
      "\n",
      "    accuracy                           0.88     21895\n",
      "   macro avg       0.53      0.72      0.54     21895\n",
      "weighted avg       0.98      0.88      0.92     21895\n",
      "\n"
     ]
    }
   ],
   "source": [
    "print(classification_report(y_pred, y_val)) # those results ain't anyhow better"
   ]
  },
  {
   "cell_type": "code",
   "execution_count": 15,
   "metadata": {},
   "outputs": [
    {
     "data": {
      "text/plain": [
       "array([[19029,   173],\n",
       "       [ 2483,   210]], dtype=int64)"
      ]
     },
     "execution_count": 15,
     "metadata": {},
     "output_type": "execute_result"
    }
   ],
   "source": [
    "confusion_matrix(y_val, y_pred)"
   ]
  },
  {
   "attachments": {},
   "cell_type": "markdown",
   "metadata": {},
   "source": [
    "# feature importance"
   ]
  },
  {
   "cell_type": "code",
   "execution_count": 16,
   "metadata": {},
   "outputs": [],
   "source": [
    "from sklearn import metrics\n",
    "import shap\n",
    "\n",
    "def gini_roc(y_test, y_pred_proba, tytul):\n",
    "    \n",
    "    fpr, tpr, _ = metrics.roc_curve(y_test,  y_pred_proba)\n",
    "    \n",
    "    plt.plot(fpr,tpr)\n",
    "    plt.title(tytul)\n",
    "    plt.ylabel('True Positive Rate')\n",
    "    plt.xlabel('False Positive Rate')\n",
    "    plt.show()\n",
    "    \n",
    "    roc_auc = metrics.auc(fpr, tpr)\n",
    "    gini = (2 * roc_auc) - 1\n",
    "\n",
    "    return gini\n",
    "\n",
    "def gini_train_val(model, X_train, y_train, X_val, y_val):\n",
    "    \n",
    "    y_pred_proba = model.predict_proba(X_train)[::,1]\n",
    "    gini_train = gini_roc(y_train, y_pred_proba, \"ROC Curve for Training Sample\")\n",
    "    print(\"gini_train: %.4f\" % gini_train)\n",
    "    \n",
    "    y_pred_proba = model.predict_proba(X_val)[::,1]\n",
    "    gini_val = gini_roc(y_val, y_pred_proba, \"Roc Curve for Validation Sample\")\n",
    "    print(\"gini_val: %.4f\" % gini_val)\n",
    "\n",
    "    return\n",
    "\n",
    "def shapley(model, X_train, X_val):\n",
    "        \n",
    "    # explain the model's predictions using SHAP\n",
    "    # (same syntax works for LightGBM, CatBoost, scikit-learn, transformers, Spark, etc.)\n",
    "    # model = lr\n",
    "   \n",
    "    explainer = shap.Explainer(model, X_train)\n",
    "    \n",
    "    shap_values = explainer(X_train)\n",
    "    shap.summary_plot(shap_values, X_train)\n",
    "    # visualize the first prediction's explanation\n",
    "    shap.plots.waterfall(shap_values[0])\n",
    "\n",
    "    # freature importance    \n",
    "    shap.summary_plot(shap_values, X_train, plot_type=\"bar\")\n",
    "    \n",
    "    shap.plots.bar(shap_values)\n",
    "    shap.summary_plot(shap_values, plot_type='violin')\n",
    "    shap.plots.bar(shap_values[0])\n",
    "    shap.plots.waterfall(shap_values[0])\n",
    "    shap.plots.force(shap_values[0])\n",
    "    \n",
    "    \n",
    "    shap.plots.force(shap_values[1])\n",
    "    \n",
    "    shap.plots.heatmap(shap_values)\n",
    "    \n",
    "    # fig = shap.force_plot(explainer.expected_value, shap_values.values, X_train, feature_names = X_train.columns)\n",
    "    # fig.savefig('testplot.png')\n",
    "    # fig.plot()\n",
    "    \n",
    "    # fig = shap.force_plot(shap_values, X_train)\n",
    "    # fig.plot()\n",
    "   \n",
    "    shap_values = explainer(X_val)\n",
    "    shap.plots.beeswarm(shap_values)\n",
    "    # visualize the first prediction's explanation\n",
    "    shap.plots.waterfall(shap_values[0])\n",
    "    \n",
    "    # freature importance\n",
    "    shap.summary_plot(shap_values, X_val, plot_type=\"bar\")    \n",
    "    \n",
    "    "
   ]
  },
  {
   "cell_type": "code",
   "execution_count": 17,
   "metadata": {},
   "outputs": [
    {
     "data": {
      "image/png": "[encoded data removed]",
      "text/plain": [
       "<Figure size 640x480 with 1 Axes>"
      ]
     },
     "metadata": {},
     "output_type": "display_data"
    },
    {
     "name": "stdout",
     "output_type": "stream",
     "text": [
      "gini_train: 1.0000\n"
     ]
    },
    {
     "data": {
      "image/png": "[encoded data removed]",
      "text/plain": [
       "<Figure size 640x480 with 1 Axes>"
      ]
     },
     "metadata": {},
     "output_type": "display_data"
    },
    {
     "name": "stdout",
     "output_type": "stream",
     "text": [
      "gini_val: 0.3332\n"
     ]
    }
   ],
   "source": [
    "gini_train_val(knn, X_train, y_train, X_val, y_val)"
   ]
  },
  {
   "attachments": {},
   "cell_type": "markdown",
   "metadata": {},
   "source": [
    "no taka troche słaba ta krzywa - nawet bardzo słaba, niewiele gorzej niż dummy\n",
    "\n",
    "może PCA\n",
    "\n"
   ]
  },
  {
   "cell_type": "code",
   "execution_count": 35,
   "metadata": {},
   "outputs": [
    {
     "data": {
      "text/plain": [
       "31"
      ]
     },
     "execution_count": 35,
     "metadata": {},
     "output_type": "execute_result"
    }
   ],
   "source": [
    "from sklearn.decomposition import PCA\n",
    "\n",
    "pca = PCA()\n",
    "pca.fit(X_train)\n",
    "cumsum = np.cumsum(pca.explained_variance_ratio_)\n",
    "d = np.argmax(cumsum >= 0.95) + 1\n",
    "d"
   ]
  },
  {
   "cell_type": "code",
   "execution_count": 70,
   "metadata": {},
   "outputs": [
    {
     "data": {
      "text/plain": [
       "Text(0, 0.5, 'Total explained variance ratio')"
      ]
     },
     "execution_count": 70,
     "metadata": {},
     "output_type": "execute_result"
    },
    {
     "data": {
      "image/png": "[encoded data removed]",
      "text/plain": [
       "<Figure size 640x480 with 1 Axes>"
      ]
     },
     "metadata": {},
     "output_type": "display_data"
    }
   ],
   "source": [
    "import matplotlib.ticker as mtick\n",
    "import matplotlib.transforms as transforms\n",
    "y = list(range(len(cumsum)))\n",
    "plt.plot(y, cumsum)\n",
    "\n",
    "plt.title(\"PCA explained variance ratio\")\n",
    "plt.gca().yaxis.set_major_formatter(mtick.PercentFormatter(xmax=1.0))\n",
    "\n",
    "\n",
    "plt.gca().axhline(0.95, color=\"red\")\n",
    "\n",
    "trans_y = transforms.blended_transform_factory(\n",
    "    plt.gca().get_yticklabels()[0].get_transform(), plt.gca().transData)\n",
    "\n",
    "trans_x = transforms.blended_transform_factory(\n",
    "    plt.gca().get_xticklabels()[0].get_transform(), plt.gca().transData)\n",
    "\n",
    "\n",
    "plt.gca().text(0, 0.95, \"95%\", color=\"red\", transform=trans_y, \n",
    "        ha=\"right\", va=\"center\")\n",
    "\n",
    "\n",
    "plt.gca().axvline(d, color=\"black\", linestyle=\"dashed\")\n",
    "\n",
    "plt.gca().text(d, 0.27, d, color=\"black\", transform=trans_x, \n",
    "        va=\"bottom\", ha=\"center\")\n",
    "\n",
    "plt.xlabel(\"Number of components\")\n",
    "plt.ylabel(\"Total explained variance ratio\")"
   ]
  },
  {
   "attachments": {},
   "cell_type": "markdown",
   "metadata": {},
   "source": [
    "byc moze mozemy zmniejszyć liczbe wymiarow do 29, tak zeby wariancja wyjasniona nam sie nie dropnela za bardzo"
   ]
  },
  {
   "cell_type": "code",
   "execution_count": 91,
   "metadata": {},
   "outputs": [],
   "source": [
    "pca = PCA(n_components=d)\n",
    "X_reduced_train = pca.fit_transform(X_train)\n",
    "X_reduced_val = pca.transform(X_val)"
   ]
  },
  {
   "cell_type": "code",
   "execution_count": 92,
   "metadata": {},
   "outputs": [
    {
     "name": "stderr",
     "output_type": "stream",
     "text": [
      "A column-vector y was passed when a 1d array was expected. Please change the shape of y to (n_samples,), for example using ravel().\n"
     ]
    },
    {
     "name": "stdout",
     "output_type": "stream",
     "text": [
      "              precision    recall  f1-score   support\n",
      "\n",
      "           0       0.99      0.88      0.93     21512\n",
      "           1       0.08      0.55      0.14       383\n",
      "\n",
      "    accuracy                           0.88     21895\n",
      "   macro avg       0.53      0.72      0.54     21895\n",
      "weighted avg       0.98      0.88      0.92     21895\n",
      "\n"
     ]
    }
   ],
   "source": [
    "knn = KNeighborsClassifier(metric='minkowski', n_neighbors=10, weights='distance')\n",
    "knn.fit(X_reduced_train, y_train)\n",
    "y_reduced_pred = knn.predict(X_reduced_val)\n",
    "print(classification_report(y_pred, y_val)) # those results ain't anyhow better neither\n"
   ]
  },
  {
   "cell_type": "code",
   "execution_count": 93,
   "metadata": {},
   "outputs": [
    {
     "data": {
      "image/png": "[encoded data removed]",
      "text/plain": [
       "<Figure size 640x480 with 1 Axes>"
      ]
     },
     "metadata": {},
     "output_type": "display_data"
    },
    {
     "name": "stdout",
     "output_type": "stream",
     "text": [
      "gini_train: 1.0000\n"
     ]
    },
    {
     "data": {
      "image/png": "[encoded data removed]",
      "text/plain": [
       "<Figure size 640x480 with 1 Axes>"
      ]
     },
     "metadata": {},
     "output_type": "display_data"
    },
    {
     "name": "stdout",
     "output_type": "stream",
     "text": [
      "gini_val: 0.2521\n"
     ]
    }
   ],
   "source": [
    "gini_train_val(knn, X_reduced_train, y_train, X_reduced_val, y_val)"
   ]
  },
  {
   "cell_type": "code",
   "execution_count": 90,
   "metadata": {},
   "outputs": [
    {
     "data": {
      "text/plain": [
       "<sklearn.metrics._plot.confusion_matrix.ConfusionMatrixDisplay at 0x24db6041bb0>"
      ]
     },
     "execution_count": 90,
     "metadata": {},
     "output_type": "execute_result"
    },
    {
     "data": {
      "image/png": "[encoded data removed]",
      "text/plain": [
       "<Figure size 640x480 with 2 Axes>"
      ]
     },
     "metadata": {},
     "output_type": "display_data"
    }
   ],
   "source": [
    "cm = confusion_matrix(y_val, y_pred, labels=knn.classes_)\n",
    "disp = ConfusionMatrixDisplay(confusion_matrix=cm,\n",
    "                               display_labels=knn.classes_)\n",
    "disp.plot()"
   ]
  },
  {
   "attachments": {},
   "cell_type": "markdown",
   "metadata": {},
   "source": [
    "# Final outputs"
   ]
  },
  {
   "cell_type": "code",
   "execution_count": 35,
   "metadata": {},
   "outputs": [],
   "source": [
    "test = pd.read_csv('../test.csv')"
   ]
  },
  {
   "cell_type": "code",
   "execution_count": 36,
   "metadata": {},
   "outputs": [
    {
     "data": {
      "text/html": [
       "<div>\n",
       "<style scoped>\n",
       "    .dataframe tbody tr th:only-of-type {\n",
       "        vertical-align: middle;\n",
       "    }\n",
       "\n",
       "    .dataframe tbody tr th {\n",
       "        vertical-align: top;\n",
       "    }\n",
       "\n",
       "    .dataframe thead th {\n",
       "        text-align: right;\n",
       "    }\n",
       "</style>\n",
       "<table border=\"1\" class=\"dataframe\">\n",
       "  <thead>\n",
       "    <tr style=\"text-align: right;\">\n",
       "      <th></th>\n",
       "      <th>RefId</th>\n",
       "      <th>PurchDate</th>\n",
       "      <th>Auction</th>\n",
       "      <th>VehYear</th>\n",
       "      <th>VehicleAge</th>\n",
       "      <th>Make</th>\n",
       "      <th>Model</th>\n",
       "      <th>Trim</th>\n",
       "      <th>SubModel</th>\n",
       "      <th>Color</th>\n",
       "      <th>...</th>\n",
       "      <th>MMRCurrentRetailAveragePrice</th>\n",
       "      <th>MMRCurrentRetailCleanPrice</th>\n",
       "      <th>PRIMEUNIT</th>\n",
       "      <th>AUCGUART</th>\n",
       "      <th>BYRNO</th>\n",
       "      <th>VNZIP1</th>\n",
       "      <th>VNST</th>\n",
       "      <th>VehBCost</th>\n",
       "      <th>IsOnlineSale</th>\n",
       "      <th>WarrantyCost</th>\n",
       "    </tr>\n",
       "  </thead>\n",
       "  <tbody>\n",
       "    <tr>\n",
       "      <th>0</th>\n",
       "      <td>73015</td>\n",
       "      <td>12/2/2009</td>\n",
       "      <td>ADESA</td>\n",
       "      <td>2005</td>\n",
       "      <td>4</td>\n",
       "      <td>PONTIAC</td>\n",
       "      <td>GRAND PRIX</td>\n",
       "      <td>Bas</td>\n",
       "      <td>4D SEDAN</td>\n",
       "      <td>SILVER</td>\n",
       "      <td>...</td>\n",
       "      <td>8557.0</td>\n",
       "      <td>9752.0</td>\n",
       "      <td>NaN</td>\n",
       "      <td>NaN</td>\n",
       "      <td>18881</td>\n",
       "      <td>30212</td>\n",
       "      <td>GA</td>\n",
       "      <td>6500.0</td>\n",
       "      <td>0</td>\n",
       "      <td>2152</td>\n",
       "    </tr>\n",
       "    <tr>\n",
       "      <th>1</th>\n",
       "      <td>73016</td>\n",
       "      <td>12/2/2009</td>\n",
       "      <td>ADESA</td>\n",
       "      <td>2005</td>\n",
       "      <td>4</td>\n",
       "      <td>CHEVROLET</td>\n",
       "      <td>MALIBU V6</td>\n",
       "      <td>LS</td>\n",
       "      <td>4D SEDAN LS</td>\n",
       "      <td>SILVER</td>\n",
       "      <td>...</td>\n",
       "      <td>7562.0</td>\n",
       "      <td>9296.0</td>\n",
       "      <td>NaN</td>\n",
       "      <td>NaN</td>\n",
       "      <td>18111</td>\n",
       "      <td>30212</td>\n",
       "      <td>GA</td>\n",
       "      <td>6300.0</td>\n",
       "      <td>0</td>\n",
       "      <td>1118</td>\n",
       "    </tr>\n",
       "    <tr>\n",
       "      <th>2</th>\n",
       "      <td>73017</td>\n",
       "      <td>12/2/2009</td>\n",
       "      <td>ADESA</td>\n",
       "      <td>2006</td>\n",
       "      <td>3</td>\n",
       "      <td>DODGE</td>\n",
       "      <td>DURANGO 2WD V8</td>\n",
       "      <td>Adv</td>\n",
       "      <td>4D SUV 4.7L ADVENTURER</td>\n",
       "      <td>SILVER</td>\n",
       "      <td>...</td>\n",
       "      <td>15340.0</td>\n",
       "      <td>16512.0</td>\n",
       "      <td>NaN</td>\n",
       "      <td>NaN</td>\n",
       "      <td>18111</td>\n",
       "      <td>30212</td>\n",
       "      <td>GA</td>\n",
       "      <td>9700.0</td>\n",
       "      <td>0</td>\n",
       "      <td>1215</td>\n",
       "    </tr>\n",
       "    <tr>\n",
       "      <th>3</th>\n",
       "      <td>73018</td>\n",
       "      <td>12/2/2009</td>\n",
       "      <td>ADESA</td>\n",
       "      <td>2002</td>\n",
       "      <td>7</td>\n",
       "      <td>SATURN</td>\n",
       "      <td>L SERIES</td>\n",
       "      <td>L20</td>\n",
       "      <td>4D SEDAN L200</td>\n",
       "      <td>GOLD</td>\n",
       "      <td>...</td>\n",
       "      <td>5725.0</td>\n",
       "      <td>6398.0</td>\n",
       "      <td>NaN</td>\n",
       "      <td>NaN</td>\n",
       "      <td>18881</td>\n",
       "      <td>30212</td>\n",
       "      <td>GA</td>\n",
       "      <td>4150.0</td>\n",
       "      <td>0</td>\n",
       "      <td>1933</td>\n",
       "    </tr>\n",
       "    <tr>\n",
       "      <th>4</th>\n",
       "      <td>73019</td>\n",
       "      <td>12/2/2009</td>\n",
       "      <td>ADESA</td>\n",
       "      <td>2007</td>\n",
       "      <td>2</td>\n",
       "      <td>HYUNDAI</td>\n",
       "      <td>ACCENT</td>\n",
       "      <td>GS</td>\n",
       "      <td>2D COUPE GS</td>\n",
       "      <td>BLUE</td>\n",
       "      <td>...</td>\n",
       "      <td>5914.0</td>\n",
       "      <td>7350.0</td>\n",
       "      <td>NaN</td>\n",
       "      <td>NaN</td>\n",
       "      <td>18111</td>\n",
       "      <td>30212</td>\n",
       "      <td>GA</td>\n",
       "      <td>4100.0</td>\n",
       "      <td>0</td>\n",
       "      <td>920</td>\n",
       "    </tr>\n",
       "    <tr>\n",
       "      <th>...</th>\n",
       "      <td>...</td>\n",
       "      <td>...</td>\n",
       "      <td>...</td>\n",
       "      <td>...</td>\n",
       "      <td>...</td>\n",
       "      <td>...</td>\n",
       "      <td>...</td>\n",
       "      <td>...</td>\n",
       "      <td>...</td>\n",
       "      <td>...</td>\n",
       "      <td>...</td>\n",
       "      <td>...</td>\n",
       "      <td>...</td>\n",
       "      <td>...</td>\n",
       "      <td>...</td>\n",
       "      <td>...</td>\n",
       "      <td>...</td>\n",
       "      <td>...</td>\n",
       "      <td>...</td>\n",
       "      <td>...</td>\n",
       "      <td>...</td>\n",
       "    </tr>\n",
       "    <tr>\n",
       "      <th>48702</th>\n",
       "      <td>121742</td>\n",
       "      <td>11/17/2010</td>\n",
       "      <td>MANHEIM</td>\n",
       "      <td>2005</td>\n",
       "      <td>5</td>\n",
       "      <td>FORD</td>\n",
       "      <td>FIVE HUNDRED</td>\n",
       "      <td>SEL</td>\n",
       "      <td>4D SEDAN SEL</td>\n",
       "      <td>BLACK</td>\n",
       "      <td>...</td>\n",
       "      <td>9764.0</td>\n",
       "      <td>11395.0</td>\n",
       "      <td>NaN</td>\n",
       "      <td>NaN</td>\n",
       "      <td>20928</td>\n",
       "      <td>33411</td>\n",
       "      <td>FL</td>\n",
       "      <td>7955.0</td>\n",
       "      <td>0</td>\n",
       "      <td>1633</td>\n",
       "    </tr>\n",
       "    <tr>\n",
       "      <th>48703</th>\n",
       "      <td>121743</td>\n",
       "      <td>11/17/2010</td>\n",
       "      <td>MANHEIM</td>\n",
       "      <td>2007</td>\n",
       "      <td>3</td>\n",
       "      <td>TOYOTA</td>\n",
       "      <td>COROLLA</td>\n",
       "      <td>CE</td>\n",
       "      <td>4D SEDAN CE</td>\n",
       "      <td>GREEN</td>\n",
       "      <td>...</td>\n",
       "      <td>10283.0</td>\n",
       "      <td>11565.0</td>\n",
       "      <td>NaN</td>\n",
       "      <td>NaN</td>\n",
       "      <td>20928</td>\n",
       "      <td>33411</td>\n",
       "      <td>FL</td>\n",
       "      <td>7035.0</td>\n",
       "      <td>0</td>\n",
       "      <td>594</td>\n",
       "    </tr>\n",
       "    <tr>\n",
       "      <th>48704</th>\n",
       "      <td>121744</td>\n",
       "      <td>11/17/2010</td>\n",
       "      <td>MANHEIM</td>\n",
       "      <td>2006</td>\n",
       "      <td>4</td>\n",
       "      <td>KIA</td>\n",
       "      <td>SPECTRA</td>\n",
       "      <td>EX</td>\n",
       "      <td>4D SEDAN EX</td>\n",
       "      <td>BLACK</td>\n",
       "      <td>...</td>\n",
       "      <td>7871.0</td>\n",
       "      <td>9490.0</td>\n",
       "      <td>NO</td>\n",
       "      <td>GREEN</td>\n",
       "      <td>20928</td>\n",
       "      <td>33411</td>\n",
       "      <td>FL</td>\n",
       "      <td>6335.0</td>\n",
       "      <td>0</td>\n",
       "      <td>594</td>\n",
       "    </tr>\n",
       "    <tr>\n",
       "      <th>48705</th>\n",
       "      <td>121745</td>\n",
       "      <td>11/17/2010</td>\n",
       "      <td>MANHEIM</td>\n",
       "      <td>2005</td>\n",
       "      <td>5</td>\n",
       "      <td>MAZDA</td>\n",
       "      <td>MAZDA3</td>\n",
       "      <td>s</td>\n",
       "      <td>4D SEDAN GT</td>\n",
       "      <td>SILVER</td>\n",
       "      <td>...</td>\n",
       "      <td>8576.0</td>\n",
       "      <td>9937.0</td>\n",
       "      <td>NO</td>\n",
       "      <td>GREEN</td>\n",
       "      <td>20928</td>\n",
       "      <td>33411</td>\n",
       "      <td>FL</td>\n",
       "      <td>8055.0</td>\n",
       "      <td>0</td>\n",
       "      <td>1038</td>\n",
       "    </tr>\n",
       "    <tr>\n",
       "      <th>48706</th>\n",
       "      <td>121746</td>\n",
       "      <td>11/17/2010</td>\n",
       "      <td>MANHEIM</td>\n",
       "      <td>2003</td>\n",
       "      <td>7</td>\n",
       "      <td>BUICK</td>\n",
       "      <td>RENDEZVOUS AWD</td>\n",
       "      <td>CX</td>\n",
       "      <td>4D SUV CX</td>\n",
       "      <td>GOLD</td>\n",
       "      <td>...</td>\n",
       "      <td>8266.0</td>\n",
       "      <td>9388.0</td>\n",
       "      <td>NO</td>\n",
       "      <td>GREEN</td>\n",
       "      <td>20928</td>\n",
       "      <td>33411</td>\n",
       "      <td>FL</td>\n",
       "      <td>7755.0</td>\n",
       "      <td>0</td>\n",
       "      <td>5392</td>\n",
       "    </tr>\n",
       "  </tbody>\n",
       "</table>\n",
       "<p>48707 rows × 33 columns</p>\n",
       "</div>"
      ],
      "text/plain": [
       "        RefId   PurchDate  Auction  VehYear  VehicleAge       Make  \\\n",
       "0       73015   12/2/2009    ADESA     2005           4    PONTIAC   \n",
       "1       73016   12/2/2009    ADESA     2005           4  CHEVROLET   \n",
       "2       73017   12/2/2009    ADESA     2006           3      DODGE   \n",
       "3       73018   12/2/2009    ADESA     2002           7     SATURN   \n",
       "4       73019   12/2/2009    ADESA     2007           2    HYUNDAI   \n",
       "...       ...         ...      ...      ...         ...        ...   \n",
       "48702  121742  11/17/2010  MANHEIM     2005           5       FORD   \n",
       "48703  121743  11/17/2010  MANHEIM     2007           3     TOYOTA   \n",
       "48704  121744  11/17/2010  MANHEIM     2006           4        KIA   \n",
       "48705  121745  11/17/2010  MANHEIM     2005           5      MAZDA   \n",
       "48706  121746  11/17/2010  MANHEIM     2003           7      BUICK   \n",
       "\n",
       "                Model Trim                SubModel   Color  ...  \\\n",
       "0          GRAND PRIX  Bas                4D SEDAN  SILVER  ...   \n",
       "1           MALIBU V6   LS             4D SEDAN LS  SILVER  ...   \n",
       "2      DURANGO 2WD V8  Adv  4D SUV 4.7L ADVENTURER  SILVER  ...   \n",
       "3            L SERIES  L20           4D SEDAN L200    GOLD  ...   \n",
       "4              ACCENT   GS             2D COUPE GS    BLUE  ...   \n",
       "...               ...  ...                     ...     ...  ...   \n",
       "48702    FIVE HUNDRED  SEL            4D SEDAN SEL   BLACK  ...   \n",
       "48703         COROLLA   CE             4D SEDAN CE   GREEN  ...   \n",
       "48704         SPECTRA   EX             4D SEDAN EX   BLACK  ...   \n",
       "48705          MAZDA3    s             4D SEDAN GT  SILVER  ...   \n",
       "48706  RENDEZVOUS AWD   CX               4D SUV CX    GOLD  ...   \n",
       "\n",
       "      MMRCurrentRetailAveragePrice  MMRCurrentRetailCleanPrice PRIMEUNIT  \\\n",
       "0                           8557.0                      9752.0       NaN   \n",
       "1                           7562.0                      9296.0       NaN   \n",
       "2                          15340.0                     16512.0       NaN   \n",
       "3                           5725.0                      6398.0       NaN   \n",
       "4                           5914.0                      7350.0       NaN   \n",
       "...                            ...                         ...       ...   \n",
       "48702                       9764.0                     11395.0       NaN   \n",
       "48703                      10283.0                     11565.0       NaN   \n",
       "48704                       7871.0                      9490.0        NO   \n",
       "48705                       8576.0                      9937.0        NO   \n",
       "48706                       8266.0                      9388.0        NO   \n",
       "\n",
       "       AUCGUART  BYRNO VNZIP1 VNST  VehBCost  IsOnlineSale  WarrantyCost  \n",
       "0           NaN  18881  30212   GA    6500.0             0          2152  \n",
       "1           NaN  18111  30212   GA    6300.0             0          1118  \n",
       "2           NaN  18111  30212   GA    9700.0             0          1215  \n",
       "3           NaN  18881  30212   GA    4150.0             0          1933  \n",
       "4           NaN  18111  30212   GA    4100.0             0           920  \n",
       "...         ...    ...    ...  ...       ...           ...           ...  \n",
       "48702       NaN  20928  33411   FL    7955.0             0          1633  \n",
       "48703       NaN  20928  33411   FL    7035.0             0           594  \n",
       "48704     GREEN  20928  33411   FL    6335.0             0           594  \n",
       "48705     GREEN  20928  33411   FL    8055.0             0          1038  \n",
       "48706     GREEN  20928  33411   FL    7755.0             0          5392  \n",
       "\n",
       "[48707 rows x 33 columns]"
      ]
     },
     "execution_count": 36,
     "metadata": {},
     "output_type": "execute_result"
    }
   ],
   "source": [
    "X_test = test.copy()\n",
    "X_test"
   ]
  },
  {
   "cell_type": "code",
   "execution_count": 31,
   "metadata": {},
   "outputs": [],
   "source": [
    "X_test  = pd.read_csv(\"../preprocessed_data/X_test.csv\")"
   ]
  },
  {
   "cell_type": "code",
   "execution_count": 32,
   "metadata": {},
   "outputs": [],
   "source": [
    "y = knn.predict(X_test)"
   ]
  },
  {
   "cell_type": "code",
   "execution_count": 34,
   "metadata": {},
   "outputs": [],
   "source": [
    "pd.DataFrame(y, columns=[\"IsBadBuy\"]).join(test[\"RefId\"]).to_csv(\"../out.csv\", index=False)"
   ]
  },
  {
   "cell_type": "code",
   "execution_count": null,
   "metadata": {},
   "outputs": [],
   "source": []
  }
 ],
 "metadata": {
  "kernelspec": {
   "display_name": "Python 3 (ipykernel)",
   "language": "python",
   "name": "python3"
  },
  "language_info": {
   "codemirror_mode": {
    "name": "ipython",
    "version": 3
   },
   "file_extension": ".py",
   "mimetype": "text/x-python",
   "name": "python",
   "nbconvert_exporter": "python",
   "pygments_lexer": "ipython3",
   "version": "3.8.16"
  }
 },
 "nbformat": 4,
 "nbformat_minor": 2
}
