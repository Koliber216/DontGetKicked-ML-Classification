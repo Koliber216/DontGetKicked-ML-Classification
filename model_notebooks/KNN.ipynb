{
 "cells": [
  {
   "cell_type": "code",
   "execution_count": 2,
   "metadata": {},
   "outputs": [],
   "source": [
    "import pandas as pd\n",
    "import seaborn as sns\n",
    "import numpy as np\n",
    "import matplotlib.pyplot as plt\n",
    "import sklearn as sk\n",
    "from sklearn.model_selection import train_test_split\n",
    "import seaborn as sns\n",
    "\n",
    "from sklearn.preprocessing import StandardScaler, FunctionTransformer, LabelEncoder\n",
    "from sklearn.compose import ColumnTransformer\n",
    "from sklearn.preprocessing import LabelEncoder\n",
    "from sklearn.preprocessing import OneHotEncoder\n",
    "from sklearn.preprocessing import FunctionTransformer\n",
    "from sklearn.pipeline import Pipeline"
   ]
  },
  {
   "cell_type": "code",
   "execution_count": 64,
   "metadata": {},
   "outputs": [],
   "source": [
    "train_df = pd.read_csv('../training.csv') # split for test and train set is ready\n",
    "test = pd.read_csv('../test.csv')"
   ]
  },
  {
   "cell_type": "markdown",
   "metadata": {},
   "source": [
    "# 1. Splitting the data"
   ]
  },
  {
   "cell_type": "code",
   "execution_count": 65,
   "metadata": {},
   "outputs": [],
   "source": [
    "df = train_df\n",
    "\n",
    "y = df[\"IsBadBuy\"]\n",
    "X = df\n",
    "\n",
    "del X[\"IsBadBuy\"]"
   ]
  },
  {
   "cell_type": "code",
   "execution_count": 66,
   "metadata": {},
   "outputs": [],
   "source": [
    "X_train, X_val, y_train, y_val = train_test_split(\n",
    "    X, y, stratify=y, test_size=0.3, random_state=42\n",
    ")\n",
    "\n",
    "\n",
    "train = pd.DataFrame(X_train.join(y_train))\n",
    "val = X_val.join(y_val)"
   ]
  },
  {
   "cell_type": "code",
   "execution_count": 6,
   "metadata": {},
   "outputs": [
    {
     "data": {
      "text/html": [
       "<div>\n",
       "<style scoped>\n",
       "    .dataframe tbody tr th:only-of-type {\n",
       "        vertical-align: middle;\n",
       "    }\n",
       "\n",
       "    .dataframe tbody tr th {\n",
       "        vertical-align: top;\n",
       "    }\n",
       "\n",
       "    .dataframe thead th {\n",
       "        text-align: right;\n",
       "    }\n",
       "</style>\n",
       "<table border=\"1\" class=\"dataframe\">\n",
       "  <thead>\n",
       "    <tr style=\"text-align: right;\">\n",
       "      <th></th>\n",
       "      <th>RefId</th>\n",
       "      <th>PurchDate</th>\n",
       "      <th>Auction</th>\n",
       "      <th>VehYear</th>\n",
       "      <th>VehicleAge</th>\n",
       "      <th>Make</th>\n",
       "      <th>Model</th>\n",
       "      <th>Trim</th>\n",
       "      <th>SubModel</th>\n",
       "      <th>Color</th>\n",
       "      <th>...</th>\n",
       "      <th>MMRCurrentRetailCleanPrice</th>\n",
       "      <th>PRIMEUNIT</th>\n",
       "      <th>AUCGUART</th>\n",
       "      <th>BYRNO</th>\n",
       "      <th>VNZIP1</th>\n",
       "      <th>VNST</th>\n",
       "      <th>VehBCost</th>\n",
       "      <th>IsOnlineSale</th>\n",
       "      <th>WarrantyCost</th>\n",
       "      <th>IsBadBuy</th>\n",
       "    </tr>\n",
       "  </thead>\n",
       "  <tbody>\n",
       "    <tr>\n",
       "      <th>10580</th>\n",
       "      <td>10589</td>\n",
       "      <td>5/11/2010</td>\n",
       "      <td>MANHEIM</td>\n",
       "      <td>2004</td>\n",
       "      <td>6</td>\n",
       "      <td>MITSUBISHI</td>\n",
       "      <td>GALANT 4C</td>\n",
       "      <td>ES</td>\n",
       "      <td>4D SEDAN ES</td>\n",
       "      <td>BLUE</td>\n",
       "      <td>...</td>\n",
       "      <td>8885.0</td>\n",
       "      <td>NaN</td>\n",
       "      <td>NaN</td>\n",
       "      <td>18822</td>\n",
       "      <td>77041</td>\n",
       "      <td>TX</td>\n",
       "      <td>5685.0</td>\n",
       "      <td>0</td>\n",
       "      <td>569</td>\n",
       "      <td>0</td>\n",
       "    </tr>\n",
       "    <tr>\n",
       "      <th>27667</th>\n",
       "      <td>27686</td>\n",
       "      <td>4/22/2009</td>\n",
       "      <td>MANHEIM</td>\n",
       "      <td>2006</td>\n",
       "      <td>3</td>\n",
       "      <td>CHRYSLER</td>\n",
       "      <td>PACIFICA AWD 3.5L V6</td>\n",
       "      <td>Bas</td>\n",
       "      <td>4D SPORT</td>\n",
       "      <td>GOLD</td>\n",
       "      <td>...</td>\n",
       "      <td>11956.0</td>\n",
       "      <td>NaN</td>\n",
       "      <td>NaN</td>\n",
       "      <td>5546</td>\n",
       "      <td>32824</td>\n",
       "      <td>FL</td>\n",
       "      <td>6645.0</td>\n",
       "      <td>0</td>\n",
       "      <td>1857</td>\n",
       "      <td>0</td>\n",
       "    </tr>\n",
       "    <tr>\n",
       "      <th>60595</th>\n",
       "      <td>60624</td>\n",
       "      <td>9/16/2010</td>\n",
       "      <td>MANHEIM</td>\n",
       "      <td>2002</td>\n",
       "      <td>8</td>\n",
       "      <td>FORD</td>\n",
       "      <td>ESCAPE 2WD V6</td>\n",
       "      <td>XLS</td>\n",
       "      <td>4D CUV 3.0L XLS</td>\n",
       "      <td>GREEN</td>\n",
       "      <td>...</td>\n",
       "      <td>7897.0</td>\n",
       "      <td>NaN</td>\n",
       "      <td>NaN</td>\n",
       "      <td>23359</td>\n",
       "      <td>92337</td>\n",
       "      <td>CA</td>\n",
       "      <td>5480.0</td>\n",
       "      <td>0</td>\n",
       "      <td>1353</td>\n",
       "      <td>0</td>\n",
       "    </tr>\n",
       "    <tr>\n",
       "      <th>60484</th>\n",
       "      <td>60513</td>\n",
       "      <td>2/13/2009</td>\n",
       "      <td>ADESA</td>\n",
       "      <td>2005</td>\n",
       "      <td>4</td>\n",
       "      <td>DODGE</td>\n",
       "      <td>DURANGO 4WD V8 SEFI</td>\n",
       "      <td>SLT</td>\n",
       "      <td>4D SUV 5.7L SLT</td>\n",
       "      <td>RED</td>\n",
       "      <td>...</td>\n",
       "      <td>13878.0</td>\n",
       "      <td>NaN</td>\n",
       "      <td>NaN</td>\n",
       "      <td>23359</td>\n",
       "      <td>91752</td>\n",
       "      <td>CA</td>\n",
       "      <td>8375.0</td>\n",
       "      <td>0</td>\n",
       "      <td>1763</td>\n",
       "      <td>0</td>\n",
       "    </tr>\n",
       "    <tr>\n",
       "      <th>48363</th>\n",
       "      <td>48387</td>\n",
       "      <td>2/4/2010</td>\n",
       "      <td>MANHEIM</td>\n",
       "      <td>2006</td>\n",
       "      <td>4</td>\n",
       "      <td>PONTIAC</td>\n",
       "      <td>MONTANA FWD</td>\n",
       "      <td>SV6</td>\n",
       "      <td>4D MINIVAN EXT 3.5L</td>\n",
       "      <td>GOLD</td>\n",
       "      <td>...</td>\n",
       "      <td>14091.0</td>\n",
       "      <td>NaN</td>\n",
       "      <td>NaN</td>\n",
       "      <td>18111</td>\n",
       "      <td>47129</td>\n",
       "      <td>IN</td>\n",
       "      <td>6475.0</td>\n",
       "      <td>0</td>\n",
       "      <td>2282</td>\n",
       "      <td>0</td>\n",
       "    </tr>\n",
       "  </tbody>\n",
       "</table>\n",
       "<p>5 rows × 34 columns</p>\n",
       "</div>"
      ],
      "text/plain": [
       "       RefId  PurchDate  Auction  VehYear  VehicleAge        Make  \\\n",
       "10580  10589  5/11/2010  MANHEIM     2004           6  MITSUBISHI   \n",
       "27667  27686  4/22/2009  MANHEIM     2006           3    CHRYSLER   \n",
       "60595  60624  9/16/2010  MANHEIM     2002           8        FORD   \n",
       "60484  60513  2/13/2009    ADESA     2005           4       DODGE   \n",
       "48363  48387   2/4/2010  MANHEIM     2006           4     PONTIAC   \n",
       "\n",
       "                      Model Trim             SubModel  Color  ...  \\\n",
       "10580             GALANT 4C   ES          4D SEDAN ES   BLUE  ...   \n",
       "27667  PACIFICA AWD 3.5L V6  Bas             4D SPORT   GOLD  ...   \n",
       "60595         ESCAPE 2WD V6  XLS      4D CUV 3.0L XLS  GREEN  ...   \n",
       "60484   DURANGO 4WD V8 SEFI  SLT      4D SUV 5.7L SLT    RED  ...   \n",
       "48363           MONTANA FWD  SV6  4D MINIVAN EXT 3.5L   GOLD  ...   \n",
       "\n",
       "      MMRCurrentRetailCleanPrice  PRIMEUNIT AUCGUART  BYRNO VNZIP1 VNST  \\\n",
       "10580                     8885.0        NaN      NaN  18822  77041   TX   \n",
       "27667                    11956.0        NaN      NaN   5546  32824   FL   \n",
       "60595                     7897.0        NaN      NaN  23359  92337   CA   \n",
       "60484                    13878.0        NaN      NaN  23359  91752   CA   \n",
       "48363                    14091.0        NaN      NaN  18111  47129   IN   \n",
       "\n",
       "      VehBCost  IsOnlineSale  WarrantyCost  IsBadBuy  \n",
       "10580   5685.0             0           569         0  \n",
       "27667   6645.0             0          1857         0  \n",
       "60595   5480.0             0          1353         0  \n",
       "60484   8375.0             0          1763         0  \n",
       "48363   6475.0             0          2282         0  \n",
       "\n",
       "[5 rows x 34 columns]"
      ]
     },
     "execution_count": 6,
     "metadata": {},
     "output_type": "execute_result"
    }
   ],
   "source": [
    "val.head()"
   ]
  },
  {
   "cell_type": "code",
   "execution_count": 7,
   "metadata": {},
   "outputs": [
    {
     "data": {
      "text/plain": [
       "Index(['RefId', 'PurchDate', 'Auction', 'VehYear', 'VehicleAge', 'Make',\n",
       "       'Model', 'Trim', 'SubModel', 'Color', 'Transmission', 'WheelTypeID',\n",
       "       'WheelType', 'VehOdo', 'Nationality', 'Size', 'TopThreeAmericanName',\n",
       "       'MMRAcquisitionAuctionAveragePrice', 'MMRAcquisitionAuctionCleanPrice',\n",
       "       'MMRAcquisitionRetailAveragePrice', 'MMRAcquisitonRetailCleanPrice',\n",
       "       'MMRCurrentAuctionAveragePrice', 'MMRCurrentAuctionCleanPrice',\n",
       "       'MMRCurrentRetailAveragePrice', 'MMRCurrentRetailCleanPrice',\n",
       "       'PRIMEUNIT', 'AUCGUART', 'BYRNO', 'VNZIP1', 'VNST', 'VehBCost',\n",
       "       'IsOnlineSale', 'WarrantyCost', 'IsBadBuy'],\n",
       "      dtype='object')"
      ]
     },
     "execution_count": 7,
     "metadata": {},
     "output_type": "execute_result"
    }
   ],
   "source": [
    "train.columns"
   ]
  },
  {
   "cell_type": "code",
   "execution_count": 8,
   "metadata": {
    "scrolled": true
   },
   "outputs": [
    {
     "data": {
      "text/html": [
       "<div>\n",
       "<style scoped>\n",
       "    .dataframe tbody tr th:only-of-type {\n",
       "        vertical-align: middle;\n",
       "    }\n",
       "\n",
       "    .dataframe tbody tr th {\n",
       "        vertical-align: top;\n",
       "    }\n",
       "\n",
       "    .dataframe thead th {\n",
       "        text-align: right;\n",
       "    }\n",
       "</style>\n",
       "<table border=\"1\" class=\"dataframe\">\n",
       "  <thead>\n",
       "    <tr style=\"text-align: right;\">\n",
       "      <th></th>\n",
       "      <th>mean</th>\n",
       "      <th>count</th>\n",
       "    </tr>\n",
       "    <tr>\n",
       "      <th>Color</th>\n",
       "      <th></th>\n",
       "      <th></th>\n",
       "    </tr>\n",
       "  </thead>\n",
       "  <tbody>\n",
       "    <tr>\n",
       "      <th>BEIGE</th>\n",
       "      <td>0.139706</td>\n",
       "      <td>1088</td>\n",
       "    </tr>\n",
       "    <tr>\n",
       "      <th>BLACK</th>\n",
       "      <td>0.113936</td>\n",
       "      <td>5389</td>\n",
       "    </tr>\n",
       "    <tr>\n",
       "      <th>BLUE</th>\n",
       "      <td>0.115784</td>\n",
       "      <td>7229</td>\n",
       "    </tr>\n",
       "    <tr>\n",
       "      <th>BROWN</th>\n",
       "      <td>0.132890</td>\n",
       "      <td>301</td>\n",
       "    </tr>\n",
       "    <tr>\n",
       "      <th>GOLD</th>\n",
       "      <td>0.142626</td>\n",
       "      <td>3702</td>\n",
       "    </tr>\n",
       "    <tr>\n",
       "      <th>GREEN</th>\n",
       "      <td>0.118362</td>\n",
       "      <td>2222</td>\n",
       "    </tr>\n",
       "    <tr>\n",
       "      <th>GREY</th>\n",
       "      <td>0.116101</td>\n",
       "      <td>5478</td>\n",
       "    </tr>\n",
       "    <tr>\n",
       "      <th>MAROON</th>\n",
       "      <td>0.135135</td>\n",
       "      <td>1443</td>\n",
       "    </tr>\n",
       "    <tr>\n",
       "      <th>NOT AVAIL</th>\n",
       "      <td>0.253731</td>\n",
       "      <td>67</td>\n",
       "    </tr>\n",
       "    <tr>\n",
       "      <th>ORANGE</th>\n",
       "      <td>0.073016</td>\n",
       "      <td>315</td>\n",
       "    </tr>\n",
       "    <tr>\n",
       "      <th>OTHER</th>\n",
       "      <td>0.134078</td>\n",
       "      <td>179</td>\n",
       "    </tr>\n",
       "    <tr>\n",
       "      <th>PURPLE</th>\n",
       "      <td>0.119850</td>\n",
       "      <td>267</td>\n",
       "    </tr>\n",
       "    <tr>\n",
       "      <th>RED</th>\n",
       "      <td>0.131657</td>\n",
       "      <td>4375</td>\n",
       "    </tr>\n",
       "    <tr>\n",
       "      <th>SILVER</th>\n",
       "      <td>0.123957</td>\n",
       "      <td>10423</td>\n",
       "    </tr>\n",
       "    <tr>\n",
       "      <th>WHITE</th>\n",
       "      <td>0.122220</td>\n",
       "      <td>8452</td>\n",
       "    </tr>\n",
       "    <tr>\n",
       "      <th>YELLOW</th>\n",
       "      <td>0.131579</td>\n",
       "      <td>152</td>\n",
       "    </tr>\n",
       "  </tbody>\n",
       "</table>\n",
       "</div>"
      ],
      "text/plain": [
       "               mean  count\n",
       "Color                     \n",
       "BEIGE      0.139706   1088\n",
       "BLACK      0.113936   5389\n",
       "BLUE       0.115784   7229\n",
       "BROWN      0.132890    301\n",
       "GOLD       0.142626   3702\n",
       "GREEN      0.118362   2222\n",
       "GREY       0.116101   5478\n",
       "MAROON     0.135135   1443\n",
       "NOT AVAIL  0.253731     67\n",
       "ORANGE     0.073016    315\n",
       "OTHER      0.134078    179\n",
       "PURPLE     0.119850    267\n",
       "RED        0.131657   4375\n",
       "SILVER     0.123957  10423\n",
       "WHITE      0.122220   8452\n",
       "YELLOW     0.131579    152"
      ]
     },
     "execution_count": 8,
     "metadata": {},
     "output_type": "execute_result"
    }
   ],
   "source": [
    "train.groupby(\"Color\")[\"IsBadBuy\"].agg([\"mean\",\"count\"]) # wygląda na to ze not avaiable color zwiększa szanse zlego zakupu, zas pomaranczowy kolor w dziwny sposob zmniejsza - ale jest tam dosyc malo danych"
   ]
  },
  {
   "cell_type": "code",
   "execution_count": 9,
   "metadata": {},
   "outputs": [],
   "source": [
    "# na razie damy tylko kolumne czy jest bardziej niebezpieczna czy nie\n",
    "\n",
    "color_train = train.groupby(\"Color\")[\"IsBadBuy\"].agg([\"mean\"]) \n",
    "\n",
    "max_mean_color = color_train[\"mean\"].max()\n",
    "color_dict = color_train[\"mean\"].to_dict()\n",
    "train[\"ColorDanger\"] = train[\"Color\"].map(color_dict).fillna(train.IsBadBuy.mean())/max_mean_color\n",
    "bad_colors = list(color_train.loc[color_train[\"mean\"] > train.IsBadBuy.mean()].index)\n",
    "\n",
    "train['DangerousColor'] = np.where(train[\"Color\"].isin(bad_colors), 1, 0)"
   ]
  },
  {
   "cell_type": "markdown",
   "metadata": {},
   "source": [
    "przygotowanie imputacji"
   ]
  },
  {
   "cell_type": "code",
   "execution_count": 10,
   "metadata": {},
   "outputs": [
    {
     "name": "stderr",
     "output_type": "stream",
     "text": [
      "c:\\Users\\tymot\\anaconda3\\lib\\site-packages\\sklearn\\impute\\_iterative.py:785: ConvergenceWarning: [IterativeImputer] Early stopping criterion not reached.\n",
      "  warnings.warn(\n"
     ]
    },
    {
     "data": {
      "text/html": [
       "<div>\n",
       "<style scoped>\n",
       "    .dataframe tbody tr th:only-of-type {\n",
       "        vertical-align: middle;\n",
       "    }\n",
       "\n",
       "    .dataframe tbody tr th {\n",
       "        vertical-align: top;\n",
       "    }\n",
       "\n",
       "    .dataframe thead th {\n",
       "        text-align: right;\n",
       "    }\n",
       "</style>\n",
       "<table border=\"1\" class=\"dataframe\">\n",
       "  <thead>\n",
       "    <tr style=\"text-align: right;\">\n",
       "      <th></th>\n",
       "      <th>MMRCurrentAuctionAveragePrice</th>\n",
       "      <th>MMRAcquisitionAuctionAveragePrice</th>\n",
       "      <th>VehBCost</th>\n",
       "    </tr>\n",
       "  </thead>\n",
       "  <tbody>\n",
       "    <tr>\n",
       "      <th>51596</th>\n",
       "      <td>6473.0</td>\n",
       "      <td>5602.0</td>\n",
       "      <td>6800.0</td>\n",
       "    </tr>\n",
       "    <tr>\n",
       "      <th>7358</th>\n",
       "      <td>8975.0</td>\n",
       "      <td>7038.0</td>\n",
       "      <td>10775.0</td>\n",
       "    </tr>\n",
       "    <tr>\n",
       "      <th>66010</th>\n",
       "      <td>6680.0</td>\n",
       "      <td>6680.0</td>\n",
       "      <td>6890.0</td>\n",
       "    </tr>\n",
       "    <tr>\n",
       "      <th>39674</th>\n",
       "      <td>6416.0</td>\n",
       "      <td>5820.0</td>\n",
       "      <td>6870.0</td>\n",
       "    </tr>\n",
       "    <tr>\n",
       "      <th>12486</th>\n",
       "      <td>5978.0</td>\n",
       "      <td>4836.0</td>\n",
       "      <td>7350.0</td>\n",
       "    </tr>\n",
       "    <tr>\n",
       "      <th>...</th>\n",
       "      <td>...</td>\n",
       "      <td>...</td>\n",
       "      <td>...</td>\n",
       "    </tr>\n",
       "    <tr>\n",
       "      <th>22569</th>\n",
       "      <td>8529.0</td>\n",
       "      <td>8168.0</td>\n",
       "      <td>6470.0</td>\n",
       "    </tr>\n",
       "    <tr>\n",
       "      <th>41811</th>\n",
       "      <td>3769.0</td>\n",
       "      <td>3720.0</td>\n",
       "      <td>5935.0</td>\n",
       "    </tr>\n",
       "    <tr>\n",
       "      <th>67791</th>\n",
       "      <td>6346.0</td>\n",
       "      <td>5560.0</td>\n",
       "      <td>7130.0</td>\n",
       "    </tr>\n",
       "    <tr>\n",
       "      <th>40656</th>\n",
       "      <td>5345.0</td>\n",
       "      <td>5512.0</td>\n",
       "      <td>8370.0</td>\n",
       "    </tr>\n",
       "    <tr>\n",
       "      <th>22861</th>\n",
       "      <td>3426.0</td>\n",
       "      <td>2294.0</td>\n",
       "      <td>4910.0</td>\n",
       "    </tr>\n",
       "  </tbody>\n",
       "</table>\n",
       "<p>51088 rows × 3 columns</p>\n",
       "</div>"
      ],
      "text/plain": [
       "       MMRCurrentAuctionAveragePrice  MMRAcquisitionAuctionAveragePrice  \\\n",
       "51596                         6473.0                             5602.0   \n",
       "7358                          8975.0                             7038.0   \n",
       "66010                         6680.0                             6680.0   \n",
       "39674                         6416.0                             5820.0   \n",
       "12486                         5978.0                             4836.0   \n",
       "...                              ...                                ...   \n",
       "22569                         8529.0                             8168.0   \n",
       "41811                         3769.0                             3720.0   \n",
       "67791                         6346.0                             5560.0   \n",
       "40656                         5345.0                             5512.0   \n",
       "22861                         3426.0                             2294.0   \n",
       "\n",
       "       VehBCost  \n",
       "51596    6800.0  \n",
       "7358    10775.0  \n",
       "66010    6890.0  \n",
       "39674    6870.0  \n",
       "12486    7350.0  \n",
       "...         ...  \n",
       "22569    6470.0  \n",
       "41811    5935.0  \n",
       "67791    7130.0  \n",
       "40656    8370.0  \n",
       "22861    4910.0  \n",
       "\n",
       "[51088 rows x 3 columns]"
      ]
     },
     "execution_count": 10,
     "metadata": {},
     "output_type": "execute_result"
    }
   ],
   "source": [
    "# zaimputujemy sobie wartość 0 dla kolumn MMRCurrentAuctionAveragePrice oraz MMRAcquisitionAuctionAveragePrice\n",
    "# pozostałe wywalamy\n",
    "from sklearn.experimental import enable_iterative_imputer\n",
    "from sklearn.impute import IterativeImputer\n",
    "\n",
    "train[\"MMRCurrentAuctionAveragePrice\"] = np.where(train[\"MMRCurrentAuctionAveragePrice\"] == 0, np.nan, train[\"MMRCurrentAuctionAveragePrice\"])\n",
    "train[\"MMRAcquisitionAuctionAveragePrice\"] = np.where(train[\"MMRAcquisitionAuctionAveragePrice\"] == 0, np.nan, train[\"MMRAcquisitionAuctionAveragePrice\"])\n",
    "\n",
    "imp_mean = IterativeImputer(random_state=0)\n",
    "\n",
    "MMR_columns = [\"MMRCurrentAuctionAveragePrice\", \"MMRAcquisitionAuctionAveragePrice\", \"VehBCost\"]\n",
    "\n",
    "imp_mean.fit(train[MMR_columns])\n",
    "\n",
    "MMR_train_transformed = imp_mean.transform(train[MMR_columns])\n",
    "MMR_train_transformed = pd.DataFrame(MMR_train_transformed, columns = MMR_columns)\n",
    "MMR_train_transformed.index = train.index\n",
    "MMR_train_transformed"
   ]
  },
  {
   "cell_type": "code",
   "execution_count": 11,
   "metadata": {},
   "outputs": [
    {
     "data": {
      "text/html": [
       "<div>\n",
       "<style scoped>\n",
       "    .dataframe tbody tr th:only-of-type {\n",
       "        vertical-align: middle;\n",
       "    }\n",
       "\n",
       "    .dataframe tbody tr th {\n",
       "        vertical-align: top;\n",
       "    }\n",
       "\n",
       "    .dataframe thead th {\n",
       "        text-align: right;\n",
       "    }\n",
       "</style>\n",
       "<table border=\"1\" class=\"dataframe\">\n",
       "  <thead>\n",
       "    <tr style=\"text-align: right;\">\n",
       "      <th></th>\n",
       "      <th>RefId</th>\n",
       "      <th>PurchDate</th>\n",
       "      <th>Auction</th>\n",
       "      <th>VehYear</th>\n",
       "      <th>VehicleAge</th>\n",
       "      <th>Make</th>\n",
       "      <th>Model</th>\n",
       "      <th>Trim</th>\n",
       "      <th>SubModel</th>\n",
       "      <th>Color</th>\n",
       "      <th>...</th>\n",
       "      <th>MMRCurrentRetailAveragePrice</th>\n",
       "      <th>MMRCurrentRetailCleanPrice</th>\n",
       "      <th>PRIMEUNIT</th>\n",
       "      <th>AUCGUART</th>\n",
       "      <th>BYRNO</th>\n",
       "      <th>VNZIP1</th>\n",
       "      <th>VNST</th>\n",
       "      <th>VehBCost</th>\n",
       "      <th>IsOnlineSale</th>\n",
       "      <th>WarrantyCost</th>\n",
       "    </tr>\n",
       "  </thead>\n",
       "  <tbody>\n",
       "    <tr>\n",
       "      <th>0</th>\n",
       "      <td>1</td>\n",
       "      <td>12/7/2009</td>\n",
       "      <td>ADESA</td>\n",
       "      <td>2006</td>\n",
       "      <td>3</td>\n",
       "      <td>MAZDA</td>\n",
       "      <td>MAZDA3</td>\n",
       "      <td>i</td>\n",
       "      <td>4D SEDAN I</td>\n",
       "      <td>RED</td>\n",
       "      <td>...</td>\n",
       "      <td>11597.0</td>\n",
       "      <td>12409.0</td>\n",
       "      <td>NaN</td>\n",
       "      <td>NaN</td>\n",
       "      <td>21973</td>\n",
       "      <td>33619</td>\n",
       "      <td>FL</td>\n",
       "      <td>7100.0</td>\n",
       "      <td>0</td>\n",
       "      <td>1113</td>\n",
       "    </tr>\n",
       "    <tr>\n",
       "      <th>1</th>\n",
       "      <td>2</td>\n",
       "      <td>12/7/2009</td>\n",
       "      <td>ADESA</td>\n",
       "      <td>2004</td>\n",
       "      <td>5</td>\n",
       "      <td>DODGE</td>\n",
       "      <td>1500 RAM PICKUP 2WD</td>\n",
       "      <td>ST</td>\n",
       "      <td>QUAD CAB 4.7L SLT</td>\n",
       "      <td>WHITE</td>\n",
       "      <td>...</td>\n",
       "      <td>11374.0</td>\n",
       "      <td>12791.0</td>\n",
       "      <td>NaN</td>\n",
       "      <td>NaN</td>\n",
       "      <td>19638</td>\n",
       "      <td>33619</td>\n",
       "      <td>FL</td>\n",
       "      <td>7600.0</td>\n",
       "      <td>0</td>\n",
       "      <td>1053</td>\n",
       "    </tr>\n",
       "    <tr>\n",
       "      <th>2</th>\n",
       "      <td>3</td>\n",
       "      <td>12/7/2009</td>\n",
       "      <td>ADESA</td>\n",
       "      <td>2005</td>\n",
       "      <td>4</td>\n",
       "      <td>DODGE</td>\n",
       "      <td>STRATUS V6</td>\n",
       "      <td>SXT</td>\n",
       "      <td>4D SEDAN SXT FFV</td>\n",
       "      <td>MAROON</td>\n",
       "      <td>...</td>\n",
       "      <td>7146.0</td>\n",
       "      <td>8702.0</td>\n",
       "      <td>NaN</td>\n",
       "      <td>NaN</td>\n",
       "      <td>19638</td>\n",
       "      <td>33619</td>\n",
       "      <td>FL</td>\n",
       "      <td>4900.0</td>\n",
       "      <td>0</td>\n",
       "      <td>1389</td>\n",
       "    </tr>\n",
       "    <tr>\n",
       "      <th>3</th>\n",
       "      <td>4</td>\n",
       "      <td>12/7/2009</td>\n",
       "      <td>ADESA</td>\n",
       "      <td>2004</td>\n",
       "      <td>5</td>\n",
       "      <td>DODGE</td>\n",
       "      <td>NEON</td>\n",
       "      <td>SXT</td>\n",
       "      <td>4D SEDAN</td>\n",
       "      <td>SILVER</td>\n",
       "      <td>...</td>\n",
       "      <td>4375.0</td>\n",
       "      <td>5518.0</td>\n",
       "      <td>NaN</td>\n",
       "      <td>NaN</td>\n",
       "      <td>19638</td>\n",
       "      <td>33619</td>\n",
       "      <td>FL</td>\n",
       "      <td>4100.0</td>\n",
       "      <td>0</td>\n",
       "      <td>630</td>\n",
       "    </tr>\n",
       "    <tr>\n",
       "      <th>4</th>\n",
       "      <td>5</td>\n",
       "      <td>12/7/2009</td>\n",
       "      <td>ADESA</td>\n",
       "      <td>2005</td>\n",
       "      <td>4</td>\n",
       "      <td>FORD</td>\n",
       "      <td>FOCUS</td>\n",
       "      <td>ZX3</td>\n",
       "      <td>2D COUPE ZX3</td>\n",
       "      <td>SILVER</td>\n",
       "      <td>...</td>\n",
       "      <td>6739.0</td>\n",
       "      <td>7911.0</td>\n",
       "      <td>NaN</td>\n",
       "      <td>NaN</td>\n",
       "      <td>19638</td>\n",
       "      <td>33619</td>\n",
       "      <td>FL</td>\n",
       "      <td>4000.0</td>\n",
       "      <td>0</td>\n",
       "      <td>1020</td>\n",
       "    </tr>\n",
       "    <tr>\n",
       "      <th>...</th>\n",
       "      <td>...</td>\n",
       "      <td>...</td>\n",
       "      <td>...</td>\n",
       "      <td>...</td>\n",
       "      <td>...</td>\n",
       "      <td>...</td>\n",
       "      <td>...</td>\n",
       "      <td>...</td>\n",
       "      <td>...</td>\n",
       "      <td>...</td>\n",
       "      <td>...</td>\n",
       "      <td>...</td>\n",
       "      <td>...</td>\n",
       "      <td>...</td>\n",
       "      <td>...</td>\n",
       "      <td>...</td>\n",
       "      <td>...</td>\n",
       "      <td>...</td>\n",
       "      <td>...</td>\n",
       "      <td>...</td>\n",
       "      <td>...</td>\n",
       "    </tr>\n",
       "    <tr>\n",
       "      <th>72978</th>\n",
       "      <td>73010</td>\n",
       "      <td>12/2/2009</td>\n",
       "      <td>ADESA</td>\n",
       "      <td>2001</td>\n",
       "      <td>8</td>\n",
       "      <td>MERCURY</td>\n",
       "      <td>SABLE</td>\n",
       "      <td>GS</td>\n",
       "      <td>4D SEDAN GS</td>\n",
       "      <td>BLACK</td>\n",
       "      <td>...</td>\n",
       "      <td>4836.0</td>\n",
       "      <td>5937.0</td>\n",
       "      <td>NaN</td>\n",
       "      <td>NaN</td>\n",
       "      <td>18111</td>\n",
       "      <td>30212</td>\n",
       "      <td>GA</td>\n",
       "      <td>4200.0</td>\n",
       "      <td>0</td>\n",
       "      <td>993</td>\n",
       "    </tr>\n",
       "    <tr>\n",
       "      <th>72979</th>\n",
       "      <td>73011</td>\n",
       "      <td>12/2/2009</td>\n",
       "      <td>ADESA</td>\n",
       "      <td>2007</td>\n",
       "      <td>2</td>\n",
       "      <td>CHEVROLET</td>\n",
       "      <td>MALIBU 4C</td>\n",
       "      <td>LS</td>\n",
       "      <td>4D SEDAN LS</td>\n",
       "      <td>SILVER</td>\n",
       "      <td>...</td>\n",
       "      <td>10151.0</td>\n",
       "      <td>11652.0</td>\n",
       "      <td>NaN</td>\n",
       "      <td>NaN</td>\n",
       "      <td>18881</td>\n",
       "      <td>30212</td>\n",
       "      <td>GA</td>\n",
       "      <td>6200.0</td>\n",
       "      <td>0</td>\n",
       "      <td>1038</td>\n",
       "    </tr>\n",
       "    <tr>\n",
       "      <th>72980</th>\n",
       "      <td>73012</td>\n",
       "      <td>12/2/2009</td>\n",
       "      <td>ADESA</td>\n",
       "      <td>2005</td>\n",
       "      <td>4</td>\n",
       "      <td>JEEP</td>\n",
       "      <td>GRAND CHEROKEE 2WD V</td>\n",
       "      <td>Lar</td>\n",
       "      <td>4D WAGON LAREDO</td>\n",
       "      <td>SILVER</td>\n",
       "      <td>...</td>\n",
       "      <td>11831.0</td>\n",
       "      <td>14402.0</td>\n",
       "      <td>NaN</td>\n",
       "      <td>NaN</td>\n",
       "      <td>18111</td>\n",
       "      <td>30212</td>\n",
       "      <td>GA</td>\n",
       "      <td>8200.0</td>\n",
       "      <td>0</td>\n",
       "      <td>1893</td>\n",
       "    </tr>\n",
       "    <tr>\n",
       "      <th>72981</th>\n",
       "      <td>73013</td>\n",
       "      <td>12/2/2009</td>\n",
       "      <td>ADESA</td>\n",
       "      <td>2006</td>\n",
       "      <td>3</td>\n",
       "      <td>CHEVROLET</td>\n",
       "      <td>IMPALA</td>\n",
       "      <td>LS</td>\n",
       "      <td>4D SEDAN LS</td>\n",
       "      <td>WHITE</td>\n",
       "      <td>...</td>\n",
       "      <td>10099.0</td>\n",
       "      <td>11228.0</td>\n",
       "      <td>NaN</td>\n",
       "      <td>NaN</td>\n",
       "      <td>18881</td>\n",
       "      <td>30212</td>\n",
       "      <td>GA</td>\n",
       "      <td>7000.0</td>\n",
       "      <td>0</td>\n",
       "      <td>1974</td>\n",
       "    </tr>\n",
       "    <tr>\n",
       "      <th>72982</th>\n",
       "      <td>73014</td>\n",
       "      <td>12/2/2009</td>\n",
       "      <td>ADESA</td>\n",
       "      <td>2006</td>\n",
       "      <td>3</td>\n",
       "      <td>MAZDA</td>\n",
       "      <td>MAZDA6</td>\n",
       "      <td>s</td>\n",
       "      <td>4D SEDAN S</td>\n",
       "      <td>SILVER</td>\n",
       "      <td>...</td>\n",
       "      <td>11954.0</td>\n",
       "      <td>13246.0</td>\n",
       "      <td>NaN</td>\n",
       "      <td>NaN</td>\n",
       "      <td>18111</td>\n",
       "      <td>30212</td>\n",
       "      <td>GA</td>\n",
       "      <td>8000.0</td>\n",
       "      <td>0</td>\n",
       "      <td>1313</td>\n",
       "    </tr>\n",
       "  </tbody>\n",
       "</table>\n",
       "<p>72983 rows × 33 columns</p>\n",
       "</div>"
      ],
      "text/plain": [
       "       RefId  PurchDate Auction  VehYear  VehicleAge       Make  \\\n",
       "0          1  12/7/2009   ADESA     2006           3      MAZDA   \n",
       "1          2  12/7/2009   ADESA     2004           5      DODGE   \n",
       "2          3  12/7/2009   ADESA     2005           4      DODGE   \n",
       "3          4  12/7/2009   ADESA     2004           5      DODGE   \n",
       "4          5  12/7/2009   ADESA     2005           4       FORD   \n",
       "...      ...        ...     ...      ...         ...        ...   \n",
       "72978  73010  12/2/2009   ADESA     2001           8    MERCURY   \n",
       "72979  73011  12/2/2009   ADESA     2007           2  CHEVROLET   \n",
       "72980  73012  12/2/2009   ADESA     2005           4       JEEP   \n",
       "72981  73013  12/2/2009   ADESA     2006           3  CHEVROLET   \n",
       "72982  73014  12/2/2009   ADESA     2006           3      MAZDA   \n",
       "\n",
       "                      Model Trim           SubModel   Color  ...  \\\n",
       "0                    MAZDA3    i         4D SEDAN I     RED  ...   \n",
       "1       1500 RAM PICKUP 2WD   ST  QUAD CAB 4.7L SLT   WHITE  ...   \n",
       "2                STRATUS V6  SXT   4D SEDAN SXT FFV  MAROON  ...   \n",
       "3                      NEON  SXT           4D SEDAN  SILVER  ...   \n",
       "4                     FOCUS  ZX3       2D COUPE ZX3  SILVER  ...   \n",
       "...                     ...  ...                ...     ...  ...   \n",
       "72978                 SABLE   GS        4D SEDAN GS   BLACK  ...   \n",
       "72979             MALIBU 4C   LS        4D SEDAN LS  SILVER  ...   \n",
       "72980  GRAND CHEROKEE 2WD V  Lar    4D WAGON LAREDO  SILVER  ...   \n",
       "72981                IMPALA   LS        4D SEDAN LS   WHITE  ...   \n",
       "72982                MAZDA6    s         4D SEDAN S  SILVER  ...   \n",
       "\n",
       "      MMRCurrentRetailAveragePrice  MMRCurrentRetailCleanPrice PRIMEUNIT  \\\n",
       "0                          11597.0                     12409.0       NaN   \n",
       "1                          11374.0                     12791.0       NaN   \n",
       "2                           7146.0                      8702.0       NaN   \n",
       "3                           4375.0                      5518.0       NaN   \n",
       "4                           6739.0                      7911.0       NaN   \n",
       "...                            ...                         ...       ...   \n",
       "72978                       4836.0                      5937.0       NaN   \n",
       "72979                      10151.0                     11652.0       NaN   \n",
       "72980                      11831.0                     14402.0       NaN   \n",
       "72981                      10099.0                     11228.0       NaN   \n",
       "72982                      11954.0                     13246.0       NaN   \n",
       "\n",
       "       AUCGUART  BYRNO VNZIP1 VNST  VehBCost  IsOnlineSale  WarrantyCost  \n",
       "0           NaN  21973  33619   FL    7100.0             0          1113  \n",
       "1           NaN  19638  33619   FL    7600.0             0          1053  \n",
       "2           NaN  19638  33619   FL    4900.0             0          1389  \n",
       "3           NaN  19638  33619   FL    4100.0             0           630  \n",
       "4           NaN  19638  33619   FL    4000.0             0          1020  \n",
       "...         ...    ...    ...  ...       ...           ...           ...  \n",
       "72978       NaN  18111  30212   GA    4200.0             0           993  \n",
       "72979       NaN  18881  30212   GA    6200.0             0          1038  \n",
       "72980       NaN  18111  30212   GA    8200.0             0          1893  \n",
       "72981       NaN  18881  30212   GA    7000.0             0          1974  \n",
       "72982       NaN  18111  30212   GA    8000.0             0          1313  \n",
       "\n",
       "[72983 rows x 33 columns]"
      ]
     },
     "execution_count": 11,
     "metadata": {},
     "output_type": "execute_result"
    }
   ],
   "source": [
    "train_df"
   ]
  },
  {
   "cell_type": "markdown",
   "metadata": {},
   "source": [
    "# 2. Preparing functions for pipeline"
   ]
  },
  {
   "cell_type": "code",
   "execution_count": 12,
   "metadata": {},
   "outputs": [],
   "source": [
    "train_df = pd.read_csv('../training.csv') # split for test and train set is ready\n",
    "test = pd.read_csv('../test.csv')\n",
    "\n",
    "y = train_df[\"IsBadBuy\"]\n",
    "X = train_df.drop('IsBadBuy', axis=1)"
   ]
  },
  {
   "cell_type": "code",
   "execution_count": 13,
   "metadata": {},
   "outputs": [],
   "source": [
    "def preprocess_df(X):\n",
    "    X['TopThreeAmericanName'] = X['TopThreeAmericanName'].fillna('OTHER')\n",
    "    X['Size'] = X['Size'].fillna('MEDIUM')\n",
    "    X['Nationality'] = X['Nationality'].fillna('OTHER')\n",
    "    X['WheelTypeID'] = X['WheelTypeID'].fillna(1)\n",
    "    X = X.drop(labels = ['VNZIP1','VNST'],axis=1)\n",
    "        \n",
    "    return X"
   ]
  },
  {
   "cell_type": "code",
   "execution_count": 14,
   "metadata": {},
   "outputs": [
    {
     "data": {
      "image/png": "[encoded data removed]",
      "text/plain": [
       "<Figure size 640x480 with 1 Axes>"
      ]
     },
     "metadata": {},
     "output_type": "display_data"
    }
   ],
   "source": [
    "train_bad_buy_mean = train.IsBadBuy.mean()\n",
    "\n",
    "color_val = val.groupby(\"Color\")[\"IsBadBuy\"].agg([\"mean\"])\n",
    "color = color_val.join(color_train, lsuffix=\"_val\", rsuffix=\"_train\")\n",
    "color[\"mean\"] = train.IsBadBuy.mean()\n",
    "plt.plot(color.index, color[\"mean_train\"])\n",
    "plt.plot(color.index, color[\"mean_val\"])\n",
    "plt.plot(color.index, color[\"mean\"])\n",
    "\n",
    "plt.show()"
   ]
  },
  {
   "cell_type": "code",
   "execution_count": 15,
   "metadata": {},
   "outputs": [],
   "source": [
    "def encode_categorical(df):\n",
    "    df[\"ColorDanger\"] = df[\"Color\"].map(color_dict).fillna(train_bad_buy_mean)/max_mean_color # no takie w miare to jest średnie\n",
    "    #df['DangerousColor'] = np.where(df[\"Color\"].isin(bad_colors), 1, 0)\n",
    "\n",
    "    df[\"IsPrimeunitNA\"] = np.where(df[\"PRIMEUNIT\"].isna(), 1, 0) # to moze byc niepotrzebne\n",
    "    primeunit_dict = {'NO':0, 'YES':1, float(\"nan\"):0} # nie jestem pewien czy nie lepiej bedzie zamienic na odwrot\n",
    "    df['PRIMEUNIT'] = df['PRIMEUNIT'].str.upper().map(primeunit_dict)\n",
    "    aucguart_dict = {'GREEN':2, 'YELLOW':1, \"RED\":0, float(\"nan\"):0}\n",
    "    df['AUCGUART'] = df['AUCGUART'].str.upper().map(aucguart_dict)\n",
    "\n",
    "    transmission_dict = {'AUTO':0, 'MANUAL':1}\n",
    "    df['Transmission'] = df['Transmission'].str.upper().map(transmission_dict)\n",
    "    df[\"Transmission\"] = df[\"Transmission\"].fillna(df[\"Transmission\"].median())\n",
    "\n",
    "    df = df.drop(columns=[\"BYRNO\", \"Color\"])\n",
    "\n",
    "    print(\"Categorical columns transformed.\")\n",
    "\n",
    "    return df\n",
    "\n",
    "def impute_MMR(df):\n",
    "\n",
    "    # zamieniamy 0 na nan    \n",
    "    df[\"MMRCurrentAuctionAveragePrice\"] = np.where(df[\"MMRCurrentAuctionAveragePrice\"] == 0, np.nan, df[\"MMRCurrentAuctionAveragePrice\"])\n",
    "    df[\"MMRAcquisitionAuctionAveragePrice\"] = np.where(df[\"MMRAcquisitionAuctionAveragePrice\"] == 0, np.nan, df[\"MMRAcquisitionAuctionAveragePrice\"])\n",
    "\n",
    "    MMR_df = imp_mean.transform(df[MMR_columns])\n",
    "    MMR_df = pd.DataFrame(MMR_df, columns = MMR_columns)\n",
    "    MMR_df.index = df.index\n",
    "    df[\"MMRCurrentAuctionAveragePrice\"] = MMR_df[\"MMRCurrentAuctionAveragePrice\"]\n",
    "    df[\"MMRAcquisitionAuctionAveragePrice\"] = MMR_df[\"MMRAcquisitionAuctionAveragePrice\"]\n",
    "\n",
    "    df = df.drop(columns = [\"MMRAcquisitionAuctionCleanPrice\", \"MMRAcquisitionRetailAveragePrice\", \"MMRAcquisitonRetailCleanPrice\", \n",
    "                            \"MMRCurrentAuctionCleanPrice\", \"MMRCurrentRetailAveragePrice\", \"MMRCurrentRetailCleanPrice\"]) \n",
    "    \n",
    "    # tutaj moze tez MMRAcquisitionAuctionAveragePrice\n",
    "\n",
    "    print(\"MMR Columns imputed.\")\n",
    "    return df"
   ]
  },
  {
   "cell_type": "code",
   "execution_count": 16,
   "metadata": {},
   "outputs": [],
   "source": [
    "def preprocess_df(X):\n",
    "    X['TopThreeAmericanName'] = X['TopThreeAmericanName'].fillna('OTHER')\n",
    "    X['Size'] = X['Size'].fillna('MEDIUM')\n",
    "    X['Nationality'] = X['Nationality'].fillna('OTHER')\n",
    "    #X = X[X['WheelTypeID'].notna()] TAK NIE WOLNO - to nam psuje preprocessing\n",
    "    X['WheelTypeID'] = X['TopThreeAmericanName'].fillna(0)\n",
    "\n",
    "    X = X.drop(labels = ['VNZIP1','VNST'],axis=1)\n",
    "    \n",
    "    return X"
   ]
  },
  {
   "cell_type": "code",
   "execution_count": 17,
   "metadata": {},
   "outputs": [],
   "source": [
    "def assign_chassis(df):\n",
    "\n",
    "    types = [\"CAB\", \"CONVERTIBLE\", \"CUV\", \"HATCHBACK\", \"PASSENGER\", \"SEDAN\", \"SPORT\", \"SUV\", \"MINIVAN\", \"UTILITY\", \"WAGON\"]\n",
    "\n",
    "    for word in df['SubModel_splited']:\n",
    "        if word in types:\n",
    "            return word\n",
    "    return \"OTHER\"\n",
    "\n",
    "def assign_season(df):\n",
    "\n",
    "    if 3 <= df['Month'] <= 5: val = 'Spring'\n",
    "    elif 6 <= df['Month'] <= 8: val = 'Summer'\n",
    "    elif 9 <= df['Month'] <= 11: val = 'Autumn'\n",
    "    else: val = 'Winter'\n",
    "\n",
    "    return val\n",
    "\n",
    "def preprocess(df):\n",
    "\n",
    "    df['PurchDate'] = pd.to_datetime(df['PurchDate'])\n",
    "    df['Month'] = df['PurchDate'].dt.month\n",
    "    df['Year'] = df['PurchDate'].dt.year.apply(lambda x: x == 2010).astype(int)\n",
    "    df['Season'] = df.apply(assign_season, axis = 1)\n",
    "    df['Doors'] = df['SubModel'].str.extract(r'([1-9]D)').replace(np.nan, \"UNKNOWN\")\n",
    "    df['SubModel_splited'] = df['SubModel'].apply(lambda x: str(x).split())\n",
    "    df['Chassis'] = df.apply(assign_chassis, axis=1)\n",
    "\n",
    "    print(\"Done preprocessing\")\n",
    "\n",
    "    return df"
   ]
  },
  {
   "cell_type": "markdown",
   "metadata": {},
   "source": [
    "# 3. Making pipeline"
   ]
  },
  {
   "cell_type": "code",
   "execution_count": 174,
   "metadata": {},
   "outputs": [],
   "source": [
    "X_train, X_val, y_train, y_val = train_test_split(\n",
    "    X, y, stratify=y, test_size=0.3, random_state=42\n",
    ")\n",
    "\n",
    "\n",
    "train = X_train.join(y_train)\n",
    "val = X_val.join(y_val)"
   ]
  },
  {
   "cell_type": "code",
   "execution_count": 175,
   "metadata": {},
   "outputs": [
    {
     "name": "stdout",
     "output_type": "stream",
     "text": [
      "Shape of X_train: (51088, 33)\n",
      "Shape of X_val: (21895, 33)\n"
     ]
    }
   ],
   "source": [
    "print(f'Shape of X_train: {X_train.shape}')\n",
    "print(f'Shape of X_val: {X_val.shape}')"
   ]
  },
  {
   "cell_type": "code",
   "execution_count": 176,
   "metadata": {},
   "outputs": [
    {
     "name": "stdout",
     "output_type": "stream",
     "text": [
      "Shape of y_train: (51088,)\n",
      "Shape of y_val: (21895,)\n"
     ]
    }
   ],
   "source": [
    "print(f'Shape of y_train: {y_train.shape}')\n",
    "print(f'Shape of y_val: {y_val.shape}')"
   ]
  },
  {
   "cell_type": "code",
   "execution_count": 177,
   "metadata": {},
   "outputs": [],
   "source": [
    "preprocessor = ColumnTransformer(\n",
    "    transformers=[\n",
    "        ('num', StandardScaler(), ['VehOdo','VehBCost', 'WarrantyCost', 'VehicleAge', 'MMRAcquisitionAuctionAveragePrice',\n",
    "                                   'MMRCurrentAuctionAveragePrice']),\n",
    "        ('cat', OneHotEncoder(sparse_output=False),  ['TopThreeAmericanName', 'WheelTypeID','Nationality','Size',\n",
    "                                                      'Make', 'Chassis', 'Doors', 'Auction', 'Season', 'Month']),\n",
    "        ('passthrough','passthrough', ['IsOnlineSale', 'VehicleAge', 'Year'])\n",
    "    ])\n",
    "\n",
    "some_colnames = ['VehOdo','VehBCost', 'WarrantyCost', 'VehicleAge', 'MMRAcquisitionAuctionAveragePrice',\n",
    "                                   'MMRCurrentAuctionAveragePrice'] + ['IsOnlineSale', 'VehicleAge', 'Year']"
   ]
  },
  {
   "cell_type": "code",
   "execution_count": 178,
   "metadata": {},
   "outputs": [],
   "source": [
    "categorical_transformer = FunctionTransformer(encode_categorical)\n",
    "MMR_imputer = FunctionTransformer(impute_MMR)\n",
    "mateusz_transformer = FunctionTransformer(preprocess_df)\n",
    "maciej_transformer = FunctionTransformer(preprocess)\n",
    "\n",
    "# all the afore declared processings applied\n",
    "prepipe = Pipeline([\n",
    "    (\"transform_categorical\", categorical_transformer),\n",
    "    (\"MMR_imputing\", MMR_imputer), \n",
    "    (\"Mateusz\", mateusz_transformer),\n",
    "    (\"Maciej\", maciej_transformer)\n",
    "])\n",
    "\n",
    "pipeline = Pipeline(steps=[('preprocessor', preprocessor)])"
   ]
  },
  {
   "cell_type": "code",
   "execution_count": 179,
   "metadata": {},
   "outputs": [
    {
     "name": "stdout",
     "output_type": "stream",
     "text": [
      "Categorical columns transformed.\n",
      "MMR Columns imputed.\n",
      "Done preprocessing\n"
     ]
    }
   ],
   "source": [
    "X_train = prepipe.fit_transform(X_train)\n",
    "\n",
    "X_train = pipeline.fit_transform(X_train)"
   ]
  },
  {
   "cell_type": "code",
   "execution_count": 181,
   "metadata": {},
   "outputs": [
    {
     "data": {
      "text/plain": [
       "Index(['x0', 'x1', 'x2', 'x3', 'x4', 'x5', 'x6', 'x7', 'x8', 'x9', 'x10',\n",
       "       'x11', 'x12', 'x13', 'x14', 'x15', 'x16', 'x17', 'x18', 'x19', 'x20',\n",
       "       'x21', 'x22', 'x23', 'x24', 'x25', 'x26', 'x27', 'x28', 'x29', 'x30',\n",
       "       'x31', 'x32', 'x33', 'x34', 'x35', 'x36', 'x37', 'x38', 'x39', 'x40',\n",
       "       'x41', 'x42', 'x43', 'x44', 'x45', 'x46', 'x47', 'x48', 'x49', 'x50',\n",
       "       'x51', 'x52', 'x53', 'x54', 'x55', 'x56', 'x57', 'x58', 'x59', 'x60',\n",
       "       'x61', 'x62', 'x63', 'x64', 'x65', 'x66', 'x67', 'x68', 'x69', 'x70',\n",
       "       'x71', 'x72', 'x73', 'x74', 'x75', 'x76', 'x77', 'x78', 'x79', 'x80',\n",
       "       'x81', 'x82', 'x83', 'x84', 'x85', 'x86', 'x87', 'x88', 'x89', 'x90',\n",
       "       'x91', 'x92'],\n",
       "      dtype='object')"
      ]
     },
     "execution_count": 181,
     "metadata": {},
     "output_type": "execute_result"
    }
   ],
   "source": [
    "some_colnames = pd.Index(some_colnames)\n",
    "\"x\" + pd.Index(list(range(X_train.shape[1] - len(some_colnames)))).astype(\"str\") "
   ]
  },
  {
   "cell_type": "code",
   "execution_count": 182,
   "metadata": {},
   "outputs": [],
   "source": [
    "colnames = some_colnames.append(\"x\" + pd.Index(list(range(X_train.shape[1] - len(some_colnames)))).astype(\"str\") )"
   ]
  },
  {
   "cell_type": "code",
   "execution_count": 180,
   "metadata": {},
   "outputs": [
    {
     "data": {
      "text/plain": [
       "(51088, 102)"
      ]
     },
     "execution_count": 180,
     "metadata": {},
     "output_type": "execute_result"
    }
   ],
   "source": [
    "X_train.shape"
   ]
  },
  {
   "cell_type": "code",
   "execution_count": 183,
   "metadata": {},
   "outputs": [
    {
     "data": {
      "text/html": [
       "<div>\n",
       "<style scoped>\n",
       "    .dataframe tbody tr th:only-of-type {\n",
       "        vertical-align: middle;\n",
       "    }\n",
       "\n",
       "    .dataframe tbody tr th {\n",
       "        vertical-align: top;\n",
       "    }\n",
       "\n",
       "    .dataframe thead th {\n",
       "        text-align: right;\n",
       "    }\n",
       "</style>\n",
       "<table border=\"1\" class=\"dataframe\">\n",
       "  <thead>\n",
       "    <tr style=\"text-align: right;\">\n",
       "      <th></th>\n",
       "      <th>VehOdo</th>\n",
       "      <th>VehBCost</th>\n",
       "      <th>WarrantyCost</th>\n",
       "      <th>VehicleAge</th>\n",
       "      <th>MMRAcquisitionAuctionAveragePrice</th>\n",
       "      <th>MMRCurrentAuctionAveragePrice</th>\n",
       "      <th>IsOnlineSale</th>\n",
       "      <th>VehicleAge</th>\n",
       "      <th>Year</th>\n",
       "      <th>x0</th>\n",
       "      <th>...</th>\n",
       "      <th>x83</th>\n",
       "      <th>x84</th>\n",
       "      <th>x85</th>\n",
       "      <th>x86</th>\n",
       "      <th>x87</th>\n",
       "      <th>x88</th>\n",
       "      <th>x89</th>\n",
       "      <th>x90</th>\n",
       "      <th>x91</th>\n",
       "      <th>x92</th>\n",
       "    </tr>\n",
       "  </thead>\n",
       "  <tbody>\n",
       "    <tr>\n",
       "      <th>0</th>\n",
       "      <td>0.900922</td>\n",
       "      <td>0.039743</td>\n",
       "      <td>1.020451</td>\n",
       "      <td>0.484746</td>\n",
       "      <td>-0.251477</td>\n",
       "      <td>0.124353</td>\n",
       "      <td>0.0</td>\n",
       "      <td>1.0</td>\n",
       "      <td>0.0</td>\n",
       "      <td>0.0</td>\n",
       "      <td>...</td>\n",
       "      <td>0.0</td>\n",
       "      <td>0.0</td>\n",
       "      <td>0.0</td>\n",
       "      <td>0.0</td>\n",
       "      <td>0.0</td>\n",
       "      <td>1.0</td>\n",
       "      <td>0.0</td>\n",
       "      <td>0.0</td>\n",
       "      <td>5.0</td>\n",
       "      <td>0.0</td>\n",
       "    </tr>\n",
       "    <tr>\n",
       "      <th>1</th>\n",
       "      <td>0.611992</td>\n",
       "      <td>2.295998</td>\n",
       "      <td>0.222442</td>\n",
       "      <td>1.070006</td>\n",
       "      <td>0.352161</td>\n",
       "      <td>1.174646</td>\n",
       "      <td>0.0</td>\n",
       "      <td>1.0</td>\n",
       "      <td>0.0</td>\n",
       "      <td>0.0</td>\n",
       "      <td>...</td>\n",
       "      <td>0.0</td>\n",
       "      <td>0.0</td>\n",
       "      <td>0.0</td>\n",
       "      <td>0.0</td>\n",
       "      <td>1.0</td>\n",
       "      <td>0.0</td>\n",
       "      <td>0.0</td>\n",
       "      <td>0.0</td>\n",
       "      <td>6.0</td>\n",
       "      <td>0.0</td>\n",
       "    </tr>\n",
       "    <tr>\n",
       "      <th>2</th>\n",
       "      <td>0.095303</td>\n",
       "      <td>0.090828</td>\n",
       "      <td>-0.791695</td>\n",
       "      <td>-0.685775</td>\n",
       "      <td>0.201672</td>\n",
       "      <td>0.211248</td>\n",
       "      <td>0.0</td>\n",
       "      <td>0.0</td>\n",
       "      <td>0.0</td>\n",
       "      <td>1.0</td>\n",
       "      <td>...</td>\n",
       "      <td>0.0</td>\n",
       "      <td>0.0</td>\n",
       "      <td>0.0</td>\n",
       "      <td>0.0</td>\n",
       "      <td>0.0</td>\n",
       "      <td>0.0</td>\n",
       "      <td>0.0</td>\n",
       "      <td>0.0</td>\n",
       "      <td>3.0</td>\n",
       "      <td>0.0</td>\n",
       "    </tr>\n",
       "    <tr>\n",
       "      <th>3</th>\n",
       "      <td>-0.431455</td>\n",
       "      <td>0.079475</td>\n",
       "      <td>-0.592193</td>\n",
       "      <td>-0.100514</td>\n",
       "      <td>-0.159839</td>\n",
       "      <td>0.100425</td>\n",
       "      <td>0.0</td>\n",
       "      <td>0.0</td>\n",
       "      <td>1.0</td>\n",
       "      <td>0.0</td>\n",
       "      <td>...</td>\n",
       "      <td>0.0</td>\n",
       "      <td>0.0</td>\n",
       "      <td>0.0</td>\n",
       "      <td>0.0</td>\n",
       "      <td>0.0</td>\n",
       "      <td>0.0</td>\n",
       "      <td>0.0</td>\n",
       "      <td>0.0</td>\n",
       "      <td>4.0</td>\n",
       "      <td>1.0</td>\n",
       "    </tr>\n",
       "    <tr>\n",
       "      <th>4</th>\n",
       "      <td>-1.214331</td>\n",
       "      <td>0.351929</td>\n",
       "      <td>-0.735169</td>\n",
       "      <td>-0.100514</td>\n",
       "      <td>-0.573474</td>\n",
       "      <td>-0.083439</td>\n",
       "      <td>0.0</td>\n",
       "      <td>0.0</td>\n",
       "      <td>1.0</td>\n",
       "      <td>0.0</td>\n",
       "      <td>...</td>\n",
       "      <td>0.0</td>\n",
       "      <td>0.0</td>\n",
       "      <td>0.0</td>\n",
       "      <td>0.0</td>\n",
       "      <td>0.0</td>\n",
       "      <td>0.0</td>\n",
       "      <td>0.0</td>\n",
       "      <td>0.0</td>\n",
       "      <td>4.0</td>\n",
       "      <td>1.0</td>\n",
       "    </tr>\n",
       "    <tr>\n",
       "      <th>...</th>\n",
       "      <td>...</td>\n",
       "      <td>...</td>\n",
       "      <td>...</td>\n",
       "      <td>...</td>\n",
       "      <td>...</td>\n",
       "      <td>...</td>\n",
       "      <td>...</td>\n",
       "      <td>...</td>\n",
       "      <td>...</td>\n",
       "      <td>...</td>\n",
       "      <td>...</td>\n",
       "      <td>...</td>\n",
       "      <td>...</td>\n",
       "      <td>...</td>\n",
       "      <td>...</td>\n",
       "      <td>...</td>\n",
       "      <td>...</td>\n",
       "      <td>...</td>\n",
       "      <td>...</td>\n",
       "      <td>...</td>\n",
       "      <td>...</td>\n",
       "    </tr>\n",
       "    <tr>\n",
       "      <th>51083</th>\n",
       "      <td>1.583995</td>\n",
       "      <td>-0.147569</td>\n",
       "      <td>-0.376065</td>\n",
       "      <td>-1.271035</td>\n",
       "      <td>0.827168</td>\n",
       "      <td>0.987424</td>\n",
       "      <td>0.0</td>\n",
       "      <td>1.0</td>\n",
       "      <td>0.0</td>\n",
       "      <td>0.0</td>\n",
       "      <td>...</td>\n",
       "      <td>0.0</td>\n",
       "      <td>0.0</td>\n",
       "      <td>0.0</td>\n",
       "      <td>0.0</td>\n",
       "      <td>0.0</td>\n",
       "      <td>0.0</td>\n",
       "      <td>1.0</td>\n",
       "      <td>0.0</td>\n",
       "      <td>2.0</td>\n",
       "      <td>0.0</td>\n",
       "    </tr>\n",
       "    <tr>\n",
       "      <th>51084</th>\n",
       "      <td>-0.045394</td>\n",
       "      <td>-0.451241</td>\n",
       "      <td>-0.206488</td>\n",
       "      <td>0.484746</td>\n",
       "      <td>-1.042596</td>\n",
       "      <td>-1.010736</td>\n",
       "      <td>0.0</td>\n",
       "      <td>1.0</td>\n",
       "      <td>0.0</td>\n",
       "      <td>0.0</td>\n",
       "      <td>...</td>\n",
       "      <td>0.0</td>\n",
       "      <td>0.0</td>\n",
       "      <td>0.0</td>\n",
       "      <td>0.0</td>\n",
       "      <td>0.0</td>\n",
       "      <td>1.0</td>\n",
       "      <td>0.0</td>\n",
       "      <td>0.0</td>\n",
       "      <td>5.0</td>\n",
       "      <td>1.0</td>\n",
       "    </tr>\n",
       "    <tr>\n",
       "      <th>51085</th>\n",
       "      <td>-1.772119</td>\n",
       "      <td>0.227054</td>\n",
       "      <td>-1.325363</td>\n",
       "      <td>-1.271035</td>\n",
       "      <td>-0.269133</td>\n",
       "      <td>0.071041</td>\n",
       "      <td>0.0</td>\n",
       "      <td>0.0</td>\n",
       "      <td>0.0</td>\n",
       "      <td>1.0</td>\n",
       "      <td>...</td>\n",
       "      <td>0.0</td>\n",
       "      <td>0.0</td>\n",
       "      <td>0.0</td>\n",
       "      <td>1.0</td>\n",
       "      <td>0.0</td>\n",
       "      <td>0.0</td>\n",
       "      <td>0.0</td>\n",
       "      <td>0.0</td>\n",
       "      <td>2.0</td>\n",
       "      <td>1.0</td>\n",
       "    </tr>\n",
       "    <tr>\n",
       "      <th>51086</th>\n",
       "      <td>-0.362134</td>\n",
       "      <td>0.930892</td>\n",
       "      <td>-0.093437</td>\n",
       "      <td>1.655267</td>\n",
       "      <td>-0.289310</td>\n",
       "      <td>-0.349160</td>\n",
       "      <td>0.0</td>\n",
       "      <td>1.0</td>\n",
       "      <td>0.0</td>\n",
       "      <td>0.0</td>\n",
       "      <td>...</td>\n",
       "      <td>0.0</td>\n",
       "      <td>0.0</td>\n",
       "      <td>0.0</td>\n",
       "      <td>0.0</td>\n",
       "      <td>0.0</td>\n",
       "      <td>0.0</td>\n",
       "      <td>0.0</td>\n",
       "      <td>0.0</td>\n",
       "      <td>7.0</td>\n",
       "      <td>0.0</td>\n",
       "    </tr>\n",
       "    <tr>\n",
       "      <th>51087</th>\n",
       "      <td>-1.033973</td>\n",
       "      <td>-1.033043</td>\n",
       "      <td>1.141815</td>\n",
       "      <td>2.240527</td>\n",
       "      <td>-1.642031</td>\n",
       "      <td>-1.154721</td>\n",
       "      <td>0.0</td>\n",
       "      <td>0.0</td>\n",
       "      <td>1.0</td>\n",
       "      <td>0.0</td>\n",
       "      <td>...</td>\n",
       "      <td>0.0</td>\n",
       "      <td>0.0</td>\n",
       "      <td>0.0</td>\n",
       "      <td>0.0</td>\n",
       "      <td>0.0</td>\n",
       "      <td>0.0</td>\n",
       "      <td>1.0</td>\n",
       "      <td>0.0</td>\n",
       "      <td>8.0</td>\n",
       "      <td>1.0</td>\n",
       "    </tr>\n",
       "  </tbody>\n",
       "</table>\n",
       "<p>51088 rows × 102 columns</p>\n",
       "</div>"
      ],
      "text/plain": [
       "         VehOdo  VehBCost  WarrantyCost  VehicleAge  \\\n",
       "0      0.900922  0.039743      1.020451    0.484746   \n",
       "1      0.611992  2.295998      0.222442    1.070006   \n",
       "2      0.095303  0.090828     -0.791695   -0.685775   \n",
       "3     -0.431455  0.079475     -0.592193   -0.100514   \n",
       "4     -1.214331  0.351929     -0.735169   -0.100514   \n",
       "...         ...       ...           ...         ...   \n",
       "51083  1.583995 -0.147569     -0.376065   -1.271035   \n",
       "51084 -0.045394 -0.451241     -0.206488    0.484746   \n",
       "51085 -1.772119  0.227054     -1.325363   -1.271035   \n",
       "51086 -0.362134  0.930892     -0.093437    1.655267   \n",
       "51087 -1.033973 -1.033043      1.141815    2.240527   \n",
       "\n",
       "       MMRAcquisitionAuctionAveragePrice  MMRCurrentAuctionAveragePrice  \\\n",
       "0                              -0.251477                       0.124353   \n",
       "1                               0.352161                       1.174646   \n",
       "2                               0.201672                       0.211248   \n",
       "3                              -0.159839                       0.100425   \n",
       "4                              -0.573474                      -0.083439   \n",
       "...                                  ...                            ...   \n",
       "51083                           0.827168                       0.987424   \n",
       "51084                          -1.042596                      -1.010736   \n",
       "51085                          -0.269133                       0.071041   \n",
       "51086                          -0.289310                      -0.349160   \n",
       "51087                          -1.642031                      -1.154721   \n",
       "\n",
       "       IsOnlineSale  VehicleAge  Year   x0  ...  x83  x84  x85  x86  x87  x88  \\\n",
       "0               0.0         1.0   0.0  0.0  ...  0.0  0.0  0.0  0.0  0.0  1.0   \n",
       "1               0.0         1.0   0.0  0.0  ...  0.0  0.0  0.0  0.0  1.0  0.0   \n",
       "2               0.0         0.0   0.0  1.0  ...  0.0  0.0  0.0  0.0  0.0  0.0   \n",
       "3               0.0         0.0   1.0  0.0  ...  0.0  0.0  0.0  0.0  0.0  0.0   \n",
       "4               0.0         0.0   1.0  0.0  ...  0.0  0.0  0.0  0.0  0.0  0.0   \n",
       "...             ...         ...   ...  ...  ...  ...  ...  ...  ...  ...  ...   \n",
       "51083           0.0         1.0   0.0  0.0  ...  0.0  0.0  0.0  0.0  0.0  0.0   \n",
       "51084           0.0         1.0   0.0  0.0  ...  0.0  0.0  0.0  0.0  0.0  1.0   \n",
       "51085           0.0         0.0   0.0  1.0  ...  0.0  0.0  0.0  1.0  0.0  0.0   \n",
       "51086           0.0         1.0   0.0  0.0  ...  0.0  0.0  0.0  0.0  0.0  0.0   \n",
       "51087           0.0         0.0   1.0  0.0  ...  0.0  0.0  0.0  0.0  0.0  0.0   \n",
       "\n",
       "       x89  x90  x91  x92  \n",
       "0      0.0  0.0  5.0  0.0  \n",
       "1      0.0  0.0  6.0  0.0  \n",
       "2      0.0  0.0  3.0  0.0  \n",
       "3      0.0  0.0  4.0  1.0  \n",
       "4      0.0  0.0  4.0  1.0  \n",
       "...    ...  ...  ...  ...  \n",
       "51083  1.0  0.0  2.0  0.0  \n",
       "51084  0.0  0.0  5.0  1.0  \n",
       "51085  0.0  0.0  2.0  1.0  \n",
       "51086  0.0  0.0  7.0  0.0  \n",
       "51087  1.0  0.0  8.0  1.0  \n",
       "\n",
       "[51088 rows x 102 columns]"
      ]
     },
     "execution_count": 183,
     "metadata": {},
     "output_type": "execute_result"
    }
   ],
   "source": [
    "pd.DataFrame(X_train, columns=colnames)"
   ]
  },
  {
   "cell_type": "code",
   "execution_count": 184,
   "metadata": {},
   "outputs": [
    {
     "name": "stdout",
     "output_type": "stream",
     "text": [
      "Categorical columns transformed.\n",
      "MMR Columns imputed.\n",
      "Done preprocessing\n"
     ]
    }
   ],
   "source": [
    "# validation dataset\n",
    "\n",
    "X_val = prepipe.transform(X_val)\n",
    "X_val = pipeline.transform(X_val)\n"
   ]
  },
  {
   "cell_type": "code",
   "execution_count": 185,
   "metadata": {},
   "outputs": [
    {
     "name": "stdout",
     "output_type": "stream",
     "text": [
      "Categorical columns transformed.\n",
      "MMR Columns imputed.\n",
      "Done preprocessing\n"
     ]
    }
   ],
   "source": [
    "X_whole = prepipe.transform(X.copy())\n",
    "X_whole = pipeline.transform(X_whole.copy())"
   ]
  },
  {
   "cell_type": "code",
   "execution_count": 186,
   "metadata": {},
   "outputs": [],
   "source": [
    "X_train = pd.DataFrame(X_train, columns=colnames)\n",
    "X_val = pd.DataFrame(X_val, columns=colnames)\n",
    "X_whole = pd.DataFrame(X_whole, columns=colnames)"
   ]
  },
  {
   "cell_type": "code",
   "execution_count": 166,
   "metadata": {},
   "outputs": [
    {
     "data": {
      "text/plain": [
       "<Axes: >"
      ]
     },
     "execution_count": 166,
     "metadata": {},
     "output_type": "execute_result"
    },
    {
     "data": {
      "image/png": "[encoded data removed]",
      "text/plain": [
       "<Figure size 640x480 with 2 Axes>"
      ]
     },
     "metadata": {},
     "output_type": "display_data"
    }
   ],
   "source": [
    "sns.heatmap(X_train.corr())"
   ]
  },
  {
   "attachments": {},
   "cell_type": "markdown",
   "metadata": {},
   "source": [
    "# 4. KNN Classifier\n",
    "\n",
    "KNN classifier requires some scaling to work properly - all variables expect for year scaled"
   ]
  },
  {
   "cell_type": "code",
   "execution_count": 167,
   "metadata": {},
   "outputs": [],
   "source": [
    "from sklearn.neighbors import KNeighborsClassifier\n",
    "from sklearn.metrics import classification_report\n",
    "from sklearn.preprocessing import StandardScaler\n",
    "from sklearn.metrics import confusion_matrix\n",
    "from sklearn.model_selection import cross_val_score\n",
    "from sklearn.model_selection import GridSearchCV"
   ]
  },
  {
   "cell_type": "code",
   "execution_count": 168,
   "metadata": {},
   "outputs": [
    {
     "data": {
      "text/html": [
       "<style>#sk-container-id-5 {color: black;background-color: white;}#sk-container-id-5 pre{padding: 0;}#sk-container-id-5 div.sk-toggleable {background-color: white;}#sk-container-id-5 label.sk-toggleable__label {cursor: pointer;display: block;width: 100%;margin-bottom: 0;padding: 0.3em;box-sizing: border-box;text-align: center;}#sk-container-id-5 label.sk-toggleable__label-arrow:before {content: \"▸\";float: left;margin-right: 0.25em;color: #696969;}#sk-container-id-5 label.sk-toggleable__label-arrow:hover:before {color: black;}#sk-container-id-5 div.sk-estimator:hover label.sk-toggleable__label-arrow:before {color: black;}#sk-container-id-5 div.sk-toggleable__content {max-height: 0;max-width: 0;overflow: hidden;text-align: left;background-color: #f0f8ff;}#sk-container-id-5 div.sk-toggleable__content pre {margin: 0.2em;color: black;border-radius: 0.25em;background-color: #f0f8ff;}#sk-container-id-5 input.sk-toggleable__control:checked~div.sk-toggleable__content {max-height: 200px;max-width: 100%;overflow: auto;}#sk-container-id-5 input.sk-toggleable__control:checked~label.sk-toggleable__label-arrow:before {content: \"▾\";}#sk-container-id-5 div.sk-estimator input.sk-toggleable__control:checked~label.sk-toggleable__label {background-color: #d4ebff;}#sk-container-id-5 div.sk-label input.sk-toggleable__control:checked~label.sk-toggleable__label {background-color: #d4ebff;}#sk-container-id-5 input.sk-hidden--visually {border: 0;clip: rect(1px 1px 1px 1px);clip: rect(1px, 1px, 1px, 1px);height: 1px;margin: -1px;overflow: hidden;padding: 0;position: absolute;width: 1px;}#sk-container-id-5 div.sk-estimator {font-family: monospace;background-color: #f0f8ff;border: 1px dotted black;border-radius: 0.25em;box-sizing: border-box;margin-bottom: 0.5em;}#sk-container-id-5 div.sk-estimator:hover {background-color: #d4ebff;}#sk-container-id-5 div.sk-parallel-item::after {content: \"\";width: 100%;border-bottom: 1px solid gray;flex-grow: 1;}#sk-container-id-5 div.sk-label:hover label.sk-toggleable__label {background-color: #d4ebff;}#sk-container-id-5 div.sk-serial::before {content: \"\";position: absolute;border-left: 1px solid gray;box-sizing: border-box;top: 0;bottom: 0;left: 50%;z-index: 0;}#sk-container-id-5 div.sk-serial {display: flex;flex-direction: column;align-items: center;background-color: white;padding-right: 0.2em;padding-left: 0.2em;position: relative;}#sk-container-id-5 div.sk-item {position: relative;z-index: 1;}#sk-container-id-5 div.sk-parallel {display: flex;align-items: stretch;justify-content: center;background-color: white;position: relative;}#sk-container-id-5 div.sk-item::before, #sk-container-id-5 div.sk-parallel-item::before {content: \"\";position: absolute;border-left: 1px solid gray;box-sizing: border-box;top: 0;bottom: 0;left: 50%;z-index: -1;}#sk-container-id-5 div.sk-parallel-item {display: flex;flex-direction: column;z-index: 1;position: relative;background-color: white;}#sk-container-id-5 div.sk-parallel-item:first-child::after {align-self: flex-end;width: 50%;}#sk-container-id-5 div.sk-parallel-item:last-child::after {align-self: flex-start;width: 50%;}#sk-container-id-5 div.sk-parallel-item:only-child::after {width: 0;}#sk-container-id-5 div.sk-dashed-wrapped {border: 1px dashed gray;margin: 0 0.4em 0.5em 0.4em;box-sizing: border-box;padding-bottom: 0.4em;background-color: white;}#sk-container-id-5 div.sk-label label {font-family: monospace;font-weight: bold;display: inline-block;line-height: 1.2em;}#sk-container-id-5 div.sk-label-container {text-align: center;}#sk-container-id-5 div.sk-container {/* jupyter's `normalize.less` sets `[hidden] { display: none; }` but bootstrap.min.css set `[hidden] { display: none !important; }` so we also need the `!important` here to be able to override the default hidden behavior on the sphinx rendered scikit-learn.org. See: https://github.com/scikit-learn/scikit-learn/issues/21755 */display: inline-block !important;position: relative;}#sk-container-id-5 div.sk-text-repr-fallback {display: none;}</style><div id=\"sk-container-id-5\" class=\"sk-top-container\"><div class=\"sk-text-repr-fallback\"><pre>KNeighborsClassifier()</pre><b>In a Jupyter environment, please rerun this cell to show the HTML representation or trust the notebook. <br />On GitHub, the HTML representation is unable to render, please try loading this page with nbviewer.org.</b></div><div class=\"sk-container\" hidden><div class=\"sk-item\"><div class=\"sk-estimator sk-toggleable\"><input class=\"sk-toggleable__control sk-hidden--visually\" id=\"sk-estimator-id-5\" type=\"checkbox\" checked><label for=\"sk-estimator-id-5\" class=\"sk-toggleable__label sk-toggleable__label-arrow\">KNeighborsClassifier</label><div class=\"sk-toggleable__content\"><pre>KNeighborsClassifier()</pre></div></div></div></div></div>"
      ],
      "text/plain": [
       "KNeighborsClassifier()"
      ]
     },
     "execution_count": 168,
     "metadata": {},
     "output_type": "execute_result"
    }
   ],
   "source": [
    "knn = KNeighborsClassifier()\n",
    "knn.fit(X_train, y_train)"
   ]
  },
  {
   "cell_type": "code",
   "execution_count": 169,
   "metadata": {},
   "outputs": [],
   "source": [
    "y_pred = knn.predict(X_val)"
   ]
  },
  {
   "cell_type": "code",
   "execution_count": 170,
   "metadata": {},
   "outputs": [
    {
     "name": "stdout",
     "output_type": "stream",
     "text": [
      "              precision    recall  f1-score   support\n",
      "\n",
      "           0       0.97      0.88      0.93     21234\n",
      "           1       0.06      0.25      0.10       661\n",
      "\n",
      "    accuracy                           0.86     21895\n",
      "   macro avg       0.52      0.57      0.51     21895\n",
      "weighted avg       0.95      0.86      0.90     21895\n",
      "\n"
     ]
    }
   ],
   "source": [
    "print(classification_report(y_pred, y_val))"
   ]
  },
  {
   "cell_type": "code",
   "execution_count": 171,
   "metadata": {},
   "outputs": [
    {
     "data": {
      "text/plain": [
       "array([[18706,   496],\n",
       "       [ 2528,   165]], dtype=int64)"
      ]
     },
     "execution_count": 171,
     "metadata": {},
     "output_type": "execute_result"
    }
   ],
   "source": [
    "confusion_matrix(y_val, y_pred)"
   ]
  },
  {
   "attachments": {},
   "cell_type": "markdown",
   "metadata": {},
   "source": [
    "# 5. Parameter Tuning"
   ]
  },
  {
   "cell_type": "code",
   "execution_count": 121,
   "metadata": {},
   "outputs": [
    {
     "name": "stdout",
     "output_type": "stream",
     "text": [
      "5 job done\n",
      "6 job done\n",
      "7 job done\n",
      "8 job done\n",
      "9 job done\n",
      "10 job done\n",
      "11 job done\n",
      "12 job done\n",
      "13 job done\n",
      "14 job done\n",
      "15 job done\n",
      "16 job done\n",
      "17 job done\n",
      "18 job done\n",
      "19 job done\n",
      "20 job done\n",
      "21 job done\n",
      "22 job done\n",
      "23 job done\n",
      "24 job done\n",
      "25 job done\n",
      "26 job done\n",
      "27 job done\n",
      "28 job done\n",
      "29 job done\n",
      "30 job done\n"
     ]
    }
   ],
   "source": [
    "k_values = [i for i in range (5,31)]\n",
    "scores = []\n",
    "\n",
    "for k in k_values:\n",
    "    knn = KNeighborsClassifier(n_neighbors=k)\n",
    "    score = cross_val_score(knn, X_train, y_train, cv=5)\n",
    "    scores.append(np.mean(score))\n",
    "    print(f\"{k} job done\")"
   ]
  },
  {
   "cell_type": "code",
   "execution_count": 122,
   "metadata": {},
   "outputs": [
    {
     "data": {
      "text/plain": [
       "Text(0, 0.5, 'Accuracy Score')"
      ]
     },
     "execution_count": 122,
     "metadata": {},
     "output_type": "execute_result"
    },
    {
     "data": {
      "image/png": "[encoded data removed]",
      "text/plain": [
       "<Figure size 640x480 with 1 Axes>"
      ]
     },
     "metadata": {},
     "output_type": "display_data"
    }
   ],
   "source": [
    "sns.lineplot(x = k_values, y = scores, marker = 'o')\n",
    "plt.xlabel(\"K Values\")\n",
    "plt.ylabel(\"Accuracy Score\")"
   ]
  },
  {
   "cell_type": "code",
   "execution_count": 36,
   "metadata": {},
   "outputs": [],
   "source": [
    "grid_params = { 'n_neighbors' : [10, 15, 17, 20, 25],\n",
    "               'weights' : ['uniform','distance'],\n",
    "               'metric' : ['minkowski','euclidean','manhattan']}\n",
    "\n",
    "# knn with sparse imput will use brute force algorithm"
   ]
  },
  {
   "cell_type": "code",
   "execution_count": 37,
   "metadata": {},
   "outputs": [],
   "source": [
    "gs = GridSearchCV(KNeighborsClassifier(), grid_params, verbose = 3, cv=3, n_jobs = -1, scoring = ('balanced_accuracy'))"
   ]
  },
  {
   "cell_type": "code",
   "execution_count": 38,
   "metadata": {},
   "outputs": [
    {
     "name": "stdout",
     "output_type": "stream",
     "text": [
      "Fitting 3 folds for each of 30 candidates, totalling 90 fits\n"
     ]
    }
   ],
   "source": [
    "g_res = gs.fit(X_whole, y)"
   ]
  },
  {
   "cell_type": "code",
   "execution_count": 1,
   "metadata": {},
   "outputs": [
    {
     "ename": "NameError",
     "evalue": "name 'g_res' is not defined",
     "output_type": "error",
     "traceback": [
      "\u001b[1;31m---------------------------------------------------------------------------\u001b[0m",
      "\u001b[1;31mNameError\u001b[0m                                 Traceback (most recent call last)",
      "Cell \u001b[1;32mIn[1], line 1\u001b[0m\n\u001b[1;32m----> 1\u001b[0m g_res\u001b[39m.\u001b[39mbest_score_\n",
      "\u001b[1;31mNameError\u001b[0m: name 'g_res' is not defined"
     ]
    }
   ],
   "source": [
    "g_res.best_score_"
   ]
  },
  {
   "cell_type": "code",
   "execution_count": 40,
   "metadata": {},
   "outputs": [
    {
     "data": {
      "text/plain": [
       "{'metric': 'minkowski', 'n_neighbors': 10, 'weights': 'distance'}"
      ]
     },
     "execution_count": 40,
     "metadata": {},
     "output_type": "execute_result"
    }
   ],
   "source": [
    "g_res.best_params_"
   ]
  },
  {
   "attachments": {},
   "cell_type": "markdown",
   "metadata": {},
   "source": [
    "\n",
    "{'metric': 'minkowski', 'n_neighbors': 10, 'weights': 'distance'}\n",
    "\n",
    "those are the results - now training with those params"
   ]
  },
  {
   "cell_type": "code",
   "execution_count": 126,
   "metadata": {},
   "outputs": [
    {
     "data": {
      "text/html": [
       "<style>#sk-container-id-4 {color: black;background-color: white;}#sk-container-id-4 pre{padding: 0;}#sk-container-id-4 div.sk-toggleable {background-color: white;}#sk-container-id-4 label.sk-toggleable__label {cursor: pointer;display: block;width: 100%;margin-bottom: 0;padding: 0.3em;box-sizing: border-box;text-align: center;}#sk-container-id-4 label.sk-toggleable__label-arrow:before {content: \"▸\";float: left;margin-right: 0.25em;color: #696969;}#sk-container-id-4 label.sk-toggleable__label-arrow:hover:before {color: black;}#sk-container-id-4 div.sk-estimator:hover label.sk-toggleable__label-arrow:before {color: black;}#sk-container-id-4 div.sk-toggleable__content {max-height: 0;max-width: 0;overflow: hidden;text-align: left;background-color: #f0f8ff;}#sk-container-id-4 div.sk-toggleable__content pre {margin: 0.2em;color: black;border-radius: 0.25em;background-color: #f0f8ff;}#sk-container-id-4 input.sk-toggleable__control:checked~div.sk-toggleable__content {max-height: 200px;max-width: 100%;overflow: auto;}#sk-container-id-4 input.sk-toggleable__control:checked~label.sk-toggleable__label-arrow:before {content: \"▾\";}#sk-container-id-4 div.sk-estimator input.sk-toggleable__control:checked~label.sk-toggleable__label {background-color: #d4ebff;}#sk-container-id-4 div.sk-label input.sk-toggleable__control:checked~label.sk-toggleable__label {background-color: #d4ebff;}#sk-container-id-4 input.sk-hidden--visually {border: 0;clip: rect(1px 1px 1px 1px);clip: rect(1px, 1px, 1px, 1px);height: 1px;margin: -1px;overflow: hidden;padding: 0;position: absolute;width: 1px;}#sk-container-id-4 div.sk-estimator {font-family: monospace;background-color: #f0f8ff;border: 1px dotted black;border-radius: 0.25em;box-sizing: border-box;margin-bottom: 0.5em;}#sk-container-id-4 div.sk-estimator:hover {background-color: #d4ebff;}#sk-container-id-4 div.sk-parallel-item::after {content: \"\";width: 100%;border-bottom: 1px solid gray;flex-grow: 1;}#sk-container-id-4 div.sk-label:hover label.sk-toggleable__label {background-color: #d4ebff;}#sk-container-id-4 div.sk-serial::before {content: \"\";position: absolute;border-left: 1px solid gray;box-sizing: border-box;top: 0;bottom: 0;left: 50%;z-index: 0;}#sk-container-id-4 div.sk-serial {display: flex;flex-direction: column;align-items: center;background-color: white;padding-right: 0.2em;padding-left: 0.2em;position: relative;}#sk-container-id-4 div.sk-item {position: relative;z-index: 1;}#sk-container-id-4 div.sk-parallel {display: flex;align-items: stretch;justify-content: center;background-color: white;position: relative;}#sk-container-id-4 div.sk-item::before, #sk-container-id-4 div.sk-parallel-item::before {content: \"\";position: absolute;border-left: 1px solid gray;box-sizing: border-box;top: 0;bottom: 0;left: 50%;z-index: -1;}#sk-container-id-4 div.sk-parallel-item {display: flex;flex-direction: column;z-index: 1;position: relative;background-color: white;}#sk-container-id-4 div.sk-parallel-item:first-child::after {align-self: flex-end;width: 50%;}#sk-container-id-4 div.sk-parallel-item:last-child::after {align-self: flex-start;width: 50%;}#sk-container-id-4 div.sk-parallel-item:only-child::after {width: 0;}#sk-container-id-4 div.sk-dashed-wrapped {border: 1px dashed gray;margin: 0 0.4em 0.5em 0.4em;box-sizing: border-box;padding-bottom: 0.4em;background-color: white;}#sk-container-id-4 div.sk-label label {font-family: monospace;font-weight: bold;display: inline-block;line-height: 1.2em;}#sk-container-id-4 div.sk-label-container {text-align: center;}#sk-container-id-4 div.sk-container {/* jupyter's `normalize.less` sets `[hidden] { display: none; }` but bootstrap.min.css set `[hidden] { display: none !important; }` so we also need the `!important` here to be able to override the default hidden behavior on the sphinx rendered scikit-learn.org. See: https://github.com/scikit-learn/scikit-learn/issues/21755 */display: inline-block !important;position: relative;}#sk-container-id-4 div.sk-text-repr-fallback {display: none;}</style><div id=\"sk-container-id-4\" class=\"sk-top-container\"><div class=\"sk-text-repr-fallback\"><pre>KNeighborsClassifier(n_neighbors=10, weights=&#x27;distance&#x27;)</pre><b>In a Jupyter environment, please rerun this cell to show the HTML representation or trust the notebook. <br />On GitHub, the HTML representation is unable to render, please try loading this page with nbviewer.org.</b></div><div class=\"sk-container\" hidden><div class=\"sk-item\"><div class=\"sk-estimator sk-toggleable\"><input class=\"sk-toggleable__control sk-hidden--visually\" id=\"sk-estimator-id-4\" type=\"checkbox\" checked><label for=\"sk-estimator-id-4\" class=\"sk-toggleable__label sk-toggleable__label-arrow\">KNeighborsClassifier</label><div class=\"sk-toggleable__content\"><pre>KNeighborsClassifier(n_neighbors=10, weights=&#x27;distance&#x27;)</pre></div></div></div></div></div>"
      ],
      "text/plain": [
       "KNeighborsClassifier(n_neighbors=10, weights='distance')"
      ]
     },
     "execution_count": 126,
     "metadata": {},
     "output_type": "execute_result"
    }
   ],
   "source": [
    "knn = KNeighborsClassifier(metric='minkowski', n_neighbors=10, weights='distance')\n",
    "knn.fit(X_train, y_train)"
   ]
  },
  {
   "cell_type": "code",
   "execution_count": 127,
   "metadata": {},
   "outputs": [],
   "source": [
    "y_pred = knn.predict(X_val)"
   ]
  },
  {
   "cell_type": "code",
   "execution_count": 128,
   "metadata": {},
   "outputs": [
    {
     "name": "stdout",
     "output_type": "stream",
     "text": [
      "              precision    recall  f1-score   support\n",
      "\n",
      "           0       0.99      0.88      0.93     21524\n",
      "           1       0.05      0.36      0.09       371\n",
      "\n",
      "    accuracy                           0.87     21895\n",
      "   macro avg       0.52      0.62      0.51     21895\n",
      "weighted avg       0.97      0.87      0.92     21895\n",
      "\n"
     ]
    }
   ],
   "source": [
    "print(classification_report(y_pred, y_val)) # those results ain't anyhow better"
   ]
  },
  {
   "cell_type": "code",
   "execution_count": 129,
   "metadata": {},
   "outputs": [
    {
     "data": {
      "text/plain": [
       "array([[18965,   237],\n",
       "       [ 2559,   134]], dtype=int64)"
      ]
     },
     "execution_count": 129,
     "metadata": {},
     "output_type": "execute_result"
    }
   ],
   "source": [
    "confusion_matrix(y_val, y_pred)"
   ]
  },
  {
   "attachments": {},
   "cell_type": "markdown",
   "metadata": {},
   "source": [
    "# feature importance"
   ]
  },
  {
   "cell_type": "code",
   "execution_count": 131,
   "metadata": {},
   "outputs": [],
   "source": [
    "from sklearn import metrics\n",
    "import shap\n",
    "\n",
    "def gini_roc(y_test, y_pred_proba, tytul):\n",
    "    \n",
    "    fpr, tpr, _ = metrics.roc_curve(y_test,  y_pred_proba)\n",
    "    \n",
    "    plt.plot(fpr,tpr)\n",
    "    plt.title(tytul)\n",
    "    plt.ylabel('True Positive Rate')\n",
    "    plt.xlabel('False Positive Rate')\n",
    "    plt.show()\n",
    "    \n",
    "    roc_auc = metrics.auc(fpr, tpr)\n",
    "    gini = (2 * roc_auc) - 1\n",
    "\n",
    "    return gini\n",
    "\n",
    "def gini_train_val(model, X_train, y_train, X_val, y_val):\n",
    "    \n",
    "    y_pred_proba = model.predict_proba(X_train)[::,1]\n",
    "    gini_train = gini_roc(y_train, y_pred_proba, \"ROC Curve for Training Sample\")\n",
    "    print(\"gini_train: %.4f\" % gini_train)\n",
    "    \n",
    "    y_pred_proba = model.predict_proba(X_val)[::,1]\n",
    "    gini_val = gini_roc(y_val, y_pred_proba, \"Roc Curve for Validation Sample\")\n",
    "    print(\"gini_val: %.4f\" % gini_val)\n",
    "\n",
    "    return\n",
    "\n",
    "def shapley(model, X_train, X_val):\n",
    "        \n",
    "    # explain the model's predictions using SHAP\n",
    "    # (same syntax works for LightGBM, CatBoost, scikit-learn, transformers, Spark, etc.)\n",
    "    # model = lr\n",
    "   \n",
    "    explainer = shap.Explainer(model, X_train)\n",
    "    \n",
    "    shap_values = explainer(X_train)\n",
    "    shap.summary_plot(shap_values, X_train)\n",
    "    # visualize the first prediction's explanation\n",
    "    shap.plots.waterfall(shap_values[0])\n",
    "\n",
    "    # freature importance    \n",
    "    shap.summary_plot(shap_values, X_train, plot_type=\"bar\")\n",
    "    \n",
    "    shap.plots.bar(shap_values)\n",
    "    shap.summary_plot(shap_values, plot_type='violin')\n",
    "    shap.plots.bar(shap_values[0])\n",
    "    shap.plots.waterfall(shap_values[0])\n",
    "    shap.plots.force(shap_values[0])\n",
    "    \n",
    "    \n",
    "    shap.plots.force(shap_values[1])\n",
    "    \n",
    "    shap.plots.heatmap(shap_values)\n",
    "    \n",
    "    # fig = shap.force_plot(explainer.expected_value, shap_values.values, X_train, feature_names = X_train.columns)\n",
    "    # fig.savefig('testplot.png')\n",
    "    # fig.plot()\n",
    "    \n",
    "    # fig = shap.force_plot(shap_values, X_train)\n",
    "    # fig.plot()\n",
    "   \n",
    "    shap_values = explainer(X_val)\n",
    "    shap.plots.beeswarm(shap_values)\n",
    "    # visualize the first prediction's explanation\n",
    "    shap.plots.waterfall(shap_values[0])\n",
    "    \n",
    "    # freature importance\n",
    "    shap.summary_plot(shap_values, X_val, plot_type=\"bar\")    \n",
    "    \n",
    "    "
   ]
  },
  {
   "cell_type": "code",
   "execution_count": 172,
   "metadata": {},
   "outputs": [
    {
     "data": {
      "image/png": "[encoded data removed]",
      "text/plain": [
       "<Figure size 640x480 with 1 Axes>"
      ]
     },
     "metadata": {},
     "output_type": "display_data"
    },
    {
     "name": "stdout",
     "output_type": "stream",
     "text": [
      "gini_train: 0.7352\n"
     ]
    },
    {
     "data": {
      "image/png": "[encoded data removed]",
      "text/plain": [
       "<Figure size 640x480 with 1 Axes>"
      ]
     },
     "metadata": {},
     "output_type": "display_data"
    },
    {
     "name": "stdout",
     "output_type": "stream",
     "text": [
      "gini_val: 0.1676\n"
     ]
    }
   ],
   "source": [
    "gini_train_val(knn, X_train, y_train, X_val, y_val)"
   ]
  },
  {
   "attachments": {},
   "cell_type": "markdown",
   "metadata": {},
   "source": [
    "no taka troche słaba ta krzywa - nawet bardzo słaba, niewiele gorzej niż dummy\n",
    "\n",
    "może PCA\n",
    "\n"
   ]
  },
  {
   "cell_type": "code",
   "execution_count": 139,
   "metadata": {},
   "outputs": [
    {
     "data": {
      "text/plain": [
       "29"
      ]
     },
     "execution_count": 139,
     "metadata": {},
     "output_type": "execute_result"
    }
   ],
   "source": [
    "from sklearn.decomposition import PCA\n",
    "\n",
    "pca = PCA()\n",
    "pca.fit(X_train)\n",
    "cumsum = np.cumsum(pca.explained_variance_ratio_)\n",
    "d = np.argmax(cumsum >= 0.95) + 1\n",
    "d"
   ]
  },
  {
   "cell_type": "code",
   "execution_count": 138,
   "metadata": {},
   "outputs": [
    {
     "data": {
      "text/plain": [
       "[<matplotlib.lines.Line2D at 0x1d08d8ffe20>]"
      ]
     },
     "execution_count": 138,
     "metadata": {},
     "output_type": "execute_result"
    },
    {
     "data": {
      "image/png": "[encoded data removed]",
      "text/plain": [
       "<Figure size 640x480 with 1 Axes>"
      ]
     },
     "metadata": {},
     "output_type": "display_data"
    }
   ],
   "source": [
    "plt.plot(list(range(len(cumsum))), cumsum)"
   ]
  },
  {
   "attachments": {},
   "cell_type": "markdown",
   "metadata": {},
   "source": [
    "byc moze mozemy zmniejszyć liczbe wymiarow do 29, tak zeby wariancja wyjasniona nam sie nie dropnela za bardzo"
   ]
  },
  {
   "cell_type": "code",
   "execution_count": 140,
   "metadata": {},
   "outputs": [],
   "source": [
    "pca = PCA(n_components=d)\n",
    "X_reduced_train = pca.fit_transform(X_train)\n",
    "X_reduced_val = pca.transform(X_val)"
   ]
  },
  {
   "cell_type": "code",
   "execution_count": 141,
   "metadata": {},
   "outputs": [
    {
     "name": "stdout",
     "output_type": "stream",
     "text": [
      "              precision    recall  f1-score   support\n",
      "\n",
      "           0       0.99      0.88      0.93     21524\n",
      "           1       0.05      0.36      0.09       371\n",
      "\n",
      "    accuracy                           0.87     21895\n",
      "   macro avg       0.52      0.62      0.51     21895\n",
      "weighted avg       0.97      0.87      0.92     21895\n",
      "\n"
     ]
    }
   ],
   "source": [
    "knn = KNeighborsClassifier(metric='minkowski', n_neighbors=10, weights='distance')\n",
    "knn.fit(X_reduced_train, y_train)\n",
    "y_reduced_pred = knn.predict(X_reduced_val)\n",
    "print(classification_report(y_pred, y_val)) # those results ain't anyhow better neither\n"
   ]
  },
  {
   "cell_type": "code",
   "execution_count": 142,
   "metadata": {},
   "outputs": [
    {
     "data": {
      "image/png": "[encoded data removed]",
      "text/plain": [
       "<Figure size 640x480 with 1 Axes>"
      ]
     },
     "metadata": {},
     "output_type": "display_data"
    },
    {
     "name": "stdout",
     "output_type": "stream",
     "text": [
      "gini_train: 1.0000\n"
     ]
    },
    {
     "data": {
      "image/png": "[encoded data removed]",
      "text/plain": [
       "<Figure size 640x480 with 1 Axes>"
      ]
     },
     "metadata": {},
     "output_type": "display_data"
    },
    {
     "name": "stdout",
     "output_type": "stream",
     "text": [
      "gini_val: 0.2193\n"
     ]
    }
   ],
   "source": [
    "gini_train_val(knn, X_reduced_train, y_train, X_reduced_val, y_val)"
   ]
  },
  {
   "attachments": {},
   "cell_type": "markdown",
   "metadata": {},
   "source": [
    "# Final outputs"
   ]
  },
  {
   "cell_type": "code",
   "execution_count": 35,
   "metadata": {},
   "outputs": [],
   "source": [
    "test = pd.read_csv('../test.csv')"
   ]
  },
  {
   "cell_type": "code",
   "execution_count": 36,
   "metadata": {},
   "outputs": [
    {
     "data": {
      "text/html": [
       "<div>\n",
       "<style scoped>\n",
       "    .dataframe tbody tr th:only-of-type {\n",
       "        vertical-align: middle;\n",
       "    }\n",
       "\n",
       "    .dataframe tbody tr th {\n",
       "        vertical-align: top;\n",
       "    }\n",
       "\n",
       "    .dataframe thead th {\n",
       "        text-align: right;\n",
       "    }\n",
       "</style>\n",
       "<table border=\"1\" class=\"dataframe\">\n",
       "  <thead>\n",
       "    <tr style=\"text-align: right;\">\n",
       "      <th></th>\n",
       "      <th>RefId</th>\n",
       "      <th>PurchDate</th>\n",
       "      <th>Auction</th>\n",
       "      <th>VehYear</th>\n",
       "      <th>VehicleAge</th>\n",
       "      <th>Make</th>\n",
       "      <th>Model</th>\n",
       "      <th>Trim</th>\n",
       "      <th>SubModel</th>\n",
       "      <th>Color</th>\n",
       "      <th>...</th>\n",
       "      <th>MMRCurrentRetailAveragePrice</th>\n",
       "      <th>MMRCurrentRetailCleanPrice</th>\n",
       "      <th>PRIMEUNIT</th>\n",
       "      <th>AUCGUART</th>\n",
       "      <th>BYRNO</th>\n",
       "      <th>VNZIP1</th>\n",
       "      <th>VNST</th>\n",
       "      <th>VehBCost</th>\n",
       "      <th>IsOnlineSale</th>\n",
       "      <th>WarrantyCost</th>\n",
       "    </tr>\n",
       "  </thead>\n",
       "  <tbody>\n",
       "    <tr>\n",
       "      <th>0</th>\n",
       "      <td>73015</td>\n",
       "      <td>12/2/2009</td>\n",
       "      <td>ADESA</td>\n",
       "      <td>2005</td>\n",
       "      <td>4</td>\n",
       "      <td>PONTIAC</td>\n",
       "      <td>GRAND PRIX</td>\n",
       "      <td>Bas</td>\n",
       "      <td>4D SEDAN</td>\n",
       "      <td>SILVER</td>\n",
       "      <td>...</td>\n",
       "      <td>8557.0</td>\n",
       "      <td>9752.0</td>\n",
       "      <td>NaN</td>\n",
       "      <td>NaN</td>\n",
       "      <td>18881</td>\n",
       "      <td>30212</td>\n",
       "      <td>GA</td>\n",
       "      <td>6500.0</td>\n",
       "      <td>0</td>\n",
       "      <td>2152</td>\n",
       "    </tr>\n",
       "    <tr>\n",
       "      <th>1</th>\n",
       "      <td>73016</td>\n",
       "      <td>12/2/2009</td>\n",
       "      <td>ADESA</td>\n",
       "      <td>2005</td>\n",
       "      <td>4</td>\n",
       "      <td>CHEVROLET</td>\n",
       "      <td>MALIBU V6</td>\n",
       "      <td>LS</td>\n",
       "      <td>4D SEDAN LS</td>\n",
       "      <td>SILVER</td>\n",
       "      <td>...</td>\n",
       "      <td>7562.0</td>\n",
       "      <td>9296.0</td>\n",
       "      <td>NaN</td>\n",
       "      <td>NaN</td>\n",
       "      <td>18111</td>\n",
       "      <td>30212</td>\n",
       "      <td>GA</td>\n",
       "      <td>6300.0</td>\n",
       "      <td>0</td>\n",
       "      <td>1118</td>\n",
       "    </tr>\n",
       "    <tr>\n",
       "      <th>2</th>\n",
       "      <td>73017</td>\n",
       "      <td>12/2/2009</td>\n",
       "      <td>ADESA</td>\n",
       "      <td>2006</td>\n",
       "      <td>3</td>\n",
       "      <td>DODGE</td>\n",
       "      <td>DURANGO 2WD V8</td>\n",
       "      <td>Adv</td>\n",
       "      <td>4D SUV 4.7L ADVENTURER</td>\n",
       "      <td>SILVER</td>\n",
       "      <td>...</td>\n",
       "      <td>15340.0</td>\n",
       "      <td>16512.0</td>\n",
       "      <td>NaN</td>\n",
       "      <td>NaN</td>\n",
       "      <td>18111</td>\n",
       "      <td>30212</td>\n",
       "      <td>GA</td>\n",
       "      <td>9700.0</td>\n",
       "      <td>0</td>\n",
       "      <td>1215</td>\n",
       "    </tr>\n",
       "    <tr>\n",
       "      <th>3</th>\n",
       "      <td>73018</td>\n",
       "      <td>12/2/2009</td>\n",
       "      <td>ADESA</td>\n",
       "      <td>2002</td>\n",
       "      <td>7</td>\n",
       "      <td>SATURN</td>\n",
       "      <td>L SERIES</td>\n",
       "      <td>L20</td>\n",
       "      <td>4D SEDAN L200</td>\n",
       "      <td>GOLD</td>\n",
       "      <td>...</td>\n",
       "      <td>5725.0</td>\n",
       "      <td>6398.0</td>\n",
       "      <td>NaN</td>\n",
       "      <td>NaN</td>\n",
       "      <td>18881</td>\n",
       "      <td>30212</td>\n",
       "      <td>GA</td>\n",
       "      <td>4150.0</td>\n",
       "      <td>0</td>\n",
       "      <td>1933</td>\n",
       "    </tr>\n",
       "    <tr>\n",
       "      <th>4</th>\n",
       "      <td>73019</td>\n",
       "      <td>12/2/2009</td>\n",
       "      <td>ADESA</td>\n",
       "      <td>2007</td>\n",
       "      <td>2</td>\n",
       "      <td>HYUNDAI</td>\n",
       "      <td>ACCENT</td>\n",
       "      <td>GS</td>\n",
       "      <td>2D COUPE GS</td>\n",
       "      <td>BLUE</td>\n",
       "      <td>...</td>\n",
       "      <td>5914.0</td>\n",
       "      <td>7350.0</td>\n",
       "      <td>NaN</td>\n",
       "      <td>NaN</td>\n",
       "      <td>18111</td>\n",
       "      <td>30212</td>\n",
       "      <td>GA</td>\n",
       "      <td>4100.0</td>\n",
       "      <td>0</td>\n",
       "      <td>920</td>\n",
       "    </tr>\n",
       "    <tr>\n",
       "      <th>...</th>\n",
       "      <td>...</td>\n",
       "      <td>...</td>\n",
       "      <td>...</td>\n",
       "      <td>...</td>\n",
       "      <td>...</td>\n",
       "      <td>...</td>\n",
       "      <td>...</td>\n",
       "      <td>...</td>\n",
       "      <td>...</td>\n",
       "      <td>...</td>\n",
       "      <td>...</td>\n",
       "      <td>...</td>\n",
       "      <td>...</td>\n",
       "      <td>...</td>\n",
       "      <td>...</td>\n",
       "      <td>...</td>\n",
       "      <td>...</td>\n",
       "      <td>...</td>\n",
       "      <td>...</td>\n",
       "      <td>...</td>\n",
       "      <td>...</td>\n",
       "    </tr>\n",
       "    <tr>\n",
       "      <th>48702</th>\n",
       "      <td>121742</td>\n",
       "      <td>11/17/2010</td>\n",
       "      <td>MANHEIM</td>\n",
       "      <td>2005</td>\n",
       "      <td>5</td>\n",
       "      <td>FORD</td>\n",
       "      <td>FIVE HUNDRED</td>\n",
       "      <td>SEL</td>\n",
       "      <td>4D SEDAN SEL</td>\n",
       "      <td>BLACK</td>\n",
       "      <td>...</td>\n",
       "      <td>9764.0</td>\n",
       "      <td>11395.0</td>\n",
       "      <td>NaN</td>\n",
       "      <td>NaN</td>\n",
       "      <td>20928</td>\n",
       "      <td>33411</td>\n",
       "      <td>FL</td>\n",
       "      <td>7955.0</td>\n",
       "      <td>0</td>\n",
       "      <td>1633</td>\n",
       "    </tr>\n",
       "    <tr>\n",
       "      <th>48703</th>\n",
       "      <td>121743</td>\n",
       "      <td>11/17/2010</td>\n",
       "      <td>MANHEIM</td>\n",
       "      <td>2007</td>\n",
       "      <td>3</td>\n",
       "      <td>TOYOTA</td>\n",
       "      <td>COROLLA</td>\n",
       "      <td>CE</td>\n",
       "      <td>4D SEDAN CE</td>\n",
       "      <td>GREEN</td>\n",
       "      <td>...</td>\n",
       "      <td>10283.0</td>\n",
       "      <td>11565.0</td>\n",
       "      <td>NaN</td>\n",
       "      <td>NaN</td>\n",
       "      <td>20928</td>\n",
       "      <td>33411</td>\n",
       "      <td>FL</td>\n",
       "      <td>7035.0</td>\n",
       "      <td>0</td>\n",
       "      <td>594</td>\n",
       "    </tr>\n",
       "    <tr>\n",
       "      <th>48704</th>\n",
       "      <td>121744</td>\n",
       "      <td>11/17/2010</td>\n",
       "      <td>MANHEIM</td>\n",
       "      <td>2006</td>\n",
       "      <td>4</td>\n",
       "      <td>KIA</td>\n",
       "      <td>SPECTRA</td>\n",
       "      <td>EX</td>\n",
       "      <td>4D SEDAN EX</td>\n",
       "      <td>BLACK</td>\n",
       "      <td>...</td>\n",
       "      <td>7871.0</td>\n",
       "      <td>9490.0</td>\n",
       "      <td>NO</td>\n",
       "      <td>GREEN</td>\n",
       "      <td>20928</td>\n",
       "      <td>33411</td>\n",
       "      <td>FL</td>\n",
       "      <td>6335.0</td>\n",
       "      <td>0</td>\n",
       "      <td>594</td>\n",
       "    </tr>\n",
       "    <tr>\n",
       "      <th>48705</th>\n",
       "      <td>121745</td>\n",
       "      <td>11/17/2010</td>\n",
       "      <td>MANHEIM</td>\n",
       "      <td>2005</td>\n",
       "      <td>5</td>\n",
       "      <td>MAZDA</td>\n",
       "      <td>MAZDA3</td>\n",
       "      <td>s</td>\n",
       "      <td>4D SEDAN GT</td>\n",
       "      <td>SILVER</td>\n",
       "      <td>...</td>\n",
       "      <td>8576.0</td>\n",
       "      <td>9937.0</td>\n",
       "      <td>NO</td>\n",
       "      <td>GREEN</td>\n",
       "      <td>20928</td>\n",
       "      <td>33411</td>\n",
       "      <td>FL</td>\n",
       "      <td>8055.0</td>\n",
       "      <td>0</td>\n",
       "      <td>1038</td>\n",
       "    </tr>\n",
       "    <tr>\n",
       "      <th>48706</th>\n",
       "      <td>121746</td>\n",
       "      <td>11/17/2010</td>\n",
       "      <td>MANHEIM</td>\n",
       "      <td>2003</td>\n",
       "      <td>7</td>\n",
       "      <td>BUICK</td>\n",
       "      <td>RENDEZVOUS AWD</td>\n",
       "      <td>CX</td>\n",
       "      <td>4D SUV CX</td>\n",
       "      <td>GOLD</td>\n",
       "      <td>...</td>\n",
       "      <td>8266.0</td>\n",
       "      <td>9388.0</td>\n",
       "      <td>NO</td>\n",
       "      <td>GREEN</td>\n",
       "      <td>20928</td>\n",
       "      <td>33411</td>\n",
       "      <td>FL</td>\n",
       "      <td>7755.0</td>\n",
       "      <td>0</td>\n",
       "      <td>5392</td>\n",
       "    </tr>\n",
       "  </tbody>\n",
       "</table>\n",
       "<p>48707 rows × 33 columns</p>\n",
       "</div>"
      ],
      "text/plain": [
       "        RefId   PurchDate  Auction  VehYear  VehicleAge       Make  \\\n",
       "0       73015   12/2/2009    ADESA     2005           4    PONTIAC   \n",
       "1       73016   12/2/2009    ADESA     2005           4  CHEVROLET   \n",
       "2       73017   12/2/2009    ADESA     2006           3      DODGE   \n",
       "3       73018   12/2/2009    ADESA     2002           7     SATURN   \n",
       "4       73019   12/2/2009    ADESA     2007           2    HYUNDAI   \n",
       "...       ...         ...      ...      ...         ...        ...   \n",
       "48702  121742  11/17/2010  MANHEIM     2005           5       FORD   \n",
       "48703  121743  11/17/2010  MANHEIM     2007           3     TOYOTA   \n",
       "48704  121744  11/17/2010  MANHEIM     2006           4        KIA   \n",
       "48705  121745  11/17/2010  MANHEIM     2005           5      MAZDA   \n",
       "48706  121746  11/17/2010  MANHEIM     2003           7      BUICK   \n",
       "\n",
       "                Model Trim                SubModel   Color  ...  \\\n",
       "0          GRAND PRIX  Bas                4D SEDAN  SILVER  ...   \n",
       "1           MALIBU V6   LS             4D SEDAN LS  SILVER  ...   \n",
       "2      DURANGO 2WD V8  Adv  4D SUV 4.7L ADVENTURER  SILVER  ...   \n",
       "3            L SERIES  L20           4D SEDAN L200    GOLD  ...   \n",
       "4              ACCENT   GS             2D COUPE GS    BLUE  ...   \n",
       "...               ...  ...                     ...     ...  ...   \n",
       "48702    FIVE HUNDRED  SEL            4D SEDAN SEL   BLACK  ...   \n",
       "48703         COROLLA   CE             4D SEDAN CE   GREEN  ...   \n",
       "48704         SPECTRA   EX             4D SEDAN EX   BLACK  ...   \n",
       "48705          MAZDA3    s             4D SEDAN GT  SILVER  ...   \n",
       "48706  RENDEZVOUS AWD   CX               4D SUV CX    GOLD  ...   \n",
       "\n",
       "      MMRCurrentRetailAveragePrice  MMRCurrentRetailCleanPrice PRIMEUNIT  \\\n",
       "0                           8557.0                      9752.0       NaN   \n",
       "1                           7562.0                      9296.0       NaN   \n",
       "2                          15340.0                     16512.0       NaN   \n",
       "3                           5725.0                      6398.0       NaN   \n",
       "4                           5914.0                      7350.0       NaN   \n",
       "...                            ...                         ...       ...   \n",
       "48702                       9764.0                     11395.0       NaN   \n",
       "48703                      10283.0                     11565.0       NaN   \n",
       "48704                       7871.0                      9490.0        NO   \n",
       "48705                       8576.0                      9937.0        NO   \n",
       "48706                       8266.0                      9388.0        NO   \n",
       "\n",
       "       AUCGUART  BYRNO VNZIP1 VNST  VehBCost  IsOnlineSale  WarrantyCost  \n",
       "0           NaN  18881  30212   GA    6500.0             0          2152  \n",
       "1           NaN  18111  30212   GA    6300.0             0          1118  \n",
       "2           NaN  18111  30212   GA    9700.0             0          1215  \n",
       "3           NaN  18881  30212   GA    4150.0             0          1933  \n",
       "4           NaN  18111  30212   GA    4100.0             0           920  \n",
       "...         ...    ...    ...  ...       ...           ...           ...  \n",
       "48702       NaN  20928  33411   FL    7955.0             0          1633  \n",
       "48703       NaN  20928  33411   FL    7035.0             0           594  \n",
       "48704     GREEN  20928  33411   FL    6335.0             0           594  \n",
       "48705     GREEN  20928  33411   FL    8055.0             0          1038  \n",
       "48706     GREEN  20928  33411   FL    7755.0             0          5392  \n",
       "\n",
       "[48707 rows x 33 columns]"
      ]
     },
     "execution_count": 36,
     "metadata": {},
     "output_type": "execute_result"
    }
   ],
   "source": [
    "X_test = test.copy()\n",
    "X_test"
   ]
  },
  {
   "cell_type": "code",
   "execution_count": 37,
   "metadata": {},
   "outputs": [
    {
     "name": "stdout",
     "output_type": "stream",
     "text": [
      "Categorical columns transformed.\n",
      "MMR Columns imputed.\n",
      "Done preprocessing\n"
     ]
    }
   ],
   "source": [
    "X_test = prepipe.transform(X_test)\n",
    "X_test = pipeline.transform(X_test)"
   ]
  },
  {
   "cell_type": "code",
   "execution_count": 38,
   "metadata": {},
   "outputs": [],
   "source": [
    "y = knn.predict(X_test)\n",
    "pd.DataFrame(y, columns=[\"IsBadBuy\"]).join(test[\"RefId\"]).to_csv(\"../out.csv\", index=False)"
   ]
  },
  {
   "cell_type": "code",
   "execution_count": null,
   "metadata": {},
   "outputs": [],
   "source": []
  }
 ],
 "metadata": {
  "kernelspec": {
   "display_name": "Python 3 (ipykernel)",
   "language": "python",
   "name": "python3"
  },
  "language_info": {
   "codemirror_mode": {
    "name": "ipython",
    "version": 3
   },
   "file_extension": ".py",
   "mimetype": "text/x-python",
   "name": "python",
   "nbconvert_exporter": "python",
   "pygments_lexer": "ipython3",
   "version": "3.8.8"
  }
 },
 "nbformat": 4,
 "nbformat_minor": 2
}
