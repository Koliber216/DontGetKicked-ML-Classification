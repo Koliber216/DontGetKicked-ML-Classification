{
 "cells": [
  {
   "cell_type": "code",
   "execution_count": 1,
   "metadata": {
    "ExecuteTime": {
     "end_time": "2023-05-17T18:11:25.856634Z",
     "start_time": "2023-05-17T18:11:25.706650Z"
    }
   },
   "outputs": [],
   "source": [
    "import pandas as pd\n",
    "import numpy as np\n",
    "import matplotlib.pyplot as plt\n",
    "import seaborn as sns\n",
    "\n",
    "from sklearn.model_selection import GridSearchCV\n",
    "from sklearn.linear_model import LogisticRegression\n",
    "from sklearn.preprocessing import PolynomialFeatures\n",
    "from sklearn.pipeline import Pipeline\n",
    "from sklearn import metrics\n",
    "from sklearn.metrics import accuracy_score, precision_score, recall_score, f1_score, confusion_matrix, roc_auc_score, ConfusionMatrixDisplay\n",
    "\n",
    "import warnings\n",
    "import os\n",
    "import sys\n",
    "if not sys.warnoptions:\n",
    "    warnings.simplefilter(\"ignore\")\n",
    "    os.environ[\"PYTHONWARNINGS\"] = \"ignore\"\n",
    "\n",
    "np.random.seed(42)"
   ]
  },
  {
   "cell_type": "code",
   "execution_count": 2,
   "metadata": {
    "ExecuteTime": {
     "end_time": "2023-05-17T18:11:25.866039Z",
     "start_time": "2023-05-17T18:11:25.860050Z"
    }
   },
   "outputs": [],
   "source": [
    "from tabulate import tabulate\n",
    "\n",
    "def show_scores(clf, X, y):\n",
    "    y_pred = clf.predict(X)\n",
    "    y_pred_prob = clf.predict_proba(X)\n",
    "    print(tabulate(confusion_matrix(y, y_pred), headers=['Predicted 0', 'Predicted 1'], tablefmt='orgtbl'))\n",
    "    print()\n",
    "    print(f'accuracy:              {round(accuracy_score(y, y_pred), 4)}')\n",
    "    print(f'precision:             {round(precision_score(y, y_pred), 4)}')\n",
    "    print(f'recall:                {round(recall_score(y, y_pred), 4)}')\n",
    "    print(f'f1:                    {round(f1_score(y, y_pred), 4)}')\n",
    "    print(f'roc_auc:               {round(roc_auc_score(y, y_pred), 4)}')\n",
    "    print(f'roc_auc_pred_prob:     {round(roc_auc_score(y, y_pred_prob[:, 1]), 4)}')"
   ]
  },
  {
   "cell_type": "markdown",
   "metadata": {},
   "source": [
    "### Ładowanie zbiorów danych, pierwszy model\n"
   ]
  },
  {
   "cell_type": "code",
   "execution_count": 3,
   "metadata": {
    "ExecuteTime": {
     "end_time": "2023-05-17T18:11:26.262012Z",
     "start_time": "2023-05-17T18:11:25.867927Z"
    }
   },
   "outputs": [],
   "source": [
    "X_train = pd.read_csv(\"../preprocessed_data/X_train.csv\")\n",
    "y_train = pd.read_csv(\"../preprocessed_data/y_train.csv\")\n",
    "\n",
    "X_val  = pd.read_csv(\"../preprocessed_data/X_val.csv\")\n",
    "y_val  = pd.read_csv(\"../preprocessed_data/y_val.csv\")"
   ]
  },
  {
   "cell_type": "code",
   "execution_count": 4,
   "metadata": {
    "ExecuteTime": {
     "end_time": "2023-05-17T18:11:27.108806Z",
     "start_time": "2023-05-17T18:11:26.264965Z"
    }
   },
   "outputs": [
    {
     "name": "stdout",
     "output_type": "stream",
     "text": [
      "|   Predicted 0 |   Predicted 1 |\n",
      "|---------------+---------------|\n",
      "|         44202 |           593 |\n",
      "|          4809 |          1484 |\n",
      "\n",
      "accuracy:              0.8943\n",
      "precision:             0.7145\n",
      "recall:                0.2358\n",
      "f1:                    0.3546\n",
      "roc_auc:               0.6113\n",
      "roc_auc_pred_prob:     0.7625\n",
      "|   Predicted 0 |   Predicted 1 |\n",
      "|---------------+---------------|\n",
      "|         18945 |           267 |\n",
      "|          2031 |           652 |\n",
      "\n",
      "accuracy:              0.895\n",
      "precision:             0.7095\n",
      "recall:                0.243\n",
      "f1:                    0.362\n",
      "roc_auc:               0.6146\n",
      "roc_auc_pred_prob:     0.7576\n"
     ]
    }
   ],
   "source": [
    "log_reg = LogisticRegression(random_state=42).fit(X_train, y_train)\n",
    "\n",
    "show_scores(log_reg, X_train, y_train)\n",
    "show_scores(log_reg, X_val, y_val)"
   ]
  },
  {
   "cell_type": "code",
   "execution_count": 5,
   "metadata": {
    "ExecuteTime": {
     "end_time": "2023-05-17T18:11:28.058680Z",
     "start_time": "2023-05-17T18:11:27.112710Z"
    }
   },
   "outputs": [
    {
     "name": "stdout",
     "output_type": "stream",
     "text": [
      "|   Predicted 0 |   Predicted 1 |\n",
      "|---------------+---------------|\n",
      "|         34512 |         10283 |\n",
      "|          2415 |          3878 |\n",
      "\n",
      "accuracy:              0.7514\n",
      "precision:             0.2739\n",
      "recall:                0.6162\n",
      "f1:                    0.3792\n",
      "roc_auc:               0.6933\n",
      "roc_auc_pred_prob:     0.7643\n",
      "|   Predicted 0 |   Predicted 1 |\n",
      "|---------------+---------------|\n",
      "|         14685 |          4527 |\n",
      "|          1043 |          1640 |\n",
      "\n",
      "accuracy:              0.7456\n",
      "precision:             0.2659\n",
      "recall:                0.6113\n",
      "f1:                    0.3706\n",
      "roc_auc:               0.6878\n",
      "roc_auc_pred_prob:     0.7581\n"
     ]
    }
   ],
   "source": [
    "log_reg_2 = LogisticRegression(random_state=42, class_weight='balanced').fit(X_train, y_train)\n",
    "\n",
    "show_scores(log_reg_2, X_train, y_train)\n",
    "show_scores(log_reg_2, X_val, y_val)"
   ]
  },
  {
   "cell_type": "markdown",
   "metadata": {},
   "source": [
    "### Regularyzacja\n"
   ]
  },
  {
   "cell_type": "code",
   "execution_count": 6,
   "metadata": {
    "ExecuteTime": {
     "end_time": "2023-05-17T18:11:59.431847Z",
     "start_time": "2023-05-17T18:11:28.065211Z"
    }
   },
   "outputs": [],
   "source": [
    "clf = LogisticRegression(random_state=42, solver='liblinear')\n",
    "parameters = dict(C=np.logspace(-6, 2, 20), penalty=['l1', 'l2'])\n",
    "reg_search = GridSearchCV(clf, cv=3, scoring='accuracy', return_train_score=True, param_grid=parameters, n_jobs=-1).fit(X_train, y_train)"
   ]
  },
  {
   "cell_type": "code",
   "execution_count": 7,
   "metadata": {
    "ExecuteTime": {
     "end_time": "2023-05-17T18:11:59.439276Z",
     "start_time": "2023-05-17T18:11:59.437123Z"
    }
   },
   "outputs": [
    {
     "name": "stdout",
     "output_type": "stream",
     "text": [
      "0.8941     {'C': 0.7847599703514607, 'penalty': 'l1'}\n",
      "0.8941     {'C': 0.7847599703514607, 'penalty': 'l2'}\n",
      "0.8941     {'C': 0.2976351441631313, 'penalty': 'l2'}\n",
      "0.8941     {'C': 0.2976351441631313, 'penalty': 'l1'}\n",
      "0.894     {'C': 2.06913808111479, 'penalty': 'l1'}\n",
      "0.894     {'C': 0.11288378916846883, 'penalty': 'l1'}\n",
      "0.894     {'C': 100.0, 'penalty': 'l2'}\n",
      "0.894     {'C': 37.92690190732246, 'penalty': 'l2'}\n",
      "0.894     {'C': 5.455594781168514, 'penalty': 'l2'}\n",
      "0.894     {'C': 2.06913808111479, 'penalty': 'l2'}\n",
      "0.894     {'C': 5.455594781168514, 'penalty': 'l1'}\n",
      "0.894     {'C': 14.384498882876601, 'penalty': 'l2'}\n",
      "0.894     {'C': 37.92690190732246, 'penalty': 'l1'}\n",
      "0.894     {'C': 100.0, 'penalty': 'l1'}\n",
      "0.894     {'C': 0.04281332398719396, 'penalty': 'l1'}\n",
      "0.894     {'C': 14.384498882876601, 'penalty': 'l1'}\n",
      "0.8939     {'C': 0.04281332398719396, 'penalty': 'l2'}\n",
      "0.8939     {'C': 0.11288378916846883, 'penalty': 'l2'}\n",
      "0.8937     {'C': 0.01623776739188721, 'penalty': 'l1'}\n",
      "0.8935     {'C': 0.01623776739188721, 'penalty': 'l2'}\n",
      "0.8925     {'C': 0.00615848211066026, 'penalty': 'l1'}\n",
      "0.8913     {'C': 0.00615848211066026, 'penalty': 'l2'}\n",
      "0.8846     {'C': 0.002335721469090121, 'penalty': 'l2'}\n",
      "0.8815     {'C': 0.002335721469090121, 'penalty': 'l1'}\n",
      "0.8781     {'C': 0.0008858667904100823, 'penalty': 'l2'}\n",
      "0.8768     {'C': 0.0003359818286283781, 'penalty': 'l2'}\n",
      "0.8768     {'C': 1.8329807108324375e-05, 'penalty': 'l2'}\n",
      "0.8768     {'C': 2.6366508987303555e-06, 'penalty': 'l1'}\n",
      "0.8768     {'C': 2.6366508987303555e-06, 'penalty': 'l2'}\n",
      "0.8768     {'C': 6.951927961775606e-06, 'penalty': 'l1'}\n",
      "0.8768     {'C': 6.951927961775606e-06, 'penalty': 'l2'}\n",
      "0.8768     {'C': 1.8329807108324375e-05, 'penalty': 'l1'}\n",
      "0.8768     {'C': 0.00012742749857031334, 'penalty': 'l2'}\n",
      "0.8768     {'C': 4.8329302385717524e-05, 'penalty': 'l1'}\n",
      "0.8768     {'C': 4.8329302385717524e-05, 'penalty': 'l2'}\n",
      "0.8768     {'C': 0.00012742749857031334, 'penalty': 'l1'}\n",
      "0.8768     {'C': 1e-06, 'penalty': 'l2'}\n",
      "0.8768     {'C': 0.0003359818286283781, 'penalty': 'l1'}\n",
      "0.8768     {'C': 0.0008858667904100823, 'penalty': 'l1'}\n",
      "0.8768     {'C': 1e-06, 'penalty': 'l1'}\n"
     ]
    }
   ],
   "source": [
    "res = pd.DataFrame(reg_search.cv_results_).sort_values(\"mean_test_score\", ascending=False)\n",
    "for mean_score, params in zip(res[\"mean_test_score\"], res[\"params\"]):\n",
    "    print(round(mean_score, 4), \"   \", params)"
   ]
  },
  {
   "cell_type": "code",
   "execution_count": 8,
   "metadata": {
    "ExecuteTime": {
     "end_time": "2023-05-17T18:11:59.557316Z",
     "start_time": "2023-05-17T18:11:59.442754Z"
    }
   },
   "outputs": [
    {
     "name": "stdout",
     "output_type": "stream",
     "text": [
      "|   Predicted 0 |   Predicted 1 |\n",
      "|---------------+---------------|\n",
      "|         44203 |           592 |\n",
      "|          4806 |          1487 |\n",
      "\n",
      "accuracy:              0.8943\n",
      "precision:             0.7152\n",
      "recall:                0.2363\n",
      "f1:                    0.3552\n",
      "roc_auc:               0.6115\n",
      "roc_auc_pred_prob:     0.7624\n",
      "|   Predicted 0 |   Predicted 1 |\n",
      "|---------------+---------------|\n",
      "|         18946 |           266 |\n",
      "|          2029 |           654 |\n",
      "\n",
      "accuracy:              0.8952\n",
      "precision:             0.7109\n",
      "recall:                0.2438\n",
      "f1:                    0.363\n",
      "roc_auc:               0.615\n",
      "roc_auc_pred_prob:     0.7575\n"
     ]
    }
   ],
   "source": [
    "show_scores(reg_search.best_estimator_, X_train, y_train)\n",
    "show_scores(reg_search.best_estimator_, X_val, y_val)"
   ]
  },
  {
   "cell_type": "markdown",
   "metadata": {},
   "source": [
    "### Wielomianowa regresja logistyczna drugiego stopnia"
   ]
  },
  {
   "cell_type": "code",
   "execution_count": 9,
   "metadata": {
    "ExecuteTime": {
     "end_time": "2023-05-17T18:12:15.265408Z",
     "start_time": "2023-05-17T18:11:59.562874Z"
    }
   },
   "outputs": [],
   "source": [
    "pol_log_reg = Pipeline([\n",
    "    ('poly', PolynomialFeatures(degree=2)),\n",
    "    ('log_reg', LogisticRegression(random_state=42))\n",
    "]).fit(X_train, y_train)"
   ]
  },
  {
   "cell_type": "code",
   "execution_count": 10,
   "metadata": {
    "ExecuteTime": {
     "end_time": "2023-05-17T18:12:23.021475Z",
     "start_time": "2023-05-17T18:12:15.265332Z"
    }
   },
   "outputs": [
    {
     "name": "stdout",
     "output_type": "stream",
     "text": [
      "|   Predicted 0 |   Predicted 1 |\n",
      "|---------------+---------------|\n",
      "|         44456 |           339 |\n",
      "|          4713 |          1580 |\n",
      "\n",
      "accuracy:              0.9011\n",
      "precision:             0.8233\n",
      "recall:                0.2511\n",
      "f1:                    0.3848\n",
      "roc_auc:               0.6218\n",
      "roc_auc_pred_prob:     0.8084\n",
      "|   Predicted 0 |   Predicted 1 |\n",
      "|---------------+---------------|\n",
      "|         18994 |           218 |\n",
      "|          2009 |           674 |\n",
      "\n",
      "accuracy:              0.8983\n",
      "precision:             0.7556\n",
      "recall:                0.2512\n",
      "f1:                    0.3771\n",
      "roc_auc:               0.6199\n",
      "roc_auc_pred_prob:     0.7608\n"
     ]
    }
   ],
   "source": [
    "show_scores(pol_log_reg, X_train, y_train)\n",
    "show_scores(pol_log_reg, X_val, y_val)"
   ]
  },
  {
   "cell_type": "markdown",
   "metadata": {},
   "source": [
    "### Wizualizacje"
   ]
  },
  {
   "cell_type": "code",
   "execution_count": 11,
   "metadata": {
    "ExecuteTime": {
     "end_time": "2023-05-17T19:19:23.570503Z",
     "start_time": "2023-05-17T19:19:22.280632Z"
    }
   },
   "outputs": [
    {
     "data": {
      "text/plain": [
       "<sklearn.metrics._plot.confusion_matrix.ConfusionMatrixDisplay at 0x7fe271bd6dc0>"
      ]
     },
     "execution_count": 11,
     "metadata": {},
     "output_type": "execute_result"
    },
    {
     "data": {
      "image/png": "[encoded data removed]",
      "text/plain": [
       "<Figure size 432x288 with 2 Axes>"
      ]
     },
     "metadata": {
      "needs_background": "light"
     },
     "output_type": "display_data"
    }
   ],
   "source": [
    "cm = confusion_matrix(y_val, pol_log_reg.predict(X_val), labels=pol_log_reg.classes_)\n",
    "ConfusionMatrixDisplay(confusion_matrix=cm,\n",
    "                              display_labels=pol_log_reg.classes_).plot()"
   ]
  },
  {
   "cell_type": "code",
   "execution_count": 12,
   "metadata": {
    "ExecuteTime": {
     "end_time": "2023-05-17T18:12:23.035829Z",
     "start_time": "2023-05-17T18:12:23.022127Z"
    }
   },
   "outputs": [
    {
     "data": {
      "text/html": [
       "<div>\n",
       "<style scoped>\n",
       "    .dataframe tbody tr th:only-of-type {\n",
       "        vertical-align: middle;\n",
       "    }\n",
       "\n",
       "    .dataframe tbody tr th {\n",
       "        vertical-align: top;\n",
       "    }\n",
       "\n",
       "    .dataframe thead th {\n",
       "        text-align: right;\n",
       "    }\n",
       "</style>\n",
       "<table border=\"1\" class=\"dataframe\">\n",
       "  <thead>\n",
       "    <tr style=\"text-align: right;\">\n",
       "      <th></th>\n",
       "      <th>Feature</th>\n",
       "      <th>Coefficient</th>\n",
       "    </tr>\n",
       "  </thead>\n",
       "  <tbody>\n",
       "    <tr>\n",
       "      <th>14</th>\n",
       "      <td>WheelType_OTHER</td>\n",
       "      <td>1.948709</td>\n",
       "    </tr>\n",
       "    <tr>\n",
       "      <th>10</th>\n",
       "      <td>PRIMEUNIT</td>\n",
       "      <td>1.491616</td>\n",
       "    </tr>\n",
       "    <tr>\n",
       "      <th>51</th>\n",
       "      <td>Make_LEXUS</td>\n",
       "      <td>1.125159</td>\n",
       "    </tr>\n",
       "    <tr>\n",
       "      <th>55</th>\n",
       "      <td>Make_MINI</td>\n",
       "      <td>1.084352</td>\n",
       "    </tr>\n",
       "    <tr>\n",
       "      <th>9</th>\n",
       "      <td>IsPrimeunitNA</td>\n",
       "      <td>0.881066</td>\n",
       "    </tr>\n",
       "    <tr>\n",
       "      <th>47</th>\n",
       "      <td>Make_INFINITI</td>\n",
       "      <td>0.687218</td>\n",
       "    </tr>\n",
       "    <tr>\n",
       "      <th>52</th>\n",
       "      <td>Make_LINCOLN</td>\n",
       "      <td>0.501792</td>\n",
       "    </tr>\n",
       "    <tr>\n",
       "      <th>3</th>\n",
       "      <td>VehicleAge</td>\n",
       "      <td>0.444149</td>\n",
       "    </tr>\n",
       "    <tr>\n",
       "      <th>64</th>\n",
       "      <td>Make_SUZUKI</td>\n",
       "      <td>0.361657</td>\n",
       "    </tr>\n",
       "    <tr>\n",
       "      <th>84</th>\n",
       "      <td>Doors_5D</td>\n",
       "      <td>0.343344</td>\n",
       "    </tr>\n",
       "  </tbody>\n",
       "</table>\n",
       "</div>"
      ],
      "text/plain": [
       "            Feature  Coefficient\n",
       "14  WheelType_OTHER     1.948709\n",
       "10        PRIMEUNIT     1.491616\n",
       "51       Make_LEXUS     1.125159\n",
       "55        Make_MINI     1.084352\n",
       "9     IsPrimeunitNA     0.881066\n",
       "47    Make_INFINITI     0.687218\n",
       "52     Make_LINCOLN     0.501792\n",
       "3        VehicleAge     0.444149\n",
       "64      Make_SUZUKI     0.361657\n",
       "84         Doors_5D     0.343344"
      ]
     },
     "execution_count": 12,
     "metadata": {},
     "output_type": "execute_result"
    }
   ],
   "source": [
    "coefficient_df = pd.DataFrame({\n",
    "    'Feature': X_train.columns,\n",
    "    'Coefficient': np.reshape(reg_search.best_estimator_.coef_.T, (105,))\n",
    "}).sort_values('Coefficient', ascending=False)\n",
    "coefficient_df.head(10)"
   ]
  },
  {
   "cell_type": "code",
   "execution_count": 13,
   "metadata": {
    "ExecuteTime": {
     "end_time": "2023-05-17T18:12:23.291905Z",
     "start_time": "2023-05-17T18:12:23.092220Z"
    }
   },
   "outputs": [
    {
     "data": {
      "image/png": "[encoded data removed]",
      "text/plain": [
       "<Figure size 432x288 with 1 Axes>"
      ]
     },
     "metadata": {
      "needs_background": "light"
     },
     "output_type": "display_data"
    }
   ],
   "source": [
    "plt.title('Coefficient - Logistic Regression')\n",
    "sns.barplot(data=coefficient_df.head(15),palette='husl',x='Coefficient', y='Feature')\n",
    "plt.show()"
   ]
  },
  {
   "cell_type": "code",
   "execution_count": 14,
   "metadata": {
    "ExecuteTime": {
     "end_time": "2023-05-17T18:12:23.299495Z",
     "start_time": "2023-05-17T18:12:23.296328Z"
    }
   },
   "outputs": [],
   "source": [
    "def gini_roc(y_test, y_pred_proba, tytul):\n",
    "\n",
    "    fpr, tpr, _ = metrics.roc_curve(y_test,  y_pred_proba)\n",
    "\n",
    "    plt.plot(fpr,tpr)\n",
    "    plt.title(tytul)\n",
    "    plt.ylabel('True Positive Rate')\n",
    "    plt.xlabel('False Positive Rate')\n",
    "    plt.show()\n",
    "\n",
    "    roc_auc = metrics.auc(fpr, tpr)\n",
    "    gini = (2 * roc_auc) - 1\n",
    "\n",
    "    return gini\n",
    "\n",
    "def gini_train_val(model, X_train, y_train, X_val, y_val):\n",
    "\n",
    "    y_pred_proba = model.predict_proba(X_train)[::,1]\n",
    "    gini_train = gini_roc(y_train, y_pred_proba, \"ROC Curve for Training Sample\")\n",
    "    print(\"gini_train: %.4f\" % gini_train)\n",
    "\n",
    "    y_pred_proba = model.predict_proba(X_val)[::,1]\n",
    "    gini_val = gini_roc(y_val, y_pred_proba, \"Roc Curve for Validation Sample\")\n",
    "    print(\"gini_val: %.4f\" % gini_val)\n",
    "\n",
    "    return"
   ]
  },
  {
   "cell_type": "code",
   "execution_count": 15,
   "metadata": {
    "ExecuteTime": {
     "end_time": "2023-05-17T18:12:23.595127Z",
     "start_time": "2023-05-17T18:12:23.305055Z"
    }
   },
   "outputs": [
    {
     "data": {
      "image/png": "[encoded data removed]",
      "text/plain": [
       "<Figure size 432x288 with 1 Axes>"
      ]
     },
     "metadata": {
      "needs_background": "light"
     },
     "output_type": "display_data"
    },
    {
     "name": "stdout",
     "output_type": "stream",
     "text": [
      "gini_train: 0.5250\n"
     ]
    },
    {
     "data": {
      "image/png": "[encoded data removed]",
      "text/plain": [
       "<Figure size 432x288 with 1 Axes>"
      ]
     },
     "metadata": {
      "needs_background": "light"
     },
     "output_type": "display_data"
    },
    {
     "name": "stdout",
     "output_type": "stream",
     "text": [
      "gini_val: 0.5152\n"
     ]
    }
   ],
   "source": [
    "gini_train_val(log_reg, X_train, y_train, X_val, y_val)"
   ]
  },
  {
   "cell_type": "code",
   "execution_count": 16,
   "metadata": {
    "ExecuteTime": {
     "end_time": "2023-05-17T18:12:23.826280Z",
     "start_time": "2023-05-17T18:12:23.598356Z"
    }
   },
   "outputs": [
    {
     "data": {
      "image/png": "[encoded data removed]",
      "text/plain": [
       "<Figure size 432x288 with 1 Axes>"
      ]
     },
     "metadata": {
      "needs_background": "light"
     },
     "output_type": "display_data"
    },
    {
     "name": "stdout",
     "output_type": "stream",
     "text": [
      "gini_train: 0.5248\n"
     ]
    },
    {
     "data": {
      "image/png": "[encoded data removed]",
      "text/plain": [
       "<Figure size 432x288 with 1 Axes>"
      ]
     },
     "metadata": {
      "needs_background": "light"
     },
     "output_type": "display_data"
    },
    {
     "name": "stdout",
     "output_type": "stream",
     "text": [
      "gini_val: 0.5151\n"
     ]
    }
   ],
   "source": [
    "gini_train_val(reg_search.best_estimator_, X_train, y_train, X_val, y_val)"
   ]
  },
  {
   "cell_type": "code",
   "execution_count": 17,
   "metadata": {
    "ExecuteTime": {
     "end_time": "2023-05-17T18:12:27.835444Z",
     "start_time": "2023-05-17T18:12:23.830940Z"
    }
   },
   "outputs": [
    {
     "data": {
      "image/png": "[encoded data removed]",
      "text/plain": [
       "<Figure size 432x288 with 1 Axes>"
      ]
     },
     "metadata": {
      "needs_background": "light"
     },
     "output_type": "display_data"
    },
    {
     "name": "stdout",
     "output_type": "stream",
     "text": [
      "gini_train: 0.6167\n"
     ]
    },
    {
     "data": {
      "image/png": "[encoded data removed]",
      "text/plain": [
       "<Figure size 432x288 with 1 Axes>"
      ]
     },
     "metadata": {
      "needs_background": "light"
     },
     "output_type": "display_data"
    },
    {
     "name": "stdout",
     "output_type": "stream",
     "text": [
      "gini_val: 0.5217\n"
     ]
    }
   ],
   "source": [
    "gini_train_val(pol_log_reg, X_train, y_train, X_val, y_val)"
   ]
  }
 ],
 "metadata": {
  "kernelspec": {
   "display_name": "Python 3 (ipykernel)",
   "language": "python",
   "name": "python3"
  },
  "language_info": {
   "codemirror_mode": {
    "name": "ipython",
    "version": 3
   },
   "file_extension": ".py",
   "mimetype": "text/x-python",
   "name": "python",
   "nbconvert_exporter": "python",
   "pygments_lexer": "ipython3",
   "version": "3.9.0"
  }
 },
 "nbformat": 4,
 "nbformat_minor": 2
}
