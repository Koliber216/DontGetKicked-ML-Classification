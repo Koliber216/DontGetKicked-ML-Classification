{
 "cells": [
  {
   "cell_type": "code",
   "execution_count": 1,
   "metadata": {
    "ExecuteTime": {
     "end_time": "2023-05-17T19:19:56.296923Z",
     "start_time": "2023-05-17T19:19:56.294038Z"
    }
   },
   "outputs": [],
   "source": [
    "import pandas as pd\n",
    "import numpy as np\n",
    "import matplotlib.pyplot as plt\n",
    "import seaborn as sns\n",
    "\n",
    "from sklearn.tree import DecisionTreeClassifier\n",
    "from sklearn.model_selection import GridSearchCV, RandomizedSearchCV\n",
    "from sklearn import metrics\n",
    "from sklearn.metrics import accuracy_score, precision_score, recall_score, f1_score, confusion_matrix, roc_auc_score, ConfusionMatrixDisplay\n",
    "\n",
    "import warnings\n",
    "import os\n",
    "import sys\n",
    "if not sys.warnoptions:\n",
    "    warnings.simplefilter(\"ignore\")\n",
    "    os.environ[\"PYTHONWARNINGS\"] = \"ignore\"\n",
    "\n",
    "np.random.seed(42)"
   ]
  },
  {
   "cell_type": "code",
   "execution_count": 2,
   "metadata": {
    "ExecuteTime": {
     "end_time": "2023-05-17T18:14:04.629852Z",
     "start_time": "2023-05-17T18:14:04.625110Z"
    }
   },
   "outputs": [],
   "source": [
    "from tabulate import tabulate\n",
    "\n",
    "def show_scores(clf, X, y):\n",
    "    y_pred = clf.predict(X)\n",
    "    y_pred_prob = clf.predict_proba(X)\n",
    "    print(tabulate(confusion_matrix(y, y_pred), headers=['Predicted 0', 'Predicted 1'], tablefmt='orgtbl'))\n",
    "    print()\n",
    "    print(f'accuracy:              {round(accuracy_score(y, y_pred), 4)}')\n",
    "    print(f'precision:             {round(precision_score(y, y_pred), 4)}')\n",
    "    print(f'recall:                {round(recall_score(y, y_pred), 4)}')\n",
    "    print(f'f1:                    {round(f1_score(y, y_pred), 4)}')\n",
    "    print(f'roc_auc:               {round(roc_auc_score(y, y_pred), 4)}')\n",
    "    print(f'roc_auc_pred_prob:     {round(roc_auc_score(y, y_pred_prob[:, 1]), 4)}')"
   ]
  },
  {
   "cell_type": "markdown",
   "metadata": {},
   "source": [
    "### Ładowanie zbiorów danych, pierwszy model"
   ]
  },
  {
   "cell_type": "code",
   "execution_count": 3,
   "metadata": {
    "ExecuteTime": {
     "end_time": "2023-05-17T18:14:05.069862Z",
     "start_time": "2023-05-17T18:14:04.632275Z"
    }
   },
   "outputs": [],
   "source": [
    "X_train = pd.read_csv(\"../preprocessed_data/X_train.csv\")\n",
    "y_train = pd.read_csv(\"../preprocessed_data/y_train.csv\")\n",
    "\n",
    "X_val = pd.read_csv(\"../preprocessed_data/X_val.csv\")\n",
    "y_val = pd.read_csv(\"../preprocessed_data/y_val.csv\")"
   ]
  },
  {
   "cell_type": "code",
   "execution_count": 4,
   "metadata": {
    "ExecuteTime": {
     "end_time": "2023-05-17T18:14:05.833541Z",
     "start_time": "2023-05-17T18:14:05.073633Z"
    }
   },
   "outputs": [],
   "source": [
    "dct = DecisionTreeClassifier(random_state=42).fit(X_train, y_train)"
   ]
  },
  {
   "cell_type": "code",
   "execution_count": 5,
   "metadata": {
    "ExecuteTime": {
     "end_time": "2023-05-17T18:14:05.966420Z",
     "start_time": "2023-05-17T18:14:05.831094Z"
    }
   },
   "outputs": [
    {
     "name": "stdout",
     "output_type": "stream",
     "text": [
      "|   Predicted 0 |   Predicted 1 |\n",
      "|---------------+---------------|\n",
      "|         44795 |             0 |\n",
      "|             0 |          6293 |\n",
      "\n",
      "accuracy:              1.0\n",
      "precision:             1.0\n",
      "recall:                1.0\n",
      "f1:                    1.0\n",
      "roc_auc:               1.0\n",
      "roc_auc_pred_prob:     1.0\n",
      "|   Predicted 0 |   Predicted 1 |\n",
      "|---------------+---------------|\n",
      "|         17015 |          2197 |\n",
      "|          1797 |           886 |\n",
      "\n",
      "accuracy:              0.8176\n",
      "precision:             0.2874\n",
      "recall:                0.3302\n",
      "f1:                    0.3073\n",
      "roc_auc:               0.6079\n",
      "roc_auc_pred_prob:     0.6079\n"
     ]
    }
   ],
   "source": [
    "show_scores(dct, X_train, y_train)\n",
    "show_scores(dct, X_val, y_val)"
   ]
  },
  {
   "cell_type": "markdown",
   "metadata": {},
   "source": [
    "### Strojenie hiperparametrów"
   ]
  },
  {
   "cell_type": "code",
   "execution_count": 6,
   "metadata": {
    "ExecuteTime": {
     "end_time": "2023-05-17T18:14:39.063753Z",
     "start_time": "2023-05-17T18:14:05.969501Z"
    }
   },
   "outputs": [],
   "source": [
    "parameters = dict(max_depth=np.arange(1, 100))\n",
    "depth_search = GridSearchCV(dct, cv=3, scoring='precision', return_train_score=True, param_grid=parameters, n_jobs=-1).fit(X_train, y_train)"
   ]
  },
  {
   "cell_type": "code",
   "execution_count": 7,
   "metadata": {
    "ExecuteTime": {
     "end_time": "2023-05-17T18:14:39.070678Z",
     "start_time": "2023-05-17T18:14:39.063859Z"
    }
   },
   "outputs": [
    {
     "data": {
      "text/plain": [
       "{'max_depth': 2}"
      ]
     },
     "execution_count": 7,
     "metadata": {},
     "output_type": "execute_result"
    }
   ],
   "source": [
    "depth_search.best_params_"
   ]
  },
  {
   "cell_type": "code",
   "execution_count": 8,
   "metadata": {
    "ExecuteTime": {
     "end_time": "2023-05-17T18:14:39.078683Z",
     "start_time": "2023-05-17T18:14:39.073536Z"
    }
   },
   "outputs": [
    {
     "name": "stdout",
     "output_type": "stream",
     "text": [
      "0.8383     {'max_depth': 2}\n",
      "0.833     {'max_depth': 6}\n",
      "0.8302     {'max_depth': 4}\n",
      "0.8276     {'max_depth': 5}\n",
      "0.8165     {'max_depth': 7}\n",
      "0.8075     {'max_depth': 3}\n",
      "0.7882     {'max_depth': 8}\n",
      "0.7448     {'max_depth': 9}\n",
      "0.7185     {'max_depth': 10}\n",
      "0.706     {'max_depth': 1}\n",
      "0.6569     {'max_depth': 11}\n",
      "0.6127     {'max_depth': 12}\n",
      "0.5598     {'max_depth': 13}\n",
      "0.5314     {'max_depth': 14}\n",
      "0.4976     {'max_depth': 15}\n",
      "0.464     {'max_depth': 16}\n",
      "0.4378     {'max_depth': 17}\n",
      "0.4134     {'max_depth': 18}\n",
      "0.3998     {'max_depth': 19}\n",
      "0.3776     {'max_depth': 20}\n",
      "0.3597     {'max_depth': 21}\n",
      "0.3506     {'max_depth': 22}\n",
      "0.3397     {'max_depth': 23}\n",
      "0.3315     {'max_depth': 24}\n",
      "0.3221     {'max_depth': 26}\n",
      "0.3217     {'max_depth': 25}\n",
      "0.3173     {'max_depth': 27}\n",
      "0.3162     {'max_depth': 28}\n",
      "0.3114     {'max_depth': 29}\n",
      "0.3102     {'max_depth': 30}\n",
      "0.3043     {'max_depth': 31}\n",
      "0.3002     {'max_depth': 32}\n",
      "0.2981     {'max_depth': 33}\n",
      "0.2971     {'max_depth': 34}\n",
      "0.2969     {'max_depth': 38}\n",
      "0.2956     {'max_depth': 36}\n",
      "0.2956     {'max_depth': 37}\n",
      "0.2944     {'max_depth': 39}\n",
      "0.2938     {'max_depth': 40}\n",
      "0.2933     {'max_depth': 79}\n",
      "0.2933     {'max_depth': 83}\n",
      "0.2933     {'max_depth': 82}\n",
      "0.2933     {'max_depth': 85}\n",
      "0.2933     {'max_depth': 81}\n",
      "0.2933     {'max_depth': 80}\n",
      "0.2933     {'max_depth': 73}\n",
      "0.2933     {'max_depth': 78}\n",
      "0.2933     {'max_depth': 77}\n",
      "0.2933     {'max_depth': 76}\n",
      "0.2933     {'max_depth': 75}\n",
      "0.2933     {'max_depth': 74}\n",
      "0.2933     {'max_depth': 72}\n",
      "0.2933     {'max_depth': 84}\n",
      "0.2933     {'max_depth': 98}\n",
      "0.2933     {'max_depth': 86}\n",
      "0.2933     {'max_depth': 87}\n",
      "0.2933     {'max_depth': 88}\n",
      "0.2933     {'max_depth': 89}\n",
      "0.2933     {'max_depth': 90}\n",
      "0.2933     {'max_depth': 91}\n",
      "0.2933     {'max_depth': 92}\n",
      "0.2933     {'max_depth': 93}\n",
      "0.2933     {'max_depth': 94}\n",
      "0.2933     {'max_depth': 95}\n",
      "0.2933     {'max_depth': 96}\n",
      "0.2933     {'max_depth': 97}\n",
      "0.2933     {'max_depth': 70}\n",
      "0.2933     {'max_depth': 71}\n",
      "0.2933     {'max_depth': 50}\n",
      "0.2933     {'max_depth': 69}\n",
      "0.2933     {'max_depth': 68}\n",
      "0.2933     {'max_depth': 41}\n",
      "0.2933     {'max_depth': 42}\n",
      "0.2933     {'max_depth': 43}\n",
      "0.2933     {'max_depth': 44}\n",
      "0.2933     {'max_depth': 45}\n",
      "0.2933     {'max_depth': 46}\n",
      "0.2933     {'max_depth': 47}\n",
      "0.2933     {'max_depth': 48}\n",
      "0.2933     {'max_depth': 49}\n",
      "0.2933     {'max_depth': 51}\n",
      "0.2933     {'max_depth': 52}\n",
      "0.2933     {'max_depth': 53}\n",
      "0.2933     {'max_depth': 54}\n",
      "0.2933     {'max_depth': 55}\n",
      "0.2933     {'max_depth': 56}\n",
      "0.2933     {'max_depth': 57}\n",
      "0.2933     {'max_depth': 58}\n",
      "0.2933     {'max_depth': 59}\n",
      "0.2933     {'max_depth': 60}\n",
      "0.2933     {'max_depth': 61}\n",
      "0.2933     {'max_depth': 62}\n",
      "0.2933     {'max_depth': 63}\n",
      "0.2933     {'max_depth': 64}\n",
      "0.2933     {'max_depth': 65}\n",
      "0.2933     {'max_depth': 66}\n",
      "0.2933     {'max_depth': 67}\n",
      "0.2933     {'max_depth': 99}\n",
      "0.2933     {'max_depth': 35}\n"
     ]
    }
   ],
   "source": [
    "res = pd.DataFrame(depth_search.cv_results_).sort_values(\"mean_test_score\", ascending=False)\n",
    "for mean_score, params in zip(res[\"mean_test_score\"], res[\"params\"]):\n",
    "    print(round(mean_score, 4), \"   \", params)"
   ]
  },
  {
   "cell_type": "code",
   "execution_count": 9,
   "metadata": {
    "ExecuteTime": {
     "end_time": "2023-05-17T18:14:39.195859Z",
     "start_time": "2023-05-17T18:14:39.078021Z"
    }
   },
   "outputs": [
    {
     "name": "stdout",
     "output_type": "stream",
     "text": [
      "|   Predicted 0 |   Predicted 1 |\n",
      "|---------------+---------------|\n",
      "|         44534 |           261 |\n",
      "|          4945 |          1348 |\n",
      "\n",
      "accuracy:              0.8981\n",
      "precision:             0.8378\n",
      "recall:                0.2142\n",
      "f1:                    0.3412\n",
      "roc_auc:               0.6042\n",
      "roc_auc_pred_prob:     0.7065\n",
      "|   Predicted 0 |   Predicted 1 |\n",
      "|---------------+---------------|\n",
      "|         19089 |           123 |\n",
      "|          2072 |           611 |\n",
      "\n",
      "accuracy:              0.8997\n",
      "precision:             0.8324\n",
      "recall:                0.2277\n",
      "f1:                    0.3576\n",
      "roc_auc:               0.6107\n",
      "roc_auc_pred_prob:     0.6971\n"
     ]
    }
   ],
   "source": [
    "show_scores(depth_search.best_estimator_, X_train, y_train)\n",
    "show_scores(depth_search.best_estimator_, X_val, y_val)"
   ]
  },
  {
   "cell_type": "code",
   "execution_count": 10,
   "metadata": {
    "ExecuteTime": {
     "end_time": "2023-05-17T18:30:09.069104Z",
     "start_time": "2023-05-17T18:29:49.612000Z"
    }
   },
   "outputs": [],
   "source": [
    "parameters = dict(max_depth=np.arange(1, 65, 3), min_samples_split=np.arange(2, 8),\n",
    "                  min_samples_leaf=np.arange(1, 20, 2), max_features=np.arange(20, 150, 5))\n",
    "\n",
    "rand_search = RandomizedSearchCV(dct, scoring='accuracy', cv=3, return_train_score=True, param_distributions=parameters,n_iter=100, n_jobs=-1, random_state=42).fit(X_train, y_train)"
   ]
  },
  {
   "cell_type": "code",
   "execution_count": 11,
   "metadata": {
    "ExecuteTime": {
     "end_time": "2023-05-17T18:30:09.076829Z",
     "start_time": "2023-05-17T18:30:09.069473Z"
    }
   },
   "outputs": [],
   "source": [
    "best_dct = rand_search.best_estimator_"
   ]
  },
  {
   "cell_type": "code",
   "execution_count": 12,
   "metadata": {
    "ExecuteTime": {
     "end_time": "2023-05-17T18:30:09.088411Z",
     "start_time": "2023-05-17T18:30:09.081271Z"
    }
   },
   "outputs": [
    {
     "data": {
      "text/plain": [
       "{'min_samples_split': 7,\n",
       " 'min_samples_leaf': 15,\n",
       " 'max_features': 115,\n",
       " 'max_depth': 4}"
      ]
     },
     "execution_count": 12,
     "metadata": {},
     "output_type": "execute_result"
    }
   ],
   "source": [
    "rand_search.best_params_"
   ]
  },
  {
   "cell_type": "code",
   "execution_count": 13,
   "metadata": {
    "ExecuteTime": {
     "end_time": "2023-05-17T18:30:09.117785Z",
     "start_time": "2023-05-17T18:30:09.099059Z"
    }
   },
   "outputs": [
    {
     "name": "stdout",
     "output_type": "stream",
     "text": [
      "0.8984     {'min_samples_split': 7, 'min_samples_leaf': 15, 'max_features': 115, 'max_depth': 4}\n",
      "0.8984     {'min_samples_split': 5, 'min_samples_leaf': 11, 'max_features': 90, 'max_depth': 4}\n",
      "0.8983     {'min_samples_split': 4, 'min_samples_leaf': 11, 'max_features': 105, 'max_depth': 4}\n",
      "0.8982     {'min_samples_split': 3, 'min_samples_leaf': 19, 'max_features': 110, 'max_depth': 4}\n",
      "0.8982     {'min_samples_split': 2, 'min_samples_leaf': 17, 'max_features': 100, 'max_depth': 4}\n",
      "0.898     {'min_samples_split': 7, 'min_samples_leaf': 15, 'max_features': 55, 'max_depth': 4}\n",
      "0.8978     {'min_samples_split': 5, 'min_samples_leaf': 13, 'max_features': 45, 'max_depth': 4}\n",
      "0.8978     {'min_samples_split': 3, 'min_samples_leaf': 15, 'max_features': 85, 'max_depth': 7}\n",
      "0.8977     {'min_samples_split': 4, 'min_samples_leaf': 17, 'max_features': 80, 'max_depth': 7}\n",
      "0.8974     {'min_samples_split': 5, 'min_samples_leaf': 7, 'max_features': 55, 'max_depth': 7}\n",
      "0.897     {'min_samples_split': 6, 'min_samples_leaf': 5, 'max_features': 55, 'max_depth': 7}\n",
      "0.8949     {'min_samples_split': 4, 'min_samples_leaf': 13, 'max_features': 65, 'max_depth': 10}\n",
      "0.8946     {'min_samples_split': 3, 'min_samples_leaf': 3, 'max_features': 125, 'max_depth': 1}\n",
      "0.8946     {'min_samples_split': 5, 'min_samples_leaf': 3, 'max_features': 35, 'max_depth': 1}\n",
      "0.8946     {'min_samples_split': 3, 'min_samples_leaf': 1, 'max_features': 105, 'max_depth': 1}\n",
      "0.8946     {'min_samples_split': 4, 'min_samples_leaf': 7, 'max_features': 90, 'max_depth': 1}\n",
      "0.8946     {'min_samples_split': 3, 'min_samples_leaf': 17, 'max_features': 80, 'max_depth': 1}\n",
      "0.8946     {'min_samples_split': 4, 'min_samples_leaf': 19, 'max_features': 100, 'max_depth': 1}\n",
      "0.8945     {'min_samples_split': 3, 'min_samples_leaf': 11, 'max_features': 70, 'max_depth': 10}\n",
      "0.8945     {'min_samples_split': 7, 'min_samples_leaf': 1, 'max_features': 30, 'max_depth': 4}\n",
      "0.8943     {'min_samples_split': 2, 'min_samples_leaf': 13, 'max_features': 30, 'max_depth': 13}\n",
      "0.8934     {'min_samples_split': 7, 'min_samples_leaf': 11, 'max_features': 100, 'max_depth': 10}\n",
      "0.8926     {'min_samples_split': 2, 'min_samples_leaf': 19, 'max_features': 55, 'max_depth': 22}\n",
      "0.8923     {'min_samples_split': 3, 'min_samples_leaf': 9, 'max_features': 20, 'max_depth': 13}\n",
      "0.8921     {'min_samples_split': 3, 'min_samples_leaf': 19, 'max_features': 90, 'max_depth': 58}\n",
      "0.892     {'min_samples_split': 2, 'min_samples_leaf': 15, 'max_features': 30, 'max_depth': 43}\n",
      "0.892     {'min_samples_split': 6, 'min_samples_leaf': 5, 'max_features': 50, 'max_depth': 10}\n",
      "0.8919     {'min_samples_split': 7, 'min_samples_leaf': 19, 'max_features': 60, 'max_depth': 46}\n",
      "0.8919     {'min_samples_split': 5, 'min_samples_leaf': 17, 'max_features': 45, 'max_depth': 61}\n",
      "0.8918     {'min_samples_split': 6, 'min_samples_leaf': 17, 'max_features': 65, 'max_depth': 16}\n",
      "0.8917     {'min_samples_split': 5, 'min_samples_leaf': 17, 'max_features': 80, 'max_depth': 16}\n",
      "0.8917     {'min_samples_split': 2, 'min_samples_leaf': 15, 'max_features': 25, 'max_depth': 34}\n",
      "0.8917     {'min_samples_split': 2, 'min_samples_leaf': 15, 'max_features': 35, 'max_depth': 37}\n",
      "0.8913     {'min_samples_split': 5, 'min_samples_leaf': 17, 'max_features': 90, 'max_depth': 49}\n",
      "0.8911     {'min_samples_split': 2, 'min_samples_leaf': 13, 'max_features': 25, 'max_depth': 22}\n",
      "0.8908     {'min_samples_split': 5, 'min_samples_leaf': 15, 'max_features': 20, 'max_depth': 22}\n",
      "0.8906     {'min_samples_split': 7, 'min_samples_leaf': 19, 'max_features': 145, 'max_depth': 25}\n",
      "0.8906     {'min_samples_split': 5, 'min_samples_leaf': 19, 'max_features': 140, 'max_depth': 40}\n",
      "0.8906     {'min_samples_split': 6, 'min_samples_leaf': 19, 'max_features': 110, 'max_depth': 46}\n",
      "0.8906     {'min_samples_split': 7, 'min_samples_leaf': 19, 'max_features': 145, 'max_depth': 31}\n",
      "0.8904     {'min_samples_split': 2, 'min_samples_leaf': 17, 'max_features': 50, 'max_depth': 34}\n",
      "0.8901     {'min_samples_split': 3, 'min_samples_leaf': 9, 'max_features': 20, 'max_depth': 4}\n",
      "0.8899     {'min_samples_split': 5, 'min_samples_leaf': 11, 'max_features': 70, 'max_depth': 13}\n",
      "0.8898     {'min_samples_split': 4, 'min_samples_leaf': 17, 'max_features': 120, 'max_depth': 31}\n",
      "0.8895     {'min_samples_split': 3, 'min_samples_leaf': 13, 'max_features': 20, 'max_depth': 52}\n",
      "0.8895     {'min_samples_split': 2, 'min_samples_leaf': 15, 'max_features': 55, 'max_depth': 28}\n",
      "0.8888     {'min_samples_split': 7, 'min_samples_leaf': 15, 'max_features': 65, 'max_depth': 25}\n",
      "0.8883     {'min_samples_split': 3, 'min_samples_leaf': 15, 'max_features': 100, 'max_depth': 64}\n",
      "0.888     {'min_samples_split': 5, 'min_samples_leaf': 13, 'max_features': 50, 'max_depth': 64}\n",
      "0.888     {'min_samples_split': 4, 'min_samples_leaf': 13, 'max_features': 50, 'max_depth': 37}\n",
      "0.8875     {'min_samples_split': 2, 'min_samples_leaf': 15, 'max_features': 85, 'max_depth': 43}\n",
      "0.8871     {'min_samples_split': 4, 'min_samples_leaf': 11, 'max_features': 45, 'max_depth': 19}\n",
      "0.8867     {'min_samples_split': 5, 'min_samples_leaf': 11, 'max_features': 70, 'max_depth': 16}\n",
      "0.8854     {'min_samples_split': 2, 'min_samples_leaf': 13, 'max_features': 90, 'max_depth': 46}\n",
      "0.8842     {'min_samples_split': 4, 'min_samples_leaf': 13, 'max_features': 75, 'max_depth': 49}\n",
      "0.8838     {'min_samples_split': 7, 'min_samples_leaf': 11, 'max_features': 50, 'max_depth': 37}\n",
      "0.8836     {'min_samples_split': 6, 'min_samples_leaf': 11, 'max_features': 45, 'max_depth': 52}\n",
      "0.8834     {'min_samples_split': 4, 'min_samples_leaf': 13, 'max_features': 115, 'max_depth': 58}\n",
      "0.8828     {'min_samples_split': 3, 'min_samples_leaf': 13, 'max_features': 95, 'max_depth': 25}\n",
      "0.8826     {'min_samples_split': 2, 'min_samples_leaf': 11, 'max_features': 60, 'max_depth': 64}\n",
      "0.8822     {'min_samples_split': 4, 'min_samples_leaf': 11, 'max_features': 100, 'max_depth': 16}\n",
      "0.8811     {'min_samples_split': 6, 'min_samples_leaf': 3, 'max_features': 75, 'max_depth': 13}\n",
      "0.881     {'min_samples_split': 6, 'min_samples_leaf': 9, 'max_features': 140, 'max_depth': 16}\n",
      "0.8779     {'min_samples_split': 7, 'min_samples_leaf': 7, 'max_features': 25, 'max_depth': 46}\n",
      "0.8779     {'min_samples_split': 5, 'min_samples_leaf': 11, 'max_features': 125, 'max_depth': 25}\n",
      "0.8777     {'min_samples_split': 3, 'min_samples_leaf': 11, 'max_features': 100, 'max_depth': 40}\n",
      "0.8768     {'min_samples_split': 7, 'min_samples_leaf': 13, 'max_features': 30, 'max_depth': 1}\n",
      "0.8762     {'min_samples_split': 3, 'min_samples_leaf': 7, 'max_features': 35, 'max_depth': 46}\n",
      "0.8746     {'min_samples_split': 4, 'min_samples_leaf': 9, 'max_features': 80, 'max_depth': 52}\n",
      "0.8729     {'min_samples_split': 6, 'min_samples_leaf': 3, 'max_features': 45, 'max_depth': 16}\n",
      "0.872     {'min_samples_split': 5, 'min_samples_leaf': 9, 'max_features': 135, 'max_depth': 43}\n",
      "0.872     {'min_samples_split': 7, 'min_samples_leaf': 9, 'max_features': 105, 'max_depth': 37}\n",
      "0.872     {'min_samples_split': 5, 'min_samples_leaf': 9, 'max_features': 105, 'max_depth': 55}\n",
      "0.872     {'min_samples_split': 4, 'min_samples_leaf': 9, 'max_features': 135, 'max_depth': 61}\n",
      "0.8716     {'min_samples_split': 5, 'min_samples_leaf': 3, 'max_features': 80, 'max_depth': 16}\n",
      "0.8692     {'min_samples_split': 5, 'min_samples_leaf': 7, 'max_features': 60, 'max_depth': 28}\n",
      "0.8634     {'min_samples_split': 6, 'min_samples_leaf': 7, 'max_features': 125, 'max_depth': 61}\n",
      "0.8634     {'min_samples_split': 4, 'min_samples_leaf': 7, 'max_features': 110, 'max_depth': 58}\n",
      "0.8627     {'min_samples_split': 2, 'min_samples_leaf': 5, 'max_features': 40, 'max_depth': 34}\n",
      "0.8626     {'min_samples_split': 5, 'min_samples_leaf': 5, 'max_features': 35, 'max_depth': 31}\n",
      "0.8614     {'min_samples_split': 3, 'min_samples_leaf': 5, 'max_features': 80, 'max_depth': 22}\n",
      "0.8612     {'min_samples_split': 4, 'min_samples_leaf': 5, 'max_features': 70, 'max_depth': 22}\n",
      "0.8598     {'min_samples_split': 3, 'min_samples_leaf': 3, 'max_features': 125, 'max_depth': 19}\n",
      "0.8584     {'min_samples_split': 7, 'min_samples_leaf': 3, 'max_features': 20, 'max_depth': 52}\n",
      "0.8581     {'min_samples_split': 7, 'min_samples_leaf': 5, 'max_features': 60, 'max_depth': 46}\n",
      "0.8575     {'min_samples_split': 7, 'min_samples_leaf': 5, 'max_features': 95, 'max_depth': 22}\n",
      "0.8565     {'min_samples_split': 3, 'min_samples_leaf': 5, 'max_features': 70, 'max_depth': 55}\n",
      "0.8561     {'min_samples_split': 6, 'min_samples_leaf': 1, 'max_features': 50, 'max_depth': 22}\n",
      "0.8547     {'min_samples_split': 7, 'min_samples_leaf': 5, 'max_features': 80, 'max_depth': 37}\n",
      "0.8534     {'min_samples_split': 7, 'min_samples_leaf': 1, 'max_features': 125, 'max_depth': 22}\n",
      "0.8528     {'min_samples_split': 2, 'min_samples_leaf': 3, 'max_features': 35, 'max_depth': 25}\n",
      "0.8523     {'min_samples_split': 3, 'min_samples_leaf': 5, 'max_features': 90, 'max_depth': 46}\n",
      "0.8435     {'min_samples_split': 2, 'min_samples_leaf': 3, 'max_features': 145, 'max_depth': 25}\n",
      "0.8422     {'min_samples_split': 2, 'min_samples_leaf': 3, 'max_features': 60, 'max_depth': 49}\n",
      "0.8418     {'min_samples_split': 7, 'min_samples_leaf': 3, 'max_features': 125, 'max_depth': 34}\n",
      "0.835     {'min_samples_split': 4, 'min_samples_leaf': 1, 'max_features': 30, 'max_depth': 43}\n",
      "0.8341     {'min_samples_split': 5, 'min_samples_leaf': 1, 'max_features': 55, 'max_depth': 31}\n",
      "0.8309     {'min_samples_split': 5, 'min_samples_leaf': 1, 'max_features': 100, 'max_depth': 40}\n",
      "0.8215     {'min_samples_split': 2, 'min_samples_leaf': 1, 'max_features': 100, 'max_depth': 52}\n",
      "0.8205     {'min_samples_split': 2, 'min_samples_leaf': 1, 'max_features': 95, 'max_depth': 46}\n"
     ]
    }
   ],
   "source": [
    "res = pd.DataFrame(rand_search.cv_results_).sort_values(\"mean_test_score\", ascending=False)\n",
    "for mean_score, params in zip(res[\"mean_test_score\"], res[\"params\"]):\n",
    "    print(round(mean_score, 4), \"   \", params)"
   ]
  },
  {
   "cell_type": "code",
   "execution_count": 14,
   "metadata": {
    "ExecuteTime": {
     "end_time": "2023-05-17T18:29:30.493188Z",
     "start_time": "2023-05-17T18:29:30.346631Z"
    }
   },
   "outputs": [
    {
     "name": "stdout",
     "output_type": "stream",
     "text": [
      "|   Predicted 0 |   Predicted 1 |\n",
      "|---------------+---------------|\n",
      "|         44511 |           284 |\n",
      "|          4886 |          1407 |\n",
      "\n",
      "accuracy:              0.8988\n",
      "precision:             0.8321\n",
      "recall:                0.2236\n",
      "f1:                    0.3525\n",
      "roc_auc:               0.6086\n",
      "roc_auc_pred_prob:     0.7322\n",
      "|   Predicted 0 |   Predicted 1 |\n",
      "|---------------+---------------|\n",
      "|         19070 |           142 |\n",
      "|          2059 |           624 |\n",
      "\n",
      "accuracy:              0.8995\n",
      "precision:             0.8146\n",
      "recall:                0.2326\n",
      "f1:                    0.3618\n",
      "roc_auc:               0.6126\n",
      "roc_auc_pred_prob:     0.7172\n"
     ]
    }
   ],
   "source": [
    "show_scores(best_dct, X_train, y_train)\n",
    "show_scores(best_dct, X_val, y_val)"
   ]
  },
  {
   "cell_type": "markdown",
   "metadata": {},
   "source": [
    "### Wizualizacje\n"
   ]
  },
  {
   "cell_type": "code",
   "execution_count": 15,
   "metadata": {
    "ExecuteTime": {
     "end_time": "2023-05-17T19:19:59.196276Z",
     "start_time": "2023-05-17T19:19:59.083981Z"
    }
   },
   "outputs": [
    {
     "data": {
      "text/plain": [
       "<sklearn.metrics._plot.confusion_matrix.ConfusionMatrixDisplay at 0x7f8bb000e760>"
      ]
     },
     "execution_count": 15,
     "metadata": {},
     "output_type": "execute_result"
    },
    {
     "data": {
      "image/png": "[encoded data removed]",
      "text/plain": [
       "<Figure size 432x288 with 2 Axes>"
      ]
     },
     "metadata": {
      "needs_background": "light"
     },
     "output_type": "display_data"
    }
   ],
   "source": [
    "cm = confusion_matrix(y_val, best_dct.predict(X_val), labels=best_dct.classes_)\n",
    "ConfusionMatrixDisplay(confusion_matrix=cm,\n",
    "                       display_labels=best_dct.classes_).plot()"
   ]
  },
  {
   "cell_type": "code",
   "execution_count": 16,
   "metadata": {
    "ExecuteTime": {
     "end_time": "2023-05-17T18:30:26.709687Z",
     "start_time": "2023-05-17T18:30:26.684297Z"
    }
   },
   "outputs": [
    {
     "data": {
      "text/html": [
       "<div>\n",
       "<style scoped>\n",
       "    .dataframe tbody tr th:only-of-type {\n",
       "        vertical-align: middle;\n",
       "    }\n",
       "\n",
       "    .dataframe tbody tr th {\n",
       "        vertical-align: top;\n",
       "    }\n",
       "\n",
       "    .dataframe thead th {\n",
       "        text-align: right;\n",
       "    }\n",
       "</style>\n",
       "<table border=\"1\" class=\"dataframe\">\n",
       "  <thead>\n",
       "    <tr style=\"text-align: right;\">\n",
       "      <th></th>\n",
       "      <th>Feature</th>\n",
       "      <th>Importance</th>\n",
       "    </tr>\n",
       "  </thead>\n",
       "  <tbody>\n",
       "    <tr>\n",
       "      <th>14</th>\n",
       "      <td>WheelType_OTHER</td>\n",
       "      <td>0.725834</td>\n",
       "    </tr>\n",
       "    <tr>\n",
       "      <th>87</th>\n",
       "      <td>Auction_MANHEIM</td>\n",
       "      <td>0.096851</td>\n",
       "    </tr>\n",
       "    <tr>\n",
       "      <th>3</th>\n",
       "      <td>VehicleAge</td>\n",
       "      <td>0.091370</td>\n",
       "    </tr>\n",
       "    <tr>\n",
       "      <th>1</th>\n",
       "      <td>VehBCost</td>\n",
       "      <td>0.033416</td>\n",
       "    </tr>\n",
       "    <tr>\n",
       "      <th>4</th>\n",
       "      <td>MMRAcquisitionAuctionAveragePrice</td>\n",
       "      <td>0.014020</td>\n",
       "    </tr>\n",
       "    <tr>\n",
       "      <th>8</th>\n",
       "      <td>Year</td>\n",
       "      <td>0.013135</td>\n",
       "    </tr>\n",
       "    <tr>\n",
       "      <th>2</th>\n",
       "      <td>WarrantyCost</td>\n",
       "      <td>0.011293</td>\n",
       "    </tr>\n",
       "    <tr>\n",
       "      <th>86</th>\n",
       "      <td>Auction_ADESA</td>\n",
       "      <td>0.008147</td>\n",
       "    </tr>\n",
       "    <tr>\n",
       "      <th>0</th>\n",
       "      <td>VehOdo</td>\n",
       "      <td>0.002988</td>\n",
       "    </tr>\n",
       "    <tr>\n",
       "      <th>7</th>\n",
       "      <td>IsOnlineSale</td>\n",
       "      <td>0.002946</td>\n",
       "    </tr>\n",
       "  </tbody>\n",
       "</table>\n",
       "</div>"
      ],
      "text/plain": [
       "                              Feature  Importance\n",
       "14                    WheelType_OTHER    0.725834\n",
       "87                    Auction_MANHEIM    0.096851\n",
       "3                          VehicleAge    0.091370\n",
       "1                            VehBCost    0.033416\n",
       "4   MMRAcquisitionAuctionAveragePrice    0.014020\n",
       "8                                Year    0.013135\n",
       "2                        WarrantyCost    0.011293\n",
       "86                      Auction_ADESA    0.008147\n",
       "0                              VehOdo    0.002988\n",
       "7                        IsOnlineSale    0.002946"
      ]
     },
     "execution_count": 16,
     "metadata": {},
     "output_type": "execute_result"
    }
   ],
   "source": [
    "importance_df = pd.DataFrame({\n",
    "    'Feature': X_train.columns,\n",
    "    'Importance': best_dct.feature_importances_\n",
    "}).sort_values('Importance', ascending=False)\n",
    "importance_df.head(10)"
   ]
  },
  {
   "cell_type": "code",
   "execution_count": 17,
   "metadata": {
    "ExecuteTime": {
     "end_time": "2023-05-17T18:30:29.071723Z",
     "start_time": "2023-05-17T18:30:28.890524Z"
    }
   },
   "outputs": [
    {
     "data": {
      "image/png": "[encoded data removed]",
      "text/plain": [
       "<Figure size 432x288 with 1 Axes>"
      ]
     },
     "metadata": {
      "needs_background": "light"
     },
     "output_type": "display_data"
    }
   ],
   "source": [
    "plt.title('Feature Importance - Decision Tree')\n",
    "sns.barplot(data=importance_df.head(10),palette='husl',x='Importance', y='Feature')\n",
    "plt.show()"
   ]
  },
  {
   "cell_type": "code",
   "execution_count": 18,
   "metadata": {
    "ExecuteTime": {
     "end_time": "2023-05-17T18:15:01.624054Z",
     "start_time": "2023-05-17T18:15:01.523636Z"
    }
   },
   "outputs": [],
   "source": [
    "def gini_roc(y_test, y_pred_proba, tytul):\n",
    "\n",
    "    fpr, tpr, _ = metrics.roc_curve(y_test,  y_pred_proba)\n",
    "\n",
    "    plt.plot(fpr,tpr)\n",
    "    plt.title(tytul)\n",
    "    plt.ylabel('True Positive Rate')\n",
    "    plt.xlabel('False Positive Rate')\n",
    "    plt.show()\n",
    "\n",
    "    roc_auc = metrics.auc(fpr, tpr)\n",
    "    gini = (2 * roc_auc) - 1\n",
    "\n",
    "    return gini\n",
    "\n",
    "def gini_train_val(model, X_train, y_train, X_val, y_val):\n",
    "\n",
    "    y_pred_proba = model.predict_proba(X_train)[::,1]\n",
    "    gini_train = gini_roc(y_train, y_pred_proba, \"ROC Curve for Training Sample\")\n",
    "    print(\"gini_train: %.4f\" % gini_train)\n",
    "\n",
    "    y_pred_proba = model.predict_proba(X_val)[::,1]\n",
    "    gini_val = gini_roc(y_val, y_pred_proba, \"Roc Curve for Validation Sample\")\n",
    "    print(\"gini_val: %.4f\" % gini_val)\n",
    "\n",
    "    return"
   ]
  },
  {
   "cell_type": "code",
   "execution_count": 19,
   "metadata": {
    "ExecuteTime": {
     "end_time": "2023-05-17T18:15:01.771812Z",
     "start_time": "2023-05-17T18:15:01.525542Z"
    }
   },
   "outputs": [
    {
     "data": {
      "image/png": "[encoded data removed]",
      "text/plain": [
       "<Figure size 432x288 with 1 Axes>"
      ]
     },
     "metadata": {
      "needs_background": "light"
     },
     "output_type": "display_data"
    },
    {
     "name": "stdout",
     "output_type": "stream",
     "text": [
      "gini_train: 0.4644\n"
     ]
    },
    {
     "data": {
      "image/png": "[encoded data removed]",
      "text/plain": [
       "<Figure size 432x288 with 1 Axes>"
      ]
     },
     "metadata": {
      "needs_background": "light"
     },
     "output_type": "display_data"
    },
    {
     "name": "stdout",
     "output_type": "stream",
     "text": [
      "gini_val: 0.4343\n"
     ]
    }
   ],
   "source": [
    "gini_train_val(best_dct, X_train, y_train, X_val, y_val)"
   ]
  }
 ],
 "metadata": {
  "kernelspec": {
   "display_name": "Python 3 (ipykernel)",
   "language": "python",
   "name": "python3"
  },
  "language_info": {
   "codemirror_mode": {
    "name": "ipython",
    "version": 3
   },
   "file_extension": ".py",
   "mimetype": "text/x-python",
   "name": "python",
   "nbconvert_exporter": "python",
   "pygments_lexer": "ipython3",
   "version": "3.9.0"
  }
 },
 "nbformat": 4,
 "nbformat_minor": 2
}
