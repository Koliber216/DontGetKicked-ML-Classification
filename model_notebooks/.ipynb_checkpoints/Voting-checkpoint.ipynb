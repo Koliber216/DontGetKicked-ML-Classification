{
 "cells": [
  {
   "cell_type": "code",
   "execution_count": 1,
   "metadata": {
    "ExecuteTime": {
     "end_time": "2023-05-17T19:20:09.958611Z",
     "start_time": "2023-05-17T19:20:09.926078Z"
    }
   },
   "outputs": [],
   "source": [
    "import pandas as pd\n",
    "import numpy as np\n",
    "import matplotlib.pyplot as plt\n",
    "\n",
    "from sklearn.linear_model import LogisticRegression\n",
    "from sklearn.ensemble import RandomForestClassifier, VotingClassifier\n",
    "import xgboost as xgb\n",
    "from sklearn.tree import DecisionTreeClassifier\n",
    "from sklearn import metrics\n",
    "from sklearn.metrics import accuracy_score, precision_score, recall_score, f1_score, confusion_matrix, roc_auc_score, ConfusionMatrixDisplay\n",
    "from sklearn.model_selection import RandomizedSearchCV\n",
    "\n",
    "import warnings\n",
    "import os\n",
    "import sys\n",
    "if not sys.warnoptions:\n",
    "    warnings.simplefilter(\"ignore\")\n",
    "    os.environ[\"PYTHONWARNINGS\"] = \"ignore\"\n",
    "\n",
    "np.random.seed(42)"
   ]
  },
  {
   "cell_type": "code",
   "execution_count": 2,
   "metadata": {
    "ExecuteTime": {
     "end_time": "2023-05-17T19:20:09.968835Z",
     "start_time": "2023-05-17T19:20:09.934651Z"
    }
   },
   "outputs": [],
   "source": [
    "from tabulate import tabulate\n",
    "\n",
    "def show_scores(clf, X, y):\n",
    "    y_pred = clf.predict(X)\n",
    "    y_pred_prob = clf.predict_proba(X)\n",
    "    print(tabulate(confusion_matrix(y, y_pred), headers=['Predicted 0', 'Predicted 1'], tablefmt='orgtbl'))\n",
    "    print()\n",
    "    print(f'accuracy:              {round(accuracy_score(y, y_pred), 4)}')\n",
    "    print(f'precision:             {round(precision_score(y, y_pred), 4)}')\n",
    "    print(f'recall:                {round(recall_score(y, y_pred), 4)}')\n",
    "    print(f'f1:                    {round(f1_score(y, y_pred), 4)}')\n",
    "    print(f'roc_auc:               {round(roc_auc_score(y, y_pred), 4)}')\n",
    "    print(f'roc_auc_pred_prob:     {round(roc_auc_score(y, y_pred_prob[:, 1]), 4)}')"
   ]
  },
  {
   "cell_type": "code",
   "execution_count": 3,
   "metadata": {
    "ExecuteTime": {
     "end_time": "2023-05-17T19:20:10.493036Z",
     "start_time": "2023-05-17T19:20:09.941540Z"
    }
   },
   "outputs": [],
   "source": [
    "X_train = pd.read_csv(\"../preprocessed_data/X_train.csv\")\n",
    "y_train = pd.read_csv(\"../preprocessed_data/y_train.csv\")\n",
    "\n",
    "X_val  = pd.read_csv(\"../preprocessed_data/X_val.csv\")\n",
    "y_val  = pd.read_csv(\"../preprocessed_data/y_val.csv\")"
   ]
  },
  {
   "cell_type": "code",
   "execution_count": 4,
   "metadata": {
    "ExecuteTime": {
     "end_time": "2023-05-17T19:20:10.498152Z",
     "start_time": "2023-05-17T19:20:10.495582Z"
    }
   },
   "outputs": [],
   "source": [
    "log_reg = LogisticRegression(random_state=42, solver='liblinear', C=14.38)\n",
    "rfc = RandomForestClassifier(random_state=42, n_jobs=-1,n_estimators=100,max_depth=16)\n",
    "xgb_clf = xgb.XGBClassifier(random_state=42, subsample=1, n_estimators=100, max_depth=3, learning_rate=0.3, gamma=5, colsample_bytree=0.8)\n",
    "dct = DecisionTreeClassifier(random_state=42, max_depth=4, min_samples_split=4, min_samples_leaf=11,max_features=105)"
   ]
  },
  {
   "cell_type": "code",
   "execution_count": null,
   "metadata": {
    "ExecuteTime": {
     "end_time": "2023-05-17T18:49:38.299855Z",
     "start_time": "2023-05-17T18:32:43.846252Z"
    }
   },
   "outputs": [],
   "source": [
    "parameters = dict(weights=[[i, j, k, l] for i in range(5) for j in range(5) for k in range (5, 10) for l in range (5, 10)])\n",
    "\n",
    "estimators=[('DCT', dct), ('LR', log_reg), ('RandomForest', rfc), ('XGB', xgb_clf)]\n",
    "rand_search = RandomizedSearchCV(VotingClassifier(estimators=estimators, voting='soft'), scoring='accuracy', cv=3, return_train_score=True, param_distributions=parameters, n_iter=100, n_jobs=1, random_state=42).fit(X_train, y_train)"
   ]
  },
  {
   "cell_type": "code",
   "execution_count": null,
   "metadata": {
    "ExecuteTime": {
     "end_time": "2023-05-17T18:49:38.306554Z",
     "start_time": "2023-05-17T18:49:38.303501Z"
    }
   },
   "outputs": [],
   "source": [
    "rand_search.best_params_"
   ]
  },
  {
   "cell_type": "code",
   "execution_count": null,
   "metadata": {
    "ExecuteTime": {
     "end_time": "2023-05-17T18:51:00.219896Z",
     "start_time": "2023-05-17T18:51:00.206328Z"
    }
   },
   "outputs": [],
   "source": [
    "res = pd.DataFrame(rand_search.cv_results_).sort_values(\"mean_test_score\", ascending=False)\n",
    "for mean_score, params in zip(res[\"mean_test_score\"], res[\"params\"]):\n",
    "    print(round(mean_score, 4), \"   \", params)"
   ]
  },
  {
   "cell_type": "code",
   "execution_count": null,
   "metadata": {
    "ExecuteTime": {
     "end_time": "2023-05-17T18:51:08.557685Z",
     "start_time": "2023-05-17T18:51:07.784003Z"
    }
   },
   "outputs": [],
   "source": [
    "show_scores(rand_search.best_estimator_, X_train, y_train)\n",
    "show_scores(rand_search.best_estimator_, X_val, y_val)"
   ]
  },
  {
   "cell_type": "markdown",
   "metadata": {},
   "source": [
    "### Wizualizacje"
   ]
  },
  {
   "cell_type": "code",
   "execution_count": null,
   "metadata": {},
   "outputs": [],
   "source": [
    "cm = confusion_matrix(rand_search.best_estimator_, rand_search.best_estimator_.predict(X_val), labels=rand_search.best_estimator_.classes_)\n",
    "ConfusionMatrixDisplay(confusion_matrix=cm,\n",
    "                       display_labels=rand_search.best_estimator_.classes_).plot()"
   ]
  },
  {
   "cell_type": "code",
   "execution_count": null,
   "metadata": {
    "ExecuteTime": {
     "end_time": "2023-05-17T18:51:31.721633Z",
     "start_time": "2023-05-17T18:51:31.718334Z"
    }
   },
   "outputs": [],
   "source": [
    "def gini_roc(y_test, y_pred_proba, tytul):\n",
    "\n",
    "    fpr, tpr, _ = metrics.roc_curve(y_test,  y_pred_proba)\n",
    "\n",
    "    plt.plot(fpr,tpr)\n",
    "    plt.title(tytul)\n",
    "    plt.ylabel('True Positive Rate')\n",
    "    plt.xlabel('False Positive Rate')\n",
    "    plt.show()\n",
    "\n",
    "    roc_auc = metrics.auc(fpr, tpr)\n",
    "    gini = (2 * roc_auc) - 1\n",
    "\n",
    "    return gini\n",
    "\n",
    "def gini_train_val(model, X_train, y_train, X_val, y_val):\n",
    "\n",
    "    y_pred_proba = model.predict_proba(X_train)[::,1]\n",
    "    gini_train = gini_roc(y_train, y_pred_proba, \"ROC Curve for Training Sample\")\n",
    "    print(\"gini_train: %.4f\" % gini_train)\n",
    "\n",
    "    y_pred_proba = model.predict_proba(X_val)[::,1]\n",
    "    gini_val = gini_roc(y_val, y_pred_proba, \"Roc Curve for Validation Sample\")\n",
    "    print(\"gini_val: %.4f\" % gini_val)\n",
    "\n",
    "    return"
   ]
  },
  {
   "cell_type": "code",
   "execution_count": null,
   "metadata": {
    "ExecuteTime": {
     "end_time": "2023-05-17T18:51:34.491149Z",
     "start_time": "2023-05-17T18:51:33.879759Z"
    }
   },
   "outputs": [],
   "source": [
    "gini_train_val(rand_search.best_estimator_, X_train, y_train, X_val, y_val)"
   ]
  }
 ],
 "metadata": {
  "kernelspec": {
   "display_name": "Python 3 (ipykernel)",
   "language": "python",
   "name": "python3"
  },
  "language_info": {
   "codemirror_mode": {
    "name": "ipython",
    "version": 3
   },
   "file_extension": ".py",
   "mimetype": "text/x-python",
   "name": "python",
   "nbconvert_exporter": "python",
   "pygments_lexer": "ipython3",
   "version": "3.9.0"
  }
 },
 "nbformat": 4,
 "nbformat_minor": 2
}
