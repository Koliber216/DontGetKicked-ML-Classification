{
 "cells": [
  {
   "cell_type": "code",
   "execution_count": 19,
   "metadata": {
    "ExecuteTime": {
     "start_time": "2023-05-09T18:48:17.235292Z",
     "end_time": "2023-05-09T18:48:17.240832Z"
    }
   },
   "outputs": [],
   "source": [
    "import pandas as pd\n",
    "import numpy as np\n",
    "from sklearn.metrics import accuracy_score, precision_score, recall_score, f1_score, confusion_matrix, roc_auc_score\n",
    "from tabulate import tabulate\n",
    "\n",
    "import warnings\n",
    "import os\n",
    "import sys\n",
    "if not sys.warnoptions:\n",
    "    warnings.simplefilter(\"ignore\")\n",
    "    os.environ[\"PYTHONWARNINGS\"] = \"ignore\"\n",
    "\n",
    "np.random.seed(42)"
   ]
  },
  {
   "cell_type": "code",
   "execution_count": 20,
   "outputs": [],
   "source": [
    "def show_scores(clf, X, y):\n",
    "    y_pred = clf.predict(X)\n",
    "    y_pred_prob = clf.predict_proba(X)\n",
    "    print(tabulate(confusion_matrix(y, y_pred), headers=['Predicted 0', 'Predicted 1'], tablefmt='orgtbl'))\n",
    "    print()\n",
    "    print(f'accuracy:              {round(accuracy_score(y, y_pred), 4)}')\n",
    "    print(f'precision:             {round(precision_score(y, y_pred), 4)}')\n",
    "    print(f'recall:                {round(recall_score(y, y_pred), 4)}')\n",
    "    print(f'f1:                    {round(f1_score(y, y_pred), 4)}')\n",
    "    print(f'roc_auc_discrete:      {round(roc_auc_score(y, y_pred), 4)}')\n",
    "    print(f'roc_auc_continuous:    {round(roc_auc_score(y, y_pred_prob[:, 1]), 4)}')"
   ],
   "metadata": {
    "collapsed": false,
    "ExecuteTime": {
     "start_time": "2023-05-09T18:48:17.450061Z",
     "end_time": "2023-05-09T18:48:17.456872Z"
    }
   }
  },
  {
   "cell_type": "markdown",
   "metadata": {},
   "source": [
    "# Logstic regression"
   ]
  },
  {
   "cell_type": "code",
   "execution_count": 21,
   "outputs": [],
   "source": [
    "X_train = pd.read_csv(\"../preprocessed_data/X_train.csv\")\n",
    "y_train = pd.read_csv(\"../preprocessed_data/y_train.csv\")\n",
    "\n",
    "X_val  = pd.read_csv(\"../preprocessed_data/X_val.csv\")\n",
    "y_val  = pd.read_csv(\"../preprocessed_data/y_val.csv\")"
   ],
   "metadata": {
    "collapsed": false,
    "ExecuteTime": {
     "start_time": "2023-05-09T18:48:18.164558Z",
     "end_time": "2023-05-09T18:48:18.604599Z"
    }
   }
  },
  {
   "cell_type": "code",
   "execution_count": 22,
   "metadata": {
    "ExecuteTime": {
     "start_time": "2023-05-09T18:48:18.686983Z",
     "end_time": "2023-05-09T18:48:19.654724Z"
    }
   },
   "outputs": [],
   "source": [
    "from sklearn.linear_model import LogisticRegression\n",
    "log_reg = LogisticRegression(random_state=42, class_weight='balanced').fit(X_train, y_train)\n"
   ]
  },
  {
   "cell_type": "code",
   "execution_count": 23,
   "outputs": [
    {
     "name": "stdout",
     "output_type": "stream",
     "text": [
      "|   Predicted 0 |   Predicted 1 |\n",
      "|---------------+---------------|\n",
      "|         34818 |          9987 |\n",
      "|          2529 |          3754 |\n",
      "\n",
      "accuracy:              0.755\n",
      "precision:             0.2732\n",
      "recall:                0.5975\n",
      "f1:                    0.375\n",
      "roc_auc_discrete:      0.6873\n",
      "roc_auc_continuous:    0.7571\n",
      "|   Predicted 0 |   Predicted 1 |\n",
      "|---------------+---------------|\n",
      "|         14807 |          4395 |\n",
      "|          1102 |          1591 |\n",
      "\n",
      "accuracy:              0.7489\n",
      "precision:             0.2658\n",
      "recall:                0.5908\n",
      "f1:                    0.3666\n",
      "roc_auc_discrete:      0.681\n",
      "roc_auc_continuous:    0.75\n"
     ]
    }
   ],
   "source": [
    "show_scores(log_reg, X_train, y_train)\n",
    "show_scores(log_reg, X_val, y_val)\n"
   ],
   "metadata": {
    "collapsed": false,
    "ExecuteTime": {
     "start_time": "2023-05-09T18:48:19.662282Z",
     "end_time": "2023-05-09T18:48:19.779553Z"
    }
   }
  },
  {
   "cell_type": "code",
   "execution_count": 15,
   "outputs": [],
   "source": [
    "from sklearn.model_selection import GridSearchCV\n",
    "\n",
    "clf = LogisticRegression(random_state=42, class_weight='balanced', solver='liblinear')\n",
    "\n",
    "parameters = dict(C=np.logspace(-6, 2, 20), penalty=['l1', 'l2'])\n",
    "reg_search = GridSearchCV(clf, cv=3, scoring='balanced_accuracy', return_train_score=True, param_grid=parameters, n_jobs=-1).fit(X_train, y_train)"
   ],
   "metadata": {
    "collapsed": false,
    "ExecuteTime": {
     "start_time": "2023-05-09T17:30:03.593028Z",
     "end_time": "2023-05-09T17:30:53.383967Z"
    }
   }
  },
  {
   "cell_type": "code",
   "execution_count": 18,
   "outputs": [
    {
     "name": "stdout",
     "output_type": "stream",
     "text": [
      "0.5     {'C': 1e-06, 'penalty': 'l1'}\n",
      "0.5482     {'C': 1e-06, 'penalty': 'l2'}\n",
      "0.5     {'C': 2.6366508987303555e-06, 'penalty': 'l1'}\n",
      "0.56     {'C': 2.6366508987303555e-06, 'penalty': 'l2'}\n",
      "0.5     {'C': 6.951927961775606e-06, 'penalty': 'l1'}\n",
      "0.5851     {'C': 6.951927961775606e-06, 'penalty': 'l2'}\n",
      "0.5     {'C': 1.8329807108324375e-05, 'penalty': 'l1'}\n",
      "0.6148     {'C': 1.8329807108324375e-05, 'penalty': 'l2'}\n",
      "0.5     {'C': 4.8329302385717524e-05, 'penalty': 'l1'}\n",
      "0.6303     {'C': 4.8329302385717524e-05, 'penalty': 'l2'}\n",
      "0.5     {'C': 0.00012742749857031334, 'penalty': 'l1'}\n",
      "0.648     {'C': 0.00012742749857031334, 'penalty': 'l2'}\n",
      "0.59     {'C': 0.0003359818286283781, 'penalty': 'l1'}\n",
      "0.662     {'C': 0.0003359818286283781, 'penalty': 'l2'}\n",
      "0.6635     {'C': 0.0008858667904100823, 'penalty': 'l1'}\n",
      "0.6756     {'C': 0.0008858667904100823, 'penalty': 'l2'}\n",
      "0.6713     {'C': 0.002335721469090121, 'penalty': 'l1'}\n",
      "0.6801     {'C': 0.002335721469090121, 'penalty': 'l2'}\n",
      "0.6751     {'C': 0.00615848211066026, 'penalty': 'l1'}\n",
      "0.6821     {'C': 0.00615848211066026, 'penalty': 'l2'}\n",
      "0.6794     {'C': 0.01623776739188721, 'penalty': 'l1'}\n",
      "0.6833     {'C': 0.01623776739188721, 'penalty': 'l2'}\n",
      "0.6824     {'C': 0.04281332398719396, 'penalty': 'l1'}\n",
      "0.6837     {'C': 0.04281332398719396, 'penalty': 'l2'}\n",
      "0.6833     {'C': 0.11288378916846883, 'penalty': 'l1'}\n",
      "0.6837     {'C': 0.11288378916846883, 'penalty': 'l2'}\n",
      "0.6836     {'C': 0.2976351441631313, 'penalty': 'l1'}\n",
      "0.6838     {'C': 0.2976351441631313, 'penalty': 'l2'}\n",
      "0.6837     {'C': 0.7847599703514607, 'penalty': 'l1'}\n",
      "0.6837     {'C': 0.7847599703514607, 'penalty': 'l2'}\n",
      "0.684     {'C': 2.06913808111479, 'penalty': 'l1'}\n",
      "0.6838     {'C': 2.06913808111479, 'penalty': 'l2'}\n",
      "0.6839     {'C': 5.455594781168514, 'penalty': 'l1'}\n",
      "0.6839     {'C': 5.455594781168514, 'penalty': 'l2'}\n",
      "0.6839     {'C': 14.384498882876601, 'penalty': 'l1'}\n",
      "0.6841     {'C': 14.384498882876601, 'penalty': 'l2'}\n",
      "0.6838     {'C': 37.92690190732246, 'penalty': 'l1'}\n",
      "0.6838     {'C': 37.92690190732246, 'penalty': 'l2'}\n",
      "0.6838     {'C': 100.0, 'penalty': 'l1'}\n",
      "0.6838     {'C': 100.0, 'penalty': 'l2'}\n"
     ]
    }
   ],
   "source": [
    "res = reg_search.cv_results_\n",
    "for mean_score, params in zip(res[\"mean_test_score\"], res[\"params\"]):\n",
    "    print(round(mean_score, 4), \"   \", params)"
   ],
   "metadata": {
    "collapsed": false,
    "ExecuteTime": {
     "start_time": "2023-05-09T17:32:08.562962Z",
     "end_time": "2023-05-09T17:32:08.571539Z"
    }
   }
  },
  {
   "cell_type": "code",
   "execution_count": 16,
   "outputs": [
    {
     "name": "stdout",
     "output_type": "stream",
     "text": [
      "|   Predicted 0 |   Predicted 1 |\n",
      "|---------------+---------------|\n",
      "|         34743 |         10062 |\n",
      "|          2516 |          3767 |\n",
      "\n",
      "accuracy:              0.7538\n",
      "precision:             0.2724\n",
      "recall:                0.5996\n",
      "f1:                    0.3746\n",
      "roc_auc_discrete:      0.6875\n",
      "roc_auc_continuous:    0.7572\n",
      "|   Predicted 0 |   Predicted 1 |\n",
      "|---------------+---------------|\n",
      "|         14762 |          4440 |\n",
      "|          1096 |          1597 |\n",
      "\n",
      "accuracy:              0.7472\n",
      "precision:             0.2645\n",
      "recall:                0.593\n",
      "f1:                    0.3659\n",
      "roc_auc_discrete:      0.6809\n",
      "roc_auc_continuous:    0.7501\n"
     ]
    }
   ],
   "source": [
    "show_scores(reg_search.best_estimator_, X_train, y_train)\n",
    "show_scores(reg_search.best_estimator_, X_val, y_val)"
   ],
   "metadata": {
    "collapsed": false,
    "ExecuteTime": {
     "start_time": "2023-05-09T17:30:56.425961Z",
     "end_time": "2023-05-09T17:30:56.563301Z"
    }
   }
  }
 ],
 "metadata": {
  "kernelspec": {
   "display_name": "Python 3 (ipykernel)",
   "language": "python",
   "name": "python3"
  },
  "language_info": {
   "codemirror_mode": {
    "name": "ipython",
    "version": 3
   },
   "file_extension": ".py",
   "mimetype": "text/x-python",
   "name": "python",
   "nbconvert_exporter": "python",
   "pygments_lexer": "ipython3",
   "version": "3.9.4"
  }
 },
 "nbformat": 4,
 "nbformat_minor": 2
}
