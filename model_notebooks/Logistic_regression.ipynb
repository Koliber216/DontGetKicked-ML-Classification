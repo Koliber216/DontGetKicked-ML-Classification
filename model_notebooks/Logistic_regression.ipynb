{
 "cells": [
  {
   "cell_type": "code",
   "execution_count": 1,
   "metadata": {
    "ExecuteTime": {
     "start_time": "2023-05-15T19:39:20.941459Z",
     "end_time": "2023-05-15T19:39:21.125179Z"
    }
   },
   "outputs": [],
   "source": [
    "import pandas as pd\n",
    "import numpy as np\n",
    "import matplotlib.pyplot as plt\n",
    "\n",
    "from sklearn.model_selection import GridSearchCV\n",
    "from sklearn.linear_model import LogisticRegression\n",
    "from sklearn.preprocessing import PolynomialFeatures\n",
    "from sklearn.pipeline import Pipeline\n",
    "from sklearn import metrics\n",
    "from sklearn.metrics import accuracy_score, precision_score, recall_score, f1_score, confusion_matrix, roc_auc_score\n",
    "\n",
    "import warnings\n",
    "import os\n",
    "import sys\n",
    "if not sys.warnoptions:\n",
    "    warnings.simplefilter(\"ignore\")\n",
    "    os.environ[\"PYTHONWARNINGS\"] = \"ignore\"\n",
    "\n",
    "np.random.seed(42)"
   ]
  },
  {
   "cell_type": "code",
   "execution_count": 2,
   "outputs": [],
   "source": [
    "from tabulate import tabulate\n",
    "\n",
    "def show_scores(clf, X, y):\n",
    "    y_pred = clf.predict(X)\n",
    "    y_pred_prob = clf.predict_proba(X)\n",
    "    print(tabulate(confusion_matrix(y, y_pred), headers=['Predicted 0', 'Predicted 1'], tablefmt='orgtbl'))\n",
    "    print()\n",
    "    print(f'accuracy:              {round(accuracy_score(y, y_pred), 4)}')\n",
    "    print(f'precision:             {round(precision_score(y, y_pred), 4)}')\n",
    "    print(f'recall:                {round(recall_score(y, y_pred), 4)}')\n",
    "    print(f'f1:                    {round(f1_score(y, y_pred), 4)}')\n",
    "    print(f'roc_auc:               {round(roc_auc_score(y, y_pred), 4)}')\n",
    "    print(f'roc_auc_pred_prob:     {round(roc_auc_score(y, y_pred_prob[:, 1]), 4)}')"
   ],
   "metadata": {
    "collapsed": false,
    "ExecuteTime": {
     "start_time": "2023-05-15T19:39:21.128223Z",
     "end_time": "2023-05-15T19:39:21.141180Z"
    }
   }
  },
  {
   "cell_type": "markdown",
   "source": [
    "### Ładowanie zbiorów danych, pierwszy model\n"
   ],
   "metadata": {
    "collapsed": false
   }
  },
  {
   "cell_type": "code",
   "execution_count": 3,
   "outputs": [],
   "source": [
    "X_train = pd.read_csv(\"../preprocessed_data/X_train.csv\")\n",
    "y_train = pd.read_csv(\"../preprocessed_data/y_train.csv\")\n",
    "\n",
    "X_val  = pd.read_csv(\"../preprocessed_data/X_val.csv\")\n",
    "y_val  = pd.read_csv(\"../preprocessed_data/y_val.csv\")"
   ],
   "metadata": {
    "collapsed": false,
    "ExecuteTime": {
     "start_time": "2023-05-15T19:39:21.142107Z",
     "end_time": "2023-05-15T19:39:21.690434Z"
    }
   }
  },
  {
   "cell_type": "code",
   "execution_count": 4,
   "metadata": {
    "ExecuteTime": {
     "start_time": "2023-05-15T19:39:21.693079Z",
     "end_time": "2023-05-15T19:39:22.541059Z"
    }
   },
   "outputs": [],
   "source": [
    "log_reg = LogisticRegression(random_state=42, class_weight='balanced').fit(X_train, y_train)"
   ]
  },
  {
   "cell_type": "code",
   "execution_count": 5,
   "outputs": [
    {
     "name": "stdout",
     "output_type": "stream",
     "text": [
      "|   Predicted 0 |   Predicted 1 |\n",
      "|---------------+---------------|\n",
      "|         34512 |         10283 |\n",
      "|          2415 |          3878 |\n",
      "\n",
      "accuracy:              0.7514\n",
      "precision:             0.2739\n",
      "recall:                0.6162\n",
      "f1:                    0.3792\n",
      "roc_auc:               0.6933\n",
      "roc_auc_pred_prob:     0.7643\n",
      "|   Predicted 0 |   Predicted 1 |\n",
      "|---------------+---------------|\n",
      "|         14685 |          4527 |\n",
      "|          1044 |          1639 |\n",
      "\n",
      "accuracy:              0.7456\n",
      "precision:             0.2658\n",
      "recall:                0.6109\n",
      "f1:                    0.3704\n",
      "roc_auc:               0.6876\n",
      "roc_auc_pred_prob:     0.7581\n"
     ]
    }
   ],
   "source": [
    "show_scores(log_reg, X_train, y_train)\n",
    "show_scores(log_reg, X_val, y_val)\n"
   ],
   "metadata": {
    "collapsed": false,
    "ExecuteTime": {
     "start_time": "2023-05-15T19:39:22.544857Z",
     "end_time": "2023-05-15T19:39:22.662952Z"
    }
   }
  },
  {
   "cell_type": "markdown",
   "source": [
    "### Regularyzacja\n"
   ],
   "metadata": {
    "collapsed": false
   }
  },
  {
   "cell_type": "code",
   "execution_count": 6,
   "outputs": [],
   "source": [
    "clf = LogisticRegression(random_state=42, class_weight='balanced', solver='liblinear')\n",
    "\n",
    "parameters = dict(C=np.logspace(-6, 2, 20), penalty=['l1', 'l2'])\n",
    "reg_search = GridSearchCV(clf, cv=3, scoring='balanced_accuracy', return_train_score=True, param_grid=parameters, n_jobs=-1).fit(X_train, y_train)"
   ],
   "metadata": {
    "collapsed": false,
    "ExecuteTime": {
     "start_time": "2023-05-15T19:39:22.667065Z",
     "end_time": "2023-05-15T19:40:48.343224Z"
    }
   }
  },
  {
   "cell_type": "code",
   "execution_count": 7,
   "outputs": [
    {
     "name": "stdout",
     "output_type": "stream",
     "text": [
      "0.6904     {'C': 0.2976351441631313, 'penalty': 'l1'}\n",
      "0.6901     {'C': 0.11288378916846883, 'penalty': 'l2'}\n",
      "0.6901     {'C': 0.2976351441631313, 'penalty': 'l2'}\n",
      "0.6898     {'C': 0.04281332398719396, 'penalty': 'l2'}\n",
      "0.6898     {'C': 0.7847599703514607, 'penalty': 'l1'}\n",
      "0.6896     {'C': 5.455594781168514, 'penalty': 'l2'}\n",
      "0.6896     {'C': 2.06913808111479, 'penalty': 'l1'}\n",
      "0.6896     {'C': 2.06913808111479, 'penalty': 'l2'}\n",
      "0.6895     {'C': 14.384498882876601, 'penalty': 'l2'}\n",
      "0.6895     {'C': 37.92690190732246, 'penalty': 'l1'}\n",
      "0.6894     {'C': 100.0, 'penalty': 'l2'}\n",
      "0.6894     {'C': 37.92690190732246, 'penalty': 'l2'}\n",
      "0.6894     {'C': 14.384498882876601, 'penalty': 'l1'}\n",
      "0.6894     {'C': 100.0, 'penalty': 'l1'}\n",
      "0.6894     {'C': 5.455594781168514, 'penalty': 'l1'}\n",
      "0.6892     {'C': 0.7847599703514607, 'penalty': 'l2'}\n",
      "0.6891     {'C': 0.01623776739188721, 'penalty': 'l2'}\n",
      "0.6887     {'C': 0.11288378916846883, 'penalty': 'l1'}\n",
      "0.6876     {'C': 0.00615848211066026, 'penalty': 'l2'}\n",
      "0.6866     {'C': 0.04281332398719396, 'penalty': 'l1'}\n",
      "0.6863     {'C': 0.002335721469090121, 'penalty': 'l2'}\n",
      "0.6863     {'C': 0.01623776739188721, 'penalty': 'l1'}\n",
      "0.6819     {'C': 0.0008858667904100823, 'penalty': 'l2'}\n",
      "0.6807     {'C': 0.00615848211066026, 'penalty': 'l1'}\n",
      "0.6768     {'C': 0.002335721469090121, 'penalty': 'l1'}\n",
      "0.6667     {'C': 0.0003359818286283781, 'penalty': 'l2'}\n",
      "0.6636     {'C': 0.0008858667904100823, 'penalty': 'l1'}\n",
      "0.6495     {'C': 0.00012742749857031334, 'penalty': 'l2'}\n",
      "0.6362     {'C': 4.8329302385717524e-05, 'penalty': 'l2'}\n",
      "0.6258     {'C': 1.8329807108324375e-05, 'penalty': 'l2'}\n",
      "0.6227     {'C': 6.951927961775606e-06, 'penalty': 'l2'}\n",
      "0.6203     {'C': 2.6366508987303555e-06, 'penalty': 'l2'}\n",
      "0.6191     {'C': 1e-06, 'penalty': 'l2'}\n",
      "0.6079     {'C': 0.0003359818286283781, 'penalty': 'l1'}\n",
      "0.5     {'C': 4.8329302385717524e-05, 'penalty': 'l1'}\n",
      "0.5     {'C': 1.8329807108324375e-05, 'penalty': 'l1'}\n",
      "0.5     {'C': 0.00012742749857031334, 'penalty': 'l1'}\n",
      "0.5     {'C': 6.951927961775606e-06, 'penalty': 'l1'}\n",
      "0.5     {'C': 2.6366508987303555e-06, 'penalty': 'l1'}\n",
      "0.5     {'C': 1e-06, 'penalty': 'l1'}\n"
     ]
    }
   ],
   "source": [
    "res = pd.DataFrame(reg_search.cv_results_).sort_values(\"mean_test_score\", ascending=False)\n",
    "for mean_score, params in zip(res[\"mean_test_score\"], res[\"params\"]):\n",
    "    print(round(mean_score, 4), \"   \", params)"
   ],
   "metadata": {
    "collapsed": false,
    "ExecuteTime": {
     "start_time": "2023-05-15T19:40:48.342362Z",
     "end_time": "2023-05-15T19:40:48.349855Z"
    }
   }
  },
  {
   "cell_type": "code",
   "execution_count": 8,
   "outputs": [
    {
     "name": "stdout",
     "output_type": "stream",
     "text": [
      "|   Predicted 0 |   Predicted 1 |\n",
      "|---------------+---------------|\n",
      "|         34575 |         10220 |\n",
      "|          2425 |          3868 |\n",
      "\n",
      "accuracy:              0.7525\n",
      "precision:             0.2746\n",
      "recall:                0.6147\n",
      "f1:                    0.3796\n",
      "roc_auc:               0.6933\n",
      "roc_auc_pred_prob:     0.7641\n",
      "|   Predicted 0 |   Predicted 1 |\n",
      "|---------------+---------------|\n",
      "|         14699 |          4513 |\n",
      "|          1052 |          1631 |\n",
      "\n",
      "accuracy:              0.7458\n",
      "precision:             0.2655\n",
      "recall:                0.6079\n",
      "f1:                    0.3695\n",
      "roc_auc:               0.6865\n",
      "roc_auc_pred_prob:     0.7578\n"
     ]
    }
   ],
   "source": [
    "show_scores(reg_search.best_estimator_, X_train, y_train)\n",
    "show_scores(reg_search.best_estimator_, X_val, y_val)"
   ],
   "metadata": {
    "collapsed": false,
    "ExecuteTime": {
     "start_time": "2023-05-15T19:40:48.353229Z",
     "end_time": "2023-05-15T19:40:48.476293Z"
    }
   }
  },
  {
   "cell_type": "markdown",
   "source": [
    "### Wizualizacje"
   ],
   "metadata": {
    "collapsed": false
   }
  },
  {
   "cell_type": "code",
   "execution_count": 9,
   "outputs": [],
   "source": [
    "def gini_roc(y_test, y_pred_proba, tytul):\n",
    "\n",
    "    fpr, tpr, _ = metrics.roc_curve(y_test,  y_pred_proba)\n",
    "\n",
    "    plt.plot(fpr,tpr)\n",
    "    plt.title(tytul)\n",
    "    plt.ylabel('True Positive Rate')\n",
    "    plt.xlabel('False Positive Rate')\n",
    "    plt.show()\n",
    "\n",
    "    roc_auc = metrics.auc(fpr, tpr)\n",
    "    gini = (2 * roc_auc) - 1\n",
    "\n",
    "    return gini\n",
    "\n",
    "def gini_train_val(model, X_train, y_train, X_val, y_val):\n",
    "\n",
    "    y_pred_proba = model.predict_proba(X_train)[::,1]\n",
    "    gini_train = gini_roc(y_train, y_pred_proba, \"ROC Curve for Training Sample\")\n",
    "    print(\"gini_train: %.4f\" % gini_train)\n",
    "\n",
    "    y_pred_proba = model.predict_proba(X_val)[::,1]\n",
    "    gini_val = gini_roc(y_val, y_pred_proba, \"Roc Curve for Validation Sample\")\n",
    "    print(\"gini_val: %.4f\" % gini_val)\n",
    "\n",
    "    return"
   ],
   "metadata": {
    "collapsed": false,
    "ExecuteTime": {
     "start_time": "2023-05-15T19:40:48.479930Z",
     "end_time": "2023-05-15T19:40:48.482590Z"
    }
   }
  },
  {
   "cell_type": "code",
   "execution_count": 10,
   "outputs": [
    {
     "data": {
      "text/plain": "<Figure size 432x288 with 1 Axes>",
      "image/png": "[encoded data removed]"
     },
     "metadata": {},
     "output_type": "display_data"
    },
    {
     "name": "stdout",
     "output_type": "stream",
     "text": [
      "gini_train: 0.5282\n"
     ]
    },
    {
     "data": {
      "text/plain": "<Figure size 432x288 with 1 Axes>",
      "image/png": "[encoded data removed]"
     },
     "metadata": {},
     "output_type": "display_data"
    },
    {
     "name": "stdout",
     "output_type": "stream",
     "text": [
      "gini_val: 0.5157\n"
     ]
    }
   ],
   "source": [
    "gini_train_val(reg_search.best_estimator_, X_train, y_train, X_val, y_val)"
   ],
   "metadata": {
    "collapsed": false,
    "ExecuteTime": {
     "start_time": "2023-05-15T19:40:48.485242Z",
     "end_time": "2023-05-15T19:40:48.716073Z"
    }
   }
  },
  {
   "cell_type": "markdown",
   "source": [
    "### Model z wielomianowymi cechami"
   ],
   "metadata": {
    "collapsed": false
   }
  },
  {
   "cell_type": "code",
   "execution_count": 11,
   "outputs": [],
   "source": [
    "model = Pipeline([\n",
    "    ('poly', PolynomialFeatures(degree=2)),\n",
    "    ('logreg', LogisticRegression(random_state=42))\n",
    "]).fit(X_train, y_train)"
   ],
   "metadata": {
    "collapsed": false,
    "ExecuteTime": {
     "start_time": "2023-05-15T19:40:48.719290Z",
     "end_time": "2023-05-15T19:41:04.326073Z"
    }
   }
  },
  {
   "cell_type": "code",
   "execution_count": 12,
   "outputs": [
    {
     "name": "stdout",
     "output_type": "stream",
     "text": [
      "|   Predicted 0 |   Predicted 1 |\n",
      "|---------------+---------------|\n",
      "|         44456 |           339 |\n",
      "|          4713 |          1580 |\n",
      "\n",
      "accuracy:              0.9011\n",
      "precision:             0.8233\n",
      "recall:                0.2511\n",
      "f1:                    0.3848\n",
      "roc_auc:               0.6218\n",
      "roc_auc_pred_prob:     0.8084\n",
      "|   Predicted 0 |   Predicted 1 |\n",
      "|---------------+---------------|\n",
      "|         18994 |           218 |\n",
      "|          2009 |           674 |\n",
      "\n",
      "accuracy:              0.8983\n",
      "precision:             0.7556\n",
      "recall:                0.2512\n",
      "f1:                    0.3771\n",
      "roc_auc:               0.6199\n",
      "roc_auc_pred_prob:     0.7608\n"
     ]
    }
   ],
   "source": [
    "show_scores(model, X_train, y_train)\n",
    "show_scores(model, X_val, y_val)"
   ],
   "metadata": {
    "collapsed": false,
    "ExecuteTime": {
     "start_time": "2023-05-15T19:41:04.328155Z",
     "end_time": "2023-05-15T19:41:12.076723Z"
    }
   }
  }
 ],
 "metadata": {
  "kernelspec": {
   "display_name": "Python 3 (ipykernel)",
   "language": "python",
   "name": "python3"
  },
  "language_info": {
   "codemirror_mode": {
    "name": "ipython",
    "version": 3
   },
   "file_extension": ".py",
   "mimetype": "text/x-python",
   "name": "python",
   "nbconvert_exporter": "python",
   "pygments_lexer": "ipython3",
   "version": "3.9.4"
  }
 },
 "nbformat": 4,
 "nbformat_minor": 2
}
