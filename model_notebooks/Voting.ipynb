{
 "cells": [
  {
   "cell_type": "code",
   "execution_count": 1,
   "metadata": {
    "ExecuteTime": {
     "start_time": "2023-05-10T19:12:10.747163Z",
     "end_time": "2023-05-10T19:12:10.920920Z"
    }
   },
   "outputs": [],
   "source": [
    "import pandas as pd\n",
    "import numpy as np\n",
    "from sklearn.metrics import accuracy_score, precision_score, recall_score, f1_score, confusion_matrix, roc_auc_score\n",
    "from tabulate import tabulate\n",
    "\n",
    "import warnings\n",
    "import os\n",
    "import sys\n",
    "if not sys.warnoptions:\n",
    "    warnings.simplefilter(\"ignore\")\n",
    "    os.environ[\"PYTHONWARNINGS\"] = \"ignore\"\n",
    "\n",
    "np.random.seed(42)"
   ]
  },
  {
   "cell_type": "code",
   "execution_count": 2,
   "outputs": [],
   "source": [
    "def show_scores(clf, X, y):\n",
    "    y_pred = clf.predict(X)\n",
    "    y_pred_prob = clf.predict_proba(X)\n",
    "    print(tabulate(confusion_matrix(y, y_pred), headers=['Predicted 0', 'Predicted 1'], tablefmt='orgtbl'))\n",
    "    print()\n",
    "    print(f'accuracy:              {round(accuracy_score(y, y_pred), 4)}')\n",
    "    print(f'precision:             {round(precision_score(y, y_pred), 4)}')\n",
    "    print(f'recall:                {round(recall_score(y, y_pred), 4)}')\n",
    "    print(f'f1:                    {round(f1_score(y, y_pred), 4)}')\n",
    "    print(f'roc_auc_discrete:      {round(roc_auc_score(y, y_pred), 4)}')\n",
    "    print(f'roc_auc_continuous:    {round(roc_auc_score(y, y_pred_prob[:, 1]), 4)}')"
   ],
   "metadata": {
    "collapsed": false,
    "ExecuteTime": {
     "start_time": "2023-05-10T19:12:10.924462Z",
     "end_time": "2023-05-10T19:12:10.926709Z"
    }
   }
  },
  {
   "cell_type": "markdown",
   "metadata": {},
   "source": [
    "# Voting"
   ]
  },
  {
   "cell_type": "code",
   "execution_count": 3,
   "outputs": [],
   "source": [
    "X_train = pd.read_csv(\"../preprocessed_data/X_train.csv\")\n",
    "y_train = pd.read_csv(\"../preprocessed_data/y_train.csv\")\n",
    "\n",
    "X_val  = pd.read_csv(\"../preprocessed_data/X_val.csv\")\n",
    "y_val  = pd.read_csv(\"../preprocessed_data/y_val.csv\")"
   ],
   "metadata": {
    "collapsed": false,
    "ExecuteTime": {
     "start_time": "2023-05-10T19:12:10.928089Z",
     "end_time": "2023-05-10T19:12:11.487174Z"
    }
   }
  },
  {
   "cell_type": "code",
   "execution_count": 4,
   "metadata": {
    "ExecuteTime": {
     "start_time": "2023-05-10T19:12:11.488188Z",
     "end_time": "2023-05-10T19:12:11.705067Z"
    }
   },
   "outputs": [],
   "source": [
    "from sklearn.linear_model import LogisticRegression\n",
    "from sklearn.tree import DecisionTreeClassifier\n",
    "from sklearn.ensemble import RandomForestClassifier, VotingClassifier\n",
    "from sklearn.neighbors import KNeighborsClassifier\n",
    "import xgboost as xgb"
   ]
  },
  {
   "cell_type": "code",
   "execution_count": 5,
   "outputs": [],
   "source": [
    "log_reg = LogisticRegression(random_state=42, class_weight='balanced', solver='liblinear', C=14.38)\n",
    "dct = DecisionTreeClassifier(random_state=42, class_weight='balanced')\n",
    "rfc = RandomForestClassifier(n_jobs=-1,n_estimators=100,max_depth=16,random_state=42)\n",
    "xgb_clf = xgb.XGBClassifier(random_state=42, subsample=1, n_estimators=100, max_depth=3, learning_rate=0.3, gamma=5, colsample_bytree=0.8)"
   ],
   "metadata": {
    "collapsed": false,
    "ExecuteTime": {
     "start_time": "2023-05-10T19:12:11.708113Z",
     "end_time": "2023-05-10T19:12:11.713783Z"
    }
   }
  },
  {
   "cell_type": "code",
   "execution_count": 6,
   "outputs": [],
   "source": [
    "estimators=[('LR', log_reg), ('RandomForest', rfc), ('XGB', xgb_clf)]\n",
    "vc = VotingClassifier(estimators=estimators, voting='soft').fit(X_train, y_train)"
   ],
   "metadata": {
    "collapsed": false,
    "ExecuteTime": {
     "start_time": "2023-05-10T19:12:11.714413Z",
     "end_time": "2023-05-10T19:12:17.936146Z"
    }
   }
  },
  {
   "cell_type": "code",
   "execution_count": 7,
   "outputs": [],
   "source": [
    "from sklearn.model_selection import RandomizedSearchCV\n",
    "\n",
    "parameters = dict(weights=[[i, j, k] for i in range(5) for j in range(10) for k in range (10)])\n",
    "\n",
    "rand_search = RandomizedSearchCV(vc, scoring='accuracy', cv=3, return_train_score=True, param_distributions=parameters, n_iter=100, n_jobs=-1, random_state=42).fit(X_train, y_train)"
   ],
   "metadata": {
    "collapsed": false,
    "ExecuteTime": {
     "start_time": "2023-05-10T19:12:17.936781Z",
     "end_time": "2023-05-10T19:24:06.839463Z"
    }
   }
  },
  {
   "cell_type": "code",
   "execution_count": 10,
   "outputs": [
    {
     "data": {
      "text/plain": "{'weights': [0, 7, 3]}"
     },
     "execution_count": 10,
     "metadata": {},
     "output_type": "execute_result"
    }
   ],
   "source": [
    "rand_search.best_params_"
   ],
   "metadata": {
    "collapsed": false,
    "ExecuteTime": {
     "start_time": "2023-05-10T19:24:29.869091Z",
     "end_time": "2023-05-10T19:24:29.884289Z"
    }
   }
  },
  {
   "cell_type": "code",
   "execution_count": 8,
   "outputs": [
    {
     "name": "stdout",
     "output_type": "stream",
     "text": [
      "0.8963     {'weights': [3, 6, 1]}\n",
      "0.8991     {'weights': [0, 7, 3]}\n",
      "0.8977     {'weights': [3, 7, 4]}\n",
      "0.8984     {'weights': [1, 5, 5]}\n",
      "0.8974     {'weights': [1, 0, 4]}\n",
      "0.898     {'weights': [3, 9, 4]}\n",
      "0.8981     {'weights': [3, 7, 7]}\n",
      "0.8981     {'weights': [1, 2, 4]}\n",
      "0.8988     {'weights': [0, 6, 8]}\n",
      "0.8903     {'weights': [4, 5, 0]}\n",
      "0.8984     {'weights': [0, 0, 9]}\n",
      "0.8988     {'weights': [1, 9, 4]}\n",
      "0.8933     {'weights': [4, 0, 6]}\n",
      "0.8991     {'weights': [0, 8, 4]}\n",
      "0.8969     {'weights': [3, 7, 1]}\n",
      "0.8982     {'weights': [3, 8, 8]}\n",
      "0.8975     {'weights': [4, 9, 5]}\n",
      "0.8991     {'weights': [0, 3, 0]}\n",
      "0.8958     {'weights': [3, 1, 6]}\n",
      "0.895     {'weights': [4, 0, 8]}\n",
      "0.8961     {'weights': [4, 9, 0]}\n",
      "0.8965     {'weights': [4, 9, 1]}\n",
      "0.8976     {'weights': [2, 8, 0]}\n",
      "0.8977     {'weights': [3, 5, 6]}\n",
      "0.899     {'weights': [0, 7, 6]}\n",
      "0.8945     {'weights': [4, 6, 1]}\n",
      "0.8978     {'weights': [4, 9, 7]}\n",
      "0.8862     {'weights': [2, 1, 1]}\n",
      "0.8861     {'weights': [1, 0, 1]}\n",
      "0.8962     {'weights': [3, 3, 4]}\n",
      "0.8972     {'weights': [4, 7, 5]}\n",
      "0.8971     {'weights': [3, 3, 6]}\n",
      "0.8861     {'weights': [4, 4, 0]}\n",
      "0.8988     {'weights': [1, 7, 3]}\n",
      "0.8984     {'weights': [0, 0, 2]}\n",
      "0.8956     {'weights': [3, 3, 3]}\n",
      "0.8954     {'weights': [4, 0, 9]}\n",
      "0.8991     {'weights': [0, 7, 0]}\n",
      "0.8975     {'weights': [2, 0, 9]}\n",
      "0.8991     {'weights': [0, 6, 3]}\n",
      "0.8979     {'weights': [3, 8, 4]}\n",
      "0.8991     {'weights': [0, 9, 3]}\n",
      "0.8974     {'weights': [4, 8, 5]}\n",
      "0.8987     {'weights': [1, 8, 5]}\n",
      "0.8989     {'weights': [0, 3, 3]}\n",
      "0.8989     {'weights': [0, 7, 7]}\n",
      "nan     {'weights': [0, 0, 0]}\n",
      "0.8989     {'weights': [0, 1, 1]}\n",
      "0.8934     {'weights': [4, 1, 5]}\n",
      "0.8989     {'weights': [0, 2, 2]}\n",
      "0.8991     {'weights': [0, 7, 2]}\n",
      "0.8988     {'weights': [1, 8, 2]}\n",
      "0.8978     {'weights': [1, 3, 1]}\n",
      "0.8283     {'weights': [4, 1, 0]}\n",
      "0.8989     {'weights': [1, 9, 3]}\n",
      "0.8989     {'weights': [0, 5, 5]}\n",
      "0.8984     {'weights': [1, 4, 8]}\n",
      "0.8984     {'weights': [0, 1, 8]}\n",
      "0.895     {'weights': [2, 0, 4]}\n",
      "0.8988     {'weights': [0, 7, 8]}\n",
      "0.8974     {'weights': [4, 9, 4]}\n",
      "0.8978     {'weights': [2, 6, 2]}\n",
      "0.8941     {'weights': [3, 2, 3]}\n",
      "0.897     {'weights': [4, 8, 3]}\n",
      "0.8988     {'weights': [0, 7, 9]}\n",
      "0.8985     {'weights': [0, 3, 9]}\n",
      "0.8928     {'weights': [4, 5, 1]}\n",
      "0.8987     {'weights': [0, 4, 6]}\n",
      "0.898     {'weights': [2, 3, 8]}\n",
      "0.8973     {'weights': [3, 9, 1]}\n",
      "0.8962     {'weights': [3, 5, 2]}\n",
      "0.8941     {'weights': [3, 4, 1]}\n",
      "0.8984     {'weights': [2, 7, 7]}\n",
      "0.898     {'weights': [2, 9, 0]}\n",
      "0.8962     {'weights': [3, 1, 7]}\n",
      "0.8917     {'weights': [3, 0, 4]}\n",
      "0.8982     {'weights': [2, 6, 8]}\n",
      "0.8987     {'weights': [0, 6, 9]}\n",
      "0.8964     {'weights': [4, 5, 5]}\n",
      "0.897     {'weights': [4, 6, 5]}\n",
      "0.8984     {'weights': [1, 5, 4]}\n",
      "0.8991     {'weights': [0, 8, 2]}\n",
      "0.8976     {'weights': [4, 7, 7]}\n",
      "0.8987     {'weights': [1, 7, 2]}\n",
      "0.8865     {'weights': [3, 2, 1]}\n",
      "0.8991     {'weights': [0, 9, 0]}\n",
      "0.8987     {'weights': [1, 8, 0]}\n",
      "0.8906     {'weights': [4, 1, 4]}\n",
      "0.8862     {'weights': [3, 1, 2]}\n",
      "0.8983     {'weights': [2, 7, 8]}\n",
      "0.8972     {'weights': [3, 8, 1]}\n",
      "0.8959     {'weights': [4, 7, 2]}\n",
      "0.897     {'weights': [3, 6, 2]}\n",
      "0.8953     {'weights': [3, 2, 4]}\n",
      "0.8866     {'weights': [4, 3, 1]}\n",
      "0.8977     {'weights': [3, 4, 7]}\n",
      "0.899     {'weights': [0, 8, 6]}\n",
      "0.899     {'weights': [0, 7, 5]}\n",
      "0.8967     {'weights': [4, 3, 8]}\n",
      "0.8985     {'weights': [0, 1, 5]}\n"
     ]
    }
   ],
   "source": [
    "res = rand_search.cv_results_\n",
    "for mean_score, params in zip(res[\"mean_test_score\"], res[\"params\"]):\n",
    "    print(round(mean_score, 4), \"   \", params)"
   ],
   "metadata": {
    "collapsed": false,
    "ExecuteTime": {
     "start_time": "2023-05-10T19:24:06.843205Z",
     "end_time": "2023-05-10T19:24:06.846306Z"
    }
   }
  },
  {
   "cell_type": "code",
   "execution_count": 9,
   "outputs": [
    {
     "name": "stdout",
     "output_type": "stream",
     "text": [
      "|   Predicted 0 |   Predicted 1 |\n",
      "|---------------+---------------|\n",
      "|         44710 |            85 |\n",
      "|          4653 |          1640 |\n",
      "\n",
      "accuracy:              0.9073\n",
      "precision:             0.9507\n",
      "recall:                0.2606\n",
      "f1:                    0.4091\n",
      "roc_auc_discrete:      0.6294\n",
      "roc_auc_continuous:    0.9458\n",
      "|   Predicted 0 |   Predicted 1 |\n",
      "|---------------+---------------|\n",
      "|         19081 |           131 |\n",
      "|          2048 |           635 |\n",
      "\n",
      "accuracy:              0.9005\n",
      "precision:             0.829\n",
      "recall:                0.2367\n",
      "f1:                    0.3682\n",
      "roc_auc_discrete:      0.6149\n",
      "roc_auc_continuous:    0.7527\n"
     ]
    }
   ],
   "source": [
    "show_scores(rand_search.best_estimator_, X_train, y_train)\n",
    "show_scores(rand_search.best_estimator_, X_val, y_val)"
   ],
   "metadata": {
    "collapsed": false,
    "ExecuteTime": {
     "start_time": "2023-05-10T19:24:06.849784Z",
     "end_time": "2023-05-10T19:24:07.552808Z"
    }
   }
  }
 ],
 "metadata": {
  "kernelspec": {
   "display_name": "Python 3 (ipykernel)",
   "language": "python",
   "name": "python3"
  },
  "language_info": {
   "codemirror_mode": {
    "name": "ipython",
    "version": 3
   },
   "file_extension": ".py",
   "mimetype": "text/x-python",
   "name": "python",
   "nbconvert_exporter": "python",
   "pygments_lexer": "ipython3",
   "version": "3.9.4"
  }
 },
 "nbformat": 4,
 "nbformat_minor": 2
}
