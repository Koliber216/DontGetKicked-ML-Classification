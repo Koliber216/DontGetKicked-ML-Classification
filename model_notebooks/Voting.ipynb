{
 "cells": [
  {
   "cell_type": "code",
   "execution_count": 1,
   "outputs": [],
   "source": [
    "import pandas as pd\n",
    "import numpy as np\n",
    "from sklearn.metrics import accuracy_score, precision_score, recall_score, f1_score, confusion_matrix, roc_auc_score\n",
    "from tabulate import tabulate\n",
    "\n",
    "from sklearn.linear_model import LogisticRegression\n",
    "from sklearn.ensemble import RandomForestClassifier, VotingClassifier\n",
    "import xgboost as xgb\n",
    "from sklearn.tree import DecisionTreeClassifier\n",
    "\n",
    "import warnings\n",
    "import os\n",
    "import sys\n",
    "if not sys.warnoptions:\n",
    "    warnings.simplefilter(\"ignore\")\n",
    "    os.environ[\"PYTHONWARNINGS\"] = \"ignore\"\n",
    "\n",
    "np.random.seed(42)"
   ],
   "metadata": {
    "collapsed": false,
    "ExecuteTime": {
     "start_time": "2023-05-15T16:39:32.508821Z",
     "end_time": "2023-05-15T16:39:32.704894Z"
    }
   }
  },
  {
   "cell_type": "code",
   "execution_count": 2,
   "outputs": [],
   "source": [
    "def show_scores(clf, X, y):\n",
    "    y_pred = clf.predict(X)\n",
    "    y_pred_prob = clf.predict_proba(X)\n",
    "    print(tabulate(confusion_matrix(y, y_pred), headers=['Predicted 0', 'Predicted 1'], tablefmt='orgtbl'))\n",
    "    print()\n",
    "    print(f'accuracy:              {round(accuracy_score(y, y_pred), 4)}')\n",
    "    print(f'precision:             {round(precision_score(y, y_pred), 4)}')\n",
    "    print(f'recall:                {round(recall_score(y, y_pred), 4)}')\n",
    "    print(f'f1:                    {round(f1_score(y, y_pred), 4)}')\n",
    "    print(f'roc_auc_discrete:      {round(roc_auc_score(y, y_pred), 4)}')\n",
    "    print(f'roc_auc_continuous:    {round(roc_auc_score(y, y_pred_prob[:, 1]), 4)}')"
   ],
   "metadata": {
    "collapsed": false,
    "ExecuteTime": {
     "start_time": "2023-05-15T16:39:32.708853Z",
     "end_time": "2023-05-15T16:39:32.710523Z"
    }
   }
  },
  {
   "cell_type": "code",
   "execution_count": 3,
   "outputs": [],
   "source": [
    "X_train = pd.read_csv(\"../preprocessed_data/X_train.csv\")\n",
    "y_train = pd.read_csv(\"../preprocessed_data/y_train.csv\")\n",
    "\n",
    "X_val  = pd.read_csv(\"../preprocessed_data/X_val.csv\")\n",
    "y_val  = pd.read_csv(\"../preprocessed_data/y_val.csv\")"
   ],
   "metadata": {
    "collapsed": false,
    "ExecuteTime": {
     "start_time": "2023-05-15T16:39:32.711924Z",
     "end_time": "2023-05-15T16:39:33.491174Z"
    }
   }
  },
  {
   "cell_type": "code",
   "execution_count": 4,
   "outputs": [],
   "source": [
    "log_reg = LogisticRegression(random_state=42, class_weight='balanced', solver='liblinear', C=14.38)\n",
    "rfc = RandomForestClassifier(random_state=42, n_jobs=-1,n_estimators=100,max_depth=16)\n",
    "xgb_clf = xgb.XGBClassifier(random_state=42, subsample=1, n_estimators=100, max_depth=3, learning_rate=0.3, gamma=5, colsample_bytree=0.8)\n",
    "dct = DecisionTreeClassifier(random_state=42, max_depth=64, min_samples_split=7, min_samples_leaf=19,max_features=70)"
   ],
   "metadata": {
    "collapsed": false,
    "ExecuteTime": {
     "start_time": "2023-05-15T16:39:33.494291Z",
     "end_time": "2023-05-15T16:39:33.496367Z"
    }
   }
  },
  {
   "cell_type": "code",
   "execution_count": 5,
   "outputs": [],
   "source": [
    "from sklearn.model_selection import RandomizedSearchCV\n",
    "\n",
    "parameters = dict(weights=[[i, j, k, l] for i in range(5) for j in range(5) for k in range (5, 10) for l in range (5, 10)])\n",
    "\n",
    "estimators=[('DCT', dct), ('LR', log_reg), ('RandomForest', rfc), ('XGB', xgb_clf)]\n",
    "rand_search = RandomizedSearchCV(VotingClassifier(estimators=estimators, voting='soft'), scoring='accuracy', cv=3, return_train_score=True, param_distributions=parameters, n_iter=100, n_jobs=1, random_state=42).fit(X_train, y_train)"
   ],
   "metadata": {
    "collapsed": false,
    "ExecuteTime": {
     "start_time": "2023-05-15T16:39:33.503080Z",
     "end_time": "2023-05-15T16:58:08.846237Z"
    }
   }
  },
  {
   "cell_type": "code",
   "execution_count": 11,
   "outputs": [
    {
     "data": {
      "text/plain": "{'weights': [3, 0, 9, 5]}"
     },
     "execution_count": 11,
     "metadata": {},
     "output_type": "execute_result"
    }
   ],
   "source": [
    "rand_search.best_params_"
   ],
   "metadata": {
    "collapsed": false,
    "ExecuteTime": {
     "start_time": "2023-05-15T16:59:37.518041Z",
     "end_time": "2023-05-15T16:59:37.529691Z"
    }
   }
  },
  {
   "cell_type": "code",
   "execution_count": 7,
   "outputs": [
    {
     "name": "stdout",
     "output_type": "stream",
     "text": [
      "0.8987     {'weights': [3, 2, 9, 7]}\n",
      "0.8975     {'weights': [3, 4, 7, 5]}\n",
      "0.898     {'weights': [1, 3, 8, 5]}\n",
      "0.8981     {'weights': [1, 3, 7, 7]}\n",
      "0.8975     {'weights': [3, 4, 6, 5]}\n",
      "0.8989     {'weights': [4, 0, 8, 5]}\n",
      "0.8985     {'weights': [1, 1, 7, 8]}\n",
      "0.8978     {'weights': [0, 3, 5, 7]}\n",
      "0.8984     {'weights': [4, 1, 5, 7]}\n",
      "0.8989     {'weights': [1, 0, 9, 5]}\n",
      "0.8989     {'weights': [2, 0, 8, 5]}\n",
      "0.8985     {'weights': [0, 1, 6, 6]}\n",
      "0.8984     {'weights': [0, 2, 6, 5]}\n",
      "0.8982     {'weights': [0, 3, 8, 5]}\n",
      "0.8984     {'weights': [4, 2, 6, 7]}\n",
      "0.8978     {'weights': [0, 3, 5, 6]}\n",
      "0.8988     {'weights': [0, 0, 5, 7]}\n",
      "0.898     {'weights': [2, 4, 8, 8]}\n",
      "0.899     {'weights': [3, 0, 9, 5]}\n",
      "0.8987     {'weights': [2, 1, 7, 6]}\n",
      "0.8988     {'weights': [1, 0, 6, 6]}\n",
      "0.8989     {'weights': [1, 0, 9, 8]}\n",
      "0.8986     {'weights': [0, 1, 9, 9]}\n",
      "0.8979     {'weights': [4, 4, 9, 6]}\n",
      "0.8985     {'weights': [3, 2, 7, 7]}\n",
      "0.8972     {'weights': [0, 4, 7, 5]}\n",
      "0.8988     {'weights': [2, 0, 6, 7]}\n",
      "0.8982     {'weights': [4, 3, 5, 8]}\n",
      "0.898     {'weights': [4, 4, 9, 5]}\n",
      "0.8989     {'weights': [2, 0, 6, 6]}\n",
      "0.8981     {'weights': [2, 3, 6, 9]}\n",
      "0.8988     {'weights': [2, 0, 7, 6]}\n",
      "0.8983     {'weights': [1, 2, 6, 9]}\n",
      "0.8983     {'weights': [4, 2, 5, 9]}\n",
      "0.8988     {'weights': [1, 0, 6, 7]}\n",
      "0.8979     {'weights': [3, 4, 7, 7]}\n",
      "0.898     {'weights': [2, 3, 7, 5]}\n",
      "0.8978     {'weights': [4, 4, 7, 7]}\n",
      "0.8984     {'weights': [1, 2, 6, 6]}\n",
      "0.8983     {'weights': [4, 3, 9, 9]}\n",
      "0.8988     {'weights': [3, 0, 6, 6]}\n",
      "0.8985     {'weights': [0, 1, 7, 9]}\n",
      "0.898     {'weights': [0, 3, 7, 6]}\n",
      "0.8979     {'weights': [4, 4, 6, 8]}\n",
      "0.8985     {'weights': [2, 2, 8, 8]}\n",
      "0.8982     {'weights': [1, 3, 6, 8]}\n",
      "0.8989     {'weights': [2, 0, 7, 5]}\n",
      "0.8987     {'weights': [4, 0, 7, 8]}\n",
      "0.8979     {'weights': [0, 3, 5, 8]}\n",
      "0.8983     {'weights': [2, 3, 8, 9]}\n",
      "0.8983     {'weights': [4, 2, 6, 6]}\n",
      "0.8986     {'weights': [2, 1, 6, 6]}\n",
      "0.899     {'weights': [0, 0, 7, 5]}\n",
      "0.8988     {'weights': [2, 0, 6, 9]}\n",
      "0.8975     {'weights': [4, 4, 5, 5]}\n",
      "0.8985     {'weights': [2, 2, 7, 6]}\n",
      "0.8988     {'weights': [1, 0, 7, 5]}\n",
      "0.8984     {'weights': [3, 2, 6, 9]}\n",
      "0.898     {'weights': [1, 3, 7, 5]}\n",
      "0.8985     {'weights': [0, 1, 6, 5]}\n",
      "0.8982     {'weights': [4, 3, 5, 9]}\n",
      "0.8978     {'weights': [3, 4, 6, 7]}\n",
      "0.8985     {'weights': [1, 2, 8, 7]}\n",
      "0.8987     {'weights': [4, 0, 6, 9]}\n",
      "0.8983     {'weights': [4, 3, 7, 8]}\n",
      "0.8982     {'weights': [2, 2, 5, 5]}\n",
      "0.8984     {'weights': [0, 2, 6, 6]}\n",
      "0.8986     {'weights': [1, 2, 9, 6]}\n",
      "0.8986     {'weights': [4, 1, 7, 5]}\n",
      "0.8975     {'weights': [1, 4, 7, 5]}\n",
      "0.8988     {'weights': [2, 0, 9, 7]}\n",
      "0.8989     {'weights': [0, 0, 9, 9]}\n",
      "0.8979     {'weights': [0, 3, 6, 7]}\n",
      "0.8985     {'weights': [1, 1, 6, 8]}\n",
      "0.8987     {'weights': [4, 1, 8, 8]}\n",
      "0.8982     {'weights': [1, 3, 9, 5]}\n",
      "0.8982     {'weights': [4, 3, 8, 7]}\n",
      "0.8986     {'weights': [0, 2, 9, 5]}\n",
      "0.8978     {'weights': [2, 4, 6, 7]}\n",
      "0.8988     {'weights': [4, 0, 7, 7]}\n",
      "0.898     {'weights': [2, 4, 8, 9]}\n",
      "0.8984     {'weights': [0, 2, 7, 5]}\n",
      "0.8989     {'weights': [3, 0, 9, 8]}\n",
      "0.8986     {'weights': [3, 1, 6, 5]}\n",
      "0.8981     {'weights': [1, 3, 6, 9]}\n",
      "0.8983     {'weights': [4, 3, 8, 9]}\n",
      "0.8978     {'weights': [3, 3, 5, 5]}\n",
      "0.8984     {'weights': [4, 2, 6, 9]}\n",
      "0.8987     {'weights': [1, 1, 9, 9]}\n",
      "0.8972     {'weights': [2, 4, 5, 5]}\n",
      "0.8988     {'weights': [2, 0, 5, 5]}\n",
      "0.8983     {'weights': [2, 2, 5, 6]}\n",
      "0.8985     {'weights': [0, 1, 5, 9]}\n",
      "0.8985     {'weights': [4, 2, 9, 5]}\n",
      "0.8971     {'weights': [0, 4, 5, 6]}\n",
      "0.8984     {'weights': [1, 3, 8, 8]}\n",
      "0.8987     {'weights': [2, 1, 8, 7]}\n",
      "0.8987     {'weights': [2, 0, 9, 9]}\n",
      "0.8987     {'weights': [3, 1, 8, 7]}\n",
      "0.8989     {'weights': [2, 0, 9, 6]}\n"
     ]
    }
   ],
   "source": [
    "res = rand_search.cv_results_\n",
    "for mean_score, params in zip(res[\"mean_test_score\"], res[\"params\"]):\n",
    "    print(round(mean_score, 4), \"   \", params)"
   ],
   "metadata": {
    "collapsed": false,
    "ExecuteTime": {
     "start_time": "2023-05-15T16:58:08.855997Z",
     "end_time": "2023-05-15T16:58:08.860263Z"
    }
   }
  },
  {
   "cell_type": "code",
   "execution_count": 8,
   "outputs": [
    {
     "name": "stdout",
     "output_type": "stream",
     "text": [
      "|   Predicted 0 |   Predicted 1 |\n",
      "|---------------+---------------|\n",
      "|         44680 |           115 |\n",
      "|          4696 |          1597 |\n",
      "\n",
      "accuracy:              0.9058\n",
      "precision:             0.9328\n",
      "recall:                0.2538\n",
      "f1:                    0.399\n",
      "roc_auc_discrete:      0.6256\n",
      "roc_auc_continuous:    0.9484\n",
      "|   Predicted 0 |   Predicted 1 |\n",
      "|---------------+---------------|\n",
      "|         19095 |           117 |\n",
      "|          2051 |           632 |\n",
      "\n",
      "accuracy:              0.901\n",
      "precision:             0.8438\n",
      "recall:                0.2356\n",
      "f1:                    0.3683\n",
      "roc_auc_discrete:      0.6147\n",
      "roc_auc_continuous:    0.7579\n"
     ]
    }
   ],
   "source": [
    "show_scores(rand_search.best_estimator_, X_train, y_train)\n",
    "show_scores(rand_search.best_estimator_, X_val, y_val)"
   ],
   "metadata": {
    "collapsed": false,
    "ExecuteTime": {
     "start_time": "2023-05-15T16:58:08.862567Z",
     "end_time": "2023-05-15T16:58:09.554208Z"
    }
   }
  }
 ],
 "metadata": {
  "kernelspec": {
   "display_name": "Python 3 (ipykernel)",
   "language": "python",
   "name": "python3"
  },
  "language_info": {
   "codemirror_mode": {
    "name": "ipython",
    "version": 3
   },
   "file_extension": ".py",
   "mimetype": "text/x-python",
   "name": "python",
   "nbconvert_exporter": "python",
   "pygments_lexer": "ipython3",
   "version": "3.9.4"
  }
 },
 "nbformat": 4,
 "nbformat_minor": 2
}
