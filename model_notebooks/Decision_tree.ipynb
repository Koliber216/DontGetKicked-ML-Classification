{
 "cells": [
  {
   "cell_type": "code",
   "execution_count": 1,
   "metadata": {
    "ExecuteTime": {
     "start_time": "2023-05-17T18:14:04.431591Z",
     "end_time": "2023-05-17T18:14:04.621078Z"
    }
   },
   "outputs": [],
   "source": [
    "import pandas as pd\n",
    "import numpy as np\n",
    "import matplotlib.pyplot as plt\n",
    "import seaborn as sns\n",
    "\n",
    "from sklearn.tree import DecisionTreeClassifier\n",
    "from sklearn.model_selection import GridSearchCV, RandomizedSearchCV\n",
    "from sklearn import metrics\n",
    "from sklearn.metrics import accuracy_score, precision_score, recall_score, f1_score, confusion_matrix, roc_auc_score\n",
    "\n",
    "import warnings\n",
    "import os\n",
    "import sys\n",
    "if not sys.warnoptions:\n",
    "    warnings.simplefilter(\"ignore\")\n",
    "    os.environ[\"PYTHONWARNINGS\"] = \"ignore\"\n",
    "\n",
    "np.random.seed(42)"
   ]
  },
  {
   "cell_type": "code",
   "execution_count": 2,
   "outputs": [],
   "source": [
    "from tabulate import tabulate\n",
    "\n",
    "def show_scores(clf, X, y):\n",
    "    y_pred = clf.predict(X)\n",
    "    y_pred_prob = clf.predict_proba(X)\n",
    "    print(tabulate(confusion_matrix(y, y_pred), headers=['Predicted 0', 'Predicted 1'], tablefmt='orgtbl'))\n",
    "    print()\n",
    "    print(f'accuracy:              {round(accuracy_score(y, y_pred), 4)}')\n",
    "    print(f'precision:             {round(precision_score(y, y_pred), 4)}')\n",
    "    print(f'recall:                {round(recall_score(y, y_pred), 4)}')\n",
    "    print(f'f1:                    {round(f1_score(y, y_pred), 4)}')\n",
    "    print(f'roc_auc:               {round(roc_auc_score(y, y_pred), 4)}')\n",
    "    print(f'roc_auc_pred_prob:     {round(roc_auc_score(y, y_pred_prob[:, 1]), 4)}')"
   ],
   "metadata": {
    "collapsed": false,
    "ExecuteTime": {
     "start_time": "2023-05-17T18:14:04.625110Z",
     "end_time": "2023-05-17T18:14:04.629852Z"
    }
   }
  },
  {
   "cell_type": "markdown",
   "source": [
    "### Ładowanie zbiorów danych, pierwszy model"
   ],
   "metadata": {
    "collapsed": false
   }
  },
  {
   "cell_type": "code",
   "execution_count": 3,
   "outputs": [],
   "source": [
    "X_train = pd.read_csv(\"../preprocessed_data/X_train.csv\")\n",
    "y_train = pd.read_csv(\"../preprocessed_data/y_train.csv\")\n",
    "\n",
    "X_val = pd.read_csv(\"../preprocessed_data/X_val.csv\")\n",
    "y_val = pd.read_csv(\"../preprocessed_data/y_val.csv\")"
   ],
   "metadata": {
    "collapsed": false,
    "ExecuteTime": {
     "start_time": "2023-05-17T18:14:04.632275Z",
     "end_time": "2023-05-17T18:14:05.069862Z"
    }
   }
  },
  {
   "cell_type": "code",
   "execution_count": 4,
   "metadata": {
    "ExecuteTime": {
     "start_time": "2023-05-17T18:14:05.073633Z",
     "end_time": "2023-05-17T18:14:05.833541Z"
    }
   },
   "outputs": [],
   "source": [
    "dct = DecisionTreeClassifier(random_state=42).fit(X_train, y_train)"
   ]
  },
  {
   "cell_type": "code",
   "execution_count": 5,
   "outputs": [
    {
     "name": "stdout",
     "output_type": "stream",
     "text": [
      "|   Predicted 0 |   Predicted 1 |\n",
      "|---------------+---------------|\n",
      "|         44795 |             0 |\n",
      "|             0 |          6293 |\n",
      "\n",
      "accuracy:              1.0\n",
      "precision:             1.0\n",
      "recall:                1.0\n",
      "f1:                    1.0\n",
      "roc_auc:               1.0\n",
      "roc_auc_pred_prob:     1.0\n",
      "|   Predicted 0 |   Predicted 1 |\n",
      "|---------------+---------------|\n",
      "|         17015 |          2197 |\n",
      "|          1797 |           886 |\n",
      "\n",
      "accuracy:              0.8176\n",
      "precision:             0.2874\n",
      "recall:                0.3302\n",
      "f1:                    0.3073\n",
      "roc_auc:               0.6079\n",
      "roc_auc_pred_prob:     0.6079\n"
     ]
    }
   ],
   "source": [
    "show_scores(dct, X_train, y_train)\n",
    "show_scores(dct, X_val, y_val)"
   ],
   "metadata": {
    "collapsed": false,
    "ExecuteTime": {
     "start_time": "2023-05-17T18:14:05.831094Z",
     "end_time": "2023-05-17T18:14:05.966420Z"
    }
   }
  },
  {
   "cell_type": "markdown",
   "source": [
    "### Strojenie hiperparametrów"
   ],
   "metadata": {
    "collapsed": false
   }
  },
  {
   "cell_type": "code",
   "execution_count": 6,
   "outputs": [],
   "source": [
    "parameters = dict(max_depth=np.arange(1, 100))\n",
    "depth_search = GridSearchCV(dct, cv=3, scoring='precision', return_train_score=True, param_grid=parameters, n_jobs=-1).fit(X_train, y_train)"
   ],
   "metadata": {
    "collapsed": false,
    "ExecuteTime": {
     "start_time": "2023-05-17T18:14:05.969501Z",
     "end_time": "2023-05-17T18:14:39.063753Z"
    }
   }
  },
  {
   "cell_type": "code",
   "execution_count": 7,
   "outputs": [
    {
     "data": {
      "text/plain": "{'max_depth': 2}"
     },
     "execution_count": 7,
     "metadata": {},
     "output_type": "execute_result"
    }
   ],
   "source": [
    "depth_search.best_params_"
   ],
   "metadata": {
    "collapsed": false,
    "ExecuteTime": {
     "start_time": "2023-05-17T18:14:39.063859Z",
     "end_time": "2023-05-17T18:14:39.070678Z"
    }
   }
  },
  {
   "cell_type": "code",
   "execution_count": 8,
   "outputs": [
    {
     "name": "stdout",
     "output_type": "stream",
     "text": [
      "0.8383     {'max_depth': 2}\n",
      "0.833     {'max_depth': 6}\n",
      "0.8302     {'max_depth': 4}\n",
      "0.8276     {'max_depth': 5}\n",
      "0.8165     {'max_depth': 7}\n",
      "0.8075     {'max_depth': 3}\n",
      "0.7882     {'max_depth': 8}\n",
      "0.7448     {'max_depth': 9}\n",
      "0.7185     {'max_depth': 10}\n",
      "0.706     {'max_depth': 1}\n",
      "0.6569     {'max_depth': 11}\n",
      "0.6127     {'max_depth': 12}\n",
      "0.5598     {'max_depth': 13}\n",
      "0.5314     {'max_depth': 14}\n",
      "0.4976     {'max_depth': 15}\n",
      "0.464     {'max_depth': 16}\n",
      "0.4378     {'max_depth': 17}\n",
      "0.4134     {'max_depth': 18}\n",
      "0.3998     {'max_depth': 19}\n",
      "0.3776     {'max_depth': 20}\n",
      "0.3597     {'max_depth': 21}\n",
      "0.3506     {'max_depth': 22}\n",
      "0.3397     {'max_depth': 23}\n",
      "0.3315     {'max_depth': 24}\n",
      "0.3221     {'max_depth': 26}\n",
      "0.3217     {'max_depth': 25}\n",
      "0.3173     {'max_depth': 27}\n",
      "0.3162     {'max_depth': 28}\n",
      "0.3114     {'max_depth': 29}\n",
      "0.3102     {'max_depth': 30}\n",
      "0.3043     {'max_depth': 31}\n",
      "0.3002     {'max_depth': 32}\n",
      "0.2981     {'max_depth': 33}\n",
      "0.2971     {'max_depth': 34}\n",
      "0.2969     {'max_depth': 38}\n",
      "0.2956     {'max_depth': 36}\n",
      "0.2956     {'max_depth': 37}\n",
      "0.2944     {'max_depth': 39}\n",
      "0.2938     {'max_depth': 40}\n",
      "0.2933     {'max_depth': 79}\n",
      "0.2933     {'max_depth': 83}\n",
      "0.2933     {'max_depth': 82}\n",
      "0.2933     {'max_depth': 85}\n",
      "0.2933     {'max_depth': 81}\n",
      "0.2933     {'max_depth': 80}\n",
      "0.2933     {'max_depth': 73}\n",
      "0.2933     {'max_depth': 78}\n",
      "0.2933     {'max_depth': 77}\n",
      "0.2933     {'max_depth': 76}\n",
      "0.2933     {'max_depth': 75}\n",
      "0.2933     {'max_depth': 74}\n",
      "0.2933     {'max_depth': 72}\n",
      "0.2933     {'max_depth': 84}\n",
      "0.2933     {'max_depth': 98}\n",
      "0.2933     {'max_depth': 86}\n",
      "0.2933     {'max_depth': 87}\n",
      "0.2933     {'max_depth': 88}\n",
      "0.2933     {'max_depth': 89}\n",
      "0.2933     {'max_depth': 90}\n",
      "0.2933     {'max_depth': 91}\n",
      "0.2933     {'max_depth': 92}\n",
      "0.2933     {'max_depth': 93}\n",
      "0.2933     {'max_depth': 94}\n",
      "0.2933     {'max_depth': 95}\n",
      "0.2933     {'max_depth': 96}\n",
      "0.2933     {'max_depth': 97}\n",
      "0.2933     {'max_depth': 70}\n",
      "0.2933     {'max_depth': 71}\n",
      "0.2933     {'max_depth': 50}\n",
      "0.2933     {'max_depth': 69}\n",
      "0.2933     {'max_depth': 68}\n",
      "0.2933     {'max_depth': 41}\n",
      "0.2933     {'max_depth': 42}\n",
      "0.2933     {'max_depth': 43}\n",
      "0.2933     {'max_depth': 44}\n",
      "0.2933     {'max_depth': 45}\n",
      "0.2933     {'max_depth': 46}\n",
      "0.2933     {'max_depth': 47}\n",
      "0.2933     {'max_depth': 48}\n",
      "0.2933     {'max_depth': 49}\n",
      "0.2933     {'max_depth': 51}\n",
      "0.2933     {'max_depth': 52}\n",
      "0.2933     {'max_depth': 53}\n",
      "0.2933     {'max_depth': 54}\n",
      "0.2933     {'max_depth': 55}\n",
      "0.2933     {'max_depth': 56}\n",
      "0.2933     {'max_depth': 57}\n",
      "0.2933     {'max_depth': 58}\n",
      "0.2933     {'max_depth': 59}\n",
      "0.2933     {'max_depth': 60}\n",
      "0.2933     {'max_depth': 61}\n",
      "0.2933     {'max_depth': 62}\n",
      "0.2933     {'max_depth': 63}\n",
      "0.2933     {'max_depth': 64}\n",
      "0.2933     {'max_depth': 65}\n",
      "0.2933     {'max_depth': 66}\n",
      "0.2933     {'max_depth': 67}\n",
      "0.2933     {'max_depth': 99}\n",
      "0.2933     {'max_depth': 35}\n"
     ]
    }
   ],
   "source": [
    "res = pd.DataFrame(depth_search.cv_results_).sort_values(\"mean_test_score\", ascending=False)\n",
    "for mean_score, params in zip(res[\"mean_test_score\"], res[\"params\"]):\n",
    "    print(round(mean_score, 4), \"   \", params)"
   ],
   "metadata": {
    "collapsed": false,
    "ExecuteTime": {
     "start_time": "2023-05-17T18:14:39.073536Z",
     "end_time": "2023-05-17T18:14:39.078683Z"
    }
   }
  },
  {
   "cell_type": "code",
   "execution_count": 9,
   "outputs": [
    {
     "name": "stdout",
     "output_type": "stream",
     "text": [
      "|   Predicted 0 |   Predicted 1 |\n",
      "|---------------+---------------|\n",
      "|         44534 |           261 |\n",
      "|          4945 |          1348 |\n",
      "\n",
      "accuracy:              0.8981\n",
      "precision:             0.8378\n",
      "recall:                0.2142\n",
      "f1:                    0.3412\n",
      "roc_auc:               0.6042\n",
      "roc_auc_pred_prob:     0.7065\n",
      "|   Predicted 0 |   Predicted 1 |\n",
      "|---------------+---------------|\n",
      "|         19089 |           123 |\n",
      "|          2072 |           611 |\n",
      "\n",
      "accuracy:              0.8997\n",
      "precision:             0.8324\n",
      "recall:                0.2277\n",
      "f1:                    0.3576\n",
      "roc_auc:               0.6107\n",
      "roc_auc_pred_prob:     0.6971\n"
     ]
    }
   ],
   "source": [
    "show_scores(depth_search.best_estimator_, X_train, y_train)\n",
    "show_scores(depth_search.best_estimator_, X_val, y_val)"
   ],
   "metadata": {
    "collapsed": false,
    "ExecuteTime": {
     "start_time": "2023-05-17T18:14:39.078021Z",
     "end_time": "2023-05-17T18:14:39.195859Z"
    }
   }
  },
  {
   "cell_type": "code",
   "execution_count": 29,
   "outputs": [],
   "source": [
    "parameters = dict(max_depth=np.arange(1, 65, 3), min_samples_split=np.arange(2, 8),\n",
    "                  min_samples_leaf=np.arange(1, 20, 2), max_features=np.arange(20, 150, 5))\n",
    "\n",
    "rand_search = RandomizedSearchCV(dct, scoring='accuracy', cv=3, return_train_score=True, param_distributions=parameters,n_iter=100, n_jobs=-1, random_state=42).fit(X_train, y_train)"
   ],
   "metadata": {
    "collapsed": false,
    "ExecuteTime": {
     "start_time": "2023-05-17T18:29:49.612000Z",
     "end_time": "2023-05-17T18:30:09.069104Z"
    }
   }
  },
  {
   "cell_type": "code",
   "execution_count": 30,
   "outputs": [],
   "source": [
    "best_dct = rand_search.best_estimator_"
   ],
   "metadata": {
    "collapsed": false,
    "ExecuteTime": {
     "start_time": "2023-05-17T18:30:09.069473Z",
     "end_time": "2023-05-17T18:30:09.076829Z"
    }
   }
  },
  {
   "cell_type": "code",
   "execution_count": 31,
   "outputs": [
    {
     "data": {
      "text/plain": "{'min_samples_split': 4,\n 'min_samples_leaf': 11,\n 'max_features': 105,\n 'max_depth': 4}"
     },
     "execution_count": 31,
     "metadata": {},
     "output_type": "execute_result"
    }
   ],
   "source": [
    "rand_search.best_params_"
   ],
   "metadata": {
    "collapsed": false,
    "ExecuteTime": {
     "start_time": "2023-05-17T18:30:09.081271Z",
     "end_time": "2023-05-17T18:30:09.088411Z"
    }
   }
  },
  {
   "cell_type": "code",
   "execution_count": 32,
   "outputs": [
    {
     "name": "stdout",
     "output_type": "stream",
     "text": [
      "0.8286     {'min_samples_split': 4, 'min_samples_leaf': 11, 'max_features': 105, 'max_depth': 4}\n",
      "0.8254     {'min_samples_split': 7, 'min_samples_leaf': 15, 'max_features': 115, 'max_depth': 4}\n",
      "0.8249     {'min_samples_split': 2, 'min_samples_leaf': 17, 'max_features': 100, 'max_depth': 4}\n",
      "0.8233     {'min_samples_split': 3, 'min_samples_leaf': 19, 'max_features': 110, 'max_depth': 4}\n",
      "0.8209     {'min_samples_split': 5, 'min_samples_leaf': 11, 'max_features': 90, 'max_depth': 4}\n",
      "0.8176     {'min_samples_split': 5, 'min_samples_leaf': 13, 'max_features': 45, 'max_depth': 4}\n",
      "0.8167     {'min_samples_split': 4, 'min_samples_leaf': 17, 'max_features': 80, 'max_depth': 7}\n",
      "0.8135     {'min_samples_split': 3, 'min_samples_leaf': 15, 'max_features': 85, 'max_depth': 7}\n",
      "0.8133     {'min_samples_split': 5, 'min_samples_leaf': 7, 'max_features': 55, 'max_depth': 7}\n",
      "0.8119     {'min_samples_split': 7, 'min_samples_leaf': 15, 'max_features': 55, 'max_depth': 4}\n",
      "0.8088     {'min_samples_split': 6, 'min_samples_leaf': 5, 'max_features': 55, 'max_depth': 7}\n",
      "0.7406     {'min_samples_split': 7, 'min_samples_leaf': 1, 'max_features': 30, 'max_depth': 4}\n",
      "0.737     {'min_samples_split': 3, 'min_samples_leaf': 11, 'max_features': 70, 'max_depth': 10}\n",
      "0.7365     {'min_samples_split': 4, 'min_samples_leaf': 13, 'max_features': 65, 'max_depth': 10}\n",
      "0.7319     {'min_samples_split': 2, 'min_samples_leaf': 13, 'max_features': 30, 'max_depth': 13}\n",
      "0.7169     {'min_samples_split': 7, 'min_samples_leaf': 11, 'max_features': 100, 'max_depth': 10}\n",
      "0.706     {'min_samples_split': 3, 'min_samples_leaf': 17, 'max_features': 80, 'max_depth': 1}\n",
      "0.706     {'min_samples_split': 5, 'min_samples_leaf': 3, 'max_features': 35, 'max_depth': 1}\n",
      "0.706     {'min_samples_split': 3, 'min_samples_leaf': 1, 'max_features': 105, 'max_depth': 1}\n",
      "0.706     {'min_samples_split': 3, 'min_samples_leaf': 3, 'max_features': 125, 'max_depth': 1}\n",
      "0.706     {'min_samples_split': 4, 'min_samples_leaf': 7, 'max_features': 90, 'max_depth': 1}\n",
      "0.706     {'min_samples_split': 4, 'min_samples_leaf': 19, 'max_features': 100, 'max_depth': 1}\n",
      "0.6905     {'min_samples_split': 6, 'min_samples_leaf': 5, 'max_features': 50, 'max_depth': 10}\n",
      "0.6891     {'min_samples_split': 3, 'min_samples_leaf': 9, 'max_features': 20, 'max_depth': 4}\n",
      "0.689     {'min_samples_split': 3, 'min_samples_leaf': 9, 'max_features': 20, 'max_depth': 13}\n",
      "0.6869     {'min_samples_split': 2, 'min_samples_leaf': 19, 'max_features': 55, 'max_depth': 22}\n",
      "0.6778     {'min_samples_split': 2, 'min_samples_leaf': 15, 'max_features': 25, 'max_depth': 34}\n",
      "0.6765     {'min_samples_split': 7, 'min_samples_leaf': 19, 'max_features': 60, 'max_depth': 46}\n",
      "0.675     {'min_samples_split': 3, 'min_samples_leaf': 19, 'max_features': 90, 'max_depth': 58}\n",
      "0.6733     {'min_samples_split': 2, 'min_samples_leaf': 15, 'max_features': 30, 'max_depth': 43}\n",
      "0.6725     {'min_samples_split': 5, 'min_samples_leaf': 17, 'max_features': 45, 'max_depth': 61}\n",
      "0.6669     {'min_samples_split': 5, 'min_samples_leaf': 17, 'max_features': 80, 'max_depth': 16}\n",
      "0.6657     {'min_samples_split': 6, 'min_samples_leaf': 17, 'max_features': 65, 'max_depth': 16}\n",
      "0.6656     {'min_samples_split': 2, 'min_samples_leaf': 15, 'max_features': 35, 'max_depth': 37}\n",
      "0.6654     {'min_samples_split': 5, 'min_samples_leaf': 15, 'max_features': 20, 'max_depth': 22}\n",
      "0.6594     {'min_samples_split': 2, 'min_samples_leaf': 13, 'max_features': 25, 'max_depth': 22}\n",
      "0.655     {'min_samples_split': 5, 'min_samples_leaf': 17, 'max_features': 90, 'max_depth': 49}\n",
      "0.6502     {'min_samples_split': 5, 'min_samples_leaf': 19, 'max_features': 140, 'max_depth': 40}\n",
      "0.6502     {'min_samples_split': 6, 'min_samples_leaf': 19, 'max_features': 110, 'max_depth': 46}\n",
      "0.6502     {'min_samples_split': 7, 'min_samples_leaf': 19, 'max_features': 145, 'max_depth': 25}\n",
      "0.6502     {'min_samples_split': 7, 'min_samples_leaf': 19, 'max_features': 145, 'max_depth': 31}\n",
      "0.6494     {'min_samples_split': 2, 'min_samples_leaf': 17, 'max_features': 50, 'max_depth': 34}\n",
      "0.6436     {'min_samples_split': 3, 'min_samples_leaf': 13, 'max_features': 20, 'max_depth': 52}\n",
      "0.6417     {'min_samples_split': 5, 'min_samples_leaf': 11, 'max_features': 70, 'max_depth': 13}\n",
      "0.6388     {'min_samples_split': 4, 'min_samples_leaf': 17, 'max_features': 120, 'max_depth': 31}\n",
      "0.6343     {'min_samples_split': 2, 'min_samples_leaf': 15, 'max_features': 55, 'max_depth': 28}\n",
      "0.6217     {'min_samples_split': 7, 'min_samples_leaf': 15, 'max_features': 65, 'max_depth': 25}\n",
      "0.6143     {'min_samples_split': 4, 'min_samples_leaf': 13, 'max_features': 50, 'max_depth': 37}\n",
      "0.6143     {'min_samples_split': 5, 'min_samples_leaf': 13, 'max_features': 50, 'max_depth': 64}\n",
      "0.6065     {'min_samples_split': 3, 'min_samples_leaf': 15, 'max_features': 100, 'max_depth': 64}\n",
      "0.6043     {'min_samples_split': 2, 'min_samples_leaf': 15, 'max_features': 85, 'max_depth': 43}\n",
      "0.5982     {'min_samples_split': 4, 'min_samples_leaf': 11, 'max_features': 45, 'max_depth': 19}\n",
      "0.5962     {'min_samples_split': 5, 'min_samples_leaf': 11, 'max_features': 70, 'max_depth': 16}\n",
      "0.5784     {'min_samples_split': 2, 'min_samples_leaf': 13, 'max_features': 90, 'max_depth': 46}\n",
      "0.5672     {'min_samples_split': 4, 'min_samples_leaf': 13, 'max_features': 75, 'max_depth': 49}\n",
      "0.5623     {'min_samples_split': 7, 'min_samples_leaf': 11, 'max_features': 50, 'max_depth': 37}\n",
      "0.562     {'min_samples_split': 6, 'min_samples_leaf': 11, 'max_features': 45, 'max_depth': 52}\n",
      "0.559     {'min_samples_split': 4, 'min_samples_leaf': 13, 'max_features': 115, 'max_depth': 58}\n",
      "0.5519     {'min_samples_split': 3, 'min_samples_leaf': 13, 'max_features': 95, 'max_depth': 25}\n",
      "0.5501     {'min_samples_split': 2, 'min_samples_leaf': 11, 'max_features': 60, 'max_depth': 64}\n",
      "0.5477     {'min_samples_split': 4, 'min_samples_leaf': 11, 'max_features': 100, 'max_depth': 16}\n",
      "0.539     {'min_samples_split': 6, 'min_samples_leaf': 3, 'max_features': 75, 'max_depth': 13}\n",
      "0.5356     {'min_samples_split': 6, 'min_samples_leaf': 9, 'max_features': 140, 'max_depth': 16}\n",
      "0.5089     {'min_samples_split': 7, 'min_samples_leaf': 7, 'max_features': 25, 'max_depth': 46}\n",
      "0.5084     {'min_samples_split': 5, 'min_samples_leaf': 11, 'max_features': 125, 'max_depth': 25}\n",
      "0.5069     {'min_samples_split': 3, 'min_samples_leaf': 11, 'max_features': 100, 'max_depth': 40}\n",
      "0.4958     {'min_samples_split': 3, 'min_samples_leaf': 7, 'max_features': 35, 'max_depth': 46}\n",
      "0.4843     {'min_samples_split': 4, 'min_samples_leaf': 9, 'max_features': 80, 'max_depth': 52}\n",
      "0.4723     {'min_samples_split': 6, 'min_samples_leaf': 3, 'max_features': 45, 'max_depth': 16}\n",
      "0.4668     {'min_samples_split': 7, 'min_samples_leaf': 9, 'max_features': 105, 'max_depth': 37}\n",
      "0.4668     {'min_samples_split': 5, 'min_samples_leaf': 9, 'max_features': 105, 'max_depth': 55}\n",
      "0.4668     {'min_samples_split': 4, 'min_samples_leaf': 9, 'max_features': 135, 'max_depth': 61}\n",
      "0.4668     {'min_samples_split': 5, 'min_samples_leaf': 9, 'max_features': 135, 'max_depth': 43}\n",
      "0.4626     {'min_samples_split': 5, 'min_samples_leaf': 3, 'max_features': 80, 'max_depth': 16}\n",
      "0.4501     {'min_samples_split': 5, 'min_samples_leaf': 7, 'max_features': 60, 'max_depth': 28}\n",
      "0.4188     {'min_samples_split': 4, 'min_samples_leaf': 7, 'max_features': 110, 'max_depth': 58}\n",
      "0.4188     {'min_samples_split': 6, 'min_samples_leaf': 7, 'max_features': 125, 'max_depth': 61}\n",
      "0.4174     {'min_samples_split': 2, 'min_samples_leaf': 5, 'max_features': 40, 'max_depth': 34}\n",
      "0.4146     {'min_samples_split': 5, 'min_samples_leaf': 5, 'max_features': 35, 'max_depth': 31}\n",
      "0.4094     {'min_samples_split': 4, 'min_samples_leaf': 5, 'max_features': 70, 'max_depth': 22}\n",
      "0.4086     {'min_samples_split': 3, 'min_samples_leaf': 5, 'max_features': 80, 'max_depth': 22}\n",
      "0.4015     {'min_samples_split': 3, 'min_samples_leaf': 3, 'max_features': 125, 'max_depth': 19}\n",
      "0.3951     {'min_samples_split': 7, 'min_samples_leaf': 5, 'max_features': 60, 'max_depth': 46}\n",
      "0.395     {'min_samples_split': 7, 'min_samples_leaf': 3, 'max_features': 20, 'max_depth': 52}\n",
      "0.3907     {'min_samples_split': 7, 'min_samples_leaf': 5, 'max_features': 95, 'max_depth': 22}\n",
      "0.3895     {'min_samples_split': 3, 'min_samples_leaf': 5, 'max_features': 70, 'max_depth': 55}\n",
      "0.3859     {'min_samples_split': 6, 'min_samples_leaf': 1, 'max_features': 50, 'max_depth': 22}\n",
      "0.3806     {'min_samples_split': 7, 'min_samples_leaf': 5, 'max_features': 80, 'max_depth': 37}\n",
      "0.3759     {'min_samples_split': 7, 'min_samples_leaf': 1, 'max_features': 125, 'max_depth': 22}\n",
      "0.3753     {'min_samples_split': 2, 'min_samples_leaf': 3, 'max_features': 35, 'max_depth': 25}\n",
      "0.3729     {'min_samples_split': 3, 'min_samples_leaf': 5, 'max_features': 90, 'max_depth': 46}\n",
      "0.3452     {'min_samples_split': 2, 'min_samples_leaf': 3, 'max_features': 145, 'max_depth': 25}\n",
      "0.3407     {'min_samples_split': 2, 'min_samples_leaf': 3, 'max_features': 60, 'max_depth': 49}\n",
      "0.3399     {'min_samples_split': 7, 'min_samples_leaf': 3, 'max_features': 125, 'max_depth': 34}\n",
      "0.3224     {'min_samples_split': 4, 'min_samples_leaf': 1, 'max_features': 30, 'max_depth': 43}\n",
      "0.3202     {'min_samples_split': 5, 'min_samples_leaf': 1, 'max_features': 55, 'max_depth': 31}\n",
      "0.311     {'min_samples_split': 5, 'min_samples_leaf': 1, 'max_features': 100, 'max_depth': 40}\n",
      "0.2982     {'min_samples_split': 2, 'min_samples_leaf': 1, 'max_features': 100, 'max_depth': 52}\n",
      "0.295     {'min_samples_split': 2, 'min_samples_leaf': 1, 'max_features': 95, 'max_depth': 46}\n",
      "0.0     {'min_samples_split': 7, 'min_samples_leaf': 13, 'max_features': 30, 'max_depth': 1}\n"
     ]
    }
   ],
   "source": [
    "res = pd.DataFrame(rand_search.cv_results_).sort_values(\"mean_test_score\", ascending=False)\n",
    "for mean_score, params in zip(res[\"mean_test_score\"], res[\"params\"]):\n",
    "    print(round(mean_score, 4), \"   \", params)"
   ],
   "metadata": {
    "collapsed": false,
    "ExecuteTime": {
     "start_time": "2023-05-17T18:30:09.099059Z",
     "end_time": "2023-05-17T18:30:09.117785Z"
    }
   }
  },
  {
   "cell_type": "code",
   "execution_count": 28,
   "outputs": [
    {
     "name": "stdout",
     "output_type": "stream",
     "text": [
      "|   Predicted 0 |   Predicted 1 |\n",
      "|---------------+---------------|\n",
      "|         44511 |           284 |\n",
      "|          4886 |          1407 |\n",
      "\n",
      "accuracy:              0.8988\n",
      "precision:             0.8321\n",
      "recall:                0.2236\n",
      "f1:                    0.3525\n",
      "roc_auc:               0.6086\n",
      "roc_auc_pred_prob:     0.7322\n",
      "|   Predicted 0 |   Predicted 1 |\n",
      "|---------------+---------------|\n",
      "|         19070 |           142 |\n",
      "|          2059 |           624 |\n",
      "\n",
      "accuracy:              0.8995\n",
      "precision:             0.8146\n",
      "recall:                0.2326\n",
      "f1:                    0.3618\n",
      "roc_auc:               0.6126\n",
      "roc_auc_pred_prob:     0.7172\n"
     ]
    }
   ],
   "source": [
    "show_scores(best_dct, X_train, y_train)\n",
    "show_scores(best_dct, X_val, y_val)"
   ],
   "metadata": {
    "collapsed": false,
    "ExecuteTime": {
     "start_time": "2023-05-17T18:29:30.346631Z",
     "end_time": "2023-05-17T18:29:30.493188Z"
    }
   }
  },
  {
   "cell_type": "markdown",
   "source": [
    "### Wizualizacje\n"
   ],
   "metadata": {
    "collapsed": false
   }
  },
  {
   "cell_type": "code",
   "execution_count": 34,
   "outputs": [
    {
     "data": {
      "text/plain": "                              Feature  Importance\n14                    WheelType_OTHER    0.725834\n87                    Auction_MANHEIM    0.096851\n3                          VehicleAge    0.091370\n1                            VehBCost    0.033416\n4   MMRAcquisitionAuctionAveragePrice    0.014020\n8                                Year    0.013135\n2                        WarrantyCost    0.011293\n86                      Auction_ADESA    0.008147\n0                              VehOdo    0.002988\n7                        IsOnlineSale    0.002946",
      "text/html": "<div>\n<style scoped>\n    .dataframe tbody tr th:only-of-type {\n        vertical-align: middle;\n    }\n\n    .dataframe tbody tr th {\n        vertical-align: top;\n    }\n\n    .dataframe thead th {\n        text-align: right;\n    }\n</style>\n<table border=\"1\" class=\"dataframe\">\n  <thead>\n    <tr style=\"text-align: right;\">\n      <th></th>\n      <th>Feature</th>\n      <th>Importance</th>\n    </tr>\n  </thead>\n  <tbody>\n    <tr>\n      <th>14</th>\n      <td>WheelType_OTHER</td>\n      <td>0.725834</td>\n    </tr>\n    <tr>\n      <th>87</th>\n      <td>Auction_MANHEIM</td>\n      <td>0.096851</td>\n    </tr>\n    <tr>\n      <th>3</th>\n      <td>VehicleAge</td>\n      <td>0.091370</td>\n    </tr>\n    <tr>\n      <th>1</th>\n      <td>VehBCost</td>\n      <td>0.033416</td>\n    </tr>\n    <tr>\n      <th>4</th>\n      <td>MMRAcquisitionAuctionAveragePrice</td>\n      <td>0.014020</td>\n    </tr>\n    <tr>\n      <th>8</th>\n      <td>Year</td>\n      <td>0.013135</td>\n    </tr>\n    <tr>\n      <th>2</th>\n      <td>WarrantyCost</td>\n      <td>0.011293</td>\n    </tr>\n    <tr>\n      <th>86</th>\n      <td>Auction_ADESA</td>\n      <td>0.008147</td>\n    </tr>\n    <tr>\n      <th>0</th>\n      <td>VehOdo</td>\n      <td>0.002988</td>\n    </tr>\n    <tr>\n      <th>7</th>\n      <td>IsOnlineSale</td>\n      <td>0.002946</td>\n    </tr>\n  </tbody>\n</table>\n</div>"
     },
     "execution_count": 34,
     "metadata": {},
     "output_type": "execute_result"
    }
   ],
   "source": [
    "importance_df = pd.DataFrame({\n",
    "    'Feature': X_train.columns,\n",
    "    'Importance': best_dct.feature_importances_\n",
    "}).sort_values('Importance', ascending=False)\n",
    "importance_df.head(10)"
   ],
   "metadata": {
    "collapsed": false,
    "ExecuteTime": {
     "start_time": "2023-05-17T18:30:26.684297Z",
     "end_time": "2023-05-17T18:30:26.709687Z"
    }
   }
  },
  {
   "cell_type": "code",
   "execution_count": 35,
   "outputs": [
    {
     "data": {
      "text/plain": "<Figure size 432x288 with 1 Axes>",
      "image/png": "[encoded data removed]"
     },
     "metadata": {},
     "output_type": "display_data"
    }
   ],
   "source": [
    "plt.title('Feature Importance - Decision Tree')\n",
    "sns.barplot(data=importance_df.head(10),palette='husl',x='Importance', y='Feature')\n",
    "plt.show()"
   ],
   "metadata": {
    "collapsed": false,
    "ExecuteTime": {
     "start_time": "2023-05-17T18:30:28.890524Z",
     "end_time": "2023-05-17T18:30:29.071723Z"
    }
   }
  },
  {
   "cell_type": "code",
   "execution_count": 17,
   "outputs": [],
   "source": [
    "def gini_roc(y_test, y_pred_proba, tytul):\n",
    "\n",
    "    fpr, tpr, _ = metrics.roc_curve(y_test,  y_pred_proba)\n",
    "\n",
    "    plt.plot(fpr,tpr)\n",
    "    plt.title(tytul)\n",
    "    plt.ylabel('True Positive Rate')\n",
    "    plt.xlabel('False Positive Rate')\n",
    "    plt.show()\n",
    "\n",
    "    roc_auc = metrics.auc(fpr, tpr)\n",
    "    gini = (2 * roc_auc) - 1\n",
    "\n",
    "    return gini\n",
    "\n",
    "def gini_train_val(model, X_train, y_train, X_val, y_val):\n",
    "\n",
    "    y_pred_proba = model.predict_proba(X_train)[::,1]\n",
    "    gini_train = gini_roc(y_train, y_pred_proba, \"ROC Curve for Training Sample\")\n",
    "    print(\"gini_train: %.4f\" % gini_train)\n",
    "\n",
    "    y_pred_proba = model.predict_proba(X_val)[::,1]\n",
    "    gini_val = gini_roc(y_val, y_pred_proba, \"Roc Curve for Validation Sample\")\n",
    "    print(\"gini_val: %.4f\" % gini_val)\n",
    "\n",
    "    return"
   ],
   "metadata": {
    "collapsed": false,
    "ExecuteTime": {
     "start_time": "2023-05-17T18:15:01.523636Z",
     "end_time": "2023-05-17T18:15:01.624054Z"
    }
   }
  },
  {
   "cell_type": "code",
   "execution_count": 18,
   "outputs": [
    {
     "data": {
      "text/plain": "<Figure size 432x288 with 1 Axes>",
      "image/png": "[encoded data removed]"
     },
     "metadata": {},
     "output_type": "display_data"
    },
    {
     "name": "stdout",
     "output_type": "stream",
     "text": [
      "gini_train: 0.7866\n"
     ]
    },
    {
     "data": {
      "text/plain": "<Figure size 432x288 with 1 Axes>",
      "image/png": "[encoded data removed]"
     },
     "metadata": {},
     "output_type": "display_data"
    },
    {
     "name": "stdout",
     "output_type": "stream",
     "text": [
      "gini_val: 0.3898\n"
     ]
    }
   ],
   "source": [
    "gini_train_val(best_dct, X_train, y_train, X_val, y_val)"
   ],
   "metadata": {
    "collapsed": false,
    "ExecuteTime": {
     "start_time": "2023-05-17T18:15:01.525542Z",
     "end_time": "2023-05-17T18:15:01.771812Z"
    }
   }
  }
 ],
 "metadata": {
  "kernelspec": {
   "display_name": "Python 3 (ipykernel)",
   "language": "python",
   "name": "python3"
  },
  "language_info": {
   "codemirror_mode": {
    "name": "ipython",
    "version": 3
   },
   "file_extension": ".py",
   "mimetype": "text/x-python",
   "name": "python",
   "nbconvert_exporter": "python",
   "pygments_lexer": "ipython3",
   "version": "3.9.4"
  }
 },
 "nbformat": 4,
 "nbformat_minor": 2
}
