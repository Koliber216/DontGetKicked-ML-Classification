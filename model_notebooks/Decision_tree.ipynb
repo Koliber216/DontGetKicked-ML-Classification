{
 "cells": [
  {
   "cell_type": "code",
   "execution_count": 2,
   "metadata": {
    "ExecuteTime": {
     "start_time": "2023-05-15T16:09:38.548713Z",
     "end_time": "2023-05-15T16:09:38.644806Z"
    }
   },
   "outputs": [],
   "source": [
    "import pandas as pd\n",
    "import numpy as np\n",
    "from sklearn.metrics import accuracy_score, precision_score, recall_score, f1_score, confusion_matrix, roc_auc_score\n",
    "from tabulate import tabulate\n",
    "\n",
    "import warnings\n",
    "import os\n",
    "import sys\n",
    "if not sys.warnoptions:\n",
    "    warnings.simplefilter(\"ignore\")\n",
    "    os.environ[\"PYTHONWARNINGS\"] = \"ignore\"\n",
    "\n",
    "np.random.seed(42)"
   ]
  },
  {
   "cell_type": "code",
   "execution_count": 3,
   "outputs": [],
   "source": [
    "def show_scores(clf, X, y):\n",
    "    y_pred = clf.predict(X)\n",
    "    y_pred_prob = clf.predict_proba(X)\n",
    "    print(tabulate(confusion_matrix(y, y_pred), headers=['Predicted 0', 'Predicted 1'], tablefmt='orgtbl'))\n",
    "    print()\n",
    "    print(f'accuracy:              {round(accuracy_score(y, y_pred), 4)}')\n",
    "    print(f'precision:             {round(precision_score(y, y_pred), 4)}')\n",
    "    print(f'recall:                {round(recall_score(y, y_pred), 4)}')\n",
    "    print(f'f1:                    {round(f1_score(y, y_pred), 4)}')\n",
    "    print(f'roc_auc_discrete:      {round(roc_auc_score(y, y_pred), 4)}')\n",
    "    print(f'roc_auc_continuous:    {round(roc_auc_score(y, y_pred_prob[:, 1]), 4)}')"
   ],
   "metadata": {
    "collapsed": false,
    "ExecuteTime": {
     "start_time": "2023-05-15T16:09:40.086565Z",
     "end_time": "2023-05-15T16:09:40.091314Z"
    }
   }
  },
  {
   "cell_type": "code",
   "execution_count": 4,
   "outputs": [],
   "source": [
    "X_train = pd.read_csv(\"../preprocessed_data/X_train.csv\")\n",
    "y_train = pd.read_csv(\"../preprocessed_data/y_train.csv\")\n",
    "\n",
    "X_val  = pd.read_csv(\"../preprocessed_data/X_val.csv\")\n",
    "y_val  = pd.read_csv(\"../preprocessed_data/y_val.csv\")"
   ],
   "metadata": {
    "collapsed": false,
    "ExecuteTime": {
     "start_time": "2023-05-15T16:09:41.046308Z",
     "end_time": "2023-05-15T16:09:41.658969Z"
    }
   }
  },
  {
   "cell_type": "code",
   "execution_count": 5,
   "metadata": {
    "ExecuteTime": {
     "start_time": "2023-05-15T16:09:58.837731Z",
     "end_time": "2023-05-15T16:09:59.708833Z"
    }
   },
   "outputs": [],
   "source": [
    "from sklearn.tree import DecisionTreeClassifier\n",
    "dct = DecisionTreeClassifier(random_state=42).fit(X_train, y_train)"
   ]
  },
  {
   "cell_type": "code",
   "execution_count": 6,
   "outputs": [
    {
     "name": "stdout",
     "output_type": "stream",
     "text": [
      "|   Predicted 0 |   Predicted 1 |\n",
      "|---------------+---------------|\n",
      "|         44795 |             0 |\n",
      "|             0 |          6293 |\n",
      "\n",
      "accuracy:              1.0\n",
      "precision:             1.0\n",
      "recall:                1.0\n",
      "f1:                    1.0\n",
      "roc_auc_discrete:      1.0\n",
      "roc_auc_continuous:    1.0\n",
      "|   Predicted 0 |   Predicted 1 |\n",
      "|---------------+---------------|\n",
      "|         17004 |          2208 |\n",
      "|          1788 |           895 |\n",
      "\n",
      "accuracy:              0.8175\n",
      "precision:             0.2884\n",
      "recall:                0.3336\n",
      "f1:                    0.3094\n",
      "roc_auc_discrete:      0.6093\n",
      "roc_auc_continuous:    0.6093\n"
     ]
    }
   ],
   "source": [
    "show_scores(dct, X_train, y_train)\n",
    "show_scores(dct, X_val, y_val)"
   ],
   "metadata": {
    "collapsed": false,
    "ExecuteTime": {
     "start_time": "2023-05-15T16:10:00.412580Z",
     "end_time": "2023-05-15T16:10:00.563457Z"
    }
   }
  },
  {
   "cell_type": "code",
   "execution_count": 7,
   "outputs": [],
   "source": [
    "from sklearn.model_selection import GridSearchCV\n",
    "\n",
    "parameters = dict(max_depth=np.arange(1, 100))\n",
    "depth_search = GridSearchCV(dct, cv=3, scoring='precision', return_train_score=True, param_grid=parameters, n_jobs=-1).fit(X_train, y_train)"
   ],
   "metadata": {
    "collapsed": false,
    "ExecuteTime": {
     "start_time": "2023-05-15T16:10:04.747132Z",
     "end_time": "2023-05-15T16:10:38.805658Z"
    }
   }
  },
  {
   "cell_type": "code",
   "execution_count": 13,
   "outputs": [
    {
     "data": {
      "text/plain": "{'max_depth': 2}"
     },
     "execution_count": 13,
     "metadata": {},
     "output_type": "execute_result"
    }
   ],
   "source": [
    "depth_search.best_params_"
   ],
   "metadata": {
    "collapsed": false,
    "ExecuteTime": {
     "start_time": "2023-05-15T16:11:54.989068Z",
     "end_time": "2023-05-15T16:11:54.994433Z"
    }
   }
  },
  {
   "cell_type": "code",
   "execution_count": 8,
   "outputs": [
    {
     "name": "stdout",
     "output_type": "stream",
     "text": [
      "0.706     {'max_depth': 1}\n",
      "0.8383     {'max_depth': 2}\n",
      "0.8075     {'max_depth': 3}\n",
      "0.8302     {'max_depth': 4}\n",
      "0.8276     {'max_depth': 5}\n",
      "0.8349     {'max_depth': 6}\n",
      "0.8155     {'max_depth': 7}\n",
      "0.7916     {'max_depth': 8}\n",
      "0.7503     {'max_depth': 9}\n",
      "0.7173     {'max_depth': 10}\n",
      "0.6463     {'max_depth': 11}\n",
      "0.609     {'max_depth': 12}\n",
      "0.5599     {'max_depth': 13}\n",
      "0.5304     {'max_depth': 14}\n",
      "0.4952     {'max_depth': 15}\n",
      "0.4611     {'max_depth': 16}\n",
      "0.439     {'max_depth': 17}\n",
      "0.4133     {'max_depth': 18}\n",
      "0.3942     {'max_depth': 19}\n",
      "0.3785     {'max_depth': 20}\n",
      "0.3605     {'max_depth': 21}\n",
      "0.3513     {'max_depth': 22}\n",
      "0.3395     {'max_depth': 23}\n",
      "0.3316     {'max_depth': 24}\n",
      "0.329     {'max_depth': 25}\n",
      "0.3253     {'max_depth': 26}\n",
      "0.3171     {'max_depth': 27}\n",
      "0.3126     {'max_depth': 28}\n",
      "0.3086     {'max_depth': 29}\n",
      "0.3061     {'max_depth': 30}\n",
      "0.3069     {'max_depth': 31}\n",
      "0.3048     {'max_depth': 32}\n",
      "0.3012     {'max_depth': 33}\n",
      "0.2992     {'max_depth': 34}\n",
      "0.299     {'max_depth': 35}\n",
      "0.2991     {'max_depth': 36}\n",
      "0.298     {'max_depth': 37}\n",
      "0.2988     {'max_depth': 38}\n",
      "0.2979     {'max_depth': 39}\n",
      "0.2941     {'max_depth': 40}\n",
      "0.2949     {'max_depth': 41}\n",
      "0.2949     {'max_depth': 42}\n",
      "0.2949     {'max_depth': 43}\n",
      "0.2949     {'max_depth': 44}\n",
      "0.2949     {'max_depth': 45}\n",
      "0.2949     {'max_depth': 46}\n",
      "0.2949     {'max_depth': 47}\n",
      "0.2949     {'max_depth': 48}\n",
      "0.2949     {'max_depth': 49}\n",
      "0.2949     {'max_depth': 50}\n",
      "0.2949     {'max_depth': 51}\n",
      "0.2949     {'max_depth': 52}\n",
      "0.2949     {'max_depth': 53}\n",
      "0.2949     {'max_depth': 54}\n",
      "0.2949     {'max_depth': 55}\n",
      "0.2949     {'max_depth': 56}\n",
      "0.2949     {'max_depth': 57}\n",
      "0.2949     {'max_depth': 58}\n",
      "0.2949     {'max_depth': 59}\n",
      "0.2949     {'max_depth': 60}\n",
      "0.2949     {'max_depth': 61}\n",
      "0.2949     {'max_depth': 62}\n",
      "0.2949     {'max_depth': 63}\n",
      "0.2949     {'max_depth': 64}\n",
      "0.2949     {'max_depth': 65}\n",
      "0.2949     {'max_depth': 66}\n",
      "0.2949     {'max_depth': 67}\n",
      "0.2949     {'max_depth': 68}\n",
      "0.2949     {'max_depth': 69}\n",
      "0.2949     {'max_depth': 70}\n",
      "0.2949     {'max_depth': 71}\n",
      "0.2949     {'max_depth': 72}\n",
      "0.2949     {'max_depth': 73}\n",
      "0.2949     {'max_depth': 74}\n",
      "0.2949     {'max_depth': 75}\n",
      "0.2949     {'max_depth': 76}\n",
      "0.2949     {'max_depth': 77}\n",
      "0.2949     {'max_depth': 78}\n",
      "0.2949     {'max_depth': 79}\n",
      "0.2949     {'max_depth': 80}\n",
      "0.2949     {'max_depth': 81}\n",
      "0.2949     {'max_depth': 82}\n",
      "0.2949     {'max_depth': 83}\n",
      "0.2949     {'max_depth': 84}\n",
      "0.2949     {'max_depth': 85}\n",
      "0.2949     {'max_depth': 86}\n",
      "0.2949     {'max_depth': 87}\n",
      "0.2949     {'max_depth': 88}\n",
      "0.2949     {'max_depth': 89}\n",
      "0.2949     {'max_depth': 90}\n",
      "0.2949     {'max_depth': 91}\n",
      "0.2949     {'max_depth': 92}\n",
      "0.2949     {'max_depth': 93}\n",
      "0.2949     {'max_depth': 94}\n",
      "0.2949     {'max_depth': 95}\n",
      "0.2949     {'max_depth': 96}\n",
      "0.2949     {'max_depth': 97}\n",
      "0.2949     {'max_depth': 98}\n",
      "0.2949     {'max_depth': 99}\n"
     ]
    }
   ],
   "source": [
    "res = depth_search.cv_results_\n",
    "for mean_score, params in zip(res[\"mean_test_score\"], res[\"params\"]):\n",
    "    print(round(mean_score, 4), \"   \", params)"
   ],
   "metadata": {
    "collapsed": false,
    "ExecuteTime": {
     "start_time": "2023-05-15T16:10:38.806058Z",
     "end_time": "2023-05-15T16:10:38.811686Z"
    }
   }
  },
  {
   "cell_type": "code",
   "execution_count": 9,
   "outputs": [
    {
     "name": "stdout",
     "output_type": "stream",
     "text": [
      "|   Predicted 0 |   Predicted 1 |\n",
      "|---------------+---------------|\n",
      "|         44534 |           261 |\n",
      "|          4945 |          1348 |\n",
      "\n",
      "accuracy:              0.8981\n",
      "precision:             0.8378\n",
      "recall:                0.2142\n",
      "f1:                    0.3412\n",
      "roc_auc_discrete:      0.6042\n",
      "roc_auc_continuous:    0.7065\n",
      "|   Predicted 0 |   Predicted 1 |\n",
      "|---------------+---------------|\n",
      "|         19089 |           123 |\n",
      "|          2072 |           611 |\n",
      "\n",
      "accuracy:              0.8997\n",
      "precision:             0.8324\n",
      "recall:                0.2277\n",
      "f1:                    0.3576\n",
      "roc_auc_discrete:      0.6107\n",
      "roc_auc_continuous:    0.6971\n"
     ]
    }
   ],
   "source": [
    "show_scores(depth_search.best_estimator_, X_train, y_train)\n",
    "show_scores(depth_search.best_estimator_, X_val, y_val)"
   ],
   "metadata": {
    "collapsed": false,
    "ExecuteTime": {
     "start_time": "2023-05-15T16:10:38.814802Z",
     "end_time": "2023-05-15T16:10:38.918029Z"
    }
   }
  },
  {
   "cell_type": "code",
   "execution_count": 17,
   "outputs": [],
   "source": [
    "from sklearn.model_selection import RandomizedSearchCV\n",
    "\n",
    "parameters = dict(max_depth=np.arange(25, 65, 3), min_samples_split=np.arange(2, 8),\n",
    "                  min_samples_leaf=np.arange(1, 20, 2), max_features=np.arange(20, 150, 5))\n",
    "\n",
    "rand_search = RandomizedSearchCV(dct, scoring='accuracy', cv=3, return_train_score=True, param_distributions=parameters,n_iter=100, n_jobs=-1, random_state=42).fit(X_train, y_train)"
   ],
   "metadata": {
    "collapsed": false,
    "ExecuteTime": {
     "start_time": "2023-05-15T16:12:46.527000Z",
     "end_time": "2023-05-15T16:13:08.513131Z"
    }
   }
  },
  {
   "cell_type": "code",
   "execution_count": 18,
   "outputs": [
    {
     "data": {
      "text/plain": "{'min_samples_split': 7,\n 'min_samples_leaf': 19,\n 'max_features': 70,\n 'max_depth': 64}"
     },
     "execution_count": 18,
     "metadata": {},
     "output_type": "execute_result"
    }
   ],
   "source": [
    "rand_search.best_params_"
   ],
   "metadata": {
    "collapsed": false,
    "ExecuteTime": {
     "start_time": "2023-05-15T16:13:08.514399Z",
     "end_time": "2023-05-15T16:13:08.518068Z"
    }
   }
  },
  {
   "cell_type": "code",
   "execution_count": 19,
   "outputs": [
    {
     "name": "stdout",
     "output_type": "stream",
     "text": [
      "|   Predicted 0 |   Predicted 1 |\n",
      "|---------------+---------------|\n",
      "|         44321 |           474 |\n",
      "|          4527 |          1766 |\n",
      "\n",
      "accuracy:              0.9021\n",
      "precision:             0.7884\n",
      "recall:                0.2806\n",
      "f1:                    0.4139\n",
      "roc_auc_discrete:      0.635\n",
      "roc_auc_continuous:    0.8953\n",
      "|   Predicted 0 |   Predicted 1 |\n",
      "|---------------+---------------|\n",
      "|         18894 |           318 |\n",
      "|          2009 |           674 |\n",
      "\n",
      "accuracy:              0.8937\n",
      "precision:             0.6794\n",
      "recall:                0.2512\n",
      "f1:                    0.3668\n",
      "roc_auc_discrete:      0.6173\n",
      "roc_auc_continuous:    0.6984\n"
     ]
    }
   ],
   "source": [
    "show_scores(rand_search.best_estimator_, X_train, y_train)\n",
    "show_scores(rand_search.best_estimator_, X_val, y_val)"
   ],
   "metadata": {
    "collapsed": false,
    "ExecuteTime": {
     "start_time": "2023-05-15T16:13:08.517666Z",
     "end_time": "2023-05-15T16:13:08.637217Z"
    }
   }
  }
 ],
 "metadata": {
  "kernelspec": {
   "display_name": "Python 3 (ipykernel)",
   "language": "python",
   "name": "python3"
  },
  "language_info": {
   "codemirror_mode": {
    "name": "ipython",
    "version": 3
   },
   "file_extension": ".py",
   "mimetype": "text/x-python",
   "name": "python",
   "nbconvert_exporter": "python",
   "pygments_lexer": "ipython3",
   "version": "3.9.4"
  }
 },
 "nbformat": 4,
 "nbformat_minor": 2
}
