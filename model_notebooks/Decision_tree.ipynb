{
 "cells": [
  {
   "cell_type": "code",
   "execution_count": 65,
   "metadata": {
    "ExecuteTime": {
     "start_time": "2023-05-09T18:48:53.632149Z",
     "end_time": "2023-05-09T18:48:53.639293Z"
    }
   },
   "outputs": [],
   "source": [
    "import pandas as pd\n",
    "import numpy as np\n",
    "from sklearn.metrics import accuracy_score, precision_score, recall_score, f1_score, confusion_matrix, roc_auc_score\n",
    "from tabulate import tabulate\n",
    "\n",
    "import warnings\n",
    "import os\n",
    "import sys\n",
    "if not sys.warnoptions:\n",
    "    warnings.simplefilter(\"ignore\")\n",
    "    os.environ[\"PYTHONWARNINGS\"] = \"ignore\"\n",
    "\n",
    "np.random.seed(42)"
   ]
  },
  {
   "cell_type": "code",
   "execution_count": 66,
   "outputs": [],
   "source": [
    "def show_scores(clf, X, y):\n",
    "    y_pred = clf.predict(X)\n",
    "    y_pred_prob = clf.predict_proba(X)\n",
    "    print(tabulate(confusion_matrix(y, y_pred), headers=['Predicted 0', 'Predicted 1'], tablefmt='orgtbl'))\n",
    "    print()\n",
    "    print(f'accuracy:              {round(accuracy_score(y, y_pred), 4)}')\n",
    "    print(f'precision:             {round(precision_score(y, y_pred), 4)}')\n",
    "    print(f'recall:                {round(recall_score(y, y_pred), 4)}')\n",
    "    print(f'f1:                    {round(f1_score(y, y_pred), 4)}')\n",
    "    print(f'roc_auc_discrete:      {round(roc_auc_score(y, y_pred), 4)}')\n",
    "    print(f'roc_auc_continuous:    {round(roc_auc_score(y, y_pred_prob[:, 1]), 4)}')"
   ],
   "metadata": {
    "collapsed": false,
    "ExecuteTime": {
     "start_time": "2023-05-09T18:48:53.812478Z",
     "end_time": "2023-05-09T18:48:53.820215Z"
    }
   }
  },
  {
   "cell_type": "markdown",
   "metadata": {},
   "source": [
    "# Decision tree"
   ]
  },
  {
   "cell_type": "code",
   "execution_count": 67,
   "outputs": [],
   "source": [
    "X_train = pd.read_csv(\"../preprocessed_data/X_train.csv\")\n",
    "y_train = pd.read_csv(\"../preprocessed_data/y_train.csv\")\n",
    "\n",
    "X_val  = pd.read_csv(\"../preprocessed_data/X_val.csv\")\n",
    "y_val  = pd.read_csv(\"../preprocessed_data/y_val.csv\")"
   ],
   "metadata": {
    "collapsed": false,
    "ExecuteTime": {
     "start_time": "2023-05-09T18:48:54.632308Z",
     "end_time": "2023-05-09T18:48:55.117903Z"
    }
   }
  },
  {
   "cell_type": "code",
   "execution_count": 69,
   "metadata": {
    "ExecuteTime": {
     "start_time": "2023-05-09T18:49:19.335182Z",
     "end_time": "2023-05-09T18:49:19.374823Z"
    }
   },
   "outputs": [],
   "source": [
    "from sklearn.tree import DecisionTreeClassifier\n",
    "dct = DecisionTreeClassifier(random_state=42)"
   ]
  },
  {
   "cell_type": "code",
   "execution_count": 70,
   "outputs": [],
   "source": [
    "from sklearn.model_selection import GridSearchCV\n",
    "\n",
    "parameters = dict(max_depth=np.arange(1, 100))\n",
    "depth_search = GridSearchCV(dct, cv=3, scoring='accuracy', return_train_score=True, param_grid=parameters, n_jobs=-1).fit(X_train, y_train)"
   ],
   "metadata": {
    "collapsed": false,
    "ExecuteTime": {
     "start_time": "2023-05-09T18:49:21.214365Z",
     "end_time": "2023-05-09T18:49:53.042755Z"
    }
   }
  },
  {
   "cell_type": "code",
   "execution_count": 71,
   "outputs": [
    {
     "name": "stdout",
     "output_type": "stream",
     "text": [
      "0.895     {'max_depth': 1}\n",
      "0.8993     {'max_depth': 2}\n",
      "0.8995     {'max_depth': 3}\n",
      "0.8992     {'max_depth': 4}\n",
      "0.8992     {'max_depth': 5}\n",
      "0.8986     {'max_depth': 6}\n",
      "0.8975     {'max_depth': 7}\n",
      "0.8969     {'max_depth': 8}\n",
      "0.8942     {'max_depth': 9}\n",
      "0.8922     {'max_depth': 10}\n",
      "0.8897     {'max_depth': 11}\n",
      "0.8868     {'max_depth': 12}\n",
      "0.8834     {'max_depth': 13}\n",
      "0.8796     {'max_depth': 14}\n",
      "0.8754     {'max_depth': 15}\n",
      "0.872     {'max_depth': 16}\n",
      "0.868     {'max_depth': 17}\n",
      "0.8633     {'max_depth': 18}\n",
      "0.8585     {'max_depth': 19}\n",
      "0.855     {'max_depth': 20}\n",
      "0.8496     {'max_depth': 21}\n",
      "0.8461     {'max_depth': 22}\n",
      "0.8436     {'max_depth': 23}\n",
      "0.8403     {'max_depth': 24}\n",
      "0.8381     {'max_depth': 25}\n",
      "0.8356     {'max_depth': 26}\n",
      "0.834     {'max_depth': 27}\n",
      "0.8319     {'max_depth': 28}\n",
      "0.8288     {'max_depth': 29}\n",
      "0.8294     {'max_depth': 30}\n",
      "0.8279     {'max_depth': 31}\n",
      "0.8264     {'max_depth': 32}\n",
      "0.8235     {'max_depth': 33}\n",
      "0.825     {'max_depth': 34}\n",
      "0.8242     {'max_depth': 35}\n",
      "0.8253     {'max_depth': 36}\n",
      "0.8235     {'max_depth': 37}\n",
      "0.8239     {'max_depth': 38}\n",
      "0.8239     {'max_depth': 39}\n",
      "0.824     {'max_depth': 40}\n",
      "0.8239     {'max_depth': 41}\n",
      "0.8244     {'max_depth': 42}\n",
      "0.8239     {'max_depth': 43}\n",
      "0.8242     {'max_depth': 44}\n",
      "0.8234     {'max_depth': 45}\n",
      "0.8229     {'max_depth': 46}\n",
      "0.8231     {'max_depth': 47}\n",
      "0.8231     {'max_depth': 48}\n",
      "0.823     {'max_depth': 49}\n",
      "0.8231     {'max_depth': 50}\n",
      "0.8235     {'max_depth': 51}\n",
      "0.8235     {'max_depth': 52}\n",
      "0.8235     {'max_depth': 53}\n",
      "0.8235     {'max_depth': 54}\n",
      "0.8235     {'max_depth': 55}\n",
      "0.8235     {'max_depth': 56}\n",
      "0.8235     {'max_depth': 57}\n",
      "0.8235     {'max_depth': 58}\n",
      "0.8235     {'max_depth': 59}\n",
      "0.8235     {'max_depth': 60}\n",
      "0.8235     {'max_depth': 61}\n",
      "0.8235     {'max_depth': 62}\n",
      "0.8235     {'max_depth': 63}\n",
      "0.8235     {'max_depth': 64}\n",
      "0.8235     {'max_depth': 65}\n",
      "0.8235     {'max_depth': 66}\n",
      "0.8235     {'max_depth': 67}\n",
      "0.8235     {'max_depth': 68}\n",
      "0.8235     {'max_depth': 69}\n",
      "0.8235     {'max_depth': 70}\n",
      "0.8235     {'max_depth': 71}\n",
      "0.8235     {'max_depth': 72}\n",
      "0.8235     {'max_depth': 73}\n",
      "0.8235     {'max_depth': 74}\n",
      "0.8235     {'max_depth': 75}\n",
      "0.8235     {'max_depth': 76}\n",
      "0.8235     {'max_depth': 77}\n",
      "0.8235     {'max_depth': 78}\n",
      "0.8235     {'max_depth': 79}\n",
      "0.8235     {'max_depth': 80}\n",
      "0.8235     {'max_depth': 81}\n",
      "0.8235     {'max_depth': 82}\n",
      "0.8235     {'max_depth': 83}\n",
      "0.8235     {'max_depth': 84}\n",
      "0.8235     {'max_depth': 85}\n",
      "0.8235     {'max_depth': 86}\n",
      "0.8235     {'max_depth': 87}\n",
      "0.8235     {'max_depth': 88}\n",
      "0.8235     {'max_depth': 89}\n",
      "0.8235     {'max_depth': 90}\n",
      "0.8235     {'max_depth': 91}\n",
      "0.8235     {'max_depth': 92}\n",
      "0.8235     {'max_depth': 93}\n",
      "0.8235     {'max_depth': 94}\n",
      "0.8235     {'max_depth': 95}\n",
      "0.8235     {'max_depth': 96}\n",
      "0.8235     {'max_depth': 97}\n",
      "0.8235     {'max_depth': 98}\n",
      "0.8235     {'max_depth': 99}\n"
     ]
    }
   ],
   "source": [
    "res = depth_search.cv_results_\n",
    "for mean_score, params in zip(res[\"mean_test_score\"], res[\"params\"]):\n",
    "    print(round(mean_score, 4), \"   \", params)"
   ],
   "metadata": {
    "collapsed": false,
    "ExecuteTime": {
     "start_time": "2023-05-09T18:49:58.095168Z",
     "end_time": "2023-05-09T18:49:58.116676Z"
    }
   }
  },
  {
   "cell_type": "code",
   "execution_count": 72,
   "outputs": [
    {
     "name": "stdout",
     "output_type": "stream",
     "text": [
      "|   Predicted 0 |   Predicted 1 |\n",
      "|---------------+---------------|\n",
      "|         44549 |           256 |\n",
      "|          4872 |          1411 |\n",
      "\n",
      "accuracy:              0.8996\n",
      "precision:             0.8464\n",
      "recall:                0.2246\n",
      "f1:                    0.355\n",
      "roc_auc_discrete:      0.6094\n",
      "roc_auc_continuous:    0.7142\n",
      "|   Predicted 0 |   Predicted 1 |\n",
      "|---------------+---------------|\n",
      "|         19073 |           129 |\n",
      "|          2121 |           572 |\n",
      "\n",
      "accuracy:              0.8972\n",
      "precision:             0.816\n",
      "recall:                0.2124\n",
      "f1:                    0.3371\n",
      "roc_auc_discrete:      0.6028\n",
      "roc_auc_continuous:    0.7111\n"
     ]
    }
   ],
   "source": [
    "show_scores(depth_search.best_estimator_, X_train, y_train)\n",
    "show_scores(depth_search.best_estimator_, X_val, y_val)"
   ],
   "metadata": {
    "collapsed": false,
    "ExecuteTime": {
     "start_time": "2023-05-09T18:50:00.044395Z",
     "end_time": "2023-05-09T18:50:00.220035Z"
    }
   }
  },
  {
   "cell_type": "code",
   "execution_count": 9,
   "outputs": [
    {
     "name": "stdout",
     "output_type": "stream",
     "text": [
      "|   Predicted 0 |   Predicted 1 |\n",
      "|---------------+---------------|\n",
      "|         19073 |           129 |\n",
      "|          2121 |           572 |\n",
      "\n",
      "accuracy:              0.8972\n",
      "precision:             0.816\n",
      "recall:                0.2124\n",
      "f1:                    0.3371\n",
      "roc_auc_discrete:      0.6028\n",
      "roc_auc_continuous:    0.7111\n"
     ]
    }
   ],
   "source": [
    "from sklearn.model_selection import RandomizedSearchCV\n",
    "\n",
    "parameters = dict(max_depth=np.arange(25, 65, 3), min_samples_split=np.arange(2, 8),\n",
    "                  min_samples_leaf=np.arange(1, 20, 2), max_features=np.arange(20, 150, 5))\n",
    "\n",
    "rand_search = RandomizedSearchCV(dct, scoring='roc_auc', cv=3, return_train_score=True, param_distributions=parameters,n_iter=100, n_jobs=-1, random_state=42).fit(X_train, y_train)"
   ],
   "metadata": {
    "collapsed": false,
    "ExecuteTime": {
     "start_time": "2023-05-09T13:21:06.765592Z",
     "end_time": "2023-05-09T13:21:31.462261Z"
    }
   }
  },
  {
   "cell_type": "code",
   "execution_count": 10,
   "outputs": [
    {
     "name": "stdout",
     "output_type": "stream",
     "text": [
      "|   Predicted 0 |   Predicted 1 |\n",
      "|---------------+---------------|\n",
      "|         44396 |           409 |\n",
      "|          4606 |          1677 |\n",
      "\n",
      "accuracy:              0.9018\n",
      "precision:             0.8039\n",
      "recall:                0.2669\n",
      "f1:                    0.4008\n",
      "roc_auc_discrete:      0.6289\n",
      "roc_auc_continuous:    0.8924\n",
      "|   Predicted 0 |   Predicted 1 |\n",
      "|---------------+---------------|\n",
      "|         18936 |           266 |\n",
      "|          2090 |           603 |\n",
      "\n",
      "accuracy:              0.8924\n",
      "precision:             0.6939\n",
      "recall:                0.2239\n",
      "f1:                    0.3386\n",
      "roc_auc_discrete:      0.605\n",
      "roc_auc_continuous:    0.6872\n"
     ]
    }
   ],
   "source": [
    "show_scores(rand_search.best_estimator_, X_train, y_train)\n",
    "show_scores(rand_search.best_estimator_, X_val, y_val)"
   ],
   "metadata": {
    "collapsed": false,
    "ExecuteTime": {
     "start_time": "2023-05-09T13:21:31.453516Z",
     "end_time": "2023-05-09T13:21:31.591126Z"
    }
   }
  }
 ],
 "metadata": {
  "kernelspec": {
   "display_name": "Python 3 (ipykernel)",
   "language": "python",
   "name": "python3"
  },
  "language_info": {
   "codemirror_mode": {
    "name": "ipython",
    "version": 3
   },
   "file_extension": ".py",
   "mimetype": "text/x-python",
   "name": "python",
   "nbconvert_exporter": "python",
   "pygments_lexer": "ipython3",
   "version": "3.9.4"
  }
 },
 "nbformat": 4,
 "nbformat_minor": 2
}
