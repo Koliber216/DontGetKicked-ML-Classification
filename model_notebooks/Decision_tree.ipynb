{
 "cells": [
  {
   "cell_type": "code",
   "execution_count": 44,
   "metadata": {
    "ExecuteTime": {
     "start_time": "2023-05-15T17:36:45.391363Z",
     "end_time": "2023-05-15T17:36:45.396900Z"
    }
   },
   "outputs": [],
   "source": [
    "import pandas as pd\n",
    "import numpy as np\n",
    "import matplotlib.pyplot as plt\n",
    "import seaborn as sns\n",
    "\n",
    "from sklearn.tree import DecisionTreeClassifier\n",
    "from sklearn.model_selection import GridSearchCV, RandomizedSearchCV\n",
    "from sklearn import metrics\n",
    "from sklearn.metrics import accuracy_score, precision_score, recall_score, f1_score, confusion_matrix, roc_auc_score\n",
    "\n",
    "import warnings\n",
    "import os\n",
    "import sys\n",
    "if not sys.warnoptions:\n",
    "    warnings.simplefilter(\"ignore\")\n",
    "    os.environ[\"PYTHONWARNINGS\"] = \"ignore\"\n",
    "\n",
    "np.random.seed(42)"
   ]
  },
  {
   "cell_type": "code",
   "execution_count": 2,
   "outputs": [],
   "source": [
    "from tabulate import tabulate\n",
    "\n",
    "def show_scores(clf, X, y):\n",
    "    y_pred = clf.predict(X)\n",
    "    y_pred_prob = clf.predict_proba(X)\n",
    "    print(tabulate(confusion_matrix(y, y_pred), headers=['Predicted 0', 'Predicted 1'], tablefmt='orgtbl'))\n",
    "    print()\n",
    "    print(f'accuracy:              {round(accuracy_score(y, y_pred), 4)}')\n",
    "    print(f'precision:             {round(precision_score(y, y_pred), 4)}')\n",
    "    print(f'recall:                {round(recall_score(y, y_pred), 4)}')\n",
    "    print(f'f1:                    {round(f1_score(y, y_pred), 4)}')\n",
    "    print(f'roc_auc:               {round(roc_auc_score(y, y_pred), 4)}')\n",
    "    print(f'roc_auc_pred_prob:     {round(roc_auc_score(y, y_pred_prob[:, 1]), 4)}')"
   ],
   "metadata": {
    "collapsed": false,
    "ExecuteTime": {
     "start_time": "2023-05-15T17:16:28.749274Z",
     "end_time": "2023-05-15T17:16:28.751420Z"
    }
   }
  },
  {
   "cell_type": "markdown",
   "source": [
    "### Ładowanie zbiorów danych, pierwszy model"
   ],
   "metadata": {
    "collapsed": false
   }
  },
  {
   "cell_type": "code",
   "execution_count": 3,
   "outputs": [],
   "source": [
    "X_train = pd.read_csv(\"../preprocessed_data/X_train.csv\")\n",
    "y_train = pd.read_csv(\"../preprocessed_data/y_train.csv\")\n",
    "\n",
    "X_val = pd.read_csv(\"../preprocessed_data/X_val.csv\")\n",
    "y_val = pd.read_csv(\"../preprocessed_data/y_val.csv\")"
   ],
   "metadata": {
    "collapsed": false,
    "ExecuteTime": {
     "start_time": "2023-05-15T17:16:28.753714Z",
     "end_time": "2023-05-15T17:16:29.227980Z"
    }
   }
  },
  {
   "cell_type": "code",
   "execution_count": 4,
   "metadata": {
    "ExecuteTime": {
     "start_time": "2023-05-15T17:16:29.228594Z",
     "end_time": "2023-05-15T17:16:30.045024Z"
    }
   },
   "outputs": [],
   "source": [
    "dct = DecisionTreeClassifier(random_state=42).fit(X_train, y_train)"
   ]
  },
  {
   "cell_type": "code",
   "execution_count": 5,
   "outputs": [
    {
     "name": "stdout",
     "output_type": "stream",
     "text": [
      "|   Predicted 0 |   Predicted 1 |\n",
      "|---------------+---------------|\n",
      "|         44795 |             0 |\n",
      "|             0 |          6293 |\n",
      "\n",
      "accuracy:              1.0\n",
      "precision:             1.0\n",
      "recall:                1.0\n",
      "f1:                    1.0\n",
      "roc_auc:               1.0\n",
      "roc_auc_pred_prob:     1.0\n",
      "|   Predicted 0 |   Predicted 1 |\n",
      "|---------------+---------------|\n",
      "|         17015 |          2197 |\n",
      "|          1797 |           886 |\n",
      "\n",
      "accuracy:              0.8176\n",
      "precision:             0.2874\n",
      "recall:                0.3302\n",
      "f1:                    0.3073\n",
      "roc_auc:               0.6079\n",
      "roc_auc_pred_prob:     0.6079\n"
     ]
    }
   ],
   "source": [
    "show_scores(dct, X_train, y_train)\n",
    "show_scores(dct, X_val, y_val)"
   ],
   "metadata": {
    "collapsed": false,
    "ExecuteTime": {
     "start_time": "2023-05-15T17:16:30.047419Z",
     "end_time": "2023-05-15T17:16:30.171807Z"
    }
   }
  },
  {
   "cell_type": "markdown",
   "source": [
    "### Strojenie hiperparametrów"
   ],
   "metadata": {
    "collapsed": false
   }
  },
  {
   "cell_type": "code",
   "execution_count": 6,
   "outputs": [],
   "source": [
    "parameters = dict(max_depth=np.arange(1, 100))\n",
    "depth_search = GridSearchCV(dct, cv=3, scoring='precision', return_train_score=True, param_grid=parameters, n_jobs=-1).fit(X_train, y_train)"
   ],
   "metadata": {
    "collapsed": false,
    "ExecuteTime": {
     "start_time": "2023-05-15T17:16:30.174767Z",
     "end_time": "2023-05-15T17:17:02.802343Z"
    }
   }
  },
  {
   "cell_type": "code",
   "execution_count": 7,
   "outputs": [
    {
     "data": {
      "text/plain": "{'max_depth': 2}"
     },
     "execution_count": 7,
     "metadata": {},
     "output_type": "execute_result"
    }
   ],
   "source": [
    "depth_search.best_params_"
   ],
   "metadata": {
    "collapsed": false,
    "ExecuteTime": {
     "start_time": "2023-05-15T17:17:02.802240Z",
     "end_time": "2023-05-15T17:17:02.807781Z"
    }
   }
  },
  {
   "cell_type": "code",
   "execution_count": 34,
   "outputs": [
    {
     "name": "stdout",
     "output_type": "stream",
     "text": [
      "0.8383     {'max_depth': 2}\n",
      "0.833     {'max_depth': 6}\n",
      "0.8302     {'max_depth': 4}\n",
      "0.8276     {'max_depth': 5}\n",
      "0.8165     {'max_depth': 7}\n",
      "0.8075     {'max_depth': 3}\n",
      "0.7882     {'max_depth': 8}\n",
      "0.7448     {'max_depth': 9}\n",
      "0.7185     {'max_depth': 10}\n",
      "0.706     {'max_depth': 1}\n",
      "0.6569     {'max_depth': 11}\n",
      "0.6127     {'max_depth': 12}\n",
      "0.5598     {'max_depth': 13}\n",
      "0.5314     {'max_depth': 14}\n",
      "0.4976     {'max_depth': 15}\n",
      "0.464     {'max_depth': 16}\n",
      "0.4378     {'max_depth': 17}\n",
      "0.4134     {'max_depth': 18}\n",
      "0.3998     {'max_depth': 19}\n",
      "0.3776     {'max_depth': 20}\n",
      "0.3597     {'max_depth': 21}\n",
      "0.3506     {'max_depth': 22}\n",
      "0.3397     {'max_depth': 23}\n",
      "0.3315     {'max_depth': 24}\n",
      "0.3221     {'max_depth': 26}\n",
      "0.3217     {'max_depth': 25}\n",
      "0.3173     {'max_depth': 27}\n",
      "0.3162     {'max_depth': 28}\n",
      "0.3114     {'max_depth': 29}\n",
      "0.3102     {'max_depth': 30}\n",
      "0.3043     {'max_depth': 31}\n",
      "0.3002     {'max_depth': 32}\n",
      "0.2981     {'max_depth': 33}\n",
      "0.2971     {'max_depth': 34}\n",
      "0.2969     {'max_depth': 38}\n",
      "0.2956     {'max_depth': 36}\n",
      "0.2956     {'max_depth': 37}\n",
      "0.2944     {'max_depth': 39}\n",
      "0.2938     {'max_depth': 40}\n",
      "0.2933     {'max_depth': 79}\n",
      "0.2933     {'max_depth': 83}\n",
      "0.2933     {'max_depth': 82}\n",
      "0.2933     {'max_depth': 85}\n",
      "0.2933     {'max_depth': 81}\n",
      "0.2933     {'max_depth': 80}\n",
      "0.2933     {'max_depth': 73}\n",
      "0.2933     {'max_depth': 78}\n",
      "0.2933     {'max_depth': 77}\n",
      "0.2933     {'max_depth': 76}\n",
      "0.2933     {'max_depth': 75}\n",
      "0.2933     {'max_depth': 74}\n",
      "0.2933     {'max_depth': 72}\n",
      "0.2933     {'max_depth': 84}\n",
      "0.2933     {'max_depth': 98}\n",
      "0.2933     {'max_depth': 86}\n",
      "0.2933     {'max_depth': 87}\n",
      "0.2933     {'max_depth': 88}\n",
      "0.2933     {'max_depth': 89}\n",
      "0.2933     {'max_depth': 90}\n",
      "0.2933     {'max_depth': 91}\n",
      "0.2933     {'max_depth': 92}\n",
      "0.2933     {'max_depth': 93}\n",
      "0.2933     {'max_depth': 94}\n",
      "0.2933     {'max_depth': 95}\n",
      "0.2933     {'max_depth': 96}\n",
      "0.2933     {'max_depth': 97}\n",
      "0.2933     {'max_depth': 70}\n",
      "0.2933     {'max_depth': 71}\n",
      "0.2933     {'max_depth': 50}\n",
      "0.2933     {'max_depth': 69}\n",
      "0.2933     {'max_depth': 68}\n",
      "0.2933     {'max_depth': 41}\n",
      "0.2933     {'max_depth': 42}\n",
      "0.2933     {'max_depth': 43}\n",
      "0.2933     {'max_depth': 44}\n",
      "0.2933     {'max_depth': 45}\n",
      "0.2933     {'max_depth': 46}\n",
      "0.2933     {'max_depth': 47}\n",
      "0.2933     {'max_depth': 48}\n",
      "0.2933     {'max_depth': 49}\n",
      "0.2933     {'max_depth': 51}\n",
      "0.2933     {'max_depth': 52}\n",
      "0.2933     {'max_depth': 53}\n",
      "0.2933     {'max_depth': 54}\n",
      "0.2933     {'max_depth': 55}\n",
      "0.2933     {'max_depth': 56}\n",
      "0.2933     {'max_depth': 57}\n",
      "0.2933     {'max_depth': 58}\n",
      "0.2933     {'max_depth': 59}\n",
      "0.2933     {'max_depth': 60}\n",
      "0.2933     {'max_depth': 61}\n",
      "0.2933     {'max_depth': 62}\n",
      "0.2933     {'max_depth': 63}\n",
      "0.2933     {'max_depth': 64}\n",
      "0.2933     {'max_depth': 65}\n",
      "0.2933     {'max_depth': 66}\n",
      "0.2933     {'max_depth': 67}\n",
      "0.2933     {'max_depth': 99}\n",
      "0.2933     {'max_depth': 35}\n"
     ]
    }
   ],
   "source": [
    "res = pd.DataFrame(depth_search.cv_results_).sort_values(\"mean_test_score\", ascending=False)\n",
    "for mean_score, params in zip(res[\"mean_test_score\"], res[\"params\"]):\n",
    "    print(round(mean_score, 4), \"   \", params)"
   ],
   "metadata": {
    "collapsed": false,
    "ExecuteTime": {
     "start_time": "2023-05-15T17:31:11.670436Z",
     "end_time": "2023-05-15T17:31:11.680545Z"
    }
   }
  },
  {
   "cell_type": "code",
   "execution_count": 9,
   "outputs": [
    {
     "name": "stdout",
     "output_type": "stream",
     "text": [
      "|   Predicted 0 |   Predicted 1 |\n",
      "|---------------+---------------|\n",
      "|         44534 |           261 |\n",
      "|          4945 |          1348 |\n",
      "\n",
      "accuracy:              0.8981\n",
      "precision:             0.8378\n",
      "recall:                0.2142\n",
      "f1:                    0.3412\n",
      "roc_auc:               0.6042\n",
      "roc_auc_pred_prob:     0.7065\n",
      "|   Predicted 0 |   Predicted 1 |\n",
      "|---------------+---------------|\n",
      "|         19089 |           123 |\n",
      "|          2072 |           611 |\n",
      "\n",
      "accuracy:              0.8997\n",
      "precision:             0.8324\n",
      "recall:                0.2277\n",
      "f1:                    0.3576\n",
      "roc_auc:               0.6107\n",
      "roc_auc_pred_prob:     0.6971\n"
     ]
    }
   ],
   "source": [
    "show_scores(depth_search.best_estimator_, X_train, y_train)\n",
    "show_scores(depth_search.best_estimator_, X_val, y_val)"
   ],
   "metadata": {
    "collapsed": false,
    "ExecuteTime": {
     "start_time": "2023-05-15T17:17:02.816500Z",
     "end_time": "2023-05-15T17:17:02.926223Z"
    }
   }
  },
  {
   "cell_type": "code",
   "execution_count": 39,
   "outputs": [],
   "source": [
    "parameters = dict(max_depth=np.arange(25, 65, 3), min_samples_split=np.arange(2, 8),\n",
    "                  min_samples_leaf=np.arange(1, 20, 2), max_features=np.arange(20, 150, 5))\n",
    "\n",
    "rand_search = RandomizedSearchCV(dct, scoring='precision', cv=3, return_train_score=True, param_distributions=parameters,n_iter=100, n_jobs=-1, random_state=42).fit(X_train, y_train)"
   ],
   "metadata": {
    "collapsed": false,
    "ExecuteTime": {
     "start_time": "2023-05-15T17:33:12.409856Z",
     "end_time": "2023-05-15T17:33:34.587476Z"
    }
   }
  },
  {
   "cell_type": "code",
   "execution_count": 46,
   "outputs": [],
   "source": [
    "best_dct = rand_search.best_estimator_"
   ],
   "metadata": {
    "collapsed": false,
    "ExecuteTime": {
     "start_time": "2023-05-15T17:37:25.867572Z",
     "end_time": "2023-05-15T17:37:25.874507Z"
    }
   }
  },
  {
   "cell_type": "code",
   "execution_count": 36,
   "outputs": [
    {
     "data": {
      "text/plain": "{'min_samples_split': 2,\n 'min_samples_leaf': 19,\n 'max_features': 55,\n 'max_depth': 46}"
     },
     "execution_count": 36,
     "metadata": {},
     "output_type": "execute_result"
    }
   ],
   "source": [
    "rand_search.best_params_"
   ],
   "metadata": {
    "collapsed": false,
    "ExecuteTime": {
     "start_time": "2023-05-15T17:32:38.573152Z",
     "end_time": "2023-05-15T17:32:38.577243Z"
    }
   }
  },
  {
   "cell_type": "code",
   "execution_count": 37,
   "outputs": [
    {
     "name": "stdout",
     "output_type": "stream",
     "text": [
      "0.7094     {'min_samples_split': 2, 'min_samples_leaf': 19, 'max_features': 55, 'max_depth': 46}\n",
      "0.6926     {'min_samples_split': 2, 'min_samples_leaf': 15, 'max_features': 25, 'max_depth': 58}\n",
      "0.6925     {'min_samples_split': 4, 'min_samples_leaf': 19, 'max_features': 65, 'max_depth': 34}\n",
      "0.6829     {'min_samples_split': 2, 'min_samples_leaf': 13, 'max_features': 25, 'max_depth': 46}\n",
      "0.672     {'min_samples_split': 4, 'min_samples_leaf': 19, 'max_features': 100, 'max_depth': 25}\n",
      "0.6658     {'min_samples_split': 7, 'min_samples_leaf': 19, 'max_features': 70, 'max_depth': 64}\n",
      "0.6656     {'min_samples_split': 2, 'min_samples_leaf': 15, 'max_features': 35, 'max_depth': 61}\n",
      "0.6558     {'min_samples_split': 3, 'min_samples_leaf': 17, 'max_features': 80, 'max_depth': 25}\n",
      "0.655     {'min_samples_split': 7, 'min_samples_leaf': 17, 'max_features': 90, 'max_depth': 43}\n",
      "0.6502     {'min_samples_split': 5, 'min_samples_leaf': 19, 'max_features': 140, 'max_depth': 64}\n",
      "0.6502     {'min_samples_split': 3, 'min_samples_leaf': 19, 'max_features': 115, 'max_depth': 43}\n",
      "0.6502     {'min_samples_split': 7, 'min_samples_leaf': 19, 'max_features': 145, 'max_depth': 55}\n",
      "0.6502     {'min_samples_split': 3, 'min_samples_leaf': 19, 'max_features': 110, 'max_depth': 28}\n",
      "0.6494     {'min_samples_split': 2, 'min_samples_leaf': 17, 'max_features': 50, 'max_depth': 58}\n",
      "0.6451     {'min_samples_split': 2, 'min_samples_leaf': 15, 'max_features': 60, 'max_depth': 40}\n",
      "0.6445     {'min_samples_split': 4, 'min_samples_leaf': 17, 'max_features': 75, 'max_depth': 34}\n",
      "0.6417     {'min_samples_split': 2, 'min_samples_leaf': 15, 'max_features': 55, 'max_depth': 52}\n",
      "0.6388     {'min_samples_split': 4, 'min_samples_leaf': 17, 'max_features': 120, 'max_depth': 55}\n",
      "0.6364     {'min_samples_split': 4, 'min_samples_leaf': 11, 'max_features': 20, 'max_depth': 31}\n",
      "0.6361     {'min_samples_split': 7, 'min_samples_leaf': 13, 'max_features': 30, 'max_depth': 25}\n",
      "0.6343     {'min_samples_split': 7, 'min_samples_leaf': 15, 'max_features': 55, 'max_depth': 28}\n",
      "0.6319     {'min_samples_split': 2, 'min_samples_leaf': 17, 'max_features': 100, 'max_depth': 28}\n",
      "0.6299     {'min_samples_split': 2, 'min_samples_leaf': 13, 'max_features': 30, 'max_depth': 37}\n",
      "0.6259     {'min_samples_split': 4, 'min_samples_leaf': 17, 'max_features': 80, 'max_depth': 31}\n",
      "0.6239     {'min_samples_split': 3, 'min_samples_leaf': 11, 'max_features': 25, 'max_depth': 37}\n",
      "0.6219     {'min_samples_split': 5, 'min_samples_leaf': 13, 'max_features': 45, 'max_depth': 28}\n",
      "0.6183     {'min_samples_split': 3, 'min_samples_leaf': 15, 'max_features': 85, 'max_depth': 31}\n",
      "0.6143     {'min_samples_split': 4, 'min_samples_leaf': 13, 'max_features': 50, 'max_depth': 61}\n",
      "0.614     {'min_samples_split': 2, 'min_samples_leaf': 15, 'max_features': 80, 'max_depth': 64}\n",
      "0.614     {'min_samples_split': 3, 'min_samples_leaf': 15, 'max_features': 80, 'max_depth': 61}\n",
      "0.6132     {'min_samples_split': 5, 'min_samples_leaf': 17, 'max_features': 80, 'max_depth': 40}\n",
      "0.6022     {'min_samples_split': 7, 'min_samples_leaf': 15, 'max_features': 115, 'max_depth': 28}\n",
      "0.6022     {'min_samples_split': 6, 'min_samples_leaf': 15, 'max_features': 125, 'max_depth': 31}\n",
      "0.5953     {'min_samples_split': 4, 'min_samples_leaf': 13, 'max_features': 65, 'max_depth': 34}\n",
      "0.5935     {'min_samples_split': 3, 'min_samples_leaf': 9, 'max_features': 20, 'max_depth': 37}\n",
      "0.591     {'min_samples_split': 3, 'min_samples_leaf': 9, 'max_features': 20, 'max_depth': 28}\n",
      "0.562     {'min_samples_split': 4, 'min_samples_leaf': 11, 'max_features': 45, 'max_depth': 43}\n",
      "0.5609     {'min_samples_split': 3, 'min_samples_leaf': 11, 'max_features': 50, 'max_depth': 25}\n",
      "0.559     {'min_samples_split': 3, 'min_samples_leaf': 13, 'max_features': 115, 'max_depth': 31}\n",
      "0.5566     {'min_samples_split': 4, 'min_samples_leaf': 9, 'max_features': 35, 'max_depth': 40}\n",
      "0.5556     {'min_samples_split': 5, 'min_samples_leaf': 11, 'max_features': 70, 'max_depth': 37}\n",
      "0.5556     {'min_samples_split': 5, 'min_samples_leaf': 11, 'max_features': 70, 'max_depth': 40}\n",
      "0.5549     {'min_samples_split': 3, 'min_samples_leaf': 13, 'max_features': 95, 'max_depth': 49}\n",
      "0.553     {'min_samples_split': 3, 'min_samples_leaf': 11, 'max_features': 70, 'max_depth': 34}\n",
      "0.5501     {'min_samples_split': 2, 'min_samples_leaf': 11, 'max_features': 60, 'max_depth': 49}\n",
      "0.5459     {'min_samples_split': 4, 'min_samples_leaf': 11, 'max_features': 80, 'max_depth': 58}\n",
      "0.5214     {'min_samples_split': 5, 'min_samples_leaf': 11, 'max_features': 90, 'max_depth': 28}\n",
      "0.5173     {'min_samples_split': 5, 'min_samples_leaf': 11, 'max_features': 90, 'max_depth': 43}\n",
      "0.5147     {'min_samples_split': 7, 'min_samples_leaf': 11, 'max_features': 100, 'max_depth': 25}\n",
      "0.5077     {'min_samples_split': 7, 'min_samples_leaf': 11, 'max_features': 125, 'max_depth': 64}\n",
      "0.5072     {'min_samples_split': 4, 'min_samples_leaf': 11, 'max_features': 105, 'max_depth': 28}\n",
      "0.5069     {'min_samples_split': 7, 'min_samples_leaf': 11, 'max_features': 100, 'max_depth': 34}\n",
      "0.5069     {'min_samples_split': 4, 'min_samples_leaf': 11, 'max_features': 100, 'max_depth': 40}\n",
      "0.5069     {'min_samples_split': 3, 'min_samples_leaf': 11, 'max_features': 100, 'max_depth': 64}\n",
      "0.4855     {'min_samples_split': 4, 'min_samples_leaf': 9, 'max_features': 90, 'max_depth': 40}\n",
      "0.4668     {'min_samples_split': 4, 'min_samples_leaf': 9, 'max_features': 125, 'max_depth': 58}\n",
      "0.4668     {'min_samples_split': 6, 'min_samples_leaf': 9, 'max_features': 140, 'max_depth': 40}\n",
      "0.4668     {'min_samples_split': 4, 'min_samples_leaf': 9, 'max_features': 125, 'max_depth': 46}\n",
      "0.4668     {'min_samples_split': 2, 'min_samples_leaf': 9, 'max_features': 105, 'max_depth': 46}\n",
      "0.4668     {'min_samples_split': 7, 'min_samples_leaf': 9, 'max_features': 105, 'max_depth': 61}\n",
      "0.4606     {'min_samples_split': 7, 'min_samples_leaf': 7, 'max_features': 50, 'max_depth': 52}\n",
      "0.4528     {'min_samples_split': 7, 'min_samples_leaf': 7, 'max_features': 55, 'max_depth': 46}\n",
      "0.4504     {'min_samples_split': 5, 'min_samples_leaf': 7, 'max_features': 55, 'max_depth': 31}\n",
      "0.4437     {'min_samples_split': 5, 'min_samples_leaf': 7, 'max_features': 60, 'max_depth': 52}\n",
      "0.4244     {'min_samples_split': 4, 'min_samples_leaf': 7, 'max_features': 90, 'max_depth': 25}\n",
      "0.4188     {'min_samples_split': 2, 'min_samples_leaf': 7, 'max_features': 105, 'max_depth': 40}\n",
      "0.412     {'min_samples_split': 5, 'min_samples_leaf': 5, 'max_features': 35, 'max_depth': 55}\n",
      "0.3975     {'min_samples_split': 6, 'min_samples_leaf': 5, 'max_features': 60, 'max_depth': 37}\n",
      "0.3911     {'min_samples_split': 6, 'min_samples_leaf': 5, 'max_features': 55, 'max_depth': 31}\n",
      "0.3895     {'min_samples_split': 6, 'min_samples_leaf': 5, 'max_features': 70, 'max_depth': 55}\n",
      "0.3895     {'min_samples_split': 4, 'min_samples_leaf': 5, 'max_features': 70, 'max_depth': 46}\n",
      "0.3834     {'min_samples_split': 2, 'min_samples_leaf': 5, 'max_features': 120, 'max_depth': 34}\n",
      "0.3806     {'min_samples_split': 3, 'min_samples_leaf': 5, 'max_features': 80, 'max_depth': 46}\n",
      "0.3806     {'min_samples_split': 7, 'min_samples_leaf': 5, 'max_features': 80, 'max_depth': 61}\n",
      "0.3753     {'min_samples_split': 5, 'min_samples_leaf': 3, 'max_features': 35, 'max_depth': 25}\n",
      "0.3651     {'min_samples_split': 5, 'min_samples_leaf': 3, 'max_features': 35, 'max_depth': 40}\n",
      "0.3628     {'min_samples_split': 2, 'min_samples_leaf': 3, 'max_features': 35, 'max_depth': 49}\n",
      "0.3628     {'min_samples_split': 3, 'min_samples_leaf': 3, 'max_features': 35, 'max_depth': 55}\n",
      "0.3606     {'min_samples_split': 7, 'min_samples_leaf': 1, 'max_features': 30, 'max_depth': 28}\n",
      "0.3466     {'min_samples_split': 2, 'min_samples_leaf': 3, 'max_features': 55, 'max_depth': 40}\n",
      "0.3453     {'min_samples_split': 7, 'min_samples_leaf': 3, 'max_features': 50, 'max_depth': 34}\n",
      "0.3452     {'min_samples_split': 3, 'min_samples_leaf': 3, 'max_features': 125, 'max_depth': 25}\n",
      "0.3407     {'min_samples_split': 7, 'min_samples_leaf': 1, 'max_features': 140, 'max_depth': 28}\n",
      "0.3392     {'min_samples_split': 7, 'min_samples_leaf': 3, 'max_features': 125, 'max_depth': 58}\n",
      "0.3384     {'min_samples_split': 3, 'min_samples_leaf': 1, 'max_features': 105, 'max_depth': 25}\n",
      "0.3334     {'min_samples_split': 4, 'min_samples_leaf': 3, 'max_features': 100, 'max_depth': 37}\n",
      "0.3323     {'min_samples_split': 6, 'min_samples_leaf': 1, 'max_features': 50, 'max_depth': 46}\n",
      "0.3316     {'min_samples_split': 5, 'min_samples_leaf': 3, 'max_features': 80, 'max_depth': 40}\n",
      "0.331     {'min_samples_split': 7, 'min_samples_leaf': 1, 'max_features': 140, 'max_depth': 43}\n",
      "0.331     {'min_samples_split': 7, 'min_samples_leaf': 1, 'max_features': 125, 'max_depth': 46}\n",
      "0.3301     {'min_samples_split': 3, 'min_samples_leaf': 3, 'max_features': 125, 'max_depth': 43}\n",
      "0.3301     {'min_samples_split': 2, 'min_samples_leaf': 3, 'max_features': 145, 'max_depth': 49}\n",
      "0.3301     {'min_samples_split': 3, 'min_samples_leaf': 3, 'max_features': 145, 'max_depth': 61}\n",
      "0.3294     {'min_samples_split': 5, 'min_samples_leaf': 3, 'max_features': 135, 'max_depth': 37}\n",
      "0.3264     {'min_samples_split': 4, 'min_samples_leaf': 3, 'max_features': 90, 'max_depth': 55}\n",
      "0.3231     {'min_samples_split': 6, 'min_samples_leaf': 1, 'max_features': 145, 'max_depth': 34}\n",
      "0.3151     {'min_samples_split': 5, 'min_samples_leaf': 1, 'max_features': 55, 'max_depth': 55}\n",
      "0.311     {'min_samples_split': 5, 'min_samples_leaf': 1, 'max_features': 100, 'max_depth': 64}\n",
      "0.3099     {'min_samples_split': 4, 'min_samples_leaf': 1, 'max_features': 135, 'max_depth': 52}\n",
      "0.2957     {'min_samples_split': 2, 'min_samples_leaf': 1, 'max_features': 35, 'max_depth': 37}\n"
     ]
    }
   ],
   "source": [
    "res = pd.DataFrame(rand_search.cv_results_).sort_values(\"mean_test_score\", ascending=False)\n",
    "for mean_score, params in zip(res[\"mean_test_score\"], res[\"params\"]):\n",
    "    print(round(mean_score, 4), \"   \", params)"
   ],
   "metadata": {
    "collapsed": false,
    "ExecuteTime": {
     "start_time": "2023-05-15T17:32:38.579649Z",
     "end_time": "2023-05-15T17:32:38.584376Z"
    }
   }
  },
  {
   "cell_type": "code",
   "execution_count": 47,
   "outputs": [
    {
     "name": "stdout",
     "output_type": "stream",
     "text": [
      "|   Predicted 0 |   Predicted 1 |\n",
      "|---------------+---------------|\n",
      "|         44422 |           373 |\n",
      "|          4642 |          1651 |\n",
      "\n",
      "accuracy:              0.9018\n",
      "precision:             0.8157\n",
      "recall:                0.2624\n",
      "f1:                    0.397\n",
      "roc_auc:               0.627\n",
      "roc_auc_pred_prob:     0.8892\n",
      "|   Predicted 0 |   Predicted 1 |\n",
      "|---------------+---------------|\n",
      "|         18936 |           276 |\n",
      "|          2047 |           636 |\n",
      "\n",
      "accuracy:              0.8939\n",
      "precision:             0.6974\n",
      "recall:                0.237\n",
      "f1:                    0.3538\n",
      "roc_auc:               0.6113\n",
      "roc_auc_pred_prob:     0.6996\n"
     ]
    }
   ],
   "source": [
    "show_scores(best_dct, X_train, y_train)\n",
    "show_scores(best_dct, X_val, y_val)"
   ],
   "metadata": {
    "collapsed": false,
    "ExecuteTime": {
     "start_time": "2023-05-15T17:37:38.375722Z",
     "end_time": "2023-05-15T17:37:38.515327Z"
    }
   }
  },
  {
   "cell_type": "markdown",
   "source": [
    "### Wizualizacje\n"
   ],
   "metadata": {
    "collapsed": false
   }
  },
  {
   "cell_type": "code",
   "execution_count": 41,
   "outputs": [
    {
     "data": {
      "text/plain": "                              Feature  Importance\n14                    WheelType_OTHER    0.441375\n5       MMRCurrentAuctionAveragePrice    0.099651\n87                    Auction_MANHEIM    0.065741\n0                              VehOdo    0.058683\n1                            VehBCost    0.058444\n4   MMRAcquisitionAuctionAveragePrice    0.051958\n3                          VehicleAge    0.044978\n2                        WarrantyCost    0.034095\n8                                Year    0.017408\n6                         ColorDanger    0.016347",
      "text/html": "<div>\n<style scoped>\n    .dataframe tbody tr th:only-of-type {\n        vertical-align: middle;\n    }\n\n    .dataframe tbody tr th {\n        vertical-align: top;\n    }\n\n    .dataframe thead th {\n        text-align: right;\n    }\n</style>\n<table border=\"1\" class=\"dataframe\">\n  <thead>\n    <tr style=\"text-align: right;\">\n      <th></th>\n      <th>Feature</th>\n      <th>Importance</th>\n    </tr>\n  </thead>\n  <tbody>\n    <tr>\n      <th>14</th>\n      <td>WheelType_OTHER</td>\n      <td>0.441375</td>\n    </tr>\n    <tr>\n      <th>5</th>\n      <td>MMRCurrentAuctionAveragePrice</td>\n      <td>0.099651</td>\n    </tr>\n    <tr>\n      <th>87</th>\n      <td>Auction_MANHEIM</td>\n      <td>0.065741</td>\n    </tr>\n    <tr>\n      <th>0</th>\n      <td>VehOdo</td>\n      <td>0.058683</td>\n    </tr>\n    <tr>\n      <th>1</th>\n      <td>VehBCost</td>\n      <td>0.058444</td>\n    </tr>\n    <tr>\n      <th>4</th>\n      <td>MMRAcquisitionAuctionAveragePrice</td>\n      <td>0.051958</td>\n    </tr>\n    <tr>\n      <th>3</th>\n      <td>VehicleAge</td>\n      <td>0.044978</td>\n    </tr>\n    <tr>\n      <th>2</th>\n      <td>WarrantyCost</td>\n      <td>0.034095</td>\n    </tr>\n    <tr>\n      <th>8</th>\n      <td>Year</td>\n      <td>0.017408</td>\n    </tr>\n    <tr>\n      <th>6</th>\n      <td>ColorDanger</td>\n      <td>0.016347</td>\n    </tr>\n  </tbody>\n</table>\n</div>"
     },
     "execution_count": 41,
     "metadata": {},
     "output_type": "execute_result"
    }
   ],
   "source": [
    "importance_df = pd.DataFrame({\n",
    "    'Feature': X_train.columns,\n",
    "    'Importance': best_dct.feature_importances_\n",
    "}).sort_values('Importance', ascending=False)\n",
    "importance_df.head(10)"
   ],
   "metadata": {
    "collapsed": false,
    "ExecuteTime": {
     "start_time": "2023-05-15T17:33:52.125281Z",
     "end_time": "2023-05-15T17:33:52.130103Z"
    }
   }
  },
  {
   "cell_type": "code",
   "execution_count": 42,
   "outputs": [
    {
     "data": {
      "text/plain": "<Figure size 432x288 with 1 Axes>",
      "image/png": "[encoded data removed]"
     },
     "metadata": {},
     "output_type": "display_data"
    }
   ],
   "source": [
    "plt.title('Feature Importance - Decision Tree')\n",
    "sns.barplot(data=importance_df.head(10),palette='husl',x='Importance', y='Feature')\n",
    "plt.show()"
   ],
   "metadata": {
    "collapsed": false,
    "ExecuteTime": {
     "start_time": "2023-05-15T17:33:56.286771Z",
     "end_time": "2023-05-15T17:33:56.437334Z"
    }
   }
  },
  {
   "cell_type": "code",
   "execution_count": 45,
   "outputs": [],
   "source": [
    "def gini_roc(y_test, y_pred_proba, tytul):\n",
    "\n",
    "    fpr, tpr, _ = metrics.roc_curve(y_test,  y_pred_proba)\n",
    "\n",
    "    plt.plot(fpr,tpr)\n",
    "    plt.title(tytul)\n",
    "    plt.ylabel('True Positive Rate')\n",
    "    plt.xlabel('False Positive Rate')\n",
    "    plt.show()\n",
    "\n",
    "    roc_auc = metrics.auc(fpr, tpr)\n",
    "    gini = (2 * roc_auc) - 1\n",
    "\n",
    "    return gini\n",
    "\n",
    "def gini_train_val(model, X_train, y_train, X_val, y_val):\n",
    "\n",
    "    y_pred_proba = model.predict_proba(X_train)[::,1]\n",
    "    gini_train = gini_roc(y_train, y_pred_proba, \"ROC Curve for Training Sample\")\n",
    "    print(\"gini_train: %.4f\" % gini_train)\n",
    "\n",
    "    y_pred_proba = model.predict_proba(X_val)[::,1]\n",
    "    gini_val = gini_roc(y_val, y_pred_proba, \"Roc Curve for Validation Sample\")\n",
    "    print(\"gini_val: %.4f\" % gini_val)\n",
    "\n",
    "    return"
   ],
   "metadata": {
    "collapsed": false,
    "ExecuteTime": {
     "start_time": "2023-05-15T17:36:47.467278Z",
     "end_time": "2023-05-15T17:36:47.474255Z"
    }
   }
  },
  {
   "cell_type": "code",
   "execution_count": 48,
   "outputs": [
    {
     "data": {
      "text/plain": "<Figure size 432x288 with 1 Axes>",
      "image/png": "[encoded data removed]"
     },
     "metadata": {},
     "output_type": "display_data"
    },
    {
     "name": "stdout",
     "output_type": "stream",
     "text": [
      "gini_train: 0.7785\n"
     ]
    },
    {
     "data": {
      "text/plain": "<Figure size 432x288 with 1 Axes>",
      "image/png": "[encoded data removed]"
     },
     "metadata": {},
     "output_type": "display_data"
    },
    {
     "name": "stdout",
     "output_type": "stream",
     "text": [
      "gini_val: 0.3992\n"
     ]
    }
   ],
   "source": [
    "gini_train_val(best_dct, X_train, y_train, X_val, y_val)"
   ],
   "metadata": {
    "collapsed": false,
    "ExecuteTime": {
     "start_time": "2023-05-15T17:37:49.804083Z",
     "end_time": "2023-05-15T17:37:50.032736Z"
    }
   }
  }
 ],
 "metadata": {
  "kernelspec": {
   "display_name": "Python 3 (ipykernel)",
   "language": "python",
   "name": "python3"
  },
  "language_info": {
   "codemirror_mode": {
    "name": "ipython",
    "version": 3
   },
   "file_extension": ".py",
   "mimetype": "text/x-python",
   "name": "python",
   "nbconvert_exporter": "python",
   "pygments_lexer": "ipython3",
   "version": "3.9.4"
  }
 },
 "nbformat": 4,
 "nbformat_minor": 2
}
