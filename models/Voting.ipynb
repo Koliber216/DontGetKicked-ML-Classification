{
 "cells": [
  {
   "cell_type": "code",
   "execution_count": 1,
   "metadata": {
    "ExecuteTime": {
     "end_time": "2023-05-24T15:05:34.910269Z",
     "start_time": "2023-05-24T15:05:27.650720Z"
    }
   },
   "outputs": [],
   "source": [
    "import pandas as pd\n",
    "import numpy as np\n",
    "import matplotlib.pyplot as plt\n",
    "\n",
    "from sklearn.linear_model import LogisticRegression\n",
    "from sklearn.ensemble import RandomForestClassifier, VotingClassifier\n",
    "import xgboost as xgb\n",
    "from sklearn.tree import DecisionTreeClassifier\n",
    "from sklearn import metrics\n",
    "from sklearn.metrics import accuracy_score, precision_score, recall_score, f1_score, confusion_matrix, roc_auc_score, ConfusionMatrixDisplay\n",
    "from sklearn.model_selection import RandomizedSearchCV\n",
    "\n",
    "import warnings\n",
    "import os\n",
    "import sys\n",
    "if not sys.warnoptions:\n",
    "    warnings.simplefilter(\"ignore\")\n",
    "    os.environ[\"PYTHONWARNINGS\"] = \"ignore\"\n",
    "\n",
    "np.random.seed(42)"
   ]
  },
  {
   "cell_type": "code",
   "execution_count": 2,
   "metadata": {
    "ExecuteTime": {
     "end_time": "2023-05-24T15:05:34.932127Z",
     "start_time": "2023-05-24T15:05:34.918095Z"
    }
   },
   "outputs": [],
   "source": [
    "from tabulate import tabulate\n",
    "\n",
    "def show_scores(clf, X, y):\n",
    "    y_pred = clf.predict(X)\n",
    "    y_pred_prob = clf.predict_proba(X)\n",
    "    print(tabulate(confusion_matrix(y, y_pred), headers=['Predicted 0', 'Predicted 1'], tablefmt='orgtbl'))\n",
    "    print()\n",
    "    print(f'accuracy:              {round(accuracy_score(y, y_pred), 4)}')\n",
    "    print(f'precision:             {round(precision_score(y, y_pred), 4)}')\n",
    "    print(f'recall:                {round(recall_score(y, y_pred), 4)}')\n",
    "    print(f'f1:                    {round(f1_score(y, y_pred), 4)}')\n",
    "    print(f'roc_auc:               {round(roc_auc_score(y, y_pred), 4)}')\n",
    "    print(f'roc_auc_pred_prob:     {round(roc_auc_score(y, y_pred_prob[:, 1]), 4)}')"
   ]
  },
  {
   "cell_type": "code",
   "execution_count": 3,
   "metadata": {
    "ExecuteTime": {
     "end_time": "2023-05-24T15:05:35.408986Z",
     "start_time": "2023-05-24T15:05:34.932456Z"
    }
   },
   "outputs": [],
   "source": [
    "X_train = pd.read_csv(\"../preprocessed_data/X_train.csv\")\n",
    "y_train = pd.read_csv(\"../preprocessed_data/y_train.csv\")\n",
    "\n",
    "X_val  = pd.read_csv(\"../preprocessed_data/X_val.csv\")\n",
    "y_val  = pd.read_csv(\"../preprocessed_data/y_val.csv\")"
   ]
  },
  {
   "cell_type": "code",
   "execution_count": 4,
   "metadata": {
    "ExecuteTime": {
     "end_time": "2023-05-24T15:05:35.413470Z",
     "start_time": "2023-05-24T15:05:35.411999Z"
    }
   },
   "outputs": [],
   "source": [
    "log_reg = LogisticRegression(random_state=42, solver='liblinear', C=14.38)\n",
    "rfc = RandomForestClassifier(random_state=42, n_jobs=-1,n_estimators=100,max_depth=16)\n",
    "xgb_clf = xgb.XGBClassifier(random_state=42, subsample=1, n_estimators=100, max_depth=3, learning_rate=0.3, gamma=5, colsample_bytree=0.8)\n",
    "dct = DecisionTreeClassifier(random_state=42, max_depth=4, min_samples_split=4, min_samples_leaf=11,max_features=105)"
   ]
  },
  {
   "cell_type": "code",
   "execution_count": 5,
   "metadata": {
    "ExecuteTime": {
     "end_time": "2023-05-24T15:22:11.220666Z",
     "start_time": "2023-05-24T15:05:35.419416Z"
    }
   },
   "outputs": [],
   "source": [
    "parameters = dict(weights=[[i, j, k, l] for i in range(5) for j in range(5) for k in range (5, 10) for l in range (5, 10)])\n",
    "\n",
    "estimators=[('DCT', dct), ('LR', log_reg), ('RandomForest', rfc), ('XGB', xgb_clf)]\n",
    "rand_search = RandomizedSearchCV(VotingClassifier(estimators=estimators, voting='soft'), scoring='accuracy', cv=3, return_train_score=True, param_distributions=parameters, n_iter=100, n_jobs=1, random_state=42).fit(X_train, y_train)"
   ]
  },
  {
   "cell_type": "code",
   "execution_count": 6,
   "metadata": {
    "ExecuteTime": {
     "end_time": "2023-05-24T15:22:11.230395Z",
     "start_time": "2023-05-24T15:22:11.223839Z"
    }
   },
   "outputs": [
    {
     "data": {
      "text/plain": "{'weights': [0, 0, 7, 5]}"
     },
     "execution_count": 6,
     "metadata": {},
     "output_type": "execute_result"
    }
   ],
   "source": [
    "rand_search.best_params_"
   ]
  },
  {
   "cell_type": "code",
   "execution_count": 7,
   "metadata": {
    "ExecuteTime": {
     "end_time": "2023-05-24T15:22:11.237006Z",
     "start_time": "2023-05-24T15:22:11.232582Z"
    }
   },
   "outputs": [
    {
     "name": "stdout",
     "output_type": "stream",
     "text": [
      "0.899     {'weights': [0, 0, 7, 5]}\n",
      "0.8989     {'weights': [3, 0, 9, 5]}\n",
      "0.8989     {'weights': [1, 0, 9, 5]}\n",
      "0.8989     {'weights': [1, 0, 7, 5]}\n",
      "0.8989     {'weights': [0, 0, 9, 9]}\n",
      "0.8989     {'weights': [4, 0, 8, 5]}\n",
      "0.8989     {'weights': [2, 0, 9, 6]}\n",
      "0.8989     {'weights': [2, 0, 8, 5]}\n",
      "0.8989     {'weights': [1, 0, 6, 7]}\n",
      "0.8989     {'weights': [1, 0, 6, 6]}\n",
      "0.8988     {'weights': [1, 0, 9, 8]}\n",
      "0.8988     {'weights': [4, 0, 7, 7]}\n",
      "0.8988     {'weights': [2, 0, 9, 7]}\n",
      "0.8988     {'weights': [2, 0, 9, 9]}\n",
      "0.8988     {'weights': [0, 1, 7, 9]}\n",
      "0.8988     {'weights': [0, 0, 5, 7]}\n",
      "0.8988     {'weights': [1, 1, 9, 9]}\n",
      "0.8988     {'weights': [0, 1, 9, 9]}\n",
      "0.8988     {'weights': [0, 2, 9, 5]}\n",
      "0.8988     {'weights': [0, 1, 6, 5]}\n",
      "0.8988     {'weights': [2, 0, 7, 5]}\n",
      "0.8987     {'weights': [4, 2, 9, 5]}\n",
      "0.8987     {'weights': [4, 1, 7, 5]}\n",
      "0.8987     {'weights': [3, 1, 6, 5]}\n",
      "0.8987     {'weights': [3, 0, 9, 8]}\n",
      "0.8987     {'weights': [2, 0, 7, 6]}\n",
      "0.8987     {'weights': [0, 2, 7, 5]}\n",
      "0.8987     {'weights': [3, 0, 6, 6]}\n",
      "0.8987     {'weights': [4, 0, 7, 8]}\n",
      "0.8987     {'weights': [2, 0, 5, 5]}\n",
      "0.8987     {'weights': [1, 3, 9, 5]}\n",
      "0.8987     {'weights': [2, 0, 6, 9]}\n",
      "0.8987     {'weights': [2, 0, 6, 6]}\n",
      "0.8987     {'weights': [2, 0, 6, 7]}\n",
      "0.8987     {'weights': [4, 0, 6, 9]}\n",
      "0.8987     {'weights': [0, 2, 6, 5]}\n",
      "0.8987     {'weights': [3, 1, 8, 7]}\n",
      "0.8987     {'weights': [0, 1, 6, 6]}\n",
      "0.8987     {'weights': [2, 1, 7, 6]}\n",
      "0.8987     {'weights': [0, 2, 6, 6]}\n",
      "0.8987     {'weights': [2, 1, 6, 6]}\n",
      "0.8987     {'weights': [2, 1, 8, 7]}\n",
      "0.8986     {'weights': [1, 3, 8, 5]}\n",
      "0.8986     {'weights': [3, 2, 9, 7]}\n",
      "0.8986     {'weights': [0, 3, 7, 6]}\n",
      "0.8986     {'weights': [4, 2, 6, 7]}\n",
      "0.8986     {'weights': [3, 2, 7, 7]}\n",
      "0.8986     {'weights': [4, 1, 8, 8]}\n",
      "0.8986     {'weights': [1, 1, 6, 8]}\n",
      "0.8986     {'weights': [4, 2, 6, 6]}\n",
      "0.8986     {'weights': [2, 2, 7, 6]}\n",
      "0.8986     {'weights': [0, 3, 8, 5]}\n",
      "0.8986     {'weights': [1, 2, 8, 7]}\n",
      "0.8986     {'weights': [2, 2, 8, 8]}\n",
      "0.8986     {'weights': [4, 2, 5, 9]}\n",
      "0.8986     {'weights': [0, 1, 5, 9]}\n",
      "0.8986     {'weights': [1, 1, 7, 8]}\n",
      "0.8986     {'weights': [1, 2, 9, 6]}\n",
      "0.8986     {'weights': [0, 3, 6, 7]}\n",
      "0.8986     {'weights': [4, 2, 6, 9]}\n",
      "0.8985     {'weights': [4, 3, 7, 8]}\n",
      "0.8985     {'weights': [3, 2, 6, 9]}\n",
      "0.8985     {'weights': [4, 3, 9, 9]}\n",
      "0.8985     {'weights': [4, 3, 5, 8]}\n",
      "0.8985     {'weights': [1, 3, 8, 8]}\n",
      "0.8985     {'weights': [2, 2, 5, 5]}\n",
      "0.8985     {'weights': [4, 3, 8, 7]}\n",
      "0.8985     {'weights': [2, 2, 5, 6]}\n",
      "0.8985     {'weights': [4, 3, 8, 9]}\n",
      "0.8985     {'weights': [1, 2, 6, 9]}\n",
      "0.8985     {'weights': [4, 4, 5, 5]}\n",
      "0.8985     {'weights': [1, 4, 7, 5]}\n",
      "0.8985     {'weights': [1, 3, 7, 5]}\n",
      "0.8985     {'weights': [4, 3, 5, 9]}\n",
      "0.8985     {'weights': [4, 1, 5, 7]}\n",
      "0.8985     {'weights': [3, 4, 6, 5]}\n",
      "0.8985     {'weights': [4, 4, 7, 7]}\n",
      "0.8985     {'weights': [3, 4, 7, 7]}\n",
      "0.8985     {'weights': [1, 3, 6, 9]}\n",
      "0.8985     {'weights': [0, 3, 5, 7]}\n",
      "0.8985     {'weights': [3, 3, 5, 5]}\n",
      "0.8985     {'weights': [4, 4, 9, 5]}\n",
      "0.8985     {'weights': [1, 3, 7, 7]}\n",
      "0.8985     {'weights': [4, 4, 6, 8]}\n",
      "0.8984     {'weights': [3, 4, 7, 5]}\n",
      "0.8984     {'weights': [1, 3, 6, 8]}\n",
      "0.8984     {'weights': [1, 2, 6, 6]}\n",
      "0.8984     {'weights': [2, 3, 8, 9]}\n",
      "0.8984     {'weights': [2, 3, 7, 5]}\n",
      "0.8984     {'weights': [2, 4, 8, 8]}\n",
      "0.8984     {'weights': [0, 4, 5, 6]}\n",
      "0.8984     {'weights': [2, 4, 6, 7]}\n",
      "0.8984     {'weights': [3, 4, 6, 7]}\n",
      "0.8984     {'weights': [2, 4, 8, 9]}\n",
      "0.8984     {'weights': [4, 4, 9, 6]}\n",
      "0.8984     {'weights': [2, 3, 6, 9]}\n",
      "0.8984     {'weights': [0, 3, 5, 6]}\n",
      "0.8984     {'weights': [0, 4, 7, 5]}\n",
      "0.8984     {'weights': [0, 3, 5, 8]}\n",
      "0.8983     {'weights': [2, 4, 5, 5]}\n"
     ]
    }
   ],
   "source": [
    "res = pd.DataFrame(rand_search.cv_results_).sort_values(\"mean_test_score\", ascending=False)\n",
    "for mean_score, params in zip(res[\"mean_test_score\"], res[\"params\"]):\n",
    "    print(round(mean_score, 4), \"   \", params)"
   ]
  },
  {
   "cell_type": "code",
   "execution_count": 8,
   "metadata": {
    "ExecuteTime": {
     "end_time": "2023-05-24T15:22:11.917142Z",
     "start_time": "2023-05-24T15:22:11.240811Z"
    }
   },
   "outputs": [
    {
     "name": "stdout",
     "output_type": "stream",
     "text": [
      "|   Predicted 0 |   Predicted 1 |\n",
      "|---------------+---------------|\n",
      "|         44668 |           127 |\n",
      "|          4707 |          1586 |\n",
      "\n",
      "accuracy:              0.9054\n",
      "precision:             0.9259\n",
      "recall:                0.252\n",
      "f1:                    0.3962\n",
      "roc_auc:               0.6246\n",
      "roc_auc_pred_prob:     0.9341\n",
      "|   Predicted 0 |   Predicted 1 |\n",
      "|---------------+---------------|\n",
      "|         19092 |           120 |\n",
      "|          2049 |           634 |\n",
      "\n",
      "accuracy:              0.9009\n",
      "precision:             0.8408\n",
      "recall:                0.2363\n",
      "f1:                    0.3689\n",
      "roc_auc:               0.615\n",
      "roc_auc_pred_prob:     0.7628\n"
     ]
    }
   ],
   "source": [
    "show_scores(rand_search.best_estimator_, X_train, y_train)\n",
    "show_scores(rand_search.best_estimator_, X_val, y_val)"
   ]
  },
  {
   "cell_type": "markdown",
   "metadata": {},
   "source": [
    "### Wizualizacje"
   ]
  },
  {
   "cell_type": "code",
   "execution_count": 10,
   "metadata": {
    "ExecuteTime": {
     "end_time": "2023-05-24T15:24:24.337227Z",
     "start_time": "2023-05-24T15:24:24.070565Z"
    }
   },
   "outputs": [
    {
     "data": {
      "text/plain": "<sklearn.metrics._plot.confusion_matrix.ConfusionMatrixDisplay at 0x7fe0e8e54460>"
     },
     "execution_count": 10,
     "metadata": {},
     "output_type": "execute_result"
    },
    {
     "data": {
      "text/plain": "<Figure size 432x288 with 2 Axes>",
      "image/png": "[encoded data removed]"
     },
     "metadata": {
      "needs_background": "light"
     },
     "output_type": "display_data"
    }
   ],
   "source": [
    "cm = confusion_matrix(y_val, rand_search.best_estimator_.predict(X_val), labels=rand_search.best_estimator_.classes_)\n",
    "ConfusionMatrixDisplay(confusion_matrix=cm,\n",
    "                       display_labels=rand_search.best_estimator_.classes_).plot()"
   ]
  },
  {
   "cell_type": "code",
   "execution_count": 11,
   "metadata": {
    "ExecuteTime": {
     "end_time": "2023-05-24T15:24:26.367273Z",
     "start_time": "2023-05-24T15:24:26.353017Z"
    }
   },
   "outputs": [],
   "source": [
    "def gini_roc(y_test, y_pred_proba, tytul):\n",
    "\n",
    "    fpr, tpr, _ = metrics.roc_curve(y_test,  y_pred_proba)\n",
    "\n",
    "    plt.plot(fpr,tpr)\n",
    "    plt.title(tytul)\n",
    "    plt.ylabel('True Positive Rate')\n",
    "    plt.xlabel('False Positive Rate')\n",
    "    plt.show()\n",
    "\n",
    "    roc_auc = metrics.auc(fpr, tpr)\n",
    "    gini = (2 * roc_auc) - 1\n",
    "\n",
    "    return gini\n",
    "\n",
    "def gini_train_val(model, X_train, y_train, X_val, y_val):\n",
    "\n",
    "    y_pred_proba = model.predict_proba(X_train)[::,1]\n",
    "    gini_train = gini_roc(y_train, y_pred_proba, \"ROC Curve for Training Sample\")\n",
    "    print(\"gini_train: %.4f\" % gini_train)\n",
    "\n",
    "    y_pred_proba = model.predict_proba(X_val)[::,1]\n",
    "    gini_val = gini_roc(y_val, y_pred_proba, \"Roc Curve for Validation Sample\")\n",
    "    print(\"gini_val: %.4f\" % gini_val)\n",
    "\n",
    "    return"
   ]
  },
  {
   "cell_type": "code",
   "execution_count": 12,
   "metadata": {
    "ExecuteTime": {
     "end_time": "2023-05-24T15:24:27.621892Z",
     "start_time": "2023-05-24T15:24:27.079698Z"
    }
   },
   "outputs": [
    {
     "data": {
      "text/plain": "<Figure size 432x288 with 1 Axes>",
      "image/png": "[encoded data removed]"
     },
     "metadata": {
      "needs_background": "light"
     },
     "output_type": "display_data"
    },
    {
     "name": "stdout",
     "output_type": "stream",
     "text": [
      "gini_train: 0.8682\n"
     ]
    },
    {
     "data": {
      "text/plain": "<Figure size 432x288 with 1 Axes>",
      "image/png": "[encoded data removed]"
     },
     "metadata": {
      "needs_background": "light"
     },
     "output_type": "display_data"
    },
    {
     "name": "stdout",
     "output_type": "stream",
     "text": [
      "gini_val: 0.5256\n"
     ]
    }
   ],
   "source": [
    "gini_train_val(rand_search.best_estimator_, X_train, y_train, X_val, y_val)"
   ]
  }
 ],
 "metadata": {
  "kernelspec": {
   "display_name": "Python 3 (ipykernel)",
   "language": "python",
   "name": "python3"
  },
  "language_info": {
   "codemirror_mode": {
    "name": "ipython",
    "version": 3
   },
   "file_extension": ".py",
   "mimetype": "text/x-python",
   "name": "python",
   "nbconvert_exporter": "python",
   "pygments_lexer": "ipython3",
   "version": "3.9.0"
  }
 },
 "nbformat": 4,
 "nbformat_minor": 2
}
